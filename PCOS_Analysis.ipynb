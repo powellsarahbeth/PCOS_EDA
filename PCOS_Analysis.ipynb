{
 "cells": [
  {
   "cell_type": "markdown",
   "id": "5cc3e307",
   "metadata": {},
   "source": [
    "# Exploratory Data Analysis on Polycystic Ovary Syndrome (PCOS)"
   ]
  },
  {
   "cell_type": "markdown",
   "id": "96865ca6",
   "metadata": {},
   "source": [
    "## Introduction"
   ]
  },
  {
   "cell_type": "markdown",
   "id": "b78d4381",
   "metadata": {},
   "source": [
    "Polycystic ovary syndrome, or PCOS, is one of the most common causes of female infertility, [afffecting as many as 5 million American women who are of childbearing age.](https://www.endocrine.org/patient-engagement/endocrine-library/pcos#:~:text=PCOS%20affects%207%E2%80%9310%25%20of,t%20know%20they%20have%20it) Women who have PCOS produce more male hormones than what is considered to be normal, which may impact their overall heath, even past their childbearing years. Symptoms can be different for every woman, which makes it very difficult to diagnose. This analysis explores various PCOS symptoms or variables that increase the likelihood of a PCOS diagnosis or infertility. In this analysis, I will explore three specific questions:\n",
    "\n",
    " 1. Are there any features that are correlated with PCOS?\n",
    " 2. What are the most frequent symptoms PCOS pateints exihibit?\n",
    " 3. Do non-PCOS patients exhibit similar symptoms to those diagnosed with PCOS?"
   ]
  },
  {
   "cell_type": "markdown",
   "id": "3d0a1b06",
   "metadata": {},
   "source": [
    "## About the Data"
   ]
  },
  {
   "cell_type": "markdown",
   "id": "2f0bc2ec",
   "metadata": {},
   "source": [
    "This data includes all physical and clinical parameters from a group of patients collected from ten different hospitals across Kerala, India. The original data set and notebook can be found on [Kaggle](https://www.kaggle.com/datasets/prasoonkottarathil/polycystic-ovary-syndrome-pcos?select=PCOS_infertility.csv). The data set contains one Comma Separated Values (CSV) file and one Excel file.  \n",
    " - `PCOS_Data_without_infertility`: Contains 45 columns (representing different parameters) and 541 rows (representing different patients identified by a Patient File Number). Excel file type.\n",
    " - `PCOS_infertility`: Contains 6 columns (representing different parameters) and 541 rows (representing different patients idenfitied by a Patient File Number). CSV file type.\n",
    " \n",
    "Because this data requires background knowledge and context to understand the features and what they represent, a Data Dictionary is provided below.  "
   ]
  },
  {
   "cell_type": "code",
   "execution_count": 1,
   "id": "29d36ab3",
   "metadata": {},
   "outputs": [
    {
     "data": {
      "text/html": [
       "<div>\n",
       "<style scoped>\n",
       "    .dataframe tbody tr th:only-of-type {\n",
       "        vertical-align: middle;\n",
       "    }\n",
       "\n",
       "    .dataframe tbody tr th {\n",
       "        vertical-align: top;\n",
       "    }\n",
       "\n",
       "    .dataframe thead th {\n",
       "        text-align: right;\n",
       "    }\n",
       "</style>\n",
       "<table border=\"1\" class=\"dataframe\">\n",
       "  <thead>\n",
       "    <tr style=\"text-align: right;\">\n",
       "      <th></th>\n",
       "      <th>Variable</th>\n",
       "      <th>Data Type</th>\n",
       "      <th>Description</th>\n",
       "      <th>Context</th>\n",
       "      <th>Reference</th>\n",
       "      <th>Relevancy to Analysis</th>\n",
       "    </tr>\n",
       "  </thead>\n",
       "  <tbody>\n",
       "    <tr>\n",
       "      <th>0</th>\n",
       "      <td>Sl. No</td>\n",
       "      <td>Integer</td>\n",
       "      <td>Row Index</td>\n",
       "      <td>Included with original data set.</td>\n",
       "      <td>NaN</td>\n",
       "      <td>Low</td>\n",
       "    </tr>\n",
       "    <tr>\n",
       "      <th>1</th>\n",
       "      <td>Patient File No.</td>\n",
       "      <td>Integer</td>\n",
       "      <td>Unique patient file identifier</td>\n",
       "      <td>Total of 1082 Patient File Numbers</td>\n",
       "      <td>NaN</td>\n",
       "      <td>High</td>\n",
       "    </tr>\n",
       "    <tr>\n",
       "      <th>2</th>\n",
       "      <td>PCOS (Y/N)</td>\n",
       "      <td>Boolean</td>\n",
       "      <td>True represents if the patient was diagnosed with PCOS. False represents the patient has not been diagnosed with PCOS.</td>\n",
       "      <td>If the patient has not been diagnosed with PCOS (False), this does not mean that this patient could not be diagnosed with PCOS in the future.</td>\n",
       "      <td>NaN</td>\n",
       "      <td>High</td>\n",
       "    </tr>\n",
       "    <tr>\n",
       "      <th>3</th>\n",
       "      <td>Age (yrs)</td>\n",
       "      <td>Integer</td>\n",
       "      <td>Patient age</td>\n",
       "      <td>Research suggests that 35 and older women have a higher risk of pregnancy-related complications.</td>\n",
       "      <td>NaN</td>\n",
       "      <td>Medium</td>\n",
       "    </tr>\n",
       "    <tr>\n",
       "      <th>4</th>\n",
       "      <td>Weight (Kg)</td>\n",
       "      <td>Integer</td>\n",
       "      <td>Patient weight in kilograms</td>\n",
       "      <td>NaN</td>\n",
       "      <td>Cleveland Clinic</td>\n",
       "      <td>Medium</td>\n",
       "    </tr>\n",
       "    <tr>\n",
       "      <th>5</th>\n",
       "      <td>Height(Cm)</td>\n",
       "      <td>Integer</td>\n",
       "      <td>Patient height in centimeters</td>\n",
       "      <td>NaN</td>\n",
       "      <td>NaN</td>\n",
       "      <td>Medium</td>\n",
       "    </tr>\n",
       "    <tr>\n",
       "      <th>6</th>\n",
       "      <td>BMI</td>\n",
       "      <td>Integer</td>\n",
       "      <td>Body Mass Index of patient</td>\n",
       "      <td>Calculated by Weight (Kg) / (Height (M) *2). A value of 30 and above indicates obsesity in adults.</td>\n",
       "      <td>Cleveland Clinic</td>\n",
       "      <td>High</td>\n",
       "    </tr>\n",
       "    <tr>\n",
       "      <th>7</th>\n",
       "      <td>Blood Group</td>\n",
       "      <td>Integer</td>\n",
       "      <td>Blood types represented as integers</td>\n",
       "      <td>A+  = 11, A- = 12, B+ = 13, O+ = 15, O- = 16, AB+ = 17, AB- = 18</td>\n",
       "      <td>Cleveland Clinic</td>\n",
       "      <td>Medium</td>\n",
       "    </tr>\n",
       "    <tr>\n",
       "      <th>8</th>\n",
       "      <td>Pulse rate(bpm)</td>\n",
       "      <td>Integer</td>\n",
       "      <td>Heart beats per minute</td>\n",
       "      <td>For adults (ages 18+), the expected resting heart rate range is 60 - 100 bpm.</td>\n",
       "      <td>Cleveland Clinic</td>\n",
       "      <td>Low</td>\n",
       "    </tr>\n",
       "    <tr>\n",
       "      <th>9</th>\n",
       "      <td>RR (breaths/min)</td>\n",
       "      <td>Integer</td>\n",
       "      <td>Respiration rate measured in breaths per minute.</td>\n",
       "      <td>For adults (ages 18+), the expected respiratory rate is 12 to 20 breaths per minute.</td>\n",
       "      <td>Cleveland Clinic</td>\n",
       "      <td>Low</td>\n",
       "    </tr>\n",
       "    <tr>\n",
       "      <th>10</th>\n",
       "      <td>Hb(g/dl)</td>\n",
       "      <td>Integer</td>\n",
       "      <td>Hemoglobin measured in grams per deciliter.</td>\n",
       "      <td>Normal ranges for Males are 13.2 to 16.6 g/dl; For women, 11.6 to 15 g/dl.</td>\n",
       "      <td>Mayo Clinic</td>\n",
       "      <td>Low</td>\n",
       "    </tr>\n",
       "    <tr>\n",
       "      <th>11</th>\n",
       "      <td>Cycle(R/I)</td>\n",
       "      <td>Boolean</td>\n",
       "      <td>Patient Cycle classified as Regular or Irregular</td>\n",
       "      <td>In this dataset, it is not well defined what the integers mean so this feature will not be used.</td>\n",
       "      <td>Mayo Clinic</td>\n",
       "      <td>Low</td>\n",
       "    </tr>\n",
       "    <tr>\n",
       "      <th>12</th>\n",
       "      <td>Cycle length(days)</td>\n",
       "      <td>Integer</td>\n",
       "      <td>Menstral cycle length in days</td>\n",
       "      <td>Regular cycle lengths range from 21 to 35 days. Please note that the data set only includes the menstral cycle timeframe, not the entire cycle.</td>\n",
       "      <td>Mayo Clinic</td>\n",
       "      <td>High</td>\n",
       "    </tr>\n",
       "    <tr>\n",
       "      <th>13</th>\n",
       "      <td>Pregnant(Y/N)</td>\n",
       "      <td>Boolean</td>\n",
       "      <td>True indicates the patient is pregnant. False indicates the patient is not pregnant.</td>\n",
       "      <td>Women who have PCOS can get pregnant.</td>\n",
       "      <td>US Dept. of Health and Human Services</td>\n",
       "      <td>High</td>\n",
       "    </tr>\n",
       "    <tr>\n",
       "      <th>14</th>\n",
       "      <td>No. of abortions</td>\n",
       "      <td>Integer</td>\n",
       "      <td>Count of abortions</td>\n",
       "      <td>Some research suggests that patients with PCOS usually have a high abortion rate.</td>\n",
       "      <td>National Library of Medicine</td>\n",
       "      <td>Medium</td>\n",
       "    </tr>\n",
       "    <tr>\n",
       "      <th>15</th>\n",
       "      <td>I   beta-HCG(mIU/mL)</td>\n",
       "      <td>Integer</td>\n",
       "      <td>Human Chorionic Gonadotropin measured in milli-iternaitional units per milliliter. Case I is the first reading.</td>\n",
       "      <td>HCG is a hormone produced during pregnancy. Non-pregnant women: less than 5 mIU/ml. Healthy men: less than 2 miU/mL. During pregnancy the HCG ranges rise rapidly.</td>\n",
       "      <td>Mount Sinai</td>\n",
       "      <td>Medium</td>\n",
       "    </tr>\n",
       "    <tr>\n",
       "      <th>16</th>\n",
       "      <td>II    beta-HCG(mIU/mL)</td>\n",
       "      <td>Integer</td>\n",
       "      <td>Human Chorionic Gonadotropin measured in milli-iternaitional units per milliliter. Case II is the first reading. If no Case II reading, then the Case I reading is taken.</td>\n",
       "      <td>Non-pregnant women: less than 5 mIU/ml. Healthy men: less than 2 miU/mL. During pregnancy the HCG ranges rise rapidly.</td>\n",
       "      <td>Mount Sinai</td>\n",
       "      <td>Medium</td>\n",
       "    </tr>\n",
       "    <tr>\n",
       "      <th>17</th>\n",
       "      <td>FSH(mIU/mL)</td>\n",
       "      <td>Integer</td>\n",
       "      <td>Follicle-stimulating Hormone measured in milli-international units per milliliter.</td>\n",
       "      <td>In women, FSH helps control the menstrual cycle and stimulates egg growth. Adult males have 1.5 to 12.4 mIU/mL. Adult women 4.7 to 21.5 mIU/mL.</td>\n",
       "      <td>Mount Sinai</td>\n",
       "      <td>Medium</td>\n",
       "    </tr>\n",
       "    <tr>\n",
       "      <th>18</th>\n",
       "      <td>LH(mIU/mL)</td>\n",
       "      <td>Integer</td>\n",
       "      <td>Luteinizing Hormone measured in milli-international units per milliliter.</td>\n",
       "      <td>LH will increase mid-cycle in women which causes the release of eggs. In women before menopuase, the normal range is 5 to 25 IU/L. In adult men (over 18 years of age), the normal range is 1.8 to 8.6 IU/L.</td>\n",
       "      <td>Mount Sinai</td>\n",
       "      <td>Medium</td>\n",
       "    </tr>\n",
       "    <tr>\n",
       "      <th>19</th>\n",
       "      <td>FSH/LH</td>\n",
       "      <td>Integer</td>\n",
       "      <td>Follicle-stimulating Hormone divided by Luteinizing Hormone.</td>\n",
       "      <td>This particular ratio is used to be a predictor of ovarian reserve. If the ratio &gt; 3.0, women have higher cancellation rates of IVF treatments.</td>\n",
       "      <td>Sage Journals</td>\n",
       "      <td>Medium</td>\n",
       "    </tr>\n",
       "    <tr>\n",
       "      <th>20</th>\n",
       "      <td>Hip(inch)</td>\n",
       "      <td>Integer</td>\n",
       "      <td>Hips measured in inches.</td>\n",
       "      <td>NaN</td>\n",
       "      <td>NaN</td>\n",
       "      <td>Medium</td>\n",
       "    </tr>\n",
       "    <tr>\n",
       "      <th>21</th>\n",
       "      <td>Waist(inch)</td>\n",
       "      <td>Integer</td>\n",
       "      <td>Measured in inches.</td>\n",
       "      <td>NaN</td>\n",
       "      <td>NaN</td>\n",
       "      <td>Low</td>\n",
       "    </tr>\n",
       "    <tr>\n",
       "      <th>22</th>\n",
       "      <td>Waist:Hip Ratio</td>\n",
       "      <td>Integer</td>\n",
       "      <td>Waist measurement divided by hip measurement.</td>\n",
       "      <td>NaN</td>\n",
       "      <td>NaN</td>\n",
       "      <td>Low</td>\n",
       "    </tr>\n",
       "    <tr>\n",
       "      <th>23</th>\n",
       "      <td>TSH (mIU/L)</td>\n",
       "      <td>Integer</td>\n",
       "      <td>Thyroid Stimulating Hormone measured in milli-international units per liter.</td>\n",
       "      <td>Thyroid disease can be a cause of infertility. Normal values are from 0.4 to 4.0 mIU/L for those with no symptoms.</td>\n",
       "      <td>UCLA Health</td>\n",
       "      <td>Low</td>\n",
       "    </tr>\n",
       "    <tr>\n",
       "      <th>24</th>\n",
       "      <td>AMH(ng/mL)</td>\n",
       "      <td>Integer</td>\n",
       "      <td>Anti-Mullerian Hormone measured in Nanograms per milliliter.</td>\n",
       "      <td>AMH tells you the number of remaining eggs you have. Normal levels vary depend on age. For women, the average range is between 1.0 to 3.0.</td>\n",
       "      <td>Cleveland Clinic</td>\n",
       "      <td>Medium</td>\n",
       "    </tr>\n",
       "    <tr>\n",
       "      <th>25</th>\n",
       "      <td>PRL(ng/mL)</td>\n",
       "      <td>Integer</td>\n",
       "      <td>Prolactin levels measured in Nanograms per milliliter.</td>\n",
       "      <td>Prolactin is a hormore release by the pituitary gland which regulates the body's balance of many hormones and used to supplement the diagnosis of infertility. Normal results in men are less than 20 ng/mL, non-pregnant women less than 25 ng/mL, and pregnant women range from 80 to 400 ng/mL.</td>\n",
       "      <td>UCSF Health</td>\n",
       "      <td>Medium</td>\n",
       "    </tr>\n",
       "    <tr>\n",
       "      <th>26</th>\n",
       "      <td>Vit D3 (ng/mL)</td>\n",
       "      <td>Integer</td>\n",
       "      <td>Vitamin D3 measured in Nanograms per milliliter.</td>\n",
       "      <td>Vitamin D screening is done for people who are at high risk for vitamin D deficiency, including people that are obese. The recommended range is between 20 and 40 ng/mL.</td>\n",
       "      <td>Mount Sinai</td>\n",
       "      <td>Medium</td>\n",
       "    </tr>\n",
       "    <tr>\n",
       "      <th>27</th>\n",
       "      <td>PRG(ng/mL)</td>\n",
       "      <td>Integer</td>\n",
       "      <td>Progesterone levels measured in Nanograms per milliliter.</td>\n",
       "      <td>Progesterone is a hormone produced after ovulation which prepares the uterus for a fertilized egg to be implanted. Levels vary depending on when the test is done.</td>\n",
       "      <td>UCSF Health</td>\n",
       "      <td>Medium</td>\n",
       "    </tr>\n",
       "    <tr>\n",
       "      <th>28</th>\n",
       "      <td>RBS(mg/dl)</td>\n",
       "      <td>Integer</td>\n",
       "      <td>Random blood sugar test measured in milligrams per deciliter.</td>\n",
       "      <td>Blood sugar level less than 140 mg/dL is normal. If more than 200 mg/dL means that you have diabetes.</td>\n",
       "      <td>Mayo Clinic</td>\n",
       "      <td>High</td>\n",
       "    </tr>\n",
       "    <tr>\n",
       "      <th>29</th>\n",
       "      <td>Weight gain(Y/N)</td>\n",
       "      <td>Boolean</td>\n",
       "      <td>True indicates gained weight. False indicates no weight gained.</td>\n",
       "      <td>Possible PCOS Symptom</td>\n",
       "      <td>Cleveland Clinic</td>\n",
       "      <td>Medium</td>\n",
       "    </tr>\n",
       "    <tr>\n",
       "      <th>30</th>\n",
       "      <td>hair growth(Y/N)</td>\n",
       "      <td>Boolean</td>\n",
       "      <td>True indicates hair growth. False indicates no hair growth.</td>\n",
       "      <td>Possible PCOS Symptom</td>\n",
       "      <td>Mayo Clinic</td>\n",
       "      <td>Medium</td>\n",
       "    </tr>\n",
       "    <tr>\n",
       "      <th>31</th>\n",
       "      <td>Skin darkening (Y/N)</td>\n",
       "      <td>Boolean</td>\n",
       "      <td>True indicates skin darkening. False indicates no skin darkening.</td>\n",
       "      <td>Possible PCOS Symptom</td>\n",
       "      <td>Harvard Health</td>\n",
       "      <td>Medium</td>\n",
       "    </tr>\n",
       "    <tr>\n",
       "      <th>32</th>\n",
       "      <td>Hair loss(Y/N)</td>\n",
       "      <td>Boolean</td>\n",
       "      <td>True indicates hair loss. False indicates no hair loss.</td>\n",
       "      <td>Possible PCOS Symptom</td>\n",
       "      <td>Harvard Health</td>\n",
       "      <td>Medium</td>\n",
       "    </tr>\n",
       "    <tr>\n",
       "      <th>33</th>\n",
       "      <td>Acne (Y/N)</td>\n",
       "      <td>Boolean</td>\n",
       "      <td>True indicates acne. False indicates no acne.</td>\n",
       "      <td>Possible PCOS Symptom</td>\n",
       "      <td>Harvard Health</td>\n",
       "      <td>Medium</td>\n",
       "    </tr>\n",
       "    <tr>\n",
       "      <th>34</th>\n",
       "      <td>Reg.Exercise(Y/N)</td>\n",
       "      <td>Boolean</td>\n",
       "      <td>True indicates patient exercises for more than 30 minutes 3 or more times a week. False indicates patient exercises less than 3 times a week.</td>\n",
       "      <td>Exercise may help reduce PCOS symptoms.</td>\n",
       "      <td>PubMed.gov</td>\n",
       "      <td>Medium</td>\n",
       "    </tr>\n",
       "    <tr>\n",
       "      <th>35</th>\n",
       "      <td>BP _Systolic (mmHg)</td>\n",
       "      <td>Integer</td>\n",
       "      <td>Pressure exerted when blood is ejected into arteries measured in millimeters of mercury.</td>\n",
       "      <td>Should be below 120 mm/Hg</td>\n",
       "      <td>Mayo Clinic</td>\n",
       "      <td>Medium</td>\n",
       "    </tr>\n",
       "    <tr>\n",
       "      <th>36</th>\n",
       "      <td>BP _Diastolic (mmHg)</td>\n",
       "      <td>Integer</td>\n",
       "      <td>Pressure blood exerts within arteries between heartbeats measured in millimeters of mercury.</td>\n",
       "      <td>Should be below 80 mm/Hg</td>\n",
       "      <td>Mayo Clinic</td>\n",
       "      <td>Medium</td>\n",
       "    </tr>\n",
       "    <tr>\n",
       "      <th>37</th>\n",
       "      <td>Follicle No. (L)</td>\n",
       "      <td>Integer</td>\n",
       "      <td>Number of follicles found in the left ovary.</td>\n",
       "      <td>Follicles are small fluid filled sacs in the ovaries that contain an unfertilized egg. Follicle counts vary based on age, as they decline with age, but 22-35 follicles are considered normal counts.</td>\n",
       "      <td>Advanced Fertility Center of Chicago</td>\n",
       "      <td>Low</td>\n",
       "    </tr>\n",
       "    <tr>\n",
       "      <th>38</th>\n",
       "      <td>Follicle No. (R)</td>\n",
       "      <td>Integer</td>\n",
       "      <td>Number of follicles found in the right ovary.</td>\n",
       "      <td>Follicles are small fluid filled sacs in the ovaries that contain an unfertilized egg. Follicle counts vary based on age, as they decline with age, but 22-35 follicles are considered normal counts.</td>\n",
       "      <td>Advanced Fertility Center of Chicago</td>\n",
       "      <td>Low</td>\n",
       "    </tr>\n",
       "    <tr>\n",
       "      <th>39</th>\n",
       "      <td>Avg. F size (L) (mm)</td>\n",
       "      <td>Integer</td>\n",
       "      <td>Mean follicle size in the left ovary measured in millimeters.</td>\n",
       "      <td>Follicles that are between 16 - 23 mm are considered to be mature follicles and will release an egg for ovulation.</td>\n",
       "      <td>National Library of Medicine</td>\n",
       "      <td>Low</td>\n",
       "    </tr>\n",
       "    <tr>\n",
       "      <th>40</th>\n",
       "      <td>Avg. F size (R) (mm)</td>\n",
       "      <td>Integer</td>\n",
       "      <td>Mean follicle size in the right ovary measured in millimeters.</td>\n",
       "      <td>Follicles that are between 16 - 23 mm are considered to be mature follicles and will release an egg for ovulation.</td>\n",
       "      <td>National Library of Medicine</td>\n",
       "      <td>Low</td>\n",
       "    </tr>\n",
       "    <tr>\n",
       "      <th>41</th>\n",
       "      <td>Endometrium (mm)</td>\n",
       "      <td>Integer</td>\n",
       "      <td>The lining of the uterus measured in millimeters.</td>\n",
       "      <td>In one study, median Endometrial thickness (ET) was 8.6 mm and was not related to their age or obstetric history.</td>\n",
       "      <td>National Library of Medicine</td>\n",
       "      <td>Low</td>\n",
       "    </tr>\n",
       "    <tr>\n",
       "      <th>42</th>\n",
       "      <td>Infertility</td>\n",
       "      <td>Boolean</td>\n",
       "      <td>True indicates patient has been diagnosed with infertility. False indicates patient has not been diagnosed with infertility.</td>\n",
       "      <td>PCOS is a known common cause of infertility.</td>\n",
       "      <td>WomensHealth.gov</td>\n",
       "      <td>High</td>\n",
       "    </tr>\n",
       "    <tr>\n",
       "      <th>43</th>\n",
       "      <td>Blood Pressure (str)</td>\n",
       "      <td>String</td>\n",
       "      <td>BP_Systolic (mmHg) / BP_Diastolic (mmHg)</td>\n",
       "      <td>BP_Systolic and BP_Diastolic are provided as separate variables in the data set. However, it is common place to have both of these values together as a ratio for readings. Normal blood pressure is below or at 120/80.</td>\n",
       "      <td>Clevland Clinic</td>\n",
       "      <td>Low</td>\n",
       "    </tr>\n",
       "    <tr>\n",
       "      <th>44</th>\n",
       "      <td>Height (m)</td>\n",
       "      <td>Integer</td>\n",
       "      <td>Height converted to meters for BMI calculation in the dataset.</td>\n",
       "      <td>NaN</td>\n",
       "      <td>NaN</td>\n",
       "      <td>NaN</td>\n",
       "    </tr>\n",
       "  </tbody>\n",
       "</table>\n",
       "</div>"
      ],
      "text/plain": [
       "                  Variable Data Type   \\\n",
       "0   Sl. No                  Integer     \n",
       "1   Patient File No.        Integer     \n",
       "2   PCOS (Y/N)              Boolean     \n",
       "3   Age (yrs)               Integer     \n",
       "4   Weight (Kg)             Integer     \n",
       "5   Height(Cm)              Integer     \n",
       "6   BMI                     Integer     \n",
       "7   Blood Group             Integer     \n",
       "8   Pulse rate(bpm)         Integer     \n",
       "9   RR (breaths/min)        Integer     \n",
       "10  Hb(g/dl)                Integer     \n",
       "11  Cycle(R/I)              Boolean     \n",
       "12  Cycle length(days)      Integer     \n",
       "13  Pregnant(Y/N)           Boolean     \n",
       "14  No. of abortions        Integer     \n",
       "15    I   beta-HCG(mIU/mL)  Integer     \n",
       "16  II    beta-HCG(mIU/mL)  Integer     \n",
       "17  FSH(mIU/mL)             Integer     \n",
       "18  LH(mIU/mL)              Integer     \n",
       "19  FSH/LH                  Integer     \n",
       "20  Hip(inch)               Integer     \n",
       "21  Waist(inch)             Integer     \n",
       "22  Waist:Hip Ratio         Integer     \n",
       "23  TSH (mIU/L)             Integer     \n",
       "24  AMH(ng/mL)              Integer     \n",
       "25  PRL(ng/mL)              Integer     \n",
       "26  Vit D3 (ng/mL)          Integer     \n",
       "27  PRG(ng/mL)              Integer     \n",
       "28  RBS(mg/dl)              Integer     \n",
       "29  Weight gain(Y/N)        Boolean     \n",
       "30  hair growth(Y/N)        Boolean     \n",
       "31  Skin darkening (Y/N)    Boolean     \n",
       "32  Hair loss(Y/N)          Boolean     \n",
       "33  Acne (Y/N)              Boolean     \n",
       "34  Reg.Exercise(Y/N)       Boolean     \n",
       "35  BP _Systolic (mmHg)     Integer     \n",
       "36  BP _Diastolic (mmHg)    Integer     \n",
       "37  Follicle No. (L)        Integer     \n",
       "38  Follicle No. (R)        Integer     \n",
       "39  Avg. F size (L) (mm)    Integer     \n",
       "40  Avg. F size (R) (mm)    Integer     \n",
       "41  Endometrium (mm)        Integer     \n",
       "42  Infertility             Boolean     \n",
       "43  Blood Pressure (str)    String      \n",
       "44  Height (m)              Integer     \n",
       "\n",
       "                                                                                                                                                                  Description  \\\n",
       "0   Row Index                                                                                                                                                                   \n",
       "1   Unique patient file identifier                                                                                                                                              \n",
       "2   True represents if the patient was diagnosed with PCOS. False represents the patient has not been diagnosed with PCOS.                                                      \n",
       "3   Patient age                                                                                                                                                                 \n",
       "4   Patient weight in kilograms                                                                                                                                                 \n",
       "5   Patient height in centimeters                                                                                                                                               \n",
       "6   Body Mass Index of patient                                                                                                                                                  \n",
       "7   Blood types represented as integers                                                                                                                                         \n",
       "8   Heart beats per minute                                                                                                                                                      \n",
       "9   Respiration rate measured in breaths per minute.                                                                                                                            \n",
       "10  Hemoglobin measured in grams per deciliter.                                                                                                                                 \n",
       "11  Patient Cycle classified as Regular or Irregular                                                                                                                            \n",
       "12  Menstral cycle length in days                                                                                                                                               \n",
       "13  True indicates the patient is pregnant. False indicates the patient is not pregnant.                                                                                        \n",
       "14  Count of abortions                                                                                                                                                          \n",
       "15  Human Chorionic Gonadotropin measured in milli-iternaitional units per milliliter. Case I is the first reading.                                                             \n",
       "16  Human Chorionic Gonadotropin measured in milli-iternaitional units per milliliter. Case II is the first reading. If no Case II reading, then the Case I reading is taken.   \n",
       "17  Follicle-stimulating Hormone measured in milli-international units per milliliter.                                                                                          \n",
       "18  Luteinizing Hormone measured in milli-international units per milliliter.                                                                                                   \n",
       "19  Follicle-stimulating Hormone divided by Luteinizing Hormone.                                                                                                                \n",
       "20  Hips measured in inches.                                                                                                                                                    \n",
       "21  Measured in inches.                                                                                                                                                         \n",
       "22  Waist measurement divided by hip measurement.                                                                                                                               \n",
       "23  Thyroid Stimulating Hormone measured in milli-international units per liter.                                                                                                \n",
       "24  Anti-Mullerian Hormone measured in Nanograms per milliliter.                                                                                                                \n",
       "25  Prolactin levels measured in Nanograms per milliliter.                                                                                                                      \n",
       "26  Vitamin D3 measured in Nanograms per milliliter.                                                                                                                            \n",
       "27  Progesterone levels measured in Nanograms per milliliter.                                                                                                                   \n",
       "28  Random blood sugar test measured in milligrams per deciliter.                                                                                                               \n",
       "29  True indicates gained weight. False indicates no weight gained.                                                                                                             \n",
       "30  True indicates hair growth. False indicates no hair growth.                                                                                                                 \n",
       "31  True indicates skin darkening. False indicates no skin darkening.                                                                                                           \n",
       "32  True indicates hair loss. False indicates no hair loss.                                                                                                                     \n",
       "33  True indicates acne. False indicates no acne.                                                                                                                               \n",
       "34  True indicates patient exercises for more than 30 minutes 3 or more times a week. False indicates patient exercises less than 3 times a week.                               \n",
       "35  Pressure exerted when blood is ejected into arteries measured in millimeters of mercury.                                                                                    \n",
       "36  Pressure blood exerts within arteries between heartbeats measured in millimeters of mercury.                                                                                \n",
       "37  Number of follicles found in the left ovary.                                                                                                                                \n",
       "38  Number of follicles found in the right ovary.                                                                                                                               \n",
       "39  Mean follicle size in the left ovary measured in millimeters.                                                                                                               \n",
       "40  Mean follicle size in the right ovary measured in millimeters.                                                                                                              \n",
       "41  The lining of the uterus measured in millimeters.                                                                                                                           \n",
       "42  True indicates patient has been diagnosed with infertility. False indicates patient has not been diagnosed with infertility.                                                \n",
       "43  BP_Systolic (mmHg) / BP_Diastolic (mmHg)                                                                                                                                    \n",
       "44  Height converted to meters for BMI calculation in the dataset.                                                                                                              \n",
       "\n",
       "                                                                                                                                                                                                                                                                                                Context  \\\n",
       "0   Included with original data set.                                                                                                                                                                                                                                                                      \n",
       "1   Total of 1082 Patient File Numbers                                                                                                                                                                                                                                                                    \n",
       "2   If the patient has not been diagnosed with PCOS (False), this does not mean that this patient could not be diagnosed with PCOS in the future.                                                                                                                                                         \n",
       "3   Research suggests that 35 and older women have a higher risk of pregnancy-related complications.                                                                                                                                                                                                      \n",
       "4   NaN                                                                                                                                                                                                                                                                                                   \n",
       "5   NaN                                                                                                                                                                                                                                                                                                   \n",
       "6   Calculated by Weight (Kg) / (Height (M) *2). A value of 30 and above indicates obsesity in adults.                                                                                                                                                                                                    \n",
       "7   A+  = 11, A- = 12, B+ = 13, O+ = 15, O- = 16, AB+ = 17, AB- = 18                                                                                                                                                                                                                                      \n",
       "8   For adults (ages 18+), the expected resting heart rate range is 60 - 100 bpm.                                                                                                                                                                                                                         \n",
       "9   For adults (ages 18+), the expected respiratory rate is 12 to 20 breaths per minute.                                                                                                                                                                                                                  \n",
       "10  Normal ranges for Males are 13.2 to 16.6 g/dl; For women, 11.6 to 15 g/dl.                                                                                                                                                                                                                            \n",
       "11  In this dataset, it is not well defined what the integers mean so this feature will not be used.                                                                                                                                                                                                      \n",
       "12  Regular cycle lengths range from 21 to 35 days. Please note that the data set only includes the menstral cycle timeframe, not the entire cycle.                                                                                                                                                       \n",
       "13  Women who have PCOS can get pregnant.                                                                                                                                                                                                                                                                 \n",
       "14  Some research suggests that patients with PCOS usually have a high abortion rate.                                                                                                                                                                                                                     \n",
       "15  HCG is a hormone produced during pregnancy. Non-pregnant women: less than 5 mIU/ml. Healthy men: less than 2 miU/mL. During pregnancy the HCG ranges rise rapidly.                                                                                                                                    \n",
       "16  Non-pregnant women: less than 5 mIU/ml. Healthy men: less than 2 miU/mL. During pregnancy the HCG ranges rise rapidly.                                                                                                                                                                                \n",
       "17  In women, FSH helps control the menstrual cycle and stimulates egg growth. Adult males have 1.5 to 12.4 mIU/mL. Adult women 4.7 to 21.5 mIU/mL.                                                                                                                                                       \n",
       "18  LH will increase mid-cycle in women which causes the release of eggs. In women before menopuase, the normal range is 5 to 25 IU/L. In adult men (over 18 years of age), the normal range is 1.8 to 8.6 IU/L.                                                                                          \n",
       "19  This particular ratio is used to be a predictor of ovarian reserve. If the ratio > 3.0, women have higher cancellation rates of IVF treatments.                                                                                                                                                       \n",
       "20  NaN                                                                                                                                                                                                                                                                                                   \n",
       "21  NaN                                                                                                                                                                                                                                                                                                   \n",
       "22  NaN                                                                                                                                                                                                                                                                                                   \n",
       "23  Thyroid disease can be a cause of infertility. Normal values are from 0.4 to 4.0 mIU/L for those with no symptoms.                                                                                                                                                                                    \n",
       "24  AMH tells you the number of remaining eggs you have. Normal levels vary depend on age. For women, the average range is between 1.0 to 3.0.                                                                                                                                                            \n",
       "25  Prolactin is a hormore release by the pituitary gland which regulates the body's balance of many hormones and used to supplement the diagnosis of infertility. Normal results in men are less than 20 ng/mL, non-pregnant women less than 25 ng/mL, and pregnant women range from 80 to 400 ng/mL.    \n",
       "26  Vitamin D screening is done for people who are at high risk for vitamin D deficiency, including people that are obese. The recommended range is between 20 and 40 ng/mL.                                                                                                                              \n",
       "27  Progesterone is a hormone produced after ovulation which prepares the uterus for a fertilized egg to be implanted. Levels vary depending on when the test is done.                                                                                                                                    \n",
       "28  Blood sugar level less than 140 mg/dL is normal. If more than 200 mg/dL means that you have diabetes.                                                                                                                                                                                                 \n",
       "29  Possible PCOS Symptom                                                                                                                                                                                                                                                                                 \n",
       "30  Possible PCOS Symptom                                                                                                                                                                                                                                                                                 \n",
       "31  Possible PCOS Symptom                                                                                                                                                                                                                                                                                 \n",
       "32  Possible PCOS Symptom                                                                                                                                                                                                                                                                                 \n",
       "33  Possible PCOS Symptom                                                                                                                                                                                                                                                                                 \n",
       "34  Exercise may help reduce PCOS symptoms.                                                                                                                                                                                                                                                               \n",
       "35  Should be below 120 mm/Hg                                                                                                                                                                                                                                                                             \n",
       "36  Should be below 80 mm/Hg                                                                                                                                                                                                                                                                              \n",
       "37  Follicles are small fluid filled sacs in the ovaries that contain an unfertilized egg. Follicle counts vary based on age, as they decline with age, but 22-35 follicles are considered normal counts.                                                                                                 \n",
       "38  Follicles are small fluid filled sacs in the ovaries that contain an unfertilized egg. Follicle counts vary based on age, as they decline with age, but 22-35 follicles are considered normal counts.                                                                                                 \n",
       "39  Follicles that are between 16 - 23 mm are considered to be mature follicles and will release an egg for ovulation.                                                                                                                                                                                    \n",
       "40  Follicles that are between 16 - 23 mm are considered to be mature follicles and will release an egg for ovulation.                                                                                                                                                                                    \n",
       "41  In one study, median Endometrial thickness (ET) was 8.6 mm and was not related to their age or obstetric history.                                                                                                                                                                                     \n",
       "42  PCOS is a known common cause of infertility.                                                                                                                                                                                                                                                          \n",
       "43  BP_Systolic and BP_Diastolic are provided as separate variables in the data set. However, it is common place to have both of these values together as a ratio for readings. Normal blood pressure is below or at 120/80.                                                                              \n",
       "44  NaN                                                                                                                                                                                                                                                                                                   \n",
       "\n",
       "                                Reference Relevancy to Analysis  \n",
       "0   NaN                                    Low                   \n",
       "1   NaN                                    High                  \n",
       "2   NaN                                    High                  \n",
       "3   NaN                                    Medium                \n",
       "4   Cleveland Clinic                       Medium                \n",
       "5   NaN                                    Medium                \n",
       "6   Cleveland Clinic                       High                  \n",
       "7   Cleveland Clinic                       Medium                \n",
       "8   Cleveland Clinic                       Low                   \n",
       "9   Cleveland Clinic                       Low                   \n",
       "10  Mayo Clinic                            Low                   \n",
       "11  Mayo Clinic                            Low                   \n",
       "12  Mayo Clinic                            High                  \n",
       "13  US Dept. of Health and Human Services  High                  \n",
       "14  National Library of Medicine           Medium                \n",
       "15  Mount Sinai                            Medium                \n",
       "16  Mount Sinai                            Medium                \n",
       "17  Mount Sinai                            Medium                \n",
       "18  Mount Sinai                            Medium                \n",
       "19  Sage Journals                          Medium                \n",
       "20  NaN                                    Medium                \n",
       "21  NaN                                    Low                   \n",
       "22  NaN                                    Low                   \n",
       "23  UCLA Health                            Low                   \n",
       "24  Cleveland Clinic                       Medium                \n",
       "25  UCSF Health                            Medium                \n",
       "26  Mount Sinai                            Medium                \n",
       "27  UCSF Health                            Medium                \n",
       "28  Mayo Clinic                            High                  \n",
       "29  Cleveland Clinic                       Medium                \n",
       "30  Mayo Clinic                            Medium                \n",
       "31  Harvard Health                         Medium                \n",
       "32  Harvard Health                         Medium                \n",
       "33  Harvard Health                         Medium                \n",
       "34  PubMed.gov                             Medium                \n",
       "35  Mayo Clinic                            Medium                \n",
       "36  Mayo Clinic                            Medium                \n",
       "37  Advanced Fertility Center of Chicago   Low                   \n",
       "38  Advanced Fertility Center of Chicago   Low                   \n",
       "39  National Library of Medicine           Low                   \n",
       "40  National Library of Medicine           Low                   \n",
       "41  National Library of Medicine           Low                   \n",
       "42  WomensHealth.gov                       High                  \n",
       "43  Clevland Clinic                        Low                   \n",
       "44  NaN                                    NaN                   "
      ]
     },
     "execution_count": 1,
     "metadata": {},
     "output_type": "execute_result"
    }
   ],
   "source": [
    "import pandas as pd \n",
    "pd.set_option('display.max_colwidth', 0)\n",
    "\n",
    "data_dict_filepath = \"C:\\\\Users\\\\sarah\\\\OneDrive\\\\Documents\\\\NYCDS_Bootcamp\\\\Project 1\\\\PCOS_Data_Dictionary.csv\"\n",
    "\n",
    "PCOS_Data_Dict = pd.read_csv(data_dict_filepath)\n",
    "\n",
    "PCOS_Data_Dict"
   ]
  },
  {
   "cell_type": "markdown",
   "id": "ce87ddde",
   "metadata": {},
   "source": [
    "## Questions of Interest"
   ]
  },
  {
   "cell_type": "markdown",
   "id": "e3cf1eaa",
   "metadata": {},
   "source": [
    "PCOS patients experience a wide variety of symptoms, and each woman experiences a range of symptoms throughout each individual cycle. Because of this, I would like to center my analysis on three main questions:\n",
    "\n",
    " 1. Are there any features that are correlated with PCOS?\n",
    " 2. What are the most frequent symptoms PCOS pateints exihibit?\n",
    " 3. Do non-PCOS patients exhibit similar symptoms to those diagnosed with PCOS?"
   ]
  },
  {
   "cell_type": "markdown",
   "id": "1d5544c6",
   "metadata": {},
   "source": [
    "## Data Inspection"
   ]
  },
  {
   "cell_type": "markdown",
   "id": "19b3503f",
   "metadata": {},
   "source": [
    "Before exploring the questions of interest in the data, we will inspect it to get a sense of it's general construct. In the data inspection, we will complete the following tasks:\n",
    "\n",
    "- Load the data.\n",
    "- Describe the data (shape, structure and descriptive statistics). \n",
    "- Inspect the data including missing values or `NaN` values. \n",
    "- Make intial observations about the data for subsequent steps such as data cleaning and pre-processing."
   ]
  },
  {
   "cell_type": "markdown",
   "id": "e04fc76a",
   "metadata": {},
   "source": [
    "Before we begin the inspection, we first import the necessary libraries for data analysis:\n",
    " - `numpy as np`: Used for linear algebra or matrix math. \n",
    " - `pandas as pd`: Used for data analysis in a tabular structure. \n",
    " - `matplotlib.pyplot as plt`: Used for plotting data. \n",
    " - `seaborn as sns`: Subpackage of Matplotlib used for statistical data visualization. \n",
    " - `stats from scipy`: Used as the base package for `pingouin`\n",
    " - `pingouin as pg`: Used for inferential statistics and statistical analysis."
   ]
  },
  {
   "cell_type": "code",
   "execution_count": 2,
   "id": "72bfad75",
   "metadata": {
    "scrolled": true
   },
   "outputs": [],
   "source": [
    "import numpy as np \n",
    "import pandas as pd  \n",
    "import matplotlib.pyplot as plt \n",
    "import seaborn as sns\n",
    "from scipy import stats\n",
    "import pingouin as pg"
   ]
  },
  {
   "cell_type": "markdown",
   "id": "f9294b00",
   "metadata": {},
   "source": [
    "Load the data. \n",
    "- If you are loading the data locally after downloading the data from Kaggle, please copy and paste the file paths to the `file_path_with_infertility` and `file_path_without_infertility` variables respectively."
   ]
  },
  {
   "cell_type": "code",
   "execution_count": 3,
   "id": "209a028f",
   "metadata": {},
   "outputs": [
    {
     "name": "stderr",
     "output_type": "stream",
     "text": [
      "C:\\Users\\sarah\\anaconda3\\lib\\site-packages\\outdated\\utils.py:14: OutdatedPackageWarning: The package outdated is out of date. Your version is 0.2.1, the latest is 0.2.2.\n",
      "Set the environment variable OUTDATED_IGNORE=1 to disable these warnings.\n",
      "  return warn(\n"
     ]
    }
   ],
   "source": [
    "file_path_with_infertility = \"C:\\\\Users\\\\sarah\\\\OneDrive\\\\Documents\\\\NYCDS_Bootcamp\\\\Project 1\\\\PCOS_infertility.csv\"\n",
    "file_path_without_infertility = \"C:\\\\Users\\\\sarah\\\\OneDrive\\\\Documents\\\\NYCDS_Bootcamp\\\\Project 1\\\\PCOS_data_without_infertility.xlsx\"\n",
    "\n",
    "PCOS_inf = pd.read_csv(file_path_with_infertility)\n",
    "\n",
    "PCOS_woinf = pd.read_excel(file_path_without_infertility, sheet_name = \"Full_new\")"
   ]
  },
  {
   "cell_type": "markdown",
   "id": "bed25608",
   "metadata": {},
   "source": [
    "Observations:\n",
    "\n",
    " - `PCOS_inf` has 541 rows and 6 columns. Additional exploration to find location of `NaN` values.\n",
    " - `PCOS_woinf` has 541 rows and 45 columns. Additional exploration to find location of `NaN` values and `Unnamed:` columns."
   ]
  },
  {
   "cell_type": "code",
   "execution_count": 4,
   "id": "89cb0e66",
   "metadata": {},
   "outputs": [
    {
     "data": {
      "text/html": [
       "<div>\n",
       "<style scoped>\n",
       "    .dataframe tbody tr th:only-of-type {\n",
       "        vertical-align: middle;\n",
       "    }\n",
       "\n",
       "    .dataframe tbody tr th {\n",
       "        vertical-align: top;\n",
       "    }\n",
       "\n",
       "    .dataframe thead th {\n",
       "        text-align: right;\n",
       "    }\n",
       "</style>\n",
       "<table border=\"1\" class=\"dataframe\">\n",
       "  <thead>\n",
       "    <tr style=\"text-align: right;\">\n",
       "      <th></th>\n",
       "      <th>count</th>\n",
       "      <th>unique</th>\n",
       "      <th>top</th>\n",
       "      <th>freq</th>\n",
       "      <th>mean</th>\n",
       "      <th>std</th>\n",
       "      <th>min</th>\n",
       "      <th>25%</th>\n",
       "      <th>50%</th>\n",
       "      <th>75%</th>\n",
       "      <th>max</th>\n",
       "    </tr>\n",
       "  </thead>\n",
       "  <tbody>\n",
       "    <tr>\n",
       "      <th>Sl. No</th>\n",
       "      <td>541.0</td>\n",
       "      <td>NaN</td>\n",
       "      <td>NaN</td>\n",
       "      <td>NaN</td>\n",
       "      <td>271.0</td>\n",
       "      <td>156.317519</td>\n",
       "      <td>1.0</td>\n",
       "      <td>136.0</td>\n",
       "      <td>271.0</td>\n",
       "      <td>406.0</td>\n",
       "      <td>541.0</td>\n",
       "    </tr>\n",
       "    <tr>\n",
       "      <th>Patient File No.</th>\n",
       "      <td>541.0</td>\n",
       "      <td>NaN</td>\n",
       "      <td>NaN</td>\n",
       "      <td>NaN</td>\n",
       "      <td>10271.0</td>\n",
       "      <td>156.317519</td>\n",
       "      <td>10001.0</td>\n",
       "      <td>10136.0</td>\n",
       "      <td>10271.0</td>\n",
       "      <td>10406.0</td>\n",
       "      <td>10541.0</td>\n",
       "    </tr>\n",
       "    <tr>\n",
       "      <th>PCOS (Y/N)</th>\n",
       "      <td>541.0</td>\n",
       "      <td>NaN</td>\n",
       "      <td>NaN</td>\n",
       "      <td>NaN</td>\n",
       "      <td>0.327172</td>\n",
       "      <td>0.469615</td>\n",
       "      <td>0.0</td>\n",
       "      <td>0.0</td>\n",
       "      <td>0.0</td>\n",
       "      <td>1.0</td>\n",
       "      <td>1.0</td>\n",
       "    </tr>\n",
       "    <tr>\n",
       "      <th>I   beta-HCG(mIU/mL)</th>\n",
       "      <td>541.0</td>\n",
       "      <td>NaN</td>\n",
       "      <td>NaN</td>\n",
       "      <td>NaN</td>\n",
       "      <td>664.549235</td>\n",
       "      <td>3348.920576</td>\n",
       "      <td>1.3</td>\n",
       "      <td>1.99</td>\n",
       "      <td>20.0</td>\n",
       "      <td>297.21</td>\n",
       "      <td>32460.97</td>\n",
       "    </tr>\n",
       "    <tr>\n",
       "      <th>II    beta-HCG(mIU/mL)</th>\n",
       "      <td>541.0</td>\n",
       "      <td>NaN</td>\n",
       "      <td>NaN</td>\n",
       "      <td>NaN</td>\n",
       "      <td>238.229518</td>\n",
       "      <td>1603.826221</td>\n",
       "      <td>0.110417</td>\n",
       "      <td>1.99</td>\n",
       "      <td>1.99</td>\n",
       "      <td>97.63</td>\n",
       "      <td>25000.0</td>\n",
       "    </tr>\n",
       "    <tr>\n",
       "      <th>AMH(ng/mL)</th>\n",
       "      <td>541</td>\n",
       "      <td>301</td>\n",
       "      <td>1</td>\n",
       "      <td>9</td>\n",
       "      <td>NaN</td>\n",
       "      <td>NaN</td>\n",
       "      <td>NaN</td>\n",
       "      <td>NaN</td>\n",
       "      <td>NaN</td>\n",
       "      <td>NaN</td>\n",
       "      <td>NaN</td>\n",
       "    </tr>\n",
       "  </tbody>\n",
       "</table>\n",
       "</div>"
      ],
      "text/plain": [
       "                        count unique  top freq        mean          std  \\\n",
       "Sl. No                  541.0  NaN    NaN  NaN  271.0       156.317519    \n",
       "Patient File No.        541.0  NaN    NaN  NaN  10271.0     156.317519    \n",
       "PCOS (Y/N)              541.0  NaN    NaN  NaN  0.327172    0.469615      \n",
       "  I   beta-HCG(mIU/mL)  541.0  NaN    NaN  NaN  664.549235  3348.920576   \n",
       "II    beta-HCG(mIU/mL)  541.0  NaN    NaN  NaN  238.229518  1603.826221   \n",
       "AMH(ng/mL)              541    301    1    9    NaN         NaN           \n",
       "\n",
       "                             min      25%      50%      75%       max  \n",
       "Sl. No                  1.0       136.0    271.0    406.0    541.0     \n",
       "Patient File No.        10001.0   10136.0  10271.0  10406.0  10541.0   \n",
       "PCOS (Y/N)              0.0       0.0      0.0      1.0      1.0       \n",
       "  I   beta-HCG(mIU/mL)  1.3       1.99     20.0     297.21   32460.97  \n",
       "II    beta-HCG(mIU/mL)  0.110417  1.99     1.99     97.63    25000.0   \n",
       "AMH(ng/mL)              NaN       NaN      NaN      NaN      NaN       "
      ]
     },
     "execution_count": 4,
     "metadata": {},
     "output_type": "execute_result"
    }
   ],
   "source": [
    "PCOS_inf.describe(exclude = 'category').T"
   ]
  },
  {
   "cell_type": "code",
   "execution_count": 5,
   "id": "fbe49831",
   "metadata": {},
   "outputs": [
    {
     "data": {
      "text/html": [
       "<div>\n",
       "<style scoped>\n",
       "    .dataframe tbody tr th:only-of-type {\n",
       "        vertical-align: middle;\n",
       "    }\n",
       "\n",
       "    .dataframe tbody tr th {\n",
       "        vertical-align: top;\n",
       "    }\n",
       "\n",
       "    .dataframe thead th {\n",
       "        text-align: right;\n",
       "    }\n",
       "</style>\n",
       "<table border=\"1\" class=\"dataframe\">\n",
       "  <thead>\n",
       "    <tr style=\"text-align: right;\">\n",
       "      <th></th>\n",
       "      <th>count</th>\n",
       "      <th>unique</th>\n",
       "      <th>top</th>\n",
       "      <th>freq</th>\n",
       "      <th>mean</th>\n",
       "      <th>std</th>\n",
       "      <th>min</th>\n",
       "      <th>25%</th>\n",
       "      <th>50%</th>\n",
       "      <th>75%</th>\n",
       "      <th>max</th>\n",
       "    </tr>\n",
       "  </thead>\n",
       "  <tbody>\n",
       "    <tr>\n",
       "      <th>Sl. No</th>\n",
       "      <td>541.0</td>\n",
       "      <td>NaN</td>\n",
       "      <td>NaN</td>\n",
       "      <td>NaN</td>\n",
       "      <td>271.0</td>\n",
       "      <td>156.317519</td>\n",
       "      <td>1.0</td>\n",
       "      <td>136.0</td>\n",
       "      <td>271.0</td>\n",
       "      <td>406.0</td>\n",
       "      <td>541.0</td>\n",
       "    </tr>\n",
       "    <tr>\n",
       "      <th>Patient File No.</th>\n",
       "      <td>541.0</td>\n",
       "      <td>NaN</td>\n",
       "      <td>NaN</td>\n",
       "      <td>NaN</td>\n",
       "      <td>271.0</td>\n",
       "      <td>156.317519</td>\n",
       "      <td>1.0</td>\n",
       "      <td>136.0</td>\n",
       "      <td>271.0</td>\n",
       "      <td>406.0</td>\n",
       "      <td>541.0</td>\n",
       "    </tr>\n",
       "    <tr>\n",
       "      <th>PCOS (Y/N)</th>\n",
       "      <td>541.0</td>\n",
       "      <td>NaN</td>\n",
       "      <td>NaN</td>\n",
       "      <td>NaN</td>\n",
       "      <td>0.327172</td>\n",
       "      <td>0.469615</td>\n",
       "      <td>0.0</td>\n",
       "      <td>0.0</td>\n",
       "      <td>0.0</td>\n",
       "      <td>1.0</td>\n",
       "      <td>1.0</td>\n",
       "    </tr>\n",
       "    <tr>\n",
       "      <th>Age (yrs)</th>\n",
       "      <td>541.0</td>\n",
       "      <td>NaN</td>\n",
       "      <td>NaN</td>\n",
       "      <td>NaN</td>\n",
       "      <td>31.430684</td>\n",
       "      <td>5.411006</td>\n",
       "      <td>20.0</td>\n",
       "      <td>28.0</td>\n",
       "      <td>31.0</td>\n",
       "      <td>35.0</td>\n",
       "      <td>48.0</td>\n",
       "    </tr>\n",
       "    <tr>\n",
       "      <th>Weight (Kg)</th>\n",
       "      <td>541.0</td>\n",
       "      <td>NaN</td>\n",
       "      <td>NaN</td>\n",
       "      <td>NaN</td>\n",
       "      <td>59.637153</td>\n",
       "      <td>11.028287</td>\n",
       "      <td>31.0</td>\n",
       "      <td>52.0</td>\n",
       "      <td>59.0</td>\n",
       "      <td>65.0</td>\n",
       "      <td>108.0</td>\n",
       "    </tr>\n",
       "    <tr>\n",
       "      <th>Height(Cm)</th>\n",
       "      <td>541.0</td>\n",
       "      <td>NaN</td>\n",
       "      <td>NaN</td>\n",
       "      <td>NaN</td>\n",
       "      <td>156.484835</td>\n",
       "      <td>6.033545</td>\n",
       "      <td>137.0</td>\n",
       "      <td>152.0</td>\n",
       "      <td>156.0</td>\n",
       "      <td>160.0</td>\n",
       "      <td>180.0</td>\n",
       "    </tr>\n",
       "    <tr>\n",
       "      <th>BMI</th>\n",
       "      <td>541.0</td>\n",
       "      <td>NaN</td>\n",
       "      <td>NaN</td>\n",
       "      <td>NaN</td>\n",
       "      <td>24.311285</td>\n",
       "      <td>4.056399</td>\n",
       "      <td>12.417882</td>\n",
       "      <td>21.641274</td>\n",
       "      <td>24.238227</td>\n",
       "      <td>26.634958</td>\n",
       "      <td>38.9</td>\n",
       "    </tr>\n",
       "    <tr>\n",
       "      <th>Blood Group</th>\n",
       "      <td>541.0</td>\n",
       "      <td>NaN</td>\n",
       "      <td>NaN</td>\n",
       "      <td>NaN</td>\n",
       "      <td>13.802218</td>\n",
       "      <td>1.840812</td>\n",
       "      <td>11.0</td>\n",
       "      <td>13.0</td>\n",
       "      <td>14.0</td>\n",
       "      <td>15.0</td>\n",
       "      <td>18.0</td>\n",
       "    </tr>\n",
       "    <tr>\n",
       "      <th>Pulse rate(bpm)</th>\n",
       "      <td>541.0</td>\n",
       "      <td>NaN</td>\n",
       "      <td>NaN</td>\n",
       "      <td>NaN</td>\n",
       "      <td>73.247689</td>\n",
       "      <td>4.430285</td>\n",
       "      <td>13.0</td>\n",
       "      <td>72.0</td>\n",
       "      <td>72.0</td>\n",
       "      <td>74.0</td>\n",
       "      <td>82.0</td>\n",
       "    </tr>\n",
       "    <tr>\n",
       "      <th>RR (breaths/min)</th>\n",
       "      <td>541.0</td>\n",
       "      <td>NaN</td>\n",
       "      <td>NaN</td>\n",
       "      <td>NaN</td>\n",
       "      <td>19.243993</td>\n",
       "      <td>1.688629</td>\n",
       "      <td>16.0</td>\n",
       "      <td>18.0</td>\n",
       "      <td>18.0</td>\n",
       "      <td>20.0</td>\n",
       "      <td>28.0</td>\n",
       "    </tr>\n",
       "    <tr>\n",
       "      <th>Hb(g/dl)</th>\n",
       "      <td>541.0</td>\n",
       "      <td>NaN</td>\n",
       "      <td>NaN</td>\n",
       "      <td>NaN</td>\n",
       "      <td>11.160037</td>\n",
       "      <td>0.866904</td>\n",
       "      <td>8.5</td>\n",
       "      <td>10.5</td>\n",
       "      <td>11.0</td>\n",
       "      <td>11.7</td>\n",
       "      <td>14.8</td>\n",
       "    </tr>\n",
       "    <tr>\n",
       "      <th>Cycle(R/I)</th>\n",
       "      <td>541.0</td>\n",
       "      <td>NaN</td>\n",
       "      <td>NaN</td>\n",
       "      <td>NaN</td>\n",
       "      <td>2.560074</td>\n",
       "      <td>0.90195</td>\n",
       "      <td>2.0</td>\n",
       "      <td>2.0</td>\n",
       "      <td>2.0</td>\n",
       "      <td>4.0</td>\n",
       "      <td>5.0</td>\n",
       "    </tr>\n",
       "    <tr>\n",
       "      <th>Cycle length(days)</th>\n",
       "      <td>541.0</td>\n",
       "      <td>NaN</td>\n",
       "      <td>NaN</td>\n",
       "      <td>NaN</td>\n",
       "      <td>4.94085</td>\n",
       "      <td>1.49202</td>\n",
       "      <td>0.0</td>\n",
       "      <td>4.0</td>\n",
       "      <td>5.0</td>\n",
       "      <td>5.0</td>\n",
       "      <td>12.0</td>\n",
       "    </tr>\n",
       "    <tr>\n",
       "      <th>Marraige Status (Yrs)</th>\n",
       "      <td>540.0</td>\n",
       "      <td>NaN</td>\n",
       "      <td>NaN</td>\n",
       "      <td>NaN</td>\n",
       "      <td>7.680926</td>\n",
       "      <td>4.803835</td>\n",
       "      <td>0.0</td>\n",
       "      <td>4.0</td>\n",
       "      <td>7.0</td>\n",
       "      <td>10.0</td>\n",
       "      <td>30.0</td>\n",
       "    </tr>\n",
       "    <tr>\n",
       "      <th>Pregnant(Y/N)</th>\n",
       "      <td>541.0</td>\n",
       "      <td>NaN</td>\n",
       "      <td>NaN</td>\n",
       "      <td>NaN</td>\n",
       "      <td>0.380776</td>\n",
       "      <td>0.486027</td>\n",
       "      <td>0.0</td>\n",
       "      <td>0.0</td>\n",
       "      <td>0.0</td>\n",
       "      <td>1.0</td>\n",
       "      <td>1.0</td>\n",
       "    </tr>\n",
       "    <tr>\n",
       "      <th>No. of aborptions</th>\n",
       "      <td>541.0</td>\n",
       "      <td>NaN</td>\n",
       "      <td>NaN</td>\n",
       "      <td>NaN</td>\n",
       "      <td>0.288355</td>\n",
       "      <td>0.692575</td>\n",
       "      <td>0.0</td>\n",
       "      <td>0.0</td>\n",
       "      <td>0.0</td>\n",
       "      <td>0.0</td>\n",
       "      <td>5.0</td>\n",
       "    </tr>\n",
       "    <tr>\n",
       "      <th>I   beta-HCG(mIU/mL)</th>\n",
       "      <td>541.0</td>\n",
       "      <td>NaN</td>\n",
       "      <td>NaN</td>\n",
       "      <td>NaN</td>\n",
       "      <td>664.549235</td>\n",
       "      <td>3348.920576</td>\n",
       "      <td>1.3</td>\n",
       "      <td>1.99</td>\n",
       "      <td>20.0</td>\n",
       "      <td>297.21</td>\n",
       "      <td>32460.97</td>\n",
       "    </tr>\n",
       "    <tr>\n",
       "      <th>II    beta-HCG(mIU/mL)</th>\n",
       "      <td>541.0</td>\n",
       "      <td>203.0</td>\n",
       "      <td>1.99</td>\n",
       "      <td>307.0</td>\n",
       "      <td>NaN</td>\n",
       "      <td>NaN</td>\n",
       "      <td>NaN</td>\n",
       "      <td>NaN</td>\n",
       "      <td>NaN</td>\n",
       "      <td>NaN</td>\n",
       "      <td>NaN</td>\n",
       "    </tr>\n",
       "    <tr>\n",
       "      <th>FSH(mIU/mL)</th>\n",
       "      <td>541.0</td>\n",
       "      <td>NaN</td>\n",
       "      <td>NaN</td>\n",
       "      <td>NaN</td>\n",
       "      <td>14.601832</td>\n",
       "      <td>217.022081</td>\n",
       "      <td>0.21</td>\n",
       "      <td>3.3</td>\n",
       "      <td>4.85</td>\n",
       "      <td>6.41</td>\n",
       "      <td>5052.0</td>\n",
       "    </tr>\n",
       "    <tr>\n",
       "      <th>LH(mIU/mL)</th>\n",
       "      <td>541.0</td>\n",
       "      <td>NaN</td>\n",
       "      <td>NaN</td>\n",
       "      <td>NaN</td>\n",
       "      <td>6.469919</td>\n",
       "      <td>86.673255</td>\n",
       "      <td>0.02</td>\n",
       "      <td>1.02</td>\n",
       "      <td>2.3</td>\n",
       "      <td>3.68</td>\n",
       "      <td>2018.0</td>\n",
       "    </tr>\n",
       "    <tr>\n",
       "      <th>FSH/LH</th>\n",
       "      <td>541.0</td>\n",
       "      <td>NaN</td>\n",
       "      <td>NaN</td>\n",
       "      <td>NaN</td>\n",
       "      <td>6.904831</td>\n",
       "      <td>60.691822</td>\n",
       "      <td>0.002146</td>\n",
       "      <td>1.416244</td>\n",
       "      <td>2.169231</td>\n",
       "      <td>3.959184</td>\n",
       "      <td>1372.826087</td>\n",
       "    </tr>\n",
       "    <tr>\n",
       "      <th>Hip(inch)</th>\n",
       "      <td>541.0</td>\n",
       "      <td>NaN</td>\n",
       "      <td>NaN</td>\n",
       "      <td>NaN</td>\n",
       "      <td>37.992606</td>\n",
       "      <td>3.96792</td>\n",
       "      <td>26.0</td>\n",
       "      <td>36.0</td>\n",
       "      <td>38.0</td>\n",
       "      <td>40.0</td>\n",
       "      <td>48.0</td>\n",
       "    </tr>\n",
       "    <tr>\n",
       "      <th>Waist(inch)</th>\n",
       "      <td>541.0</td>\n",
       "      <td>NaN</td>\n",
       "      <td>NaN</td>\n",
       "      <td>NaN</td>\n",
       "      <td>33.841035</td>\n",
       "      <td>3.596894</td>\n",
       "      <td>24.0</td>\n",
       "      <td>32.0</td>\n",
       "      <td>34.0</td>\n",
       "      <td>36.0</td>\n",
       "      <td>47.0</td>\n",
       "    </tr>\n",
       "    <tr>\n",
       "      <th>Waist:Hip Ratio</th>\n",
       "      <td>541.0</td>\n",
       "      <td>NaN</td>\n",
       "      <td>NaN</td>\n",
       "      <td>NaN</td>\n",
       "      <td>0.891895</td>\n",
       "      <td>0.046326</td>\n",
       "      <td>0.755556</td>\n",
       "      <td>0.857143</td>\n",
       "      <td>0.894737</td>\n",
       "      <td>0.928571</td>\n",
       "      <td>0.979167</td>\n",
       "    </tr>\n",
       "    <tr>\n",
       "      <th>TSH (mIU/L)</th>\n",
       "      <td>541.0</td>\n",
       "      <td>NaN</td>\n",
       "      <td>NaN</td>\n",
       "      <td>NaN</td>\n",
       "      <td>2.981281</td>\n",
       "      <td>3.755532</td>\n",
       "      <td>0.04</td>\n",
       "      <td>1.48</td>\n",
       "      <td>2.26</td>\n",
       "      <td>3.57</td>\n",
       "      <td>65.0</td>\n",
       "    </tr>\n",
       "    <tr>\n",
       "      <th>AMH(ng/mL)</th>\n",
       "      <td>541.0</td>\n",
       "      <td>301.0</td>\n",
       "      <td>1.0</td>\n",
       "      <td>9.0</td>\n",
       "      <td>NaN</td>\n",
       "      <td>NaN</td>\n",
       "      <td>NaN</td>\n",
       "      <td>NaN</td>\n",
       "      <td>NaN</td>\n",
       "      <td>NaN</td>\n",
       "      <td>NaN</td>\n",
       "    </tr>\n",
       "    <tr>\n",
       "      <th>PRL(ng/mL)</th>\n",
       "      <td>541.0</td>\n",
       "      <td>NaN</td>\n",
       "      <td>NaN</td>\n",
       "      <td>NaN</td>\n",
       "      <td>24.321497</td>\n",
       "      <td>14.970391</td>\n",
       "      <td>0.4</td>\n",
       "      <td>14.52</td>\n",
       "      <td>21.92</td>\n",
       "      <td>29.89</td>\n",
       "      <td>128.24</td>\n",
       "    </tr>\n",
       "    <tr>\n",
       "      <th>Vit D3 (ng/mL)</th>\n",
       "      <td>541.0</td>\n",
       "      <td>NaN</td>\n",
       "      <td>NaN</td>\n",
       "      <td>NaN</td>\n",
       "      <td>49.915874</td>\n",
       "      <td>346.206599</td>\n",
       "      <td>0.0</td>\n",
       "      <td>20.8</td>\n",
       "      <td>25.9</td>\n",
       "      <td>34.5</td>\n",
       "      <td>6014.66</td>\n",
       "    </tr>\n",
       "    <tr>\n",
       "      <th>PRG(ng/mL)</th>\n",
       "      <td>541.0</td>\n",
       "      <td>NaN</td>\n",
       "      <td>NaN</td>\n",
       "      <td>NaN</td>\n",
       "      <td>0.610945</td>\n",
       "      <td>3.808853</td>\n",
       "      <td>0.047</td>\n",
       "      <td>0.25</td>\n",
       "      <td>0.32</td>\n",
       "      <td>0.45</td>\n",
       "      <td>85.0</td>\n",
       "    </tr>\n",
       "    <tr>\n",
       "      <th>RBS(mg/dl)</th>\n",
       "      <td>541.0</td>\n",
       "      <td>NaN</td>\n",
       "      <td>NaN</td>\n",
       "      <td>NaN</td>\n",
       "      <td>99.83586</td>\n",
       "      <td>18.559298</td>\n",
       "      <td>60.0</td>\n",
       "      <td>92.0</td>\n",
       "      <td>100.0</td>\n",
       "      <td>107.0</td>\n",
       "      <td>350.0</td>\n",
       "    </tr>\n",
       "    <tr>\n",
       "      <th>Weight gain(Y/N)</th>\n",
       "      <td>541.0</td>\n",
       "      <td>NaN</td>\n",
       "      <td>NaN</td>\n",
       "      <td>NaN</td>\n",
       "      <td>0.377079</td>\n",
       "      <td>0.485104</td>\n",
       "      <td>0.0</td>\n",
       "      <td>0.0</td>\n",
       "      <td>0.0</td>\n",
       "      <td>1.0</td>\n",
       "      <td>1.0</td>\n",
       "    </tr>\n",
       "    <tr>\n",
       "      <th>hair growth(Y/N)</th>\n",
       "      <td>541.0</td>\n",
       "      <td>NaN</td>\n",
       "      <td>NaN</td>\n",
       "      <td>NaN</td>\n",
       "      <td>0.273567</td>\n",
       "      <td>0.446202</td>\n",
       "      <td>0.0</td>\n",
       "      <td>0.0</td>\n",
       "      <td>0.0</td>\n",
       "      <td>1.0</td>\n",
       "      <td>1.0</td>\n",
       "    </tr>\n",
       "    <tr>\n",
       "      <th>Skin darkening (Y/N)</th>\n",
       "      <td>541.0</td>\n",
       "      <td>NaN</td>\n",
       "      <td>NaN</td>\n",
       "      <td>NaN</td>\n",
       "      <td>0.306839</td>\n",
       "      <td>0.461609</td>\n",
       "      <td>0.0</td>\n",
       "      <td>0.0</td>\n",
       "      <td>0.0</td>\n",
       "      <td>1.0</td>\n",
       "      <td>1.0</td>\n",
       "    </tr>\n",
       "    <tr>\n",
       "      <th>Hair loss(Y/N)</th>\n",
       "      <td>541.0</td>\n",
       "      <td>NaN</td>\n",
       "      <td>NaN</td>\n",
       "      <td>NaN</td>\n",
       "      <td>0.452865</td>\n",
       "      <td>0.498234</td>\n",
       "      <td>0.0</td>\n",
       "      <td>0.0</td>\n",
       "      <td>0.0</td>\n",
       "      <td>1.0</td>\n",
       "      <td>1.0</td>\n",
       "    </tr>\n",
       "    <tr>\n",
       "      <th>Pimples(Y/N)</th>\n",
       "      <td>541.0</td>\n",
       "      <td>NaN</td>\n",
       "      <td>NaN</td>\n",
       "      <td>NaN</td>\n",
       "      <td>0.489834</td>\n",
       "      <td>0.500359</td>\n",
       "      <td>0.0</td>\n",
       "      <td>0.0</td>\n",
       "      <td>0.0</td>\n",
       "      <td>1.0</td>\n",
       "      <td>1.0</td>\n",
       "    </tr>\n",
       "    <tr>\n",
       "      <th>Fast food (Y/N)</th>\n",
       "      <td>540.0</td>\n",
       "      <td>NaN</td>\n",
       "      <td>NaN</td>\n",
       "      <td>NaN</td>\n",
       "      <td>0.514815</td>\n",
       "      <td>0.500244</td>\n",
       "      <td>0.0</td>\n",
       "      <td>0.0</td>\n",
       "      <td>1.0</td>\n",
       "      <td>1.0</td>\n",
       "      <td>1.0</td>\n",
       "    </tr>\n",
       "    <tr>\n",
       "      <th>Reg.Exercise(Y/N)</th>\n",
       "      <td>541.0</td>\n",
       "      <td>NaN</td>\n",
       "      <td>NaN</td>\n",
       "      <td>NaN</td>\n",
       "      <td>0.247689</td>\n",
       "      <td>0.43207</td>\n",
       "      <td>0.0</td>\n",
       "      <td>0.0</td>\n",
       "      <td>0.0</td>\n",
       "      <td>0.0</td>\n",
       "      <td>1.0</td>\n",
       "    </tr>\n",
       "    <tr>\n",
       "      <th>BP _Systolic (mmHg)</th>\n",
       "      <td>541.0</td>\n",
       "      <td>NaN</td>\n",
       "      <td>NaN</td>\n",
       "      <td>NaN</td>\n",
       "      <td>114.661738</td>\n",
       "      <td>7.384556</td>\n",
       "      <td>12.0</td>\n",
       "      <td>110.0</td>\n",
       "      <td>110.0</td>\n",
       "      <td>120.0</td>\n",
       "      <td>140.0</td>\n",
       "    </tr>\n",
       "    <tr>\n",
       "      <th>BP _Diastolic (mmHg)</th>\n",
       "      <td>541.0</td>\n",
       "      <td>NaN</td>\n",
       "      <td>NaN</td>\n",
       "      <td>NaN</td>\n",
       "      <td>76.927911</td>\n",
       "      <td>5.574112</td>\n",
       "      <td>8.0</td>\n",
       "      <td>70.0</td>\n",
       "      <td>80.0</td>\n",
       "      <td>80.0</td>\n",
       "      <td>100.0</td>\n",
       "    </tr>\n",
       "    <tr>\n",
       "      <th>Follicle No. (L)</th>\n",
       "      <td>541.0</td>\n",
       "      <td>NaN</td>\n",
       "      <td>NaN</td>\n",
       "      <td>NaN</td>\n",
       "      <td>6.12939</td>\n",
       "      <td>4.229294</td>\n",
       "      <td>0.0</td>\n",
       "      <td>3.0</td>\n",
       "      <td>5.0</td>\n",
       "      <td>9.0</td>\n",
       "      <td>22.0</td>\n",
       "    </tr>\n",
       "    <tr>\n",
       "      <th>Follicle No. (R)</th>\n",
       "      <td>541.0</td>\n",
       "      <td>NaN</td>\n",
       "      <td>NaN</td>\n",
       "      <td>NaN</td>\n",
       "      <td>6.641405</td>\n",
       "      <td>4.436889</td>\n",
       "      <td>0.0</td>\n",
       "      <td>3.0</td>\n",
       "      <td>6.0</td>\n",
       "      <td>10.0</td>\n",
       "      <td>20.0</td>\n",
       "    </tr>\n",
       "    <tr>\n",
       "      <th>Avg. F size (L) (mm)</th>\n",
       "      <td>541.0</td>\n",
       "      <td>NaN</td>\n",
       "      <td>NaN</td>\n",
       "      <td>NaN</td>\n",
       "      <td>15.018115</td>\n",
       "      <td>3.566839</td>\n",
       "      <td>0.0</td>\n",
       "      <td>13.0</td>\n",
       "      <td>15.0</td>\n",
       "      <td>18.0</td>\n",
       "      <td>24.0</td>\n",
       "    </tr>\n",
       "    <tr>\n",
       "      <th>Avg. F size (R) (mm)</th>\n",
       "      <td>541.0</td>\n",
       "      <td>NaN</td>\n",
       "      <td>NaN</td>\n",
       "      <td>NaN</td>\n",
       "      <td>15.451701</td>\n",
       "      <td>3.318848</td>\n",
       "      <td>0.0</td>\n",
       "      <td>13.0</td>\n",
       "      <td>16.0</td>\n",
       "      <td>18.0</td>\n",
       "      <td>24.0</td>\n",
       "    </tr>\n",
       "    <tr>\n",
       "      <th>Endometrium (mm)</th>\n",
       "      <td>541.0</td>\n",
       "      <td>NaN</td>\n",
       "      <td>NaN</td>\n",
       "      <td>NaN</td>\n",
       "      <td>8.475915</td>\n",
       "      <td>2.165381</td>\n",
       "      <td>0.0</td>\n",
       "      <td>7.0</td>\n",
       "      <td>8.5</td>\n",
       "      <td>9.8</td>\n",
       "      <td>18.0</td>\n",
       "    </tr>\n",
       "    <tr>\n",
       "      <th>Unnamed: 44</th>\n",
       "      <td>2</td>\n",
       "      <td>2</td>\n",
       "      <td>.</td>\n",
       "      <td>1</td>\n",
       "      <td>NaN</td>\n",
       "      <td>NaN</td>\n",
       "      <td>NaN</td>\n",
       "      <td>NaN</td>\n",
       "      <td>NaN</td>\n",
       "      <td>NaN</td>\n",
       "      <td>NaN</td>\n",
       "    </tr>\n",
       "  </tbody>\n",
       "</table>\n",
       "</div>"
      ],
      "text/plain": [
       "                        count unique   top   freq        mean          std  \\\n",
       "Sl. No                  541.0  NaN    NaN   NaN    271.0       156.317519    \n",
       "Patient File No.        541.0  NaN    NaN   NaN    271.0       156.317519    \n",
       "PCOS (Y/N)              541.0  NaN    NaN   NaN    0.327172    0.469615      \n",
       " Age (yrs)              541.0  NaN    NaN   NaN    31.430684   5.411006      \n",
       "Weight (Kg)             541.0  NaN    NaN   NaN    59.637153   11.028287     \n",
       "Height(Cm)              541.0  NaN    NaN   NaN    156.484835  6.033545      \n",
       "BMI                     541.0  NaN    NaN   NaN    24.311285   4.056399      \n",
       "Blood Group             541.0  NaN    NaN   NaN    13.802218   1.840812      \n",
       "Pulse rate(bpm)         541.0  NaN    NaN   NaN    73.247689   4.430285      \n",
       "RR (breaths/min)        541.0  NaN    NaN   NaN    19.243993   1.688629      \n",
       "Hb(g/dl)                541.0  NaN    NaN   NaN    11.160037   0.866904      \n",
       "Cycle(R/I)              541.0  NaN    NaN   NaN    2.560074    0.90195       \n",
       "Cycle length(days)      541.0  NaN    NaN   NaN    4.94085     1.49202       \n",
       "Marraige Status (Yrs)   540.0  NaN    NaN   NaN    7.680926    4.803835      \n",
       "Pregnant(Y/N)           541.0  NaN    NaN   NaN    0.380776    0.486027      \n",
       "No. of aborptions       541.0  NaN    NaN   NaN    0.288355    0.692575      \n",
       "  I   beta-HCG(mIU/mL)  541.0  NaN    NaN   NaN    664.549235  3348.920576   \n",
       "II    beta-HCG(mIU/mL)  541.0  203.0  1.99  307.0  NaN         NaN           \n",
       "FSH(mIU/mL)             541.0  NaN    NaN   NaN    14.601832   217.022081    \n",
       "LH(mIU/mL)              541.0  NaN    NaN   NaN    6.469919    86.673255     \n",
       "FSH/LH                  541.0  NaN    NaN   NaN    6.904831    60.691822     \n",
       "Hip(inch)               541.0  NaN    NaN   NaN    37.992606   3.96792       \n",
       "Waist(inch)             541.0  NaN    NaN   NaN    33.841035   3.596894      \n",
       "Waist:Hip Ratio         541.0  NaN    NaN   NaN    0.891895    0.046326      \n",
       "TSH (mIU/L)             541.0  NaN    NaN   NaN    2.981281    3.755532      \n",
       "AMH(ng/mL)              541.0  301.0  1.0   9.0    NaN         NaN           \n",
       "PRL(ng/mL)              541.0  NaN    NaN   NaN    24.321497   14.970391     \n",
       "Vit D3 (ng/mL)          541.0  NaN    NaN   NaN    49.915874   346.206599    \n",
       "PRG(ng/mL)              541.0  NaN    NaN   NaN    0.610945    3.808853      \n",
       "RBS(mg/dl)              541.0  NaN    NaN   NaN    99.83586    18.559298     \n",
       "Weight gain(Y/N)        541.0  NaN    NaN   NaN    0.377079    0.485104      \n",
       "hair growth(Y/N)        541.0  NaN    NaN   NaN    0.273567    0.446202      \n",
       "Skin darkening (Y/N)    541.0  NaN    NaN   NaN    0.306839    0.461609      \n",
       "Hair loss(Y/N)          541.0  NaN    NaN   NaN    0.452865    0.498234      \n",
       "Pimples(Y/N)            541.0  NaN    NaN   NaN    0.489834    0.500359      \n",
       "Fast food (Y/N)         540.0  NaN    NaN   NaN    0.514815    0.500244      \n",
       "Reg.Exercise(Y/N)       541.0  NaN    NaN   NaN    0.247689    0.43207       \n",
       "BP _Systolic (mmHg)     541.0  NaN    NaN   NaN    114.661738  7.384556      \n",
       "BP _Diastolic (mmHg)    541.0  NaN    NaN   NaN    76.927911   5.574112      \n",
       "Follicle No. (L)        541.0  NaN    NaN   NaN    6.12939     4.229294      \n",
       "Follicle No. (R)        541.0  NaN    NaN   NaN    6.641405    4.436889      \n",
       "Avg. F size (L) (mm)    541.0  NaN    NaN   NaN    15.018115   3.566839      \n",
       "Avg. F size (R) (mm)    541.0  NaN    NaN   NaN    15.451701   3.318848      \n",
       "Endometrium (mm)        541.0  NaN    NaN   NaN    8.475915    2.165381      \n",
       "Unnamed: 44             2      2      .     1      NaN         NaN           \n",
       "\n",
       "                              min        25%        50%        75%  \\\n",
       "Sl. No                  1.0        136.0      271.0      406.0       \n",
       "Patient File No.        1.0        136.0      271.0      406.0       \n",
       "PCOS (Y/N)              0.0        0.0        0.0        1.0         \n",
       " Age (yrs)              20.0       28.0       31.0       35.0        \n",
       "Weight (Kg)             31.0       52.0       59.0       65.0        \n",
       "Height(Cm)              137.0      152.0      156.0      160.0       \n",
       "BMI                     12.417882  21.641274  24.238227  26.634958   \n",
       "Blood Group             11.0       13.0       14.0       15.0        \n",
       "Pulse rate(bpm)         13.0       72.0       72.0       74.0        \n",
       "RR (breaths/min)        16.0       18.0       18.0       20.0        \n",
       "Hb(g/dl)                8.5        10.5       11.0       11.7        \n",
       "Cycle(R/I)              2.0        2.0        2.0        4.0         \n",
       "Cycle length(days)      0.0        4.0        5.0        5.0         \n",
       "Marraige Status (Yrs)   0.0        4.0        7.0        10.0        \n",
       "Pregnant(Y/N)           0.0        0.0        0.0        1.0         \n",
       "No. of aborptions       0.0        0.0        0.0        0.0         \n",
       "  I   beta-HCG(mIU/mL)  1.3        1.99       20.0       297.21      \n",
       "II    beta-HCG(mIU/mL)  NaN        NaN        NaN        NaN         \n",
       "FSH(mIU/mL)             0.21       3.3        4.85       6.41        \n",
       "LH(mIU/mL)              0.02       1.02       2.3        3.68        \n",
       "FSH/LH                  0.002146   1.416244   2.169231   3.959184    \n",
       "Hip(inch)               26.0       36.0       38.0       40.0        \n",
       "Waist(inch)             24.0       32.0       34.0       36.0        \n",
       "Waist:Hip Ratio         0.755556   0.857143   0.894737   0.928571    \n",
       "TSH (mIU/L)             0.04       1.48       2.26       3.57        \n",
       "AMH(ng/mL)              NaN        NaN        NaN        NaN         \n",
       "PRL(ng/mL)              0.4        14.52      21.92      29.89       \n",
       "Vit D3 (ng/mL)          0.0        20.8       25.9       34.5        \n",
       "PRG(ng/mL)              0.047      0.25       0.32       0.45        \n",
       "RBS(mg/dl)              60.0       92.0       100.0      107.0       \n",
       "Weight gain(Y/N)        0.0        0.0        0.0        1.0         \n",
       "hair growth(Y/N)        0.0        0.0        0.0        1.0         \n",
       "Skin darkening (Y/N)    0.0        0.0        0.0        1.0         \n",
       "Hair loss(Y/N)          0.0        0.0        0.0        1.0         \n",
       "Pimples(Y/N)            0.0        0.0        0.0        1.0         \n",
       "Fast food (Y/N)         0.0        0.0        1.0        1.0         \n",
       "Reg.Exercise(Y/N)       0.0        0.0        0.0        0.0         \n",
       "BP _Systolic (mmHg)     12.0       110.0      110.0      120.0       \n",
       "BP _Diastolic (mmHg)    8.0        70.0       80.0       80.0        \n",
       "Follicle No. (L)        0.0        3.0        5.0        9.0         \n",
       "Follicle No. (R)        0.0        3.0        6.0        10.0        \n",
       "Avg. F size (L) (mm)    0.0        13.0       15.0       18.0        \n",
       "Avg. F size (R) (mm)    0.0        13.0       16.0       18.0        \n",
       "Endometrium (mm)        0.0        7.0        8.5        9.8         \n",
       "Unnamed: 44             NaN        NaN        NaN        NaN         \n",
       "\n",
       "                                max  \n",
       "Sl. No                  541.0        \n",
       "Patient File No.        541.0        \n",
       "PCOS (Y/N)              1.0          \n",
       " Age (yrs)              48.0         \n",
       "Weight (Kg)             108.0        \n",
       "Height(Cm)              180.0        \n",
       "BMI                     38.9         \n",
       "Blood Group             18.0         \n",
       "Pulse rate(bpm)         82.0         \n",
       "RR (breaths/min)        28.0         \n",
       "Hb(g/dl)                14.8         \n",
       "Cycle(R/I)              5.0          \n",
       "Cycle length(days)      12.0         \n",
       "Marraige Status (Yrs)   30.0         \n",
       "Pregnant(Y/N)           1.0          \n",
       "No. of aborptions       5.0          \n",
       "  I   beta-HCG(mIU/mL)  32460.97     \n",
       "II    beta-HCG(mIU/mL)  NaN          \n",
       "FSH(mIU/mL)             5052.0       \n",
       "LH(mIU/mL)              2018.0       \n",
       "FSH/LH                  1372.826087  \n",
       "Hip(inch)               48.0         \n",
       "Waist(inch)             47.0         \n",
       "Waist:Hip Ratio         0.979167     \n",
       "TSH (mIU/L)             65.0         \n",
       "AMH(ng/mL)              NaN          \n",
       "PRL(ng/mL)              128.24       \n",
       "Vit D3 (ng/mL)          6014.66      \n",
       "PRG(ng/mL)              85.0         \n",
       "RBS(mg/dl)              350.0        \n",
       "Weight gain(Y/N)        1.0          \n",
       "hair growth(Y/N)        1.0          \n",
       "Skin darkening (Y/N)    1.0          \n",
       "Hair loss(Y/N)          1.0          \n",
       "Pimples(Y/N)            1.0          \n",
       "Fast food (Y/N)         1.0          \n",
       "Reg.Exercise(Y/N)       1.0          \n",
       "BP _Systolic (mmHg)     140.0        \n",
       "BP _Diastolic (mmHg)    100.0        \n",
       "Follicle No. (L)        22.0         \n",
       "Follicle No. (R)        20.0         \n",
       "Avg. F size (L) (mm)    24.0         \n",
       "Avg. F size (R) (mm)    24.0         \n",
       "Endometrium (mm)        18.0         \n",
       "Unnamed: 44             NaN          "
      ]
     },
     "execution_count": 5,
     "metadata": {},
     "output_type": "execute_result"
    }
   ],
   "source": [
    "PCOS_woinf.describe(exclude = 'category').T"
   ]
  },
  {
   "cell_type": "markdown",
   "id": "9686c275",
   "metadata": {},
   "source": [
    "First data frame `PCOS_woinf` without infertility has 541 rows and 45 columns, but with an `Unnamed: 44` column. This column will need to be explored and possibly removed."
   ]
  },
  {
   "cell_type": "code",
   "execution_count": 6,
   "id": "e667a219",
   "metadata": {
    "scrolled": false
   },
   "outputs": [
    {
     "data": {
      "text/plain": [
       "(541, 45)"
      ]
     },
     "execution_count": 6,
     "metadata": {},
     "output_type": "execute_result"
    }
   ],
   "source": [
    "PCOS_woinf.shape"
   ]
  },
  {
   "cell_type": "markdown",
   "id": "766da45d",
   "metadata": {},
   "source": [
    "Second data frame `PCOS_inf` with only infertility records has 541 records and 6 columns."
   ]
  },
  {
   "cell_type": "code",
   "execution_count": 7,
   "id": "59202adf",
   "metadata": {},
   "outputs": [
    {
     "data": {
      "text/plain": [
       "(541, 6)"
      ]
     },
     "execution_count": 7,
     "metadata": {},
     "output_type": "execute_result"
    }
   ],
   "source": [
    "PCOS_inf.shape"
   ]
  },
  {
   "cell_type": "code",
   "execution_count": 8,
   "id": "679999ae",
   "metadata": {},
   "outputs": [
    {
     "data": {
      "text/plain": [
       "<bound method Series.unique of 0      NaN\n",
       "1      NaN\n",
       "2      NaN\n",
       "3      NaN\n",
       "4      NaN\n",
       "      ... \n",
       "536    NaN\n",
       "537    NaN\n",
       "538    NaN\n",
       "539    NaN\n",
       "540    NaN\n",
       "Name: Unnamed: 44, Length: 541, dtype: object>"
      ]
     },
     "execution_count": 8,
     "metadata": {},
     "output_type": "execute_result"
    }
   ],
   "source": [
    "PCOS_woinf[\"Unnamed: 44\"].unique"
   ]
  },
  {
   "cell_type": "markdown",
   "id": "e52739b7",
   "metadata": {},
   "source": [
    "Observations:\n",
    "\n",
    "- The `PCOS_woinf` has multiple records with `NaN` due to what looks like a formatting issue in the Comma Seperated Value (CSV) file that was imported as a DataFrame. We will need to drop the `NaN` values from these rows. "
   ]
  },
  {
   "cell_type": "code",
   "execution_count": 9,
   "id": "5dd74954",
   "metadata": {
    "scrolled": true
   },
   "outputs": [
    {
     "data": {
      "text/html": [
       "<div>\n",
       "<style scoped>\n",
       "    .dataframe tbody tr th:only-of-type {\n",
       "        vertical-align: middle;\n",
       "    }\n",
       "\n",
       "    .dataframe tbody tr th {\n",
       "        vertical-align: top;\n",
       "    }\n",
       "\n",
       "    .dataframe thead th {\n",
       "        text-align: right;\n",
       "    }\n",
       "</style>\n",
       "<table border=\"1\" class=\"dataframe\">\n",
       "  <thead>\n",
       "    <tr style=\"text-align: right;\">\n",
       "      <th></th>\n",
       "      <th>Sl. No</th>\n",
       "      <th>Patient File No.</th>\n",
       "      <th>PCOS (Y/N)</th>\n",
       "      <th>Age (yrs)</th>\n",
       "      <th>Weight (Kg)</th>\n",
       "      <th>Height(Cm)</th>\n",
       "      <th>BMI</th>\n",
       "      <th>Blood Group</th>\n",
       "      <th>Pulse rate(bpm)</th>\n",
       "      <th>RR (breaths/min)</th>\n",
       "      <th>...</th>\n",
       "      <th>Fast food (Y/N)</th>\n",
       "      <th>Reg.Exercise(Y/N)</th>\n",
       "      <th>BP _Systolic (mmHg)</th>\n",
       "      <th>BP _Diastolic (mmHg)</th>\n",
       "      <th>Follicle No. (L)</th>\n",
       "      <th>Follicle No. (R)</th>\n",
       "      <th>Avg. F size (L) (mm)</th>\n",
       "      <th>Avg. F size (R) (mm)</th>\n",
       "      <th>Endometrium (mm)</th>\n",
       "      <th>Unnamed: 44</th>\n",
       "    </tr>\n",
       "  </thead>\n",
       "  <tbody>\n",
       "    <tr>\n",
       "      <th>0</th>\n",
       "      <td>1.0</td>\n",
       "      <td>1.0</td>\n",
       "      <td>0.0</td>\n",
       "      <td>28.0</td>\n",
       "      <td>44.6</td>\n",
       "      <td>152.0</td>\n",
       "      <td>19.300000</td>\n",
       "      <td>15.0</td>\n",
       "      <td>78.0</td>\n",
       "      <td>22.0</td>\n",
       "      <td>...</td>\n",
       "      <td>1.0</td>\n",
       "      <td>0.0</td>\n",
       "      <td>110.0</td>\n",
       "      <td>80.0</td>\n",
       "      <td>3.0</td>\n",
       "      <td>3.0</td>\n",
       "      <td>18.0</td>\n",
       "      <td>18.0</td>\n",
       "      <td>8.5</td>\n",
       "      <td>NaN</td>\n",
       "    </tr>\n",
       "    <tr>\n",
       "      <th>1</th>\n",
       "      <td>2.0</td>\n",
       "      <td>2.0</td>\n",
       "      <td>0.0</td>\n",
       "      <td>36.0</td>\n",
       "      <td>65.0</td>\n",
       "      <td>161.5</td>\n",
       "      <td>24.921163</td>\n",
       "      <td>15.0</td>\n",
       "      <td>74.0</td>\n",
       "      <td>20.0</td>\n",
       "      <td>...</td>\n",
       "      <td>0.0</td>\n",
       "      <td>0.0</td>\n",
       "      <td>120.0</td>\n",
       "      <td>70.0</td>\n",
       "      <td>3.0</td>\n",
       "      <td>5.0</td>\n",
       "      <td>15.0</td>\n",
       "      <td>14.0</td>\n",
       "      <td>3.7</td>\n",
       "      <td>NaN</td>\n",
       "    </tr>\n",
       "    <tr>\n",
       "      <th>2</th>\n",
       "      <td>3.0</td>\n",
       "      <td>3.0</td>\n",
       "      <td>1.0</td>\n",
       "      <td>33.0</td>\n",
       "      <td>68.8</td>\n",
       "      <td>165.0</td>\n",
       "      <td>25.270891</td>\n",
       "      <td>11.0</td>\n",
       "      <td>72.0</td>\n",
       "      <td>18.0</td>\n",
       "      <td>...</td>\n",
       "      <td>1.0</td>\n",
       "      <td>0.0</td>\n",
       "      <td>120.0</td>\n",
       "      <td>80.0</td>\n",
       "      <td>13.0</td>\n",
       "      <td>15.0</td>\n",
       "      <td>18.0</td>\n",
       "      <td>20.0</td>\n",
       "      <td>10.0</td>\n",
       "      <td>NaN</td>\n",
       "    </tr>\n",
       "    <tr>\n",
       "      <th>3</th>\n",
       "      <td>4.0</td>\n",
       "      <td>4.0</td>\n",
       "      <td>0.0</td>\n",
       "      <td>37.0</td>\n",
       "      <td>65.0</td>\n",
       "      <td>148.0</td>\n",
       "      <td>29.674945</td>\n",
       "      <td>13.0</td>\n",
       "      <td>72.0</td>\n",
       "      <td>20.0</td>\n",
       "      <td>...</td>\n",
       "      <td>0.0</td>\n",
       "      <td>0.0</td>\n",
       "      <td>120.0</td>\n",
       "      <td>70.0</td>\n",
       "      <td>2.0</td>\n",
       "      <td>2.0</td>\n",
       "      <td>15.0</td>\n",
       "      <td>14.0</td>\n",
       "      <td>7.5</td>\n",
       "      <td>NaN</td>\n",
       "    </tr>\n",
       "    <tr>\n",
       "      <th>4</th>\n",
       "      <td>5.0</td>\n",
       "      <td>5.0</td>\n",
       "      <td>0.0</td>\n",
       "      <td>25.0</td>\n",
       "      <td>52.0</td>\n",
       "      <td>161.0</td>\n",
       "      <td>20.060954</td>\n",
       "      <td>11.0</td>\n",
       "      <td>72.0</td>\n",
       "      <td>18.0</td>\n",
       "      <td>...</td>\n",
       "      <td>0.0</td>\n",
       "      <td>0.0</td>\n",
       "      <td>120.0</td>\n",
       "      <td>80.0</td>\n",
       "      <td>3.0</td>\n",
       "      <td>4.0</td>\n",
       "      <td>16.0</td>\n",
       "      <td>14.0</td>\n",
       "      <td>7.0</td>\n",
       "      <td>NaN</td>\n",
       "    </tr>\n",
       "  </tbody>\n",
       "</table>\n",
       "<p>5 rows × 45 columns</p>\n",
       "</div>"
      ],
      "text/plain": [
       "   Sl. No  Patient File No.  PCOS (Y/N)   Age (yrs)  Weight (Kg)  Height(Cm)   \\\n",
       "0  1.0     1.0               0.0         28.0        44.6         152.0         \n",
       "1  2.0     2.0               0.0         36.0        65.0         161.5         \n",
       "2  3.0     3.0               1.0         33.0        68.8         165.0         \n",
       "3  4.0     4.0               0.0         37.0        65.0         148.0         \n",
       "4  5.0     5.0               0.0         25.0        52.0         161.0         \n",
       "\n",
       "         BMI  Blood Group  Pulse rate(bpm)   RR (breaths/min)  ...  \\\n",
       "0  19.300000  15.0         78.0              22.0              ...   \n",
       "1  24.921163  15.0         74.0              20.0              ...   \n",
       "2  25.270891  11.0         72.0              18.0              ...   \n",
       "3  29.674945  13.0         72.0              20.0              ...   \n",
       "4  20.060954  11.0         72.0              18.0              ...   \n",
       "\n",
       "   Fast food (Y/N)  Reg.Exercise(Y/N)  BP _Systolic (mmHg)  \\\n",
       "0  1.0              0.0                110.0                 \n",
       "1  0.0              0.0                120.0                 \n",
       "2  1.0              0.0                120.0                 \n",
       "3  0.0              0.0                120.0                 \n",
       "4  0.0              0.0                120.0                 \n",
       "\n",
       "   BP _Diastolic (mmHg)  Follicle No. (L)  Follicle No. (R)  \\\n",
       "0  80.0                  3.0               3.0                \n",
       "1  70.0                  3.0               5.0                \n",
       "2  80.0                  13.0              15.0               \n",
       "3  70.0                  2.0               2.0                \n",
       "4  80.0                  3.0               4.0                \n",
       "\n",
       "   Avg. F size (L) (mm) Avg. F size (R) (mm)  Endometrium (mm)  Unnamed: 44  \n",
       "0  18.0                  18.0                 8.5               NaN          \n",
       "1  15.0                  14.0                 3.7               NaN          \n",
       "2  18.0                  20.0                 10.0              NaN          \n",
       "3  15.0                  14.0                 7.5               NaN          \n",
       "4  16.0                  14.0                 7.0               NaN          \n",
       "\n",
       "[5 rows x 45 columns]"
      ]
     },
     "execution_count": 9,
     "metadata": {},
     "output_type": "execute_result"
    }
   ],
   "source": [
    "PCOS_woinf.head()"
   ]
  },
  {
   "cell_type": "code",
   "execution_count": 10,
   "id": "6934dab8",
   "metadata": {},
   "outputs": [
    {
     "data": {
      "text/html": [
       "<div>\n",
       "<style scoped>\n",
       "    .dataframe tbody tr th:only-of-type {\n",
       "        vertical-align: middle;\n",
       "    }\n",
       "\n",
       "    .dataframe tbody tr th {\n",
       "        vertical-align: top;\n",
       "    }\n",
       "\n",
       "    .dataframe thead th {\n",
       "        text-align: right;\n",
       "    }\n",
       "</style>\n",
       "<table border=\"1\" class=\"dataframe\">\n",
       "  <thead>\n",
       "    <tr style=\"text-align: right;\">\n",
       "      <th></th>\n",
       "      <th>Sl. No</th>\n",
       "      <th>Patient File No.</th>\n",
       "      <th>PCOS (Y/N)</th>\n",
       "      <th>Age (yrs)</th>\n",
       "      <th>Weight (Kg)</th>\n",
       "      <th>Height(Cm)</th>\n",
       "      <th>BMI</th>\n",
       "      <th>Blood Group</th>\n",
       "      <th>Pulse rate(bpm)</th>\n",
       "      <th>RR (breaths/min)</th>\n",
       "      <th>...</th>\n",
       "      <th>Fast food (Y/N)</th>\n",
       "      <th>Reg.Exercise(Y/N)</th>\n",
       "      <th>BP _Systolic (mmHg)</th>\n",
       "      <th>BP _Diastolic (mmHg)</th>\n",
       "      <th>Follicle No. (L)</th>\n",
       "      <th>Follicle No. (R)</th>\n",
       "      <th>Avg. F size (L) (mm)</th>\n",
       "      <th>Avg. F size (R) (mm)</th>\n",
       "      <th>Endometrium (mm)</th>\n",
       "      <th>Unnamed: 44</th>\n",
       "    </tr>\n",
       "  </thead>\n",
       "  <tbody>\n",
       "    <tr>\n",
       "      <th>536</th>\n",
       "      <td>537.0</td>\n",
       "      <td>537.0</td>\n",
       "      <td>0.0</td>\n",
       "      <td>35.0</td>\n",
       "      <td>50.0</td>\n",
       "      <td>164.592</td>\n",
       "      <td>18.5</td>\n",
       "      <td>17.0</td>\n",
       "      <td>72.0</td>\n",
       "      <td>16.0</td>\n",
       "      <td>...</td>\n",
       "      <td>0.0</td>\n",
       "      <td>0.0</td>\n",
       "      <td>110.0</td>\n",
       "      <td>70.0</td>\n",
       "      <td>1.0</td>\n",
       "      <td>0.0</td>\n",
       "      <td>17.5</td>\n",
       "      <td>10.0</td>\n",
       "      <td>6.7</td>\n",
       "      <td>NaN</td>\n",
       "    </tr>\n",
       "    <tr>\n",
       "      <th>537</th>\n",
       "      <td>538.0</td>\n",
       "      <td>538.0</td>\n",
       "      <td>0.0</td>\n",
       "      <td>30.0</td>\n",
       "      <td>63.2</td>\n",
       "      <td>158.000</td>\n",
       "      <td>25.3</td>\n",
       "      <td>15.0</td>\n",
       "      <td>72.0</td>\n",
       "      <td>18.0</td>\n",
       "      <td>...</td>\n",
       "      <td>0.0</td>\n",
       "      <td>0.0</td>\n",
       "      <td>110.0</td>\n",
       "      <td>70.0</td>\n",
       "      <td>9.0</td>\n",
       "      <td>7.0</td>\n",
       "      <td>19.0</td>\n",
       "      <td>18.0</td>\n",
       "      <td>8.2</td>\n",
       "      <td>NaN</td>\n",
       "    </tr>\n",
       "    <tr>\n",
       "      <th>538</th>\n",
       "      <td>539.0</td>\n",
       "      <td>539.0</td>\n",
       "      <td>0.0</td>\n",
       "      <td>36.0</td>\n",
       "      <td>54.0</td>\n",
       "      <td>152.000</td>\n",
       "      <td>23.4</td>\n",
       "      <td>13.0</td>\n",
       "      <td>74.0</td>\n",
       "      <td>20.0</td>\n",
       "      <td>...</td>\n",
       "      <td>0.0</td>\n",
       "      <td>0.0</td>\n",
       "      <td>110.0</td>\n",
       "      <td>80.0</td>\n",
       "      <td>1.0</td>\n",
       "      <td>0.0</td>\n",
       "      <td>18.0</td>\n",
       "      <td>9.0</td>\n",
       "      <td>7.3</td>\n",
       "      <td>NaN</td>\n",
       "    </tr>\n",
       "    <tr>\n",
       "      <th>539</th>\n",
       "      <td>540.0</td>\n",
       "      <td>540.0</td>\n",
       "      <td>0.0</td>\n",
       "      <td>27.0</td>\n",
       "      <td>50.0</td>\n",
       "      <td>150.000</td>\n",
       "      <td>22.2</td>\n",
       "      <td>15.0</td>\n",
       "      <td>74.0</td>\n",
       "      <td>20.0</td>\n",
       "      <td>...</td>\n",
       "      <td>0.0</td>\n",
       "      <td>0.0</td>\n",
       "      <td>110.0</td>\n",
       "      <td>70.0</td>\n",
       "      <td>7.0</td>\n",
       "      <td>6.0</td>\n",
       "      <td>18.0</td>\n",
       "      <td>16.0</td>\n",
       "      <td>11.5</td>\n",
       "      <td>NaN</td>\n",
       "    </tr>\n",
       "    <tr>\n",
       "      <th>540</th>\n",
       "      <td>541.0</td>\n",
       "      <td>541.0</td>\n",
       "      <td>1.0</td>\n",
       "      <td>23.0</td>\n",
       "      <td>82.0</td>\n",
       "      <td>165.000</td>\n",
       "      <td>30.1</td>\n",
       "      <td>13.0</td>\n",
       "      <td>80.0</td>\n",
       "      <td>20.0</td>\n",
       "      <td>...</td>\n",
       "      <td>1.0</td>\n",
       "      <td>0.0</td>\n",
       "      <td>120.0</td>\n",
       "      <td>70.0</td>\n",
       "      <td>9.0</td>\n",
       "      <td>10.0</td>\n",
       "      <td>19.0</td>\n",
       "      <td>18.0</td>\n",
       "      <td>6.9</td>\n",
       "      <td>NaN</td>\n",
       "    </tr>\n",
       "  </tbody>\n",
       "</table>\n",
       "<p>5 rows × 45 columns</p>\n",
       "</div>"
      ],
      "text/plain": [
       "     Sl. No  Patient File No.  PCOS (Y/N)   Age (yrs)  Weight (Kg)  \\\n",
       "536  537.0   537.0             0.0         35.0        50.0          \n",
       "537  538.0   538.0             0.0         30.0        63.2          \n",
       "538  539.0   539.0             0.0         36.0        54.0          \n",
       "539  540.0   540.0             0.0         27.0        50.0          \n",
       "540  541.0   541.0             1.0         23.0        82.0          \n",
       "\n",
       "     Height(Cm)    BMI  Blood Group  Pulse rate(bpm)   RR (breaths/min)  ...  \\\n",
       "536  164.592      18.5  17.0         72.0              16.0              ...   \n",
       "537  158.000      25.3  15.0         72.0              18.0              ...   \n",
       "538  152.000      23.4  13.0         74.0              20.0              ...   \n",
       "539  150.000      22.2  15.0         74.0              20.0              ...   \n",
       "540  165.000      30.1  13.0         80.0              20.0              ...   \n",
       "\n",
       "     Fast food (Y/N)  Reg.Exercise(Y/N)  BP _Systolic (mmHg)  \\\n",
       "536  0.0              0.0                110.0                 \n",
       "537  0.0              0.0                110.0                 \n",
       "538  0.0              0.0                110.0                 \n",
       "539  0.0              0.0                110.0                 \n",
       "540  1.0              0.0                120.0                 \n",
       "\n",
       "     BP _Diastolic (mmHg)  Follicle No. (L)  Follicle No. (R)  \\\n",
       "536  70.0                  1.0               0.0                \n",
       "537  70.0                  9.0               7.0                \n",
       "538  80.0                  1.0               0.0                \n",
       "539  70.0                  7.0               6.0                \n",
       "540  70.0                  9.0               10.0               \n",
       "\n",
       "     Avg. F size (L) (mm) Avg. F size (R) (mm)  Endometrium (mm)  Unnamed: 44  \n",
       "536  17.5                  10.0                 6.7               NaN          \n",
       "537  19.0                  18.0                 8.2               NaN          \n",
       "538  18.0                  9.0                  7.3               NaN          \n",
       "539  18.0                  16.0                 11.5              NaN          \n",
       "540  19.0                  18.0                 6.9               NaN          \n",
       "\n",
       "[5 rows x 45 columns]"
      ]
     },
     "execution_count": 10,
     "metadata": {},
     "output_type": "execute_result"
    }
   ],
   "source": [
    "PCOS_woinf.tail()"
   ]
  },
  {
   "cell_type": "markdown",
   "id": "2f0b6741",
   "metadata": {},
   "source": [
    "Observations:\n",
    "\n",
    "- `PCOS_woinf` has 541 entries or rows. \n",
    "- All columns are of `float64` type except for `BMI`, `FSH/LH`, `Waist:Hip Ratio`, and `AMH(ng/mL)` which are of `object` type."
   ]
  },
  {
   "cell_type": "code",
   "execution_count": 11,
   "id": "50f3d10a",
   "metadata": {
    "scrolled": true
   },
   "outputs": [
    {
     "name": "stdout",
     "output_type": "stream",
     "text": [
      "<class 'pandas.core.frame.DataFrame'>\n",
      "RangeIndex: 541 entries, 0 to 540\n",
      "Data columns (total 45 columns):\n",
      " #   Column                  Non-Null Count  Dtype  \n",
      "---  ------                  --------------  -----  \n",
      " 0   Sl. No                  541 non-null    float64\n",
      " 1   Patient File No.        541 non-null    float64\n",
      " 2   PCOS (Y/N)              541 non-null    float64\n",
      " 3    Age (yrs)              541 non-null    float64\n",
      " 4   Weight (Kg)             541 non-null    float64\n",
      " 5   Height(Cm)              541 non-null    float64\n",
      " 6   BMI                     541 non-null    float64\n",
      " 7   Blood Group             541 non-null    float64\n",
      " 8   Pulse rate(bpm)         541 non-null    float64\n",
      " 9   RR (breaths/min)        541 non-null    float64\n",
      " 10  Hb(g/dl)                541 non-null    float64\n",
      " 11  Cycle(R/I)              541 non-null    float64\n",
      " 12  Cycle length(days)      541 non-null    float64\n",
      " 13  Marraige Status (Yrs)   540 non-null    float64\n",
      " 14  Pregnant(Y/N)           541 non-null    float64\n",
      " 15  No. of aborptions       541 non-null    float64\n",
      " 16    I   beta-HCG(mIU/mL)  541 non-null    float64\n",
      " 17  II    beta-HCG(mIU/mL)  541 non-null    object \n",
      " 18  FSH(mIU/mL)             541 non-null    float64\n",
      " 19  LH(mIU/mL)              541 non-null    float64\n",
      " 20  FSH/LH                  541 non-null    float64\n",
      " 21  Hip(inch)               541 non-null    float64\n",
      " 22  Waist(inch)             541 non-null    float64\n",
      " 23  Waist:Hip Ratio         541 non-null    float64\n",
      " 24  TSH (mIU/L)             541 non-null    float64\n",
      " 25  AMH(ng/mL)              541 non-null    object \n",
      " 26  PRL(ng/mL)              541 non-null    float64\n",
      " 27  Vit D3 (ng/mL)          541 non-null    float64\n",
      " 28  PRG(ng/mL)              541 non-null    float64\n",
      " 29  RBS(mg/dl)              541 non-null    float64\n",
      " 30  Weight gain(Y/N)        541 non-null    float64\n",
      " 31  hair growth(Y/N)        541 non-null    float64\n",
      " 32  Skin darkening (Y/N)    541 non-null    float64\n",
      " 33  Hair loss(Y/N)          541 non-null    float64\n",
      " 34  Pimples(Y/N)            541 non-null    float64\n",
      " 35  Fast food (Y/N)         540 non-null    float64\n",
      " 36  Reg.Exercise(Y/N)       541 non-null    float64\n",
      " 37  BP _Systolic (mmHg)     541 non-null    float64\n",
      " 38  BP _Diastolic (mmHg)    541 non-null    float64\n",
      " 39  Follicle No. (L)        541 non-null    float64\n",
      " 40  Follicle No. (R)        541 non-null    float64\n",
      " 41  Avg. F size (L) (mm)    541 non-null    float64\n",
      " 42  Avg. F size (R) (mm)    541 non-null    float64\n",
      " 43  Endometrium (mm)        541 non-null    float64\n",
      " 44  Unnamed: 44             2 non-null      object \n",
      "dtypes: float64(42), object(3)\n",
      "memory usage: 190.3+ KB\n"
     ]
    }
   ],
   "source": [
    "PCOS_woinf.info()"
   ]
  },
  {
   "cell_type": "markdown",
   "id": "d65ad281",
   "metadata": {},
   "source": [
    "Observations:\n",
    "\n",
    " - `PCOS_inf` has 541 entries or rows with a total of 6 columns as we found from the `shape()` function above. \n",
    " - `PCOS_inf` has all `int` and `float` types, except for column `AMH(ng/mL)` which is of `object` type. "
   ]
  },
  {
   "cell_type": "code",
   "execution_count": 12,
   "id": "9e893921",
   "metadata": {},
   "outputs": [
    {
     "name": "stdout",
     "output_type": "stream",
     "text": [
      "<class 'pandas.core.frame.DataFrame'>\n",
      "RangeIndex: 541 entries, 0 to 540\n",
      "Data columns (total 6 columns):\n",
      " #   Column                  Non-Null Count  Dtype  \n",
      "---  ------                  --------------  -----  \n",
      " 0   Sl. No                  541 non-null    int64  \n",
      " 1   Patient File No.        541 non-null    int64  \n",
      " 2   PCOS (Y/N)              541 non-null    int64  \n",
      " 3     I   beta-HCG(mIU/mL)  541 non-null    float64\n",
      " 4   II    beta-HCG(mIU/mL)  541 non-null    float64\n",
      " 5   AMH(ng/mL)              541 non-null    object \n",
      "dtypes: float64(2), int64(3), object(1)\n",
      "memory usage: 25.5+ KB\n"
     ]
    }
   ],
   "source": [
    "PCOS_inf.info()"
   ]
  },
  {
   "cell_type": "markdown",
   "id": "e0eaba68",
   "metadata": {},
   "source": [
    "### Important Note About the Data\n",
    "- Upon initial inspection, I identified that each record in each DataFrame had a unique Patient File Number which would indicate files for unique patients. \n",
    "- Also, I recognized that the file names `PCOS_woinf` and `PCOS_inf` would indicate patients were not diagnosed with \"Unexplained Infertility\" and patients that were diagnosed with \"Unexplained Infertility\".\n",
    "- However, upon further inspection, the data in both files, are the same with different Pateint File Numbers. \n",
    "- Because of these observations, I will exclude the `PCOS_inf` for the main Explanatory Data Analasis. \n",
    "- Because of these observations, I will only use the `PCOS_woinf` in the main analysis."
   ]
  },
  {
   "cell_type": "markdown",
   "id": "3aca58f3",
   "metadata": {},
   "source": [
    "## Data Preparation"
   ]
  },
  {
   "cell_type": "markdown",
   "id": "a04b2b2e",
   "metadata": {},
   "source": [
    "#### Data Cleaning:\n",
    "\n",
    " - Find and remove `NaN` values.\n",
    " - Drop `Unnamed:` columns. \n",
    " - Find and remove duplicates.\n",
    " - Remove white space in column names.\n",
    "\n",
    "#### Data Pre-Processing:\n",
    " - Calculate correct values for `BMI`, `FSH/LH`, and `Waist:Hip Ratio` columns.\n",
    " - Convert Y/N columns to Boolean types.\n",
    " - Drop `SL No.`, `Cycle(R/I)`, `Marraige Status (Yrs)`, and `Fast food (Y/N)` columns as they are either ill-defined from the data source is not necessary for our analysis. "
   ]
  },
  {
   "cell_type": "markdown",
   "id": "4eec1137",
   "metadata": {},
   "source": [
    "Find all `NaN` values in `PCOS_woinf`."
   ]
  },
  {
   "cell_type": "code",
   "execution_count": 13,
   "id": "7c780c85",
   "metadata": {},
   "outputs": [],
   "source": [
    "num_nulls_in_PCOS_woinf = np.sum(PCOS_woinf.isnull(), axis=0)"
   ]
  },
  {
   "cell_type": "markdown",
   "id": "54d13da0",
   "metadata": {},
   "source": [
    "Remove the `NaN` values from rows and columns in `PCOS_woinf`."
   ]
  },
  {
   "cell_type": "code",
   "execution_count": 14,
   "id": "d6441fac",
   "metadata": {},
   "outputs": [],
   "source": [
    "PCOS_woinf = PCOS_woinf.dropna(axis = 0, how = 'all').dropna(axis = 1, how = 'any')"
   ]
  },
  {
   "cell_type": "markdown",
   "id": "ba049fa0",
   "metadata": {},
   "source": [
    "Check to see if `NaN` values were removed from `PCOS_woinf`. "
   ]
  },
  {
   "cell_type": "code",
   "execution_count": 15,
   "id": "942f2c2e",
   "metadata": {},
   "outputs": [
    {
     "data": {
      "text/plain": [
       "Sl. No                    0  \n",
       "Patient File No.          0  \n",
       "PCOS (Y/N)                0  \n",
       " Age (yrs)                0  \n",
       "Weight (Kg)               0  \n",
       "Height(Cm)                0  \n",
       "BMI                       0  \n",
       "Blood Group               0  \n",
       "Pulse rate(bpm)           0  \n",
       "RR (breaths/min)          0  \n",
       "Hb(g/dl)                  0  \n",
       "Cycle(R/I)                0  \n",
       "Cycle length(days)        0  \n",
       "Marraige Status (Yrs)     1  \n",
       "Pregnant(Y/N)             0  \n",
       "No. of aborptions         0  \n",
       "  I   beta-HCG(mIU/mL)    0  \n",
       "II    beta-HCG(mIU/mL)    0  \n",
       "FSH(mIU/mL)               0  \n",
       "LH(mIU/mL)                0  \n",
       "FSH/LH                    0  \n",
       "Hip(inch)                 0  \n",
       "Waist(inch)               0  \n",
       "Waist:Hip Ratio           0  \n",
       "TSH (mIU/L)               0  \n",
       "AMH(ng/mL)                0  \n",
       "PRL(ng/mL)                0  \n",
       "Vit D3 (ng/mL)            0  \n",
       "PRG(ng/mL)                0  \n",
       "RBS(mg/dl)                0  \n",
       "Weight gain(Y/N)          0  \n",
       "hair growth(Y/N)          0  \n",
       "Skin darkening (Y/N)      0  \n",
       "Hair loss(Y/N)            0  \n",
       "Pimples(Y/N)              0  \n",
       "Fast food (Y/N)           1  \n",
       "Reg.Exercise(Y/N)         0  \n",
       "BP _Systolic (mmHg)       0  \n",
       "BP _Diastolic (mmHg)      0  \n",
       "Follicle No. (L)          0  \n",
       "Follicle No. (R)          0  \n",
       "Avg. F size (L) (mm)      0  \n",
       "Avg. F size (R) (mm)      0  \n",
       "Endometrium (mm)          0  \n",
       "Unnamed: 44               539\n",
       "dtype: int64"
      ]
     },
     "execution_count": 15,
     "metadata": {},
     "output_type": "execute_result"
    }
   ],
   "source": [
    "num_nulls_in_PCOS_woinf"
   ]
  },
  {
   "cell_type": "markdown",
   "id": "0f0e7025",
   "metadata": {},
   "source": [
    "Remove `Unnamed:` columns from `PCOS_woinf`. "
   ]
  },
  {
   "cell_type": "code",
   "execution_count": 16,
   "id": "68630bd5",
   "metadata": {},
   "outputs": [],
   "source": [
    "PCOS_woinf = PCOS_woinf.loc[:, ~PCOS_woinf.columns.str.contains('^Unnamed')]"
   ]
  },
  {
   "cell_type": "markdown",
   "id": "1fecb102",
   "metadata": {},
   "source": [
    "Find duplicates in `PCOS_woinf`."
   ]
  },
  {
   "cell_type": "code",
   "execution_count": 17,
   "id": "c18a383e",
   "metadata": {},
   "outputs": [
    {
     "data": {
      "text/plain": [
       "0"
      ]
     },
     "execution_count": 17,
     "metadata": {},
     "output_type": "execute_result"
    }
   ],
   "source": [
    "PCOS_woinf.duplicated().sum()"
   ]
  },
  {
   "cell_type": "markdown",
   "id": "229a9a27",
   "metadata": {},
   "source": [
    "Replace `BMI` with the [correct calculation](https://www.nhlbi.nih.gov/health/educational/lose_wt/BMI/bmicalc.htm). "
   ]
  },
  {
   "cell_type": "code",
   "execution_count": 18,
   "id": "f4862aba",
   "metadata": {},
   "outputs": [],
   "source": [
    "PCOS_woinf['Height (m)'] = PCOS_woinf['Height(Cm) '] / 100\n",
    "\n",
    "PCOS_woinf['BMI'] = PCOS_woinf['Weight (Kg)'] / (PCOS_woinf['Height (m)'] ** 2)"
   ]
  },
  {
   "cell_type": "markdown",
   "id": "0618cf0a",
   "metadata": {},
   "source": [
    "Replace `FSH/LH` with the correct calculation."
   ]
  },
  {
   "cell_type": "code",
   "execution_count": 19,
   "id": "80fd20f9",
   "metadata": {},
   "outputs": [],
   "source": [
    "PCOS_woinf['FSH/LH'] = PCOS_woinf['FSH(mIU/mL)'] / PCOS_woinf['LH(mIU/mL)']"
   ]
  },
  {
   "cell_type": "markdown",
   "id": "1494fa56",
   "metadata": {},
   "source": [
    "Replace `Waist:Hip Ratio` with the correct calculation. "
   ]
  },
  {
   "cell_type": "code",
   "execution_count": 20,
   "id": "508c816f",
   "metadata": {},
   "outputs": [],
   "source": [
    "PCOS_woinf['Waist:Hip Ratio'] = PCOS_woinf['Waist(inch)'] / PCOS_woinf['Hip(inch)']"
   ]
  },
  {
   "cell_type": "markdown",
   "id": "7fe328b0",
   "metadata": {},
   "source": [
    "Add a column `Weight (lbs)` converting weight in kg to weight in lbs for readability."
   ]
  },
  {
   "cell_type": "code",
   "execution_count": 21,
   "id": "b8b92588",
   "metadata": {},
   "outputs": [],
   "source": [
    "PCOS_woinf['Weight (lbs)'] = PCOS_woinf['Weight (Kg)'] * 2.205"
   ]
  },
  {
   "cell_type": "markdown",
   "id": "66c0cb26",
   "metadata": {},
   "source": [
    "Create a column `Blood Type (str)` that is represented by the string value vs. the numerical representation defined. "
   ]
  },
  {
   "cell_type": "code",
   "execution_count": 22,
   "id": "414c80e2",
   "metadata": {},
   "outputs": [],
   "source": [
    "PCOS_woinf['Blood Type (str)'] = PCOS_woinf['Blood Group'].replace([11, 12, 13, 14, 15, 16, 17, 18], ['A+', 'A-', 'B+', 'B-', 'O+', 'O-', 'AB+', 'AB-'] )"
   ]
  },
  {
   "cell_type": "markdown",
   "id": "a0da488a",
   "metadata": {},
   "source": [
    "Convert blood pressure to the correct format systolic over diastolic. [Reference Link](https://www.heart.org/en/health-topics/high-blood-pressure/understanding-blood-pressure-readings)."
   ]
  },
  {
   "cell_type": "code",
   "execution_count": 23,
   "id": "e99e9359",
   "metadata": {},
   "outputs": [
    {
     "data": {
      "text/plain": [
       "0      110.0/80.0\n",
       "1      120.0/70.0\n",
       "2      120.0/80.0\n",
       "3      120.0/70.0\n",
       "4      120.0/80.0\n",
       "          ...    \n",
       "536    110.0/70.0\n",
       "537    110.0/70.0\n",
       "538    110.0/80.0\n",
       "539    110.0/70.0\n",
       "540    120.0/70.0\n",
       "Name: Blood Pressure (str), Length: 541, dtype: object"
      ]
     },
     "execution_count": 23,
     "metadata": {},
     "output_type": "execute_result"
    }
   ],
   "source": [
    "PCOS_woinf['Blood Pressure (str)'] = PCOS_woinf['BP _Systolic (mmHg)'].astype(str) + '/' + PCOS_woinf['BP _Diastolic (mmHg)'].astype(str)\n",
    "PCOS_woinf['Blood Pressure (str)'] = PCOS_woinf['Blood Pressure (str)'].replace(['nan/nan'], np.nan)\n",
    "PCOS_woinf['Blood Pressure (str)']"
   ]
  },
  {
   "cell_type": "markdown",
   "id": "5dbf77f7",
   "metadata": {},
   "source": [
    "Correct spelling and rename column headers."
   ]
  },
  {
   "cell_type": "code",
   "execution_count": 24,
   "id": "d18da655",
   "metadata": {},
   "outputs": [],
   "source": [
    "PCOS_woinf.rename(columns = {'No. of aborptions': 'No. of Abortions'}, inplace = True)\n",
    "PCOS_woinf.rename(columns = {'Pimples(Y/N)': 'Acne (Y/N)'}, inplace = True)"
   ]
  },
  {
   "cell_type": "markdown",
   "id": "8413d9e9",
   "metadata": {},
   "source": [
    " - Change non-string types to floats for numerical variables. \n",
    " - Received `ValueError: Unable to parse string \"1.99.\" at position 123.`\n",
    " - Used replace method to `replace` method into format that can be coerced with `to_numeric`."
   ]
  },
  {
   "cell_type": "code",
   "execution_count": 25,
   "id": "11d24d7b",
   "metadata": {},
   "outputs": [],
   "source": [
    "PCOS_woinf['II    beta-HCG(mIU/mL)'] = PCOS_woinf['II    beta-HCG(mIU/mL)'].replace(['1.99.'], '1.99')\n",
    "PCOS_woinf['II    beta-HCG(mIU/mL)'] = pd.to_numeric(PCOS_woinf['II    beta-HCG(mIU/mL)'])"
   ]
  },
  {
   "cell_type": "code",
   "execution_count": 26,
   "id": "e3740f62",
   "metadata": {},
   "outputs": [],
   "source": [
    "PCOS_woinf['Waist:Hip Ratio'] = pd.to_numeric(PCOS_woinf['Waist:Hip Ratio'])"
   ]
  },
  {
   "cell_type": "markdown",
   "id": "47656653",
   "metadata": {},
   "source": [
    "- For `PCOS_main['AMH(ng/mL)']` recieved `ValueError` at position 307 with the value 'a'. \n",
    "- Since this was the only string value in this numerical column, I chose to replace this string with the mean of the column to avoid dropping that record."
   ]
  },
  {
   "cell_type": "code",
   "execution_count": 27,
   "id": "0969c4d1",
   "metadata": {},
   "outputs": [],
   "source": [
    "PCOS_woinf['AMH(ng/mL)'] = pd.to_numeric(PCOS_woinf['AMH(ng/mL)'], errors = 'coerce').astype('float64')\n",
    "PCOS_woinf['AMH(ng/mL)'] = PCOS_woinf['AMH(ng/mL)'].fillna(PCOS_woinf['AMH(ng/mL)'].mean())"
   ]
  },
  {
   "cell_type": "markdown",
   "id": "7fb836cd",
   "metadata": {},
   "source": [
    "- Change the type of the categorical variable columns to `bool` from `float64`:\n",
    " - `Pregnant (Y/N)`\n",
    " - `Weight gain (Y/N)`\n",
    " - `hair growth (Y/N)`\n",
    " - `Skin darkening (Y/N)`\n",
    " - `Hair loss (Y/N)`\n",
    " - `Acne (Y/N)`\n",
    " - `Reg.Exercise (Y/N)`"
   ]
  },
  {
   "cell_type": "code",
   "execution_count": 28,
   "id": "0e39ee02",
   "metadata": {},
   "outputs": [],
   "source": [
    "PCOS_woinf['Pregnant(Y/N)'] = PCOS_woinf['Pregnant(Y/N)'].astype('bool')\n",
    "PCOS_woinf['Weight gain(Y/N)'] = PCOS_woinf['Weight gain(Y/N)'].astype('bool')\n",
    "PCOS_woinf['hair growth(Y/N)'] = PCOS_woinf['hair growth(Y/N)'].astype('bool')\n",
    "PCOS_woinf['Skin darkening (Y/N)'] = PCOS_woinf['Skin darkening (Y/N)'].astype('bool')\n",
    "PCOS_woinf['Hair loss(Y/N)'] = PCOS_woinf['Hair loss(Y/N)'].astype('bool')\n",
    "PCOS_woinf['Acne (Y/N)'] = PCOS_woinf['Acne (Y/N)'].astype('bool')\n",
    "PCOS_woinf['Reg.Exercise(Y/N)'] = PCOS_woinf['Reg.Exercise(Y/N)'].astype('bool')"
   ]
  },
  {
   "cell_type": "markdown",
   "id": "6520382b",
   "metadata": {},
   "source": [
    "- Drop `Sl. No` as this seems like a duplicate column and will not add value to our analysis.\n",
    "- Drop `Cycle(R/I)` column as this variable was not well-defined in the information about the original data set.\n",
    "- Drop `Fast food (Y/N)` column as this variable was not well-defined in the information about the original data set. \n",
    "- Drop `Marriage Status (Yrs)` as this is an independent variable and no research indicates that would have an impact on a PCOS diagnosis."
   ]
  },
  {
   "cell_type": "code",
   "execution_count": 29,
   "id": "3f9d7538",
   "metadata": {},
   "outputs": [],
   "source": [
    "#PCOS_woinf.drop(['Sl. No'], axis = 1, inplace = True)\n",
    "#PCOS_woinf.drop(['Cycle(R/I)'], axis = 1, inplace = True)\n",
    "#PCOS_woinf.drop(['Fast food (Y/N)'], axis = 1, inplace = True)\n",
    "#PCOS_woinf.drop(['Marraige Status (Yrs)'], axis = 1, inplace = True)"
   ]
  },
  {
   "cell_type": "markdown",
   "id": "ca94068b",
   "metadata": {},
   "source": [
    "Double check `NaN` values are removed before moving on to analysis. We want the return to be `False` indicating that there are non `NaN` values found in the DataFrame."
   ]
  },
  {
   "cell_type": "code",
   "execution_count": 30,
   "id": "641f1226",
   "metadata": {},
   "outputs": [
    {
     "data": {
      "text/plain": [
       "False"
      ]
     },
     "execution_count": 30,
     "metadata": {},
     "output_type": "execute_result"
    }
   ],
   "source": [
    "PCOS_woinf.isnull().values.any()"
   ]
  },
  {
   "cell_type": "markdown",
   "id": "683683d7",
   "metadata": {},
   "source": [
    "Check Dtypes in `PCOS_woinf` before moving on to analysis."
   ]
  },
  {
   "cell_type": "code",
   "execution_count": 31,
   "id": "5adbb5ef",
   "metadata": {
    "scrolled": true
   },
   "outputs": [
    {
     "name": "stdout",
     "output_type": "stream",
     "text": [
      "<class 'pandas.core.frame.DataFrame'>\n",
      "RangeIndex: 541 entries, 0 to 540\n",
      "Data columns (total 46 columns):\n",
      " #   Column                  Non-Null Count  Dtype  \n",
      "---  ------                  --------------  -----  \n",
      " 0   Sl. No                  541 non-null    float64\n",
      " 1   Patient File No.        541 non-null    float64\n",
      " 2   PCOS (Y/N)              541 non-null    float64\n",
      " 3    Age (yrs)              541 non-null    float64\n",
      " 4   Weight (Kg)             541 non-null    float64\n",
      " 5   Height(Cm)              541 non-null    float64\n",
      " 6   BMI                     541 non-null    float64\n",
      " 7   Blood Group             541 non-null    float64\n",
      " 8   Pulse rate(bpm)         541 non-null    float64\n",
      " 9   RR (breaths/min)        541 non-null    float64\n",
      " 10  Hb(g/dl)                541 non-null    float64\n",
      " 11  Cycle(R/I)              541 non-null    float64\n",
      " 12  Cycle length(days)      541 non-null    float64\n",
      " 13  Pregnant(Y/N)           541 non-null    bool   \n",
      " 14  No. of Abortions        541 non-null    float64\n",
      " 15    I   beta-HCG(mIU/mL)  541 non-null    float64\n",
      " 16  II    beta-HCG(mIU/mL)  541 non-null    float64\n",
      " 17  FSH(mIU/mL)             541 non-null    float64\n",
      " 18  LH(mIU/mL)              541 non-null    float64\n",
      " 19  FSH/LH                  541 non-null    float64\n",
      " 20  Hip(inch)               541 non-null    float64\n",
      " 21  Waist(inch)             541 non-null    float64\n",
      " 22  Waist:Hip Ratio         541 non-null    float64\n",
      " 23  TSH (mIU/L)             541 non-null    float64\n",
      " 24  AMH(ng/mL)              541 non-null    float64\n",
      " 25  PRL(ng/mL)              541 non-null    float64\n",
      " 26  Vit D3 (ng/mL)          541 non-null    float64\n",
      " 27  PRG(ng/mL)              541 non-null    float64\n",
      " 28  RBS(mg/dl)              541 non-null    float64\n",
      " 29  Weight gain(Y/N)        541 non-null    bool   \n",
      " 30  hair growth(Y/N)        541 non-null    bool   \n",
      " 31  Skin darkening (Y/N)    541 non-null    bool   \n",
      " 32  Hair loss(Y/N)          541 non-null    bool   \n",
      " 33  Acne (Y/N)              541 non-null    bool   \n",
      " 34  Reg.Exercise(Y/N)       541 non-null    bool   \n",
      " 35  BP _Systolic (mmHg)     541 non-null    float64\n",
      " 36  BP _Diastolic (mmHg)    541 non-null    float64\n",
      " 37  Follicle No. (L)        541 non-null    float64\n",
      " 38  Follicle No. (R)        541 non-null    float64\n",
      " 39  Avg. F size (L) (mm)    541 non-null    float64\n",
      " 40  Avg. F size (R) (mm)    541 non-null    float64\n",
      " 41  Endometrium (mm)        541 non-null    float64\n",
      " 42  Height (m)              541 non-null    float64\n",
      " 43  Weight (lbs)            541 non-null    float64\n",
      " 44  Blood Type (str)        541 non-null    object \n",
      " 45  Blood Pressure (str)    541 non-null    object \n",
      "dtypes: bool(7), float64(37), object(2)\n",
      "memory usage: 168.7+ KB\n"
     ]
    }
   ],
   "source": [
    "PCOS_woinf.info()"
   ]
  },
  {
   "cell_type": "markdown",
   "id": "f4ad33f7",
   "metadata": {},
   "source": [
    "Get rid of extra space before and after column headers."
   ]
  },
  {
   "cell_type": "code",
   "execution_count": 32,
   "id": "828bc894",
   "metadata": {},
   "outputs": [
    {
     "data": {
      "text/plain": [
       "Index(['Sl. No', 'Patient File No.', 'PCOS (Y/N)', 'Age (yrs)', 'Weight (Kg)',\n",
       "       'Height(Cm)', 'BMI', 'Blood Group', 'Pulse rate(bpm)',\n",
       "       'RR (breaths/min)', 'Hb(g/dl)', 'Cycle(R/I)', 'Cycle length(days)',\n",
       "       'Pregnant(Y/N)', 'No. of Abortions', 'I   beta-HCG(mIU/mL)',\n",
       "       'II    beta-HCG(mIU/mL)', 'FSH(mIU/mL)', 'LH(mIU/mL)', 'FSH/LH',\n",
       "       'Hip(inch)', 'Waist(inch)', 'Waist:Hip Ratio', 'TSH (mIU/L)',\n",
       "       'AMH(ng/mL)', 'PRL(ng/mL)', 'Vit D3 (ng/mL)', 'PRG(ng/mL)',\n",
       "       'RBS(mg/dl)', 'Weight gain(Y/N)', 'hair growth(Y/N)',\n",
       "       'Skin darkening (Y/N)', 'Hair loss(Y/N)', 'Acne (Y/N)',\n",
       "       'Reg.Exercise(Y/N)', 'BP _Systolic (mmHg)', 'BP _Diastolic (mmHg)',\n",
       "       'Follicle No. (L)', 'Follicle No. (R)', 'Avg. F size (L) (mm)',\n",
       "       'Avg. F size (R) (mm)', 'Endometrium (mm)', 'Height (m)',\n",
       "       'Weight (lbs)', 'Blood Type (str)', 'Blood Pressure (str)'],\n",
       "      dtype='object')"
      ]
     },
     "execution_count": 32,
     "metadata": {},
     "output_type": "execute_result"
    }
   ],
   "source": [
    "PCOS_woinf.columns = [col.strip() for col in PCOS_woinf.columns]\n",
    "PCOS_woinf.columns"
   ]
  },
  {
   "cell_type": "code",
   "execution_count": 33,
   "id": "045828be",
   "metadata": {
    "scrolled": true
   },
   "outputs": [
    {
     "data": {
      "text/plain": [
       "float64    37\n",
       "bool       7 \n",
       "object     2 \n",
       "dtype: int64"
      ]
     },
     "execution_count": 33,
     "metadata": {},
     "output_type": "execute_result"
    }
   ],
   "source": [
    "PCOS_woinf.dtypes.value_counts()"
   ]
  },
  {
   "cell_type": "markdown",
   "id": "ea2a95ae",
   "metadata": {},
   "source": [
    "## Exploratory Data Analysis"
   ]
  },
  {
   "cell_type": "markdown",
   "id": "c20fc76f",
   "metadata": {},
   "source": [
    "In this section, I will continue to explore the datato make inferences for further analysis keeping in mind our three questions:\n",
    "\n",
    " 1. Are there any features that are correlated with PCOS?\n",
    " 2. What are the most frequent symptoms PCOS pateints exihibit?\n",
    " 3. Do non-PCOS patients exhibit similar symptoms to those diagnosed with PCOS?"
   ]
  },
  {
   "cell_type": "code",
   "execution_count": 34,
   "id": "c089c49a",
   "metadata": {},
   "outputs": [
    {
     "data": {
      "text/html": [
       "<div>\n",
       "<style scoped>\n",
       "    .dataframe tbody tr th:only-of-type {\n",
       "        vertical-align: middle;\n",
       "    }\n",
       "\n",
       "    .dataframe tbody tr th {\n",
       "        vertical-align: top;\n",
       "    }\n",
       "\n",
       "    .dataframe thead th {\n",
       "        text-align: right;\n",
       "    }\n",
       "</style>\n",
       "<table border=\"1\" class=\"dataframe\">\n",
       "  <thead>\n",
       "    <tr style=\"text-align: right;\">\n",
       "      <th></th>\n",
       "      <th>Sl. No</th>\n",
       "      <th>Patient File No.</th>\n",
       "      <th>Age (yrs)</th>\n",
       "      <th>Weight (Kg)</th>\n",
       "      <th>Height(Cm)</th>\n",
       "      <th>BMI</th>\n",
       "      <th>Blood Group</th>\n",
       "      <th>Pulse rate(bpm)</th>\n",
       "      <th>RR (breaths/min)</th>\n",
       "      <th>Hb(g/dl)</th>\n",
       "      <th>...</th>\n",
       "      <th>Reg.Exercise(Y/N)</th>\n",
       "      <th>BP _Systolic (mmHg)</th>\n",
       "      <th>BP _Diastolic (mmHg)</th>\n",
       "      <th>Follicle No. (L)</th>\n",
       "      <th>Follicle No. (R)</th>\n",
       "      <th>Avg. F size (L) (mm)</th>\n",
       "      <th>Avg. F size (R) (mm)</th>\n",
       "      <th>Endometrium (mm)</th>\n",
       "      <th>Height (m)</th>\n",
       "      <th>Weight (lbs)</th>\n",
       "    </tr>\n",
       "    <tr>\n",
       "      <th>PCOS (Y/N)</th>\n",
       "      <th></th>\n",
       "      <th></th>\n",
       "      <th></th>\n",
       "      <th></th>\n",
       "      <th></th>\n",
       "      <th></th>\n",
       "      <th></th>\n",
       "      <th></th>\n",
       "      <th></th>\n",
       "      <th></th>\n",
       "      <th></th>\n",
       "      <th></th>\n",
       "      <th></th>\n",
       "      <th></th>\n",
       "      <th></th>\n",
       "      <th></th>\n",
       "      <th></th>\n",
       "      <th></th>\n",
       "      <th></th>\n",
       "      <th></th>\n",
       "      <th></th>\n",
       "    </tr>\n",
       "  </thead>\n",
       "  <tbody>\n",
       "    <tr>\n",
       "      <th>0.0</th>\n",
       "      <td>264.357143</td>\n",
       "      <td>264.357143</td>\n",
       "      <td>32.065934</td>\n",
       "      <td>58.008791</td>\n",
       "      <td>156.197934</td>\n",
       "      <td>23.754439</td>\n",
       "      <td>13.755495</td>\n",
       "      <td>72.964286</td>\n",
       "      <td>19.200549</td>\n",
       "      <td>11.107390</td>\n",
       "      <td>...</td>\n",
       "      <td>0.228022</td>\n",
       "      <td>114.620879</td>\n",
       "      <td>76.780220</td>\n",
       "      <td>4.351648</td>\n",
       "      <td>4.637363</td>\n",
       "      <td>14.687637</td>\n",
       "      <td>15.225824</td>\n",
       "      <td>8.315027</td>\n",
       "      <td>1.561979</td>\n",
       "      <td>127.909385</td>\n",
       "    </tr>\n",
       "    <tr>\n",
       "      <th>1.0</th>\n",
       "      <td>284.661017</td>\n",
       "      <td>284.661017</td>\n",
       "      <td>30.124294</td>\n",
       "      <td>62.985876</td>\n",
       "      <td>157.074847</td>\n",
       "      <td>25.481118</td>\n",
       "      <td>13.898305</td>\n",
       "      <td>73.830508</td>\n",
       "      <td>19.333333</td>\n",
       "      <td>11.268305</td>\n",
       "      <td>...</td>\n",
       "      <td>0.288136</td>\n",
       "      <td>114.745763</td>\n",
       "      <td>77.231638</td>\n",
       "      <td>9.785311</td>\n",
       "      <td>10.762712</td>\n",
       "      <td>15.697740</td>\n",
       "      <td>15.916215</td>\n",
       "      <td>8.806780</td>\n",
       "      <td>1.570748</td>\n",
       "      <td>138.883856</td>\n",
       "    </tr>\n",
       "  </tbody>\n",
       "</table>\n",
       "<p>2 rows × 43 columns</p>\n",
       "</div>"
      ],
      "text/plain": [
       "                Sl. No  Patient File No.  Age (yrs)  Weight (Kg)  Height(Cm)  \\\n",
       "PCOS (Y/N)                                                                     \n",
       "0.0         264.357143  264.357143        32.065934  58.008791    156.197934   \n",
       "1.0         284.661017  284.661017        30.124294  62.985876    157.074847   \n",
       "\n",
       "                  BMI  Blood Group  Pulse rate(bpm)  RR (breaths/min)  \\\n",
       "PCOS (Y/N)                                                              \n",
       "0.0         23.754439  13.755495    72.964286        19.200549          \n",
       "1.0         25.481118  13.898305    73.830508        19.333333          \n",
       "\n",
       "             Hb(g/dl)  ...  Reg.Exercise(Y/N)  BP _Systolic (mmHg)  \\\n",
       "PCOS (Y/N)             ...                                           \n",
       "0.0         11.107390  ...  0.228022           114.620879            \n",
       "1.0         11.268305  ...  0.288136           114.745763            \n",
       "\n",
       "            BP _Diastolic (mmHg)  Follicle No. (L)  Follicle No. (R)  \\\n",
       "PCOS (Y/N)                                                             \n",
       "0.0         76.780220             4.351648          4.637363           \n",
       "1.0         77.231638             9.785311          10.762712          \n",
       "\n",
       "            Avg. F size (L) (mm)  Avg. F size (R) (mm)  Endometrium (mm)  \\\n",
       "PCOS (Y/N)                                                                 \n",
       "0.0         14.687637             15.225824             8.315027           \n",
       "1.0         15.697740             15.916215             8.806780           \n",
       "\n",
       "            Height (m)  Weight (lbs)  \n",
       "PCOS (Y/N)                            \n",
       "0.0         1.561979    127.909385    \n",
       "1.0         1.570748    138.883856    \n",
       "\n",
       "[2 rows x 43 columns]"
      ]
     },
     "execution_count": 34,
     "metadata": {},
     "output_type": "execute_result"
    }
   ],
   "source": [
    "PCOS_woinf.groupby(\"PCOS (Y/N)\").mean(numeric_only=True)"
   ]
  },
  {
   "cell_type": "code",
   "execution_count": 35,
   "id": "cdddaff4",
   "metadata": {},
   "outputs": [],
   "source": [
    "#Set sylistic themes for Seaborn plots.\n",
    "sns.set(style = \"white\")\n",
    "light = sns.color_palette(\"light:#5A9\", as_cmap=True)"
   ]
  },
  {
   "cell_type": "markdown",
   "id": "a5b1147c",
   "metadata": {},
   "source": [
    "Plot a correlation matrix to see if any of the features are correlated with other features in the data set. The higher the number is to 1, the more likely that this is correlated with the other feature in the matrix."
   ]
  },
  {
   "cell_type": "code",
   "execution_count": 36,
   "id": "3ed6945c",
   "metadata": {},
   "outputs": [
    {
     "data": {
      "text/plain": [
       "[Text(0.5, 1.0, 'PCOS Correlation Matrix')]"
      ]
     },
     "execution_count": 36,
     "metadata": {},
     "output_type": "execute_result"
    },
    {
     "data": {
      "image/png": "[encoded data removed]",
      "text/plain": [
       "<Figure size 864x864 with 2 Axes>"
      ]
     },
     "metadata": {},
     "output_type": "display_data"
    }
   ],
   "source": [
    "coorelation_matrix = PCOS_woinf.corr().round(2)\n",
    "mask = np.triu(np.ones_like(coorelation_matrix))\n",
    "plt.subplots(figsize = (12, 12))\n",
    "sns.heatmap(coorelation_matrix, vmax = 1, vmin = -1, cmap = \"vlag\", square = True, mask = mask).set(title = \"PCOS Correlation Matrix\")"
   ]
  },
  {
   "cell_type": "markdown",
   "id": "b80caebe",
   "metadata": {},
   "source": [
    "Because the matrix is so large, it is difficult to see what features are coorelated with other features. Just from the heat map above, we can make a couple of observations:\n",
    "\n",
    "- Follicles in the left and right overaries and symptoms such as skin darkening, hair growth and weight gain are highly correlated with PCOS. \n",
    "- We can validate these correlation values with what the research has told us so far. PCOS patients are more likely to have a number of follicles that likely will not mature and therefore will prevent the pateint from ovulating or having a 'regular' cycle. \n",
    "- Skin darkening, hair growth and weight gain are all symptoms that are most frequent in PCOS patients due to over production of male linked hormones. "
   ]
  },
  {
   "cell_type": "markdown",
   "id": "856b4f41",
   "metadata": {},
   "source": [
    "Next Steps:\n",
    "- Drop variables that have a value of 0.7 or more for further analysis in a one-way ANOVA.\n",
    "- Because `Weight (Kg)` and `Weight (lbs)` and `BMI` are corrrelated at .90, I will drop `Weight (Kg)` and `Weight (lbs)` from the two-way ANOVA to prevent duplicating highly correlated variables.\n",
    "- Dropping `Follicle (L)` since it's highly correlated at .80 with `Follicle (R)`.\n",
    "- Dropping `FSH/LH` as it's highly correlated with `FSH(mIU/mL)`. \n",
    "- Dropping `Hip(inch)` as it's highly correlated with `Waist(inch)`. \n",
    "- Dropping `Height (cm)` as it's highly correlated with `Height (m)`."
   ]
  },
  {
   "cell_type": "code",
   "execution_count": 37,
   "id": "caa90bad",
   "metadata": {},
   "outputs": [
    {
     "name": "stdout",
     "output_type": "stream",
     "text": [
      "Sl. No                  Sl. No                    1.00\n",
      "                        Patient File No.          1.00\n",
      "Patient File No.        Sl. No                    1.00\n",
      "                        Patient File No.          1.00\n",
      "PCOS (Y/N)              PCOS (Y/N)                1.00\n",
      "Age (yrs)               Age (yrs)                 1.00\n",
      "Weight (Kg)             Weight (Kg)               1.00\n",
      "                        BMI                       0.90\n",
      "                        Weight (lbs)              1.00\n",
      "Height(Cm)              Height(Cm)                1.00\n",
      "                        Height (m)                1.00\n",
      "BMI                     Weight (Kg)               0.90\n",
      "                        BMI                       1.00\n",
      "                        Weight (lbs)              0.90\n",
      "Blood Group             Blood Group               1.00\n",
      "Pulse rate(bpm)         Pulse rate(bpm)           1.00\n",
      "RR (breaths/min)        RR (breaths/min)          1.00\n",
      "Hb(g/dl)                Hb(g/dl)                  1.00\n",
      "Cycle(R/I)              Cycle(R/I)                1.00\n",
      "Cycle length(days)      Cycle length(days)        1.00\n",
      "Pregnant(Y/N)           Pregnant(Y/N)             1.00\n",
      "No. of Abortions        No. of Abortions          1.00\n",
      "I   beta-HCG(mIU/mL)    I   beta-HCG(mIU/mL)      1.00\n",
      "II    beta-HCG(mIU/mL)  II    beta-HCG(mIU/mL)    1.00\n",
      "FSH(mIU/mL)             FSH(mIU/mL)               1.00\n",
      "                        FSH/LH                    0.97\n",
      "LH(mIU/mL)              LH(mIU/mL)                1.00\n",
      "FSH/LH                  FSH(mIU/mL)               0.97\n",
      "                        FSH/LH                    1.00\n",
      "Hip(inch)               Hip(inch)                 1.00\n",
      "                        Waist(inch)               0.87\n",
      "Waist(inch)             Hip(inch)                 0.87\n",
      "                        Waist(inch)               1.00\n",
      "Waist:Hip Ratio         Waist:Hip Ratio           1.00\n",
      "TSH (mIU/L)             TSH (mIU/L)               1.00\n",
      "AMH(ng/mL)              AMH(ng/mL)                1.00\n",
      "PRL(ng/mL)              PRL(ng/mL)                1.00\n",
      "Vit D3 (ng/mL)          Vit D3 (ng/mL)            1.00\n",
      "PRG(ng/mL)              PRG(ng/mL)                1.00\n",
      "RBS(mg/dl)              RBS(mg/dl)                1.00\n",
      "Weight gain(Y/N)        Weight gain(Y/N)          1.00\n",
      "hair growth(Y/N)        hair growth(Y/N)          1.00\n",
      "Skin darkening (Y/N)    Skin darkening (Y/N)      1.00\n",
      "Hair loss(Y/N)          Hair loss(Y/N)            1.00\n",
      "Acne (Y/N)              Acne (Y/N)                1.00\n",
      "Reg.Exercise(Y/N)       Reg.Exercise(Y/N)         1.00\n",
      "BP _Systolic (mmHg)     BP _Systolic (mmHg)       1.00\n",
      "BP _Diastolic (mmHg)    BP _Diastolic (mmHg)      1.00\n",
      "Follicle No. (L)        Follicle No. (L)          1.00\n",
      "                        Follicle No. (R)          0.80\n",
      "Follicle No. (R)        Follicle No. (L)          0.80\n",
      "                        Follicle No. (R)          1.00\n",
      "Avg. F size (L) (mm)    Avg. F size (L) (mm)      1.00\n",
      "Avg. F size (R) (mm)    Avg. F size (R) (mm)      1.00\n",
      "Endometrium (mm)        Endometrium (mm)          1.00\n",
      "Height (m)              Height(Cm)                1.00\n",
      "                        Height (m)                1.00\n",
      "Weight (lbs)            Weight (Kg)               1.00\n",
      "                        BMI                       0.90\n",
      "                        Weight (lbs)              1.00\n",
      "dtype: float64\n"
     ]
    }
   ],
   "source": [
    "coorelation_matrix_filtered = coorelation_matrix.unstack()\n",
    "coorelation_matrix_filtered = coorelation_matrix_filtered[abs(coorelation_matrix_filtered) >= 0.7]\n",
    "\n",
    "print(coorelation_matrix_filtered)"
   ]
  },
  {
   "cell_type": "markdown",
   "id": "3b105f51",
   "metadata": {},
   "source": [
    "Created a new DataFrame `PCOS_woinf_ANOVA` dropping all columns that were noted above due to correlation value of 0.7 or more and categorical (other than `PCOS (Y/N)`) for one-way ANOVA analysis."
   ]
  },
  {
   "cell_type": "code",
   "execution_count": 38,
   "id": "c0dc5d60",
   "metadata": {},
   "outputs": [],
   "source": [
    "PCOS_woinf_ANOVA = PCOS_woinf[['PCOS (Y/N)', 'Age (yrs)', 'BMI', 'Pulse rate(bpm)',\n",
    "       'RR (breaths/min)', 'Hb(g/dl)', 'Cycle length(days)',\n",
    "       'No. of Abortions', 'I   beta-HCG(mIU/mL)', 'II    beta-HCG(mIU/mL)',\n",
    "       'FSH(mIU/mL)', 'LH(mIU/mL)', 'Waist(inch)',\n",
    "       'Waist:Hip Ratio', 'TSH (mIU/L)', 'AMH(ng/mL)', 'PRL(ng/mL)',\n",
    "       'Vit D3 (ng/mL)', 'PRG(ng/mL)', 'RBS(mg/dl)', 'BP _Systolic (mmHg)',\n",
    "       'BP _Diastolic (mmHg)', 'Follicle No. (R)',\n",
    "       'Avg. F size (L) (mm)', 'Avg. F size (R) (mm)', 'Endometrium (mm)', 'Height (m)']]"
   ]
  },
  {
   "cell_type": "code",
   "execution_count": 39,
   "id": "89934416",
   "metadata": {},
   "outputs": [],
   "source": [
    "PCOS_woinf_ANOVA = PCOS_woinf_ANOVA.rename(columns = {'PCOS (Y/N)': \"PCOS\", 'Age (yrs)': \"Age\", 'Pulse rate(bpm)': \"Pulse_Rate\", 'RR (breaths/min)': \"Resp_Rate\", 'Hb(g/dl)': \"Hemoglobin\", 'Cycle length(days)' : \"Cycle_Length\", 'No. of Abortions': \"Num_Abortions\", 'I   beta-HCG(mIU/mL)': \"HCG_Read_1\", 'II    beta-HCG(mIU/mL)': \"HCG_Read_2\", 'FSH(mIU/mL)': \"Follicle_Stim_Horm\", 'LH(mIU/mL)': \"Luteninizing_Horm\", 'Waist(inch)': \"Waist_in\", 'Waist:Hip Ratio': \"Waist_Hip_Ratio\", 'TSH (mIU/L)': \"Thyroid_Horm\", 'AMH(ng/mL)': \"Anti_Mull_Horm\", 'PRL(ng/mL)': \"Prolactin\", 'Vit D3 (ng/mL)': \"Vit_D\", 'PRG(ng/mL)': \"Progesterone\", 'RBS(mg/dl)': \"Random_Blood_Sug\", 'BP _Systolic (mmHg)': \"Systolic\", 'BP _Diastolic (mmHg)': \"Diastolic\", 'Follicle No. (R)': \"Foll_No_R\", 'Avg. F size (L) (mm)': \"Avg_Foll_Size_L\", 'Avg. F size (R) (mm)': \"Avg_Foll_Size_R\", 'Endometrium (mm)': \"Endometrium\", 'Height (m)' :\"Height_m\"})"
   ]
  },
  {
   "cell_type": "code",
   "execution_count": 40,
   "id": "e8a2df98",
   "metadata": {},
   "outputs": [
    {
     "data": {
      "text/plain": [
       "Index(['PCOS', 'Age', 'BMI', 'Pulse_Rate', 'Resp_Rate', 'Hemoglobin',\n",
       "       'Cycle_Length', 'Num_Abortions', 'HCG_Read_1', 'HCG_Read_2',\n",
       "       'Follicle_Stim_Horm', 'Luteninizing_Horm', 'Waist_in',\n",
       "       'Waist_Hip_Ratio', 'Thyroid_Horm', 'Anti_Mull_Horm', 'Prolactin',\n",
       "       'Vit_D', 'Progesterone', 'Random_Blood_Sug', 'Systolic', 'Diastolic',\n",
       "       'Foll_No_R', 'Avg_Foll_Size_L', 'Avg_Foll_Size_R', 'Endometrium',\n",
       "       'Height_m'],\n",
       "      dtype='object')"
      ]
     },
     "execution_count": 40,
     "metadata": {},
     "output_type": "execute_result"
    }
   ],
   "source": [
    "PCOS_woinf_ANOVA.columns"
   ]
  },
  {
   "cell_type": "code",
   "execution_count": 41,
   "id": "1dcafe70",
   "metadata": {},
   "outputs": [
    {
     "data": {
      "text/plain": [
       "(541, 27)"
      ]
     },
     "execution_count": 41,
     "metadata": {},
     "output_type": "execute_result"
    }
   ],
   "source": [
    "PCOS_woinf_ANOVA.shape"
   ]
  },
  {
   "cell_type": "markdown",
   "id": "dbf4210d",
   "metadata": {},
   "source": [
    "### Hypothesis Testing\n",
    "\n",
    "My null hypothesis is that the mean of each variable is equal to the same mean of that variable to patients that have PCOS. I will set my significance level to 0.05 so that I can be 95% confident in my conclusion and accept 5% error that my conclusions are incorrect.\n",
    "\n",
    "- $H_0$: $\\mu_{PCOS_{β}}$ = $\\mu_{non-PCOS_{β}}$\n",
    "\n",
    "- $H_a$: $\\mu_{PCOS_{β}}$ $\\neq$ $\\mu_{non-PCOS_{β}}$\n",
    "\n",
    "_Where ${β}$ is equal to the each independent variable or feature in the dataset and $\\alpha $ $= 0.05$._\n",
    "\n",
    "Given that our hypothesis is true, if the probability of observing the average of that variable is extreme or as extreme as the one we observed is higher than the significance level, $\\alpha $ $= 0.05$, then we fail to reject (retain) the null hypothesis. \n",
    "\n",
    "- If the $p-value$ is greater than $\\alpha $, we would retain $H_0$, meaning we have sufficient statistical evidence to assume that the variable we are observing is not correlated with a PCOS diagnosis. \n",
    "- If the $p-value$ is lower than $\\alpha $, we would reject $H_0$ in favor of $H_a$, meaning that we have enough statistical evidence to assume that particular variable is correlated with a PCOS diagnosis and is therefore significant."
   ]
  },
  {
   "cell_type": "code",
   "execution_count": 42,
   "id": "707763b3",
   "metadata": {},
   "outputs": [
    {
     "data": {
      "text/html": [
       "<div>\n",
       "<style scoped>\n",
       "    .dataframe tbody tr th:only-of-type {\n",
       "        vertical-align: middle;\n",
       "    }\n",
       "\n",
       "    .dataframe tbody tr th {\n",
       "        vertical-align: top;\n",
       "    }\n",
       "\n",
       "    .dataframe thead th {\n",
       "        text-align: right;\n",
       "    }\n",
       "</style>\n",
       "<table border=\"1\" class=\"dataframe\">\n",
       "  <thead>\n",
       "    <tr style=\"text-align: right;\">\n",
       "      <th></th>\n",
       "      <th>Source</th>\n",
       "      <th>ddof1</th>\n",
       "      <th>ddof2</th>\n",
       "      <th>F</th>\n",
       "      <th>p-unc</th>\n",
       "      <th>np2</th>\n",
       "    </tr>\n",
       "  </thead>\n",
       "  <tbody>\n",
       "    <tr>\n",
       "      <th>0</th>\n",
       "      <td>Age</td>\n",
       "      <td>28</td>\n",
       "      <td>512</td>\n",
       "      <td>1.812795</td>\n",
       "      <td>0.007146</td>\n",
       "      <td>0.090196</td>\n",
       "    </tr>\n",
       "  </tbody>\n",
       "</table>\n",
       "</div>"
      ],
      "text/plain": [
       "  Source  ddof1  ddof2         F     p-unc       np2\n",
       "0  Age    28     512    1.812795  0.007146  0.090196"
      ]
     },
     "execution_count": 42,
     "metadata": {},
     "output_type": "execute_result"
    }
   ],
   "source": [
    "pg.anova(dv = 'PCOS', between = ['Age'], data = PCOS_woinf_ANOVA)\n",
    "#0.007 < 0.05, reject H0 in favor of Ha. We have enough statistical \\\n",
    "#evidence to suggest that age is correlated with a PCOS diagnosis."
   ]
  },
  {
   "cell_type": "code",
   "execution_count": 43,
   "id": "770c0d6f",
   "metadata": {},
   "outputs": [
    {
     "data": {
      "text/html": [
       "<div>\n",
       "<style scoped>\n",
       "    .dataframe tbody tr th:only-of-type {\n",
       "        vertical-align: middle;\n",
       "    }\n",
       "\n",
       "    .dataframe tbody tr th {\n",
       "        vertical-align: top;\n",
       "    }\n",
       "\n",
       "    .dataframe thead th {\n",
       "        text-align: right;\n",
       "    }\n",
       "</style>\n",
       "<table border=\"1\" class=\"dataframe\">\n",
       "  <thead>\n",
       "    <tr style=\"text-align: right;\">\n",
       "      <th></th>\n",
       "      <th>Source</th>\n",
       "      <th>ddof1</th>\n",
       "      <th>ddof2</th>\n",
       "      <th>F</th>\n",
       "      <th>p-unc</th>\n",
       "      <th>np2</th>\n",
       "    </tr>\n",
       "  </thead>\n",
       "  <tbody>\n",
       "    <tr>\n",
       "      <th>0</th>\n",
       "      <td>BMI</td>\n",
       "      <td>386</td>\n",
       "      <td>154</td>\n",
       "      <td>1.209</td>\n",
       "      <td>0.086</td>\n",
       "      <td>0.752</td>\n",
       "    </tr>\n",
       "  </tbody>\n",
       "</table>\n",
       "</div>"
      ],
      "text/plain": [
       "  Source  ddof1  ddof2      F  p-unc    np2\n",
       "0  BMI    386    154    1.209  0.086  0.752"
      ]
     },
     "execution_count": 43,
     "metadata": {},
     "output_type": "execute_result"
    }
   ],
   "source": [
    "pg.anova(dv = 'PCOS', between = ['BMI'], data = PCOS_woinf_ANOVA).round(3)\n",
    "#0.086 > 0.05, retain H0.We have enough statistical \\\n",
    "#evidence to suggest that BMI is NOT correlated with a PCOS diagnosis."
   ]
  },
  {
   "cell_type": "code",
   "execution_count": 44,
   "id": "98ebdc0b",
   "metadata": {},
   "outputs": [
    {
     "data": {
      "text/html": [
       "<div>\n",
       "<style scoped>\n",
       "    .dataframe tbody tr th:only-of-type {\n",
       "        vertical-align: middle;\n",
       "    }\n",
       "\n",
       "    .dataframe tbody tr th {\n",
       "        vertical-align: top;\n",
       "    }\n",
       "\n",
       "    .dataframe thead th {\n",
       "        text-align: right;\n",
       "    }\n",
       "</style>\n",
       "<table border=\"1\" class=\"dataframe\">\n",
       "  <thead>\n",
       "    <tr style=\"text-align: right;\">\n",
       "      <th></th>\n",
       "      <th>Source</th>\n",
       "      <th>ddof1</th>\n",
       "      <th>ddof2</th>\n",
       "      <th>F</th>\n",
       "      <th>p-unc</th>\n",
       "      <th>np2</th>\n",
       "    </tr>\n",
       "  </thead>\n",
       "  <tbody>\n",
       "    <tr>\n",
       "      <th>0</th>\n",
       "      <td>Pulse_Rate</td>\n",
       "      <td>10</td>\n",
       "      <td>530</td>\n",
       "      <td>1.058</td>\n",
       "      <td>0.393</td>\n",
       "      <td>0.02</td>\n",
       "    </tr>\n",
       "  </tbody>\n",
       "</table>\n",
       "</div>"
      ],
      "text/plain": [
       "       Source  ddof1  ddof2      F  p-unc   np2\n",
       "0  Pulse_Rate  10     530    1.058  0.393  0.02"
      ]
     },
     "execution_count": 44,
     "metadata": {},
     "output_type": "execute_result"
    }
   ],
   "source": [
    "pg.anova(dv = 'PCOS', between = ['Pulse_Rate'], data = PCOS_woinf_ANOVA).round(3)\n",
    "#0.393 > 0.05, retain H0. We have enough statistical \\\n",
    "#evidence to suggest that Pulse Rate is NOT correlated with a PCOS diagnosis."
   ]
  },
  {
   "cell_type": "code",
   "execution_count": 45,
   "id": "1aa76e24",
   "metadata": {},
   "outputs": [
    {
     "data": {
      "text/html": [
       "<div>\n",
       "<style scoped>\n",
       "    .dataframe tbody tr th:only-of-type {\n",
       "        vertical-align: middle;\n",
       "    }\n",
       "\n",
       "    .dataframe tbody tr th {\n",
       "        vertical-align: top;\n",
       "    }\n",
       "\n",
       "    .dataframe thead th {\n",
       "        text-align: right;\n",
       "    }\n",
       "</style>\n",
       "<table border=\"1\" class=\"dataframe\">\n",
       "  <thead>\n",
       "    <tr style=\"text-align: right;\">\n",
       "      <th></th>\n",
       "      <th>Source</th>\n",
       "      <th>ddof1</th>\n",
       "      <th>ddof2</th>\n",
       "      <th>F</th>\n",
       "      <th>p-unc</th>\n",
       "      <th>np2</th>\n",
       "    </tr>\n",
       "  </thead>\n",
       "  <tbody>\n",
       "    <tr>\n",
       "      <th>0</th>\n",
       "      <td>Resp_Rate</td>\n",
       "      <td>7</td>\n",
       "      <td>533</td>\n",
       "      <td>1.383</td>\n",
       "      <td>0.21</td>\n",
       "      <td>0.018</td>\n",
       "    </tr>\n",
       "  </tbody>\n",
       "</table>\n",
       "</div>"
      ],
      "text/plain": [
       "      Source  ddof1  ddof2      F  p-unc    np2\n",
       "0  Resp_Rate  7      533    1.383  0.21   0.018"
      ]
     },
     "execution_count": 45,
     "metadata": {},
     "output_type": "execute_result"
    }
   ],
   "source": [
    "pg.anova(dv = 'PCOS', between = ['Resp_Rate'], data = PCOS_woinf_ANOVA).round(3)\n",
    "#0.21 > 0.05, retain H0. We have enough statistical \\\n",
    "#evidence to suggest that Respirtory Rate is NOT correlated with a PCOS diagnosis."
   ]
  },
  {
   "cell_type": "code",
   "execution_count": 46,
   "id": "6545c763",
   "metadata": {},
   "outputs": [
    {
     "data": {
      "text/html": [
       "<div>\n",
       "<style scoped>\n",
       "    .dataframe tbody tr th:only-of-type {\n",
       "        vertical-align: middle;\n",
       "    }\n",
       "\n",
       "    .dataframe tbody tr th {\n",
       "        vertical-align: top;\n",
       "    }\n",
       "\n",
       "    .dataframe thead th {\n",
       "        text-align: right;\n",
       "    }\n",
       "</style>\n",
       "<table border=\"1\" class=\"dataframe\">\n",
       "  <thead>\n",
       "    <tr style=\"text-align: right;\">\n",
       "      <th></th>\n",
       "      <th>Source</th>\n",
       "      <th>ddof1</th>\n",
       "      <th>ddof2</th>\n",
       "      <th>F</th>\n",
       "      <th>p-unc</th>\n",
       "      <th>np2</th>\n",
       "    </tr>\n",
       "  </thead>\n",
       "  <tbody>\n",
       "    <tr>\n",
       "      <th>0</th>\n",
       "      <td>Hemoglobin</td>\n",
       "      <td>45</td>\n",
       "      <td>495</td>\n",
       "      <td>1.147</td>\n",
       "      <td>0.243</td>\n",
       "      <td>0.094</td>\n",
       "    </tr>\n",
       "  </tbody>\n",
       "</table>\n",
       "</div>"
      ],
      "text/plain": [
       "       Source  ddof1  ddof2      F  p-unc    np2\n",
       "0  Hemoglobin  45     495    1.147  0.243  0.094"
      ]
     },
     "execution_count": 46,
     "metadata": {},
     "output_type": "execute_result"
    }
   ],
   "source": [
    "pg.anova(dv = 'PCOS', between = ['Hemoglobin'], data = PCOS_woinf_ANOVA).round(3)\n",
    "#0.243 > 0.05, retain H0. We have enough statistical \\\n",
    "#evidence to suggest that Hemoglobin is NOT correlated with a PCOS diagnosis."
   ]
  },
  {
   "cell_type": "code",
   "execution_count": 47,
   "id": "e2dacecb",
   "metadata": {},
   "outputs": [
    {
     "data": {
      "text/html": [
       "<div>\n",
       "<style scoped>\n",
       "    .dataframe tbody tr th:only-of-type {\n",
       "        vertical-align: middle;\n",
       "    }\n",
       "\n",
       "    .dataframe tbody tr th {\n",
       "        vertical-align: top;\n",
       "    }\n",
       "\n",
       "    .dataframe thead th {\n",
       "        text-align: right;\n",
       "    }\n",
       "</style>\n",
       "<table border=\"1\" class=\"dataframe\">\n",
       "  <thead>\n",
       "    <tr style=\"text-align: right;\">\n",
       "      <th></th>\n",
       "      <th>Source</th>\n",
       "      <th>ddof1</th>\n",
       "      <th>ddof2</th>\n",
       "      <th>F</th>\n",
       "      <th>p-unc</th>\n",
       "      <th>np2</th>\n",
       "    </tr>\n",
       "  </thead>\n",
       "  <tbody>\n",
       "    <tr>\n",
       "      <th>0</th>\n",
       "      <td>Cycle_Length</td>\n",
       "      <td>11</td>\n",
       "      <td>529</td>\n",
       "      <td>10.368536</td>\n",
       "      <td>2.689072e-17</td>\n",
       "      <td>0.177363</td>\n",
       "    </tr>\n",
       "  </tbody>\n",
       "</table>\n",
       "</div>"
      ],
      "text/plain": [
       "         Source  ddof1  ddof2          F         p-unc       np2\n",
       "0  Cycle_Length  11     529    10.368536  2.689072e-17  0.177363"
      ]
     },
     "execution_count": 47,
     "metadata": {},
     "output_type": "execute_result"
    }
   ],
   "source": [
    "pg.anova(dv = 'PCOS', between = ['Cycle_Length'], data = PCOS_woinf_ANOVA)\n",
    "#0.0 < 0.05, reject H0 in favor of Ha. We have enough statistical \\\n",
    "#evidence to assume that Cycle length is correlated with a PCOS diagnosis."
   ]
  },
  {
   "cell_type": "code",
   "execution_count": 48,
   "id": "c6ba1802",
   "metadata": {},
   "outputs": [
    {
     "data": {
      "text/html": [
       "<div>\n",
       "<style scoped>\n",
       "    .dataframe tbody tr th:only-of-type {\n",
       "        vertical-align: middle;\n",
       "    }\n",
       "\n",
       "    .dataframe tbody tr th {\n",
       "        vertical-align: top;\n",
       "    }\n",
       "\n",
       "    .dataframe thead th {\n",
       "        text-align: right;\n",
       "    }\n",
       "</style>\n",
       "<table border=\"1\" class=\"dataframe\">\n",
       "  <thead>\n",
       "    <tr style=\"text-align: right;\">\n",
       "      <th></th>\n",
       "      <th>Source</th>\n",
       "      <th>ddof1</th>\n",
       "      <th>ddof2</th>\n",
       "      <th>F</th>\n",
       "      <th>p-unc</th>\n",
       "      <th>np2</th>\n",
       "    </tr>\n",
       "  </thead>\n",
       "  <tbody>\n",
       "    <tr>\n",
       "      <th>0</th>\n",
       "      <td>Num_Abortions</td>\n",
       "      <td>5</td>\n",
       "      <td>535</td>\n",
       "      <td>0.808</td>\n",
       "      <td>0.544</td>\n",
       "      <td>0.007</td>\n",
       "    </tr>\n",
       "  </tbody>\n",
       "</table>\n",
       "</div>"
      ],
      "text/plain": [
       "          Source  ddof1  ddof2      F  p-unc    np2\n",
       "0  Num_Abortions  5      535    0.808  0.544  0.007"
      ]
     },
     "execution_count": 48,
     "metadata": {},
     "output_type": "execute_result"
    }
   ],
   "source": [
    "pg.anova(dv = 'PCOS', between = ['Num_Abortions'], data = PCOS_woinf_ANOVA).round(3)\n",
    "#0.544 > 0.05, retain H0. We have enough statistical \\\n",
    "#evidence to suggest that the number of abortions is NOT correlated with a PCOS diagnosis. "
   ]
  },
  {
   "cell_type": "code",
   "execution_count": 49,
   "id": "343a12a7",
   "metadata": {},
   "outputs": [
    {
     "data": {
      "text/html": [
       "<div>\n",
       "<style scoped>\n",
       "    .dataframe tbody tr th:only-of-type {\n",
       "        vertical-align: middle;\n",
       "    }\n",
       "\n",
       "    .dataframe tbody tr th {\n",
       "        vertical-align: top;\n",
       "    }\n",
       "\n",
       "    .dataframe thead th {\n",
       "        text-align: right;\n",
       "    }\n",
       "</style>\n",
       "<table border=\"1\" class=\"dataframe\">\n",
       "  <thead>\n",
       "    <tr style=\"text-align: right;\">\n",
       "      <th></th>\n",
       "      <th>Source</th>\n",
       "      <th>ddof1</th>\n",
       "      <th>ddof2</th>\n",
       "      <th>F</th>\n",
       "      <th>p-unc</th>\n",
       "      <th>np2</th>\n",
       "    </tr>\n",
       "  </thead>\n",
       "  <tbody>\n",
       "    <tr>\n",
       "      <th>0</th>\n",
       "      <td>HCG_Read_1</td>\n",
       "      <td>306</td>\n",
       "      <td>234</td>\n",
       "      <td>1.214</td>\n",
       "      <td>0.059</td>\n",
       "      <td>0.614</td>\n",
       "    </tr>\n",
       "  </tbody>\n",
       "</table>\n",
       "</div>"
      ],
      "text/plain": [
       "       Source  ddof1  ddof2      F  p-unc    np2\n",
       "0  HCG_Read_1  306    234    1.214  0.059  0.614"
      ]
     },
     "execution_count": 49,
     "metadata": {},
     "output_type": "execute_result"
    }
   ],
   "source": [
    "pg.anova(dv = 'PCOS', between = ['HCG_Read_1'], data = PCOS_woinf_ANOVA).round(3)\n",
    "#0.059 > 0.05, retain H0. We have enough statistical \\\n",
    "#evidence to suggest that HCG is NOT correlated with a PCOS diagnosis. "
   ]
  },
  {
   "cell_type": "code",
   "execution_count": 50,
   "id": "3b1e8ac4",
   "metadata": {},
   "outputs": [
    {
     "data": {
      "text/html": [
       "<div>\n",
       "<style scoped>\n",
       "    .dataframe tbody tr th:only-of-type {\n",
       "        vertical-align: middle;\n",
       "    }\n",
       "\n",
       "    .dataframe tbody tr th {\n",
       "        vertical-align: top;\n",
       "    }\n",
       "\n",
       "    .dataframe thead th {\n",
       "        text-align: right;\n",
       "    }\n",
       "</style>\n",
       "<table border=\"1\" class=\"dataframe\">\n",
       "  <thead>\n",
       "    <tr style=\"text-align: right;\">\n",
       "      <th></th>\n",
       "      <th>Source</th>\n",
       "      <th>ddof1</th>\n",
       "      <th>ddof2</th>\n",
       "      <th>F</th>\n",
       "      <th>p-unc</th>\n",
       "      <th>np2</th>\n",
       "    </tr>\n",
       "  </thead>\n",
       "  <tbody>\n",
       "    <tr>\n",
       "      <th>0</th>\n",
       "      <td>HCG_Read_2</td>\n",
       "      <td>201</td>\n",
       "      <td>339</td>\n",
       "      <td>1.092</td>\n",
       "      <td>0.238</td>\n",
       "      <td>0.393</td>\n",
       "    </tr>\n",
       "  </tbody>\n",
       "</table>\n",
       "</div>"
      ],
      "text/plain": [
       "       Source  ddof1  ddof2      F  p-unc    np2\n",
       "0  HCG_Read_2  201    339    1.092  0.238  0.393"
      ]
     },
     "execution_count": 50,
     "metadata": {},
     "output_type": "execute_result"
    }
   ],
   "source": [
    "pg.anova(dv = 'PCOS', between = ['HCG_Read_2'], data = PCOS_woinf_ANOVA).round(3)\n",
    "#0.238 > 0.05, retain H0. We have enough statistical \\\n",
    "#evidence to suggest that HCG is NOT correlated with a PCOS diagnosis.\n",
    "#This second reading would be a confirmation of the first. "
   ]
  },
  {
   "cell_type": "code",
   "execution_count": 51,
   "id": "62fc5680",
   "metadata": {},
   "outputs": [
    {
     "data": {
      "text/html": [
       "<div>\n",
       "<style scoped>\n",
       "    .dataframe tbody tr th:only-of-type {\n",
       "        vertical-align: middle;\n",
       "    }\n",
       "\n",
       "    .dataframe tbody tr th {\n",
       "        vertical-align: top;\n",
       "    }\n",
       "\n",
       "    .dataframe thead th {\n",
       "        text-align: right;\n",
       "    }\n",
       "</style>\n",
       "<table border=\"1\" class=\"dataframe\">\n",
       "  <thead>\n",
       "    <tr style=\"text-align: right;\">\n",
       "      <th></th>\n",
       "      <th>Source</th>\n",
       "      <th>ddof1</th>\n",
       "      <th>ddof2</th>\n",
       "      <th>F</th>\n",
       "      <th>p-unc</th>\n",
       "      <th>np2</th>\n",
       "    </tr>\n",
       "  </thead>\n",
       "  <tbody>\n",
       "    <tr>\n",
       "      <th>0</th>\n",
       "      <td>Follicle_Stim_Horm</td>\n",
       "      <td>370</td>\n",
       "      <td>170</td>\n",
       "      <td>1.310372</td>\n",
       "      <td>0.022304</td>\n",
       "      <td>0.740394</td>\n",
       "    </tr>\n",
       "  </tbody>\n",
       "</table>\n",
       "</div>"
      ],
      "text/plain": [
       "               Source  ddof1  ddof2         F     p-unc       np2\n",
       "0  Follicle_Stim_Horm  370    170    1.310372  0.022304  0.740394"
      ]
     },
     "execution_count": 51,
     "metadata": {},
     "output_type": "execute_result"
    }
   ],
   "source": [
    "pg.anova(dv = 'PCOS', between = ['Follicle_Stim_Horm'], data = PCOS_woinf_ANOVA)\n",
    "#0.022 < 0.05, reject H0 in favor of Ha. We have enough statistical \\\n",
    "#evidence to assume that the Follicle Stimulating Hormone is correlated with a PCOS diagnosis."
   ]
  },
  {
   "cell_type": "code",
   "execution_count": 52,
   "id": "e889f615",
   "metadata": {},
   "outputs": [
    {
     "data": {
      "text/html": [
       "<div>\n",
       "<style scoped>\n",
       "    .dataframe tbody tr th:only-of-type {\n",
       "        vertical-align: middle;\n",
       "    }\n",
       "\n",
       "    .dataframe tbody tr th {\n",
       "        vertical-align: top;\n",
       "    }\n",
       "\n",
       "    .dataframe thead th {\n",
       "        text-align: right;\n",
       "    }\n",
       "</style>\n",
       "<table border=\"1\" class=\"dataframe\">\n",
       "  <thead>\n",
       "    <tr style=\"text-align: right;\">\n",
       "      <th></th>\n",
       "      <th>Source</th>\n",
       "      <th>ddof1</th>\n",
       "      <th>ddof2</th>\n",
       "      <th>F</th>\n",
       "      <th>p-unc</th>\n",
       "      <th>np2</th>\n",
       "    </tr>\n",
       "  </thead>\n",
       "  <tbody>\n",
       "    <tr>\n",
       "      <th>0</th>\n",
       "      <td>Luteninizing_Horm</td>\n",
       "      <td>341</td>\n",
       "      <td>199</td>\n",
       "      <td>1.153</td>\n",
       "      <td>0.133</td>\n",
       "      <td>0.664</td>\n",
       "    </tr>\n",
       "  </tbody>\n",
       "</table>\n",
       "</div>"
      ],
      "text/plain": [
       "              Source  ddof1  ddof2      F  p-unc    np2\n",
       "0  Luteninizing_Horm  341    199    1.153  0.133  0.664"
      ]
     },
     "execution_count": 52,
     "metadata": {},
     "output_type": "execute_result"
    }
   ],
   "source": [
    "pg.anova(dv = 'PCOS', between = ['Luteninizing_Horm'], data = PCOS_woinf_ANOVA).round(3)\n",
    "#0.133 > 0.05, retain H0. We have enough statistical \\\n",
    "#evidence to suggest that the Luteninzing Hormone is NOT correlated with a PCOS diagnosis. "
   ]
  },
  {
   "cell_type": "code",
   "execution_count": 53,
   "id": "522856ee",
   "metadata": {},
   "outputs": [
    {
     "data": {
      "text/html": [
       "<div>\n",
       "<style scoped>\n",
       "    .dataframe tbody tr th:only-of-type {\n",
       "        vertical-align: middle;\n",
       "    }\n",
       "\n",
       "    .dataframe tbody tr th {\n",
       "        vertical-align: top;\n",
       "    }\n",
       "\n",
       "    .dataframe thead th {\n",
       "        text-align: right;\n",
       "    }\n",
       "</style>\n",
       "<table border=\"1\" class=\"dataframe\">\n",
       "  <thead>\n",
       "    <tr style=\"text-align: right;\">\n",
       "      <th></th>\n",
       "      <th>Source</th>\n",
       "      <th>ddof1</th>\n",
       "      <th>ddof2</th>\n",
       "      <th>F</th>\n",
       "      <th>p-unc</th>\n",
       "      <th>np2</th>\n",
       "    </tr>\n",
       "  </thead>\n",
       "  <tbody>\n",
       "    <tr>\n",
       "      <th>0</th>\n",
       "      <td>Waist_in</td>\n",
       "      <td>22</td>\n",
       "      <td>518</td>\n",
       "      <td>2.105</td>\n",
       "      <td>0.003</td>\n",
       "      <td>0.082</td>\n",
       "    </tr>\n",
       "  </tbody>\n",
       "</table>\n",
       "</div>"
      ],
      "text/plain": [
       "     Source  ddof1  ddof2      F  p-unc    np2\n",
       "0  Waist_in  22     518    2.105  0.003  0.082"
      ]
     },
     "execution_count": 53,
     "metadata": {},
     "output_type": "execute_result"
    }
   ],
   "source": [
    "pg.anova(dv = 'PCOS', between = ['Waist_in'], data = PCOS_woinf_ANOVA).round(3)\n",
    "#0.003 < 0.05, reject H0 in favor of Ha. We have enough statistical \\\n",
    "#evidence to assume that Waist measurement is correlated with a PCOS diagnosis."
   ]
  },
  {
   "cell_type": "code",
   "execution_count": 54,
   "id": "cc15a0aa",
   "metadata": {},
   "outputs": [
    {
     "data": {
      "text/html": [
       "<div>\n",
       "<style scoped>\n",
       "    .dataframe tbody tr th:only-of-type {\n",
       "        vertical-align: middle;\n",
       "    }\n",
       "\n",
       "    .dataframe tbody tr th {\n",
       "        vertical-align: top;\n",
       "    }\n",
       "\n",
       "    .dataframe thead th {\n",
       "        text-align: right;\n",
       "    }\n",
       "</style>\n",
       "<table border=\"1\" class=\"dataframe\">\n",
       "  <thead>\n",
       "    <tr style=\"text-align: right;\">\n",
       "      <th></th>\n",
       "      <th>Source</th>\n",
       "      <th>ddof1</th>\n",
       "      <th>ddof2</th>\n",
       "      <th>F</th>\n",
       "      <th>p-unc</th>\n",
       "      <th>np2</th>\n",
       "    </tr>\n",
       "  </thead>\n",
       "  <tbody>\n",
       "    <tr>\n",
       "      <th>0</th>\n",
       "      <td>Waist_Hip_Ratio</td>\n",
       "      <td>91</td>\n",
       "      <td>449</td>\n",
       "      <td>1.342</td>\n",
       "      <td>0.029</td>\n",
       "      <td>0.214</td>\n",
       "    </tr>\n",
       "  </tbody>\n",
       "</table>\n",
       "</div>"
      ],
      "text/plain": [
       "            Source  ddof1  ddof2      F  p-unc    np2\n",
       "0  Waist_Hip_Ratio  91     449    1.342  0.029  0.214"
      ]
     },
     "execution_count": 54,
     "metadata": {},
     "output_type": "execute_result"
    }
   ],
   "source": [
    "pg.anova(dv = 'PCOS', between = ['Waist_Hip_Ratio'], data = PCOS_woinf_ANOVA).round(3)\n",
    "#0.029 < 0.05, reject H0 in favor of Ha. We have enough statistical \\\n",
    "#evidence to assume that Waist:Hip Ratio is correlated with a PCOS diagnosis."
   ]
  },
  {
   "cell_type": "code",
   "execution_count": 55,
   "id": "57346ea5",
   "metadata": {},
   "outputs": [
    {
     "data": {
      "text/html": [
       "<div>\n",
       "<style scoped>\n",
       "    .dataframe tbody tr th:only-of-type {\n",
       "        vertical-align: middle;\n",
       "    }\n",
       "\n",
       "    .dataframe tbody tr th {\n",
       "        vertical-align: top;\n",
       "    }\n",
       "\n",
       "    .dataframe thead th {\n",
       "        text-align: right;\n",
       "    }\n",
       "</style>\n",
       "<table border=\"1\" class=\"dataframe\">\n",
       "  <thead>\n",
       "    <tr style=\"text-align: right;\">\n",
       "      <th></th>\n",
       "      <th>Source</th>\n",
       "      <th>ddof1</th>\n",
       "      <th>ddof2</th>\n",
       "      <th>F</th>\n",
       "      <th>p-unc</th>\n",
       "      <th>np2</th>\n",
       "    </tr>\n",
       "  </thead>\n",
       "  <tbody>\n",
       "    <tr>\n",
       "      <th>0</th>\n",
       "      <td>Thyroid_Horm</td>\n",
       "      <td>307</td>\n",
       "      <td>233</td>\n",
       "      <td>1.096</td>\n",
       "      <td>0.23</td>\n",
       "      <td>0.591</td>\n",
       "    </tr>\n",
       "  </tbody>\n",
       "</table>\n",
       "</div>"
      ],
      "text/plain": [
       "         Source  ddof1  ddof2      F  p-unc    np2\n",
       "0  Thyroid_Horm  307    233    1.096  0.23   0.591"
      ]
     },
     "execution_count": 55,
     "metadata": {},
     "output_type": "execute_result"
    }
   ],
   "source": [
    "pg.anova(dv = 'PCOS', between = ['Thyroid_Horm'], data = PCOS_woinf_ANOVA).round(3)\n",
    "#0.23 > 0.05, retain H0. The Luteninzing Hormone is NOT correlated with a PCOS diagnosis. "
   ]
  },
  {
   "cell_type": "code",
   "execution_count": 56,
   "id": "304e071c",
   "metadata": {},
   "outputs": [
    {
     "data": {
      "text/html": [
       "<div>\n",
       "<style scoped>\n",
       "    .dataframe tbody tr th:only-of-type {\n",
       "        vertical-align: middle;\n",
       "    }\n",
       "\n",
       "    .dataframe tbody tr th {\n",
       "        vertical-align: top;\n",
       "    }\n",
       "\n",
       "    .dataframe thead th {\n",
       "        text-align: right;\n",
       "    }\n",
       "</style>\n",
       "<table border=\"1\" class=\"dataframe\">\n",
       "  <thead>\n",
       "    <tr style=\"text-align: right;\">\n",
       "      <th></th>\n",
       "      <th>Source</th>\n",
       "      <th>ddof1</th>\n",
       "      <th>ddof2</th>\n",
       "      <th>F</th>\n",
       "      <th>p-unc</th>\n",
       "      <th>np2</th>\n",
       "    </tr>\n",
       "  </thead>\n",
       "  <tbody>\n",
       "    <tr>\n",
       "      <th>0</th>\n",
       "      <td>Anti_Mull_Horm</td>\n",
       "      <td>300</td>\n",
       "      <td>240</td>\n",
       "      <td>1.631257</td>\n",
       "      <td>0.000042</td>\n",
       "      <td>0.670952</td>\n",
       "    </tr>\n",
       "  </tbody>\n",
       "</table>\n",
       "</div>"
      ],
      "text/plain": [
       "           Source  ddof1  ddof2         F     p-unc       np2\n",
       "0  Anti_Mull_Horm  300    240    1.631257  0.000042  0.670952"
      ]
     },
     "execution_count": 56,
     "metadata": {},
     "output_type": "execute_result"
    }
   ],
   "source": [
    "pg.anova(dv = 'PCOS', between = ['Anti_Mull_Horm'], data = PCOS_woinf_ANOVA)\n",
    "#0.0 < 0.05, reject H0 in favor of Ha. We have enough statistical \\\n",
    "#evidence to assume that Anti-Mullarian Hormone is correlated with a PCOS diagnosis. "
   ]
  },
  {
   "cell_type": "code",
   "execution_count": 57,
   "id": "22954a01",
   "metadata": {},
   "outputs": [
    {
     "data": {
      "text/html": [
       "<div>\n",
       "<style scoped>\n",
       "    .dataframe tbody tr th:only-of-type {\n",
       "        vertical-align: middle;\n",
       "    }\n",
       "\n",
       "    .dataframe tbody tr th {\n",
       "        vertical-align: top;\n",
       "    }\n",
       "\n",
       "    .dataframe thead th {\n",
       "        text-align: right;\n",
       "    }\n",
       "</style>\n",
       "<table border=\"1\" class=\"dataframe\">\n",
       "  <thead>\n",
       "    <tr style=\"text-align: right;\">\n",
       "      <th></th>\n",
       "      <th>Source</th>\n",
       "      <th>ddof1</th>\n",
       "      <th>ddof2</th>\n",
       "      <th>F</th>\n",
       "      <th>p-unc</th>\n",
       "      <th>np2</th>\n",
       "    </tr>\n",
       "  </thead>\n",
       "  <tbody>\n",
       "    <tr>\n",
       "      <th>0</th>\n",
       "      <td>Prolactin</td>\n",
       "      <td>480</td>\n",
       "      <td>60</td>\n",
       "      <td>1.626332</td>\n",
       "      <td>0.010587</td>\n",
       "      <td>0.928626</td>\n",
       "    </tr>\n",
       "  </tbody>\n",
       "</table>\n",
       "</div>"
      ],
      "text/plain": [
       "      Source  ddof1  ddof2         F     p-unc       np2\n",
       "0  Prolactin  480    60     1.626332  0.010587  0.928626"
      ]
     },
     "execution_count": 57,
     "metadata": {},
     "output_type": "execute_result"
    }
   ],
   "source": [
    "pg.anova(dv = 'PCOS', between = ['Prolactin'], data = PCOS_woinf_ANOVA)\n",
    "#0.011 < 0.05, reject H0 in favor of Ha. We have enough statistical \\\n",
    "#evidence to assume that Prolactin is correlated with a PCOS diagnosis."
   ]
  },
  {
   "cell_type": "code",
   "execution_count": 58,
   "id": "a43c7ad7",
   "metadata": {},
   "outputs": [
    {
     "data": {
      "text/html": [
       "<div>\n",
       "<style scoped>\n",
       "    .dataframe tbody tr th:only-of-type {\n",
       "        vertical-align: middle;\n",
       "    }\n",
       "\n",
       "    .dataframe tbody tr th {\n",
       "        vertical-align: top;\n",
       "    }\n",
       "\n",
       "    .dataframe thead th {\n",
       "        text-align: right;\n",
       "    }\n",
       "</style>\n",
       "<table border=\"1\" class=\"dataframe\">\n",
       "  <thead>\n",
       "    <tr style=\"text-align: right;\">\n",
       "      <th></th>\n",
       "      <th>Source</th>\n",
       "      <th>ddof1</th>\n",
       "      <th>ddof2</th>\n",
       "      <th>F</th>\n",
       "      <th>p-unc</th>\n",
       "      <th>np2</th>\n",
       "    </tr>\n",
       "  </thead>\n",
       "  <tbody>\n",
       "    <tr>\n",
       "      <th>0</th>\n",
       "      <td>Vit_D</td>\n",
       "      <td>330</td>\n",
       "      <td>210</td>\n",
       "      <td>1.177</td>\n",
       "      <td>0.1</td>\n",
       "      <td>0.649</td>\n",
       "    </tr>\n",
       "  </tbody>\n",
       "</table>\n",
       "</div>"
      ],
      "text/plain": [
       "  Source  ddof1  ddof2      F  p-unc    np2\n",
       "0  Vit_D  330    210    1.177  0.1    0.649"
      ]
     },
     "execution_count": 58,
     "metadata": {},
     "output_type": "execute_result"
    }
   ],
   "source": [
    "pg.anova(dv = 'PCOS', between = ['Vit_D'], data = PCOS_woinf_ANOVA).round(3)\n",
    "#0.1 > 0.05, retain H0. We have enough statistical \\\n",
    "#evidence to suggest that Vitamin D is NOT correlated with a PCOS diagnosis."
   ]
  },
  {
   "cell_type": "code",
   "execution_count": 59,
   "id": "19ab1772",
   "metadata": {},
   "outputs": [
    {
     "data": {
      "text/html": [
       "<div>\n",
       "<style scoped>\n",
       "    .dataframe tbody tr th:only-of-type {\n",
       "        vertical-align: middle;\n",
       "    }\n",
       "\n",
       "    .dataframe tbody tr th {\n",
       "        vertical-align: top;\n",
       "    }\n",
       "\n",
       "    .dataframe thead th {\n",
       "        text-align: right;\n",
       "    }\n",
       "</style>\n",
       "<table border=\"1\" class=\"dataframe\">\n",
       "  <thead>\n",
       "    <tr style=\"text-align: right;\">\n",
       "      <th></th>\n",
       "      <th>Source</th>\n",
       "      <th>ddof1</th>\n",
       "      <th>ddof2</th>\n",
       "      <th>F</th>\n",
       "      <th>p-unc</th>\n",
       "      <th>np2</th>\n",
       "    </tr>\n",
       "  </thead>\n",
       "  <tbody>\n",
       "    <tr>\n",
       "      <th>0</th>\n",
       "      <td>Random_Blood_Sug</td>\n",
       "      <td>54</td>\n",
       "      <td>486</td>\n",
       "      <td>0.998</td>\n",
       "      <td>0.483</td>\n",
       "      <td>0.1</td>\n",
       "    </tr>\n",
       "  </tbody>\n",
       "</table>\n",
       "</div>"
      ],
      "text/plain": [
       "             Source  ddof1  ddof2      F  p-unc  np2\n",
       "0  Random_Blood_Sug  54     486    0.998  0.483  0.1"
      ]
     },
     "execution_count": 59,
     "metadata": {},
     "output_type": "execute_result"
    }
   ],
   "source": [
    "pg.anova(dv = 'PCOS', between = ['Random_Blood_Sug'], data = PCOS_woinf_ANOVA).round(3)\n",
    "#0.483 > 0.05, retain H0. We have enough statistical \\\n",
    "#evidence to suggest that Random Blood Sugar is NOT correlated with a PCOS diagnosis. "
   ]
  },
  {
   "cell_type": "code",
   "execution_count": 60,
   "id": "d7428e41",
   "metadata": {},
   "outputs": [
    {
     "data": {
      "text/html": [
       "<div>\n",
       "<style scoped>\n",
       "    .dataframe tbody tr th:only-of-type {\n",
       "        vertical-align: middle;\n",
       "    }\n",
       "\n",
       "    .dataframe tbody tr th {\n",
       "        vertical-align: top;\n",
       "    }\n",
       "\n",
       "    .dataframe thead th {\n",
       "        text-align: right;\n",
       "    }\n",
       "</style>\n",
       "<table border=\"1\" class=\"dataframe\">\n",
       "  <thead>\n",
       "    <tr style=\"text-align: right;\">\n",
       "      <th></th>\n",
       "      <th>Source</th>\n",
       "      <th>ddof1</th>\n",
       "      <th>ddof2</th>\n",
       "      <th>F</th>\n",
       "      <th>p-unc</th>\n",
       "      <th>np2</th>\n",
       "    </tr>\n",
       "  </thead>\n",
       "  <tbody>\n",
       "    <tr>\n",
       "      <th>0</th>\n",
       "      <td>Progesterone</td>\n",
       "      <td>88</td>\n",
       "      <td>452</td>\n",
       "      <td>1.008</td>\n",
       "      <td>0.466</td>\n",
       "      <td>0.164</td>\n",
       "    </tr>\n",
       "  </tbody>\n",
       "</table>\n",
       "</div>"
      ],
      "text/plain": [
       "         Source  ddof1  ddof2      F  p-unc    np2\n",
       "0  Progesterone  88     452    1.008  0.466  0.164"
      ]
     },
     "execution_count": 60,
     "metadata": {},
     "output_type": "execute_result"
    }
   ],
   "source": [
    "pg.anova(dv = 'PCOS', between = ['Progesterone'], data = PCOS_woinf_ANOVA).round(3)\n",
    "#0.466 > 0.05, retain H0. We have enough statistical \\\n",
    "#evidence to suggest that Progesterone is NOT correlated with a PCOS diagnosis."
   ]
  },
  {
   "cell_type": "code",
   "execution_count": 61,
   "id": "a676d466",
   "metadata": {},
   "outputs": [
    {
     "data": {
      "text/html": [
       "<div>\n",
       "<style scoped>\n",
       "    .dataframe tbody tr th:only-of-type {\n",
       "        vertical-align: middle;\n",
       "    }\n",
       "\n",
       "    .dataframe tbody tr th {\n",
       "        vertical-align: top;\n",
       "    }\n",
       "\n",
       "    .dataframe thead th {\n",
       "        text-align: right;\n",
       "    }\n",
       "</style>\n",
       "<table border=\"1\" class=\"dataframe\">\n",
       "  <thead>\n",
       "    <tr style=\"text-align: right;\">\n",
       "      <th></th>\n",
       "      <th>Source</th>\n",
       "      <th>ddof1</th>\n",
       "      <th>ddof2</th>\n",
       "      <th>F</th>\n",
       "      <th>p-unc</th>\n",
       "      <th>np2</th>\n",
       "    </tr>\n",
       "  </thead>\n",
       "  <tbody>\n",
       "    <tr>\n",
       "      <th>0</th>\n",
       "      <td>Systolic</td>\n",
       "      <td>5</td>\n",
       "      <td>535</td>\n",
       "      <td>0.344</td>\n",
       "      <td>0.886</td>\n",
       "      <td>0.003</td>\n",
       "    </tr>\n",
       "  </tbody>\n",
       "</table>\n",
       "</div>"
      ],
      "text/plain": [
       "     Source  ddof1  ddof2      F  p-unc    np2\n",
       "0  Systolic  5      535    0.344  0.886  0.003"
      ]
     },
     "execution_count": 61,
     "metadata": {},
     "output_type": "execute_result"
    }
   ],
   "source": [
    "pg.anova(dv = 'PCOS', between = ['Systolic'], data = PCOS_woinf_ANOVA).round(3)\n",
    "#0.886 > 0.05, retain H0. We have enough statistical \\\n",
    "#evidence to suggest that Systolic blood pressure is NOT correlated with a PCOS diagnosis."
   ]
  },
  {
   "cell_type": "code",
   "execution_count": 62,
   "id": "040877d9",
   "metadata": {},
   "outputs": [
    {
     "data": {
      "text/html": [
       "<div>\n",
       "<style scoped>\n",
       "    .dataframe tbody tr th:only-of-type {\n",
       "        vertical-align: middle;\n",
       "    }\n",
       "\n",
       "    .dataframe tbody tr th {\n",
       "        vertical-align: top;\n",
       "    }\n",
       "\n",
       "    .dataframe thead th {\n",
       "        text-align: right;\n",
       "    }\n",
       "</style>\n",
       "<table border=\"1\" class=\"dataframe\">\n",
       "  <thead>\n",
       "    <tr style=\"text-align: right;\">\n",
       "      <th></th>\n",
       "      <th>Source</th>\n",
       "      <th>ddof1</th>\n",
       "      <th>ddof2</th>\n",
       "      <th>F</th>\n",
       "      <th>p-unc</th>\n",
       "      <th>np2</th>\n",
       "    </tr>\n",
       "  </thead>\n",
       "  <tbody>\n",
       "    <tr>\n",
       "      <th>0</th>\n",
       "      <td>Diastolic</td>\n",
       "      <td>4</td>\n",
       "      <td>536</td>\n",
       "      <td>0.475</td>\n",
       "      <td>0.754</td>\n",
       "      <td>0.004</td>\n",
       "    </tr>\n",
       "  </tbody>\n",
       "</table>\n",
       "</div>"
      ],
      "text/plain": [
       "      Source  ddof1  ddof2      F  p-unc    np2\n",
       "0  Diastolic  4      536    0.475  0.754  0.004"
      ]
     },
     "execution_count": 62,
     "metadata": {},
     "output_type": "execute_result"
    }
   ],
   "source": [
    "pg.anova(dv = 'PCOS', between = ['Diastolic'], data = PCOS_woinf_ANOVA).round(3)\n",
    "#0.754 > 0.05, retain H0. We have enough statistical \\\n",
    "#evidence to suggest that Diastolic blood pressure is NOT correlated with a PCOS diagnosis."
   ]
  },
  {
   "cell_type": "code",
   "execution_count": 63,
   "id": "c9347376",
   "metadata": {},
   "outputs": [
    {
     "data": {
      "text/html": [
       "<div>\n",
       "<style scoped>\n",
       "    .dataframe tbody tr th:only-of-type {\n",
       "        vertical-align: middle;\n",
       "    }\n",
       "\n",
       "    .dataframe tbody tr th {\n",
       "        vertical-align: top;\n",
       "    }\n",
       "\n",
       "    .dataframe thead th {\n",
       "        text-align: right;\n",
       "    }\n",
       "</style>\n",
       "<table border=\"1\" class=\"dataframe\">\n",
       "  <thead>\n",
       "    <tr style=\"text-align: right;\">\n",
       "      <th></th>\n",
       "      <th>Source</th>\n",
       "      <th>ddof1</th>\n",
       "      <th>ddof2</th>\n",
       "      <th>F</th>\n",
       "      <th>p-unc</th>\n",
       "      <th>np2</th>\n",
       "    </tr>\n",
       "  </thead>\n",
       "  <tbody>\n",
       "    <tr>\n",
       "      <th>0</th>\n",
       "      <td>Foll_No_R</td>\n",
       "      <td>19</td>\n",
       "      <td>521</td>\n",
       "      <td>24.37326</td>\n",
       "      <td>6.429953e-60</td>\n",
       "      <td>0.470578</td>\n",
       "    </tr>\n",
       "  </tbody>\n",
       "</table>\n",
       "</div>"
      ],
      "text/plain": [
       "      Source  ddof1  ddof2         F         p-unc       np2\n",
       "0  Foll_No_R  19     521    24.37326  6.429953e-60  0.470578"
      ]
     },
     "execution_count": 63,
     "metadata": {},
     "output_type": "execute_result"
    }
   ],
   "source": [
    "pg.anova(dv = 'PCOS', between = ['Foll_No_R'], data = PCOS_woinf_ANOVA)\n",
    "#0.0 < 0.05, reject H0 in favor of Ha. We have enough statistical \\\n",
    "#evidence to assume that Follicle Count in the right ovary is correlated with a PCOS diagnosis."
   ]
  },
  {
   "cell_type": "code",
   "execution_count": 64,
   "id": "9a3166dc",
   "metadata": {},
   "outputs": [
    {
     "data": {
      "text/html": [
       "<div>\n",
       "<style scoped>\n",
       "    .dataframe tbody tr th:only-of-type {\n",
       "        vertical-align: middle;\n",
       "    }\n",
       "\n",
       "    .dataframe tbody tr th {\n",
       "        vertical-align: top;\n",
       "    }\n",
       "\n",
       "    .dataframe thead th {\n",
       "        text-align: right;\n",
       "    }\n",
       "</style>\n",
       "<table border=\"1\" class=\"dataframe\">\n",
       "  <thead>\n",
       "    <tr style=\"text-align: right;\">\n",
       "      <th></th>\n",
       "      <th>Source</th>\n",
       "      <th>ddof1</th>\n",
       "      <th>ddof2</th>\n",
       "      <th>F</th>\n",
       "      <th>p-unc</th>\n",
       "      <th>np2</th>\n",
       "    </tr>\n",
       "  </thead>\n",
       "  <tbody>\n",
       "    <tr>\n",
       "      <th>0</th>\n",
       "      <td>Avg_Foll_Size_L</td>\n",
       "      <td>30</td>\n",
       "      <td>510</td>\n",
       "      <td>1.253</td>\n",
       "      <td>0.17</td>\n",
       "      <td>0.069</td>\n",
       "    </tr>\n",
       "  </tbody>\n",
       "</table>\n",
       "</div>"
      ],
      "text/plain": [
       "            Source  ddof1  ddof2      F  p-unc    np2\n",
       "0  Avg_Foll_Size_L  30     510    1.253  0.17   0.069"
      ]
     },
     "execution_count": 64,
     "metadata": {},
     "output_type": "execute_result"
    }
   ],
   "source": [
    "pg.anova(dv = 'PCOS', between = ['Avg_Foll_Size_L'], data = PCOS_woinf_ANOVA).round(3)\n",
    "#0.17 > 0.05, retain H0. We have enough statistical \\\n",
    "#evidence to suggest that Avg Follicle Size in the left ovary does NOT impact PCOS diagnosis."
   ]
  },
  {
   "cell_type": "code",
   "execution_count": 65,
   "id": "75476556",
   "metadata": {},
   "outputs": [
    {
     "data": {
      "text/html": [
       "<div>\n",
       "<style scoped>\n",
       "    .dataframe tbody tr th:only-of-type {\n",
       "        vertical-align: middle;\n",
       "    }\n",
       "\n",
       "    .dataframe tbody tr th {\n",
       "        vertical-align: top;\n",
       "    }\n",
       "\n",
       "    .dataframe thead th {\n",
       "        text-align: right;\n",
       "    }\n",
       "</style>\n",
       "<table border=\"1\" class=\"dataframe\">\n",
       "  <thead>\n",
       "    <tr style=\"text-align: right;\">\n",
       "      <th></th>\n",
       "      <th>Source</th>\n",
       "      <th>ddof1</th>\n",
       "      <th>ddof2</th>\n",
       "      <th>F</th>\n",
       "      <th>p-unc</th>\n",
       "      <th>np2</th>\n",
       "    </tr>\n",
       "  </thead>\n",
       "  <tbody>\n",
       "    <tr>\n",
       "      <th>0</th>\n",
       "      <td>Avg_Foll_Size_R</td>\n",
       "      <td>31</td>\n",
       "      <td>509</td>\n",
       "      <td>0.909</td>\n",
       "      <td>0.611</td>\n",
       "      <td>0.052</td>\n",
       "    </tr>\n",
       "  </tbody>\n",
       "</table>\n",
       "</div>"
      ],
      "text/plain": [
       "            Source  ddof1  ddof2      F  p-unc    np2\n",
       "0  Avg_Foll_Size_R  31     509    0.909  0.611  0.052"
      ]
     },
     "execution_count": 65,
     "metadata": {},
     "output_type": "execute_result"
    }
   ],
   "source": [
    "pg.anova(dv = 'PCOS', between = ['Avg_Foll_Size_R'], data = PCOS_woinf_ANOVA).round(3)\n",
    "#0.611 > 0.05, retain H0. We have enough statistical \\\n",
    "#evidence to suggest that Avg Follicle Size in the right ovary is NOT correlated with a PCOS diagnosis."
   ]
  },
  {
   "cell_type": "code",
   "execution_count": 66,
   "id": "31d31d26",
   "metadata": {},
   "outputs": [
    {
     "data": {
      "text/html": [
       "<div>\n",
       "<style scoped>\n",
       "    .dataframe tbody tr th:only-of-type {\n",
       "        vertical-align: middle;\n",
       "    }\n",
       "\n",
       "    .dataframe tbody tr th {\n",
       "        vertical-align: top;\n",
       "    }\n",
       "\n",
       "    .dataframe thead th {\n",
       "        text-align: right;\n",
       "    }\n",
       "</style>\n",
       "<table border=\"1\" class=\"dataframe\">\n",
       "  <thead>\n",
       "    <tr style=\"text-align: right;\">\n",
       "      <th></th>\n",
       "      <th>Source</th>\n",
       "      <th>ddof1</th>\n",
       "      <th>ddof2</th>\n",
       "      <th>F</th>\n",
       "      <th>p-unc</th>\n",
       "      <th>np2</th>\n",
       "    </tr>\n",
       "  </thead>\n",
       "  <tbody>\n",
       "    <tr>\n",
       "      <th>0</th>\n",
       "      <td>Endometrium</td>\n",
       "      <td>90</td>\n",
       "      <td>450</td>\n",
       "      <td>1.021</td>\n",
       "      <td>0.435</td>\n",
       "      <td>0.17</td>\n",
       "    </tr>\n",
       "  </tbody>\n",
       "</table>\n",
       "</div>"
      ],
      "text/plain": [
       "        Source  ddof1  ddof2      F  p-unc   np2\n",
       "0  Endometrium  90     450    1.021  0.435  0.17"
      ]
     },
     "execution_count": 66,
     "metadata": {},
     "output_type": "execute_result"
    }
   ],
   "source": [
    "pg.anova(dv = 'PCOS', between = ['Endometrium'], data = PCOS_woinf_ANOVA).round(3)\n",
    "#0.435 > 0.05, retain H0. We have enough statistical \\\n",
    "#evidence to suggest that Endometrium lining measurement is NOT correlated with a PCOS diagnosis. "
   ]
  },
  {
   "cell_type": "code",
   "execution_count": 67,
   "id": "bd2a8421",
   "metadata": {},
   "outputs": [
    {
     "data": {
      "text/html": [
       "<div>\n",
       "<style scoped>\n",
       "    .dataframe tbody tr th:only-of-type {\n",
       "        vertical-align: middle;\n",
       "    }\n",
       "\n",
       "    .dataframe tbody tr th {\n",
       "        vertical-align: top;\n",
       "    }\n",
       "\n",
       "    .dataframe thead th {\n",
       "        text-align: right;\n",
       "    }\n",
       "</style>\n",
       "<table border=\"1\" class=\"dataframe\">\n",
       "  <thead>\n",
       "    <tr style=\"text-align: right;\">\n",
       "      <th></th>\n",
       "      <th>Source</th>\n",
       "      <th>ddof1</th>\n",
       "      <th>ddof2</th>\n",
       "      <th>F</th>\n",
       "      <th>p-unc</th>\n",
       "      <th>np2</th>\n",
       "    </tr>\n",
       "  </thead>\n",
       "  <tbody>\n",
       "    <tr>\n",
       "      <th>0</th>\n",
       "      <td>Height_m</td>\n",
       "      <td>49</td>\n",
       "      <td>491</td>\n",
       "      <td>0.936</td>\n",
       "      <td>0.6</td>\n",
       "      <td>0.085</td>\n",
       "    </tr>\n",
       "  </tbody>\n",
       "</table>\n",
       "</div>"
      ],
      "text/plain": [
       "     Source  ddof1  ddof2      F  p-unc    np2\n",
       "0  Height_m  49     491    0.936  0.6    0.085"
      ]
     },
     "execution_count": 67,
     "metadata": {},
     "output_type": "execute_result"
    }
   ],
   "source": [
    "pg.anova(dv = 'PCOS', between = ['Height_m'], data = PCOS_woinf_ANOVA).round(3)\n",
    "#0.6 > 0.05, retain H0. We have enough statistical \\\n",
    "#evidence to suggest that Height is NOT correlated with a PCOS diagnosis."
   ]
  },
  {
   "cell_type": "markdown",
   "id": "a3f5435b",
   "metadata": {},
   "source": [
    "Now that th ANOVA tests are completed we will plot the p-values of the features that are suggested to be correlated  with PCOS for a visual summary."
   ]
  },
  {
   "cell_type": "code",
   "execution_count": 68,
   "id": "c2bfffc2",
   "metadata": {},
   "outputs": [],
   "source": [
    "#Create a dictionary containing all Features and corresponding P-Values that are correlated with PCOS.\n",
    "corr_pvals = { 'Features': ['Age', 'BMI', 'Pulse_Rate', 'Resp_Rate', 'Hemoglobin',\n",
    "       'Cycle_Length', 'Num_Abortions', 'HCG_Read_1', 'HCG_Read_2',\n",
    "       'Follicle_Stim_Horm', 'Luteninizing_Horm', 'Waist_in',\n",
    "       'Waist_Hip_Ratio', 'Thyroid_Horm', 'Anti_Mull_Horm', 'Prolactin',\n",
    "       'Vit_D', 'Progesterone', 'Random_Blood_Sug', 'Systolic', 'Diastolic',\n",
    "       'Foll_No_R', 'Avg_Foll_Size_L', 'Avg_Foll_Size_R', 'Endometrium',\n",
    "       'Height_m'],\n",
    "            'P-Values': [0.007146, 0.086, 0.393, 0.21, 0.243, 2.689072e-17, 0.544, 0.059, 0.238, 0.022304, \n",
    "                         0.133, 0.003, 0.029, 0.23, 0.000042, 0.010587, 0.1, 0.466, 0.483, 0.886, 0.754, \n",
    "                         6.429953e-60, 0.17, 0.611, 0.435, 0.6]}"
   ]
  },
  {
   "cell_type": "code",
   "execution_count": 69,
   "id": "8c7437b0",
   "metadata": {},
   "outputs": [],
   "source": [
    "#Create the data frame from the dictionary above and sort by highest to lowest P-value recieved from each ANOVA. \n",
    "corr_pvals_df = pd.DataFrame.from_dict(corr_pvals)\n",
    "corr_pvals_df = corr_pvals_df.sort_values(by = 'P-Values', ascending = True)"
   ]
  },
  {
   "cell_type": "code",
   "execution_count": 70,
   "id": "bad6feb8",
   "metadata": {},
   "outputs": [
    {
     "data": {
      "text/plain": [
       "<matplotlib.collections.LineCollection at 0x233a13f9eb0>"
      ]
     },
     "execution_count": 70,
     "metadata": {},
     "output_type": "execute_result"
    },
    {
     "data": {
      "image/png": "[encoded data removed]",
      "text/plain": [
       "<Figure size 1008x576 with 1 Axes>"
      ]
     },
     "metadata": {},
     "output_type": "display_data"
    }
   ],
   "source": [
    "#Create the bar plot of P-values.\n",
    "fig, vax = plt.subplots(figsize = (14, 8))\n",
    "sns.barplot(x = \"P-Values\", y = \"Features\", data = corr_pvals_df, orient = \"h\", palette = \"light:b_r\").set(title = 'P-Values of PCOS Features')\n",
    "plt.vlines([0.05], 0, 1, transform = vax.get_xaxis_transform(), colors ='coral')\n"
   ]
  },
  {
   "cell_type": "markdown",
   "id": "5a8737ce",
   "metadata": {},
   "source": [
    "From the above inferential statistical analysis, evidence suggests that the features that differ from PCOS diagnosed patients and non-PCOS patients are the following:\n",
    "\n",
    "- `Foll_No_R`\n",
    "- `Cycle_Length`\n",
    "- `Anti_Mull_Horm`\n",
    "- `Waist_in`\n",
    "- `Age`\n",
    "- `Prolactin`\n",
    "- `Follicle_Stim_Horm`\n",
    "- `Waist_Hip_Ratio`\n",
    "\n",
    "If we were a patient or a provider, we could start our examination with these characteristics to see if PCOS was a cause of infertility or any other exhibiting symptoms."
   ]
  },
  {
   "cell_type": "markdown",
   "id": "a0e352ca",
   "metadata": {},
   "source": [
    "Looking at the distributions for the follicle counts in the right ovary in PCOS and non-PCOS pateints below, we can make the following observations:\n",
    "\n",
    "- PCOS patients have follicle counts that are normally distributed over a wider range of data (higher variation). \n",
    "- PCOS patients have higher follicle counts than the non-PCOS pateints which validates the research done thus far by medical professionals:\n",
    "         - Pateints that are diagnosed with PCOS have higher follicle counts. PCOS pateints have higher follicles, but they often do not grow to maturity, releasing an egg and therefore triggering ovulation."
   ]
  },
  {
   "cell_type": "code",
   "execution_count": 71,
   "id": "ae6460e9",
   "metadata": {
    "scrolled": true
   },
   "outputs": [
    {
     "data": {
      "text/plain": [
       "<seaborn.axisgrid.FacetGrid at 0x233a142cf70>"
      ]
     },
     "execution_count": 71,
     "metadata": {},
     "output_type": "execute_result"
    },
    {
     "data": {
      "image/png": "[encoded data removed]",
      "text/plain": [
       "<Figure size 414.975x360 with 1 Axes>"
      ]
     },
     "metadata": {},
     "output_type": "display_data"
    }
   ],
   "source": [
    "sns.displot(data = PCOS_woinf_ANOVA, x = \"Foll_No_R\", hue = 'PCOS', kde = True).set(title = \"PCOS vs. non-PCOS Right Ovary Follicle Count\")"
   ]
  },
  {
   "cell_type": "markdown",
   "id": "fcbb39a3",
   "metadata": {},
   "source": [
    "In the cycle length distributions below, we can make the following observations:\n",
    "\n",
    "- non-PCOS patients period duration is centered around 5 days and is a tighter distribution indicating less variation in cycles. This would indicate a regular period and regular cycle.\n",
    "- PCOS patients distribution is flatter, indicating more variation in cycles which would be irregular. "
   ]
  },
  {
   "cell_type": "code",
   "execution_count": 72,
   "id": "4fe8e9ec",
   "metadata": {},
   "outputs": [
    {
     "data": {
      "text/plain": [
       "<seaborn.axisgrid.FacetGrid at 0x233a13d5ee0>"
      ]
     },
     "execution_count": 72,
     "metadata": {},
     "output_type": "execute_result"
    },
    {
     "data": {
      "image/png": "[encoded data removed]",
      "text/plain": [
       "<Figure size 414.975x360 with 1 Axes>"
      ]
     },
     "metadata": {},
     "output_type": "display_data"
    }
   ],
   "source": [
    "sns.displot(data = PCOS_woinf_ANOVA, x = \"Cycle_Length\", hue = 'PCOS', kde = True).set(title = \"PCOS vs. non-PCOS Menstrual Cycle Duration\")"
   ]
  },
  {
   "cell_type": "markdown",
   "id": "6abb3c48",
   "metadata": {},
   "source": [
    "The Anti-Mullerian Hormone corresponds to a person's eggcount. Average levels are between 1 ng/mL to 3.0 ng/mL. Low levels are under 1.0. In the distributions below, we can make the following observations:\n",
    "\n",
    "- non-PCOS pateints have higher counts between the average level range.\n",
    "- PCOS patients have lower counts in the average level range, but it's more spread into the higher range."
   ]
  },
  {
   "cell_type": "code",
   "execution_count": 73,
   "id": "a55bc33d",
   "metadata": {
    "scrolled": true
   },
   "outputs": [
    {
     "data": {
      "text/plain": [
       "<seaborn.axisgrid.FacetGrid at 0x233a145fcd0>"
      ]
     },
     "execution_count": 73,
     "metadata": {},
     "output_type": "execute_result"
    },
    {
     "data": {
      "image/png": "[encoded data removed]",
      "text/plain": [
       "<Figure size 414.975x360 with 1 Axes>"
      ]
     },
     "metadata": {},
     "output_type": "display_data"
    }
   ],
   "source": [
    "sns.displot(data = PCOS_woinf_ANOVA, x = \"Anti_Mull_Horm\", hue = 'PCOS', kde = True).set(title = \"PCOS vs. non-PCOS Anti-Mullerian Hormone\")"
   ]
  },
  {
   "cell_type": "markdown",
   "id": "91157a42",
   "metadata": {},
   "source": [
    "There has been research linked to obsesity and PCOS. In the distributions below, the non-PCOS patients have a tighter curve centered around 34 inches, while non-PCOS pateints have a wider distribution indicating more variability. This might require additional investigation."
   ]
  },
  {
   "cell_type": "code",
   "execution_count": 74,
   "id": "5460792b",
   "metadata": {},
   "outputs": [
    {
     "data": {
      "text/plain": [
       "<seaborn.axisgrid.FacetGrid at 0x233a1f6dbb0>"
      ]
     },
     "execution_count": 74,
     "metadata": {},
     "output_type": "execute_result"
    },
    {
     "data": {
      "image/png": "[encoded data removed]",
      "text/plain": [
       "<Figure size 414.975x360 with 1 Axes>"
      ]
     },
     "metadata": {},
     "output_type": "display_data"
    }
   ],
   "source": [
    "sns.displot(data = PCOS_woinf_ANOVA, x = \"Waist_in\", hue = 'PCOS', kde = True).set(title = \"PCOS vs. non-PCOS Waist Measurement in Inches\")"
   ]
  },
  {
   "cell_type": "markdown",
   "id": "de78ed6f",
   "metadata": {},
   "source": [
    "In the age distributions below, it looks like that PCOS patients are younger than non-PCOS pateints. "
   ]
  },
  {
   "cell_type": "code",
   "execution_count": 75,
   "id": "26acfab4",
   "metadata": {
    "scrolled": true
   },
   "outputs": [
    {
     "data": {
      "text/plain": [
       "<seaborn.axisgrid.FacetGrid at 0x233a1f5aca0>"
      ]
     },
     "execution_count": 75,
     "metadata": {},
     "output_type": "execute_result"
    },
    {
     "data": {
      "image/png": "[encoded data removed]",
      "text/plain": [
       "<Figure size 414.975x360 with 1 Axes>"
      ]
     },
     "metadata": {},
     "output_type": "display_data"
    }
   ],
   "source": [
    "sns.displot(data = PCOS_woinf_ANOVA, x = \"Age\", hue = 'PCOS', kde = True).set(title = \"PCOS vs. non-PCOS Ages\")"
   ]
  },
  {
   "cell_type": "markdown",
   "id": "a726c9c2",
   "metadata": {},
   "source": [
    "In non-PCOS pateints, it looks like there is much variability in the distribution. The distribution for PCOS pateints looks more normal, however, there is still variation. "
   ]
  },
  {
   "cell_type": "code",
   "execution_count": 76,
   "id": "efecfd16",
   "metadata": {},
   "outputs": [
    {
     "data": {
      "text/plain": [
       "<seaborn.axisgrid.FacetGrid at 0x233a216af40>"
      ]
     },
     "execution_count": 76,
     "metadata": {},
     "output_type": "execute_result"
    },
    {
     "data": {
      "image/png": "[encoded data removed]",
      "text/plain": [
       "<Figure size 414.975x360 with 1 Axes>"
      ]
     },
     "metadata": {},
     "output_type": "display_data"
    }
   ],
   "source": [
    "sns.displot(data = PCOS_woinf_ANOVA, x = \"Waist_Hip_Ratio\", hue = 'PCOS', kde = True).set(title = \"PCOS vs. non-PCOS Waist Hip Ratio\")"
   ]
  },
  {
   "cell_type": "markdown",
   "id": "bc12c124",
   "metadata": {},
   "source": [
    "Prolactin is a hormone that is often checked for infertility or irregular menstrual periods. Normal values for prolactin are:\n",
    "\n",
    "- Men: Less than 20 ng/mL \n",
    "- Nonpregnant Women: less than 25 ng/mL\n",
    "- Pregnant Women: 80 to 400 ng/mL\n",
    "\n",
    "Non-PCOS patients have a tighter, smoother distribution indicating less variation. It looks like most pateints in both groups have 25 ng/mL or more. However, there are several pateints in both groups less than 20 ng/mL indicating 'normal' male values."
   ]
  },
  {
   "cell_type": "code",
   "execution_count": 77,
   "id": "ce166f5c",
   "metadata": {
    "scrolled": true
   },
   "outputs": [
    {
     "data": {
      "text/plain": [
       "<seaborn.axisgrid.FacetGrid at 0x233a32c4700>"
      ]
     },
     "execution_count": 77,
     "metadata": {},
     "output_type": "execute_result"
    },
    {
     "data": {
      "image/png": "[encoded data removed]",
      "text/plain": [
       "<Figure size 414.975x360 with 1 Axes>"
      ]
     },
     "metadata": {},
     "output_type": "display_data"
    }
   ],
   "source": [
    "sns.displot(data = PCOS_woinf_ANOVA, x = \"Prolactin\", hue = 'PCOS', kde = True).set(title = \"PCOS vs. non-PCOS Prolactin Levels\")"
   ]
  },
  {
   "cell_type": "markdown",
   "id": "9cde23e3",
   "metadata": {},
   "source": [
    "Now that we've taken a look at the numerical features that are correlated with PCOS, let's take a look at the symptoms in our data set which are categorical features."
   ]
  },
  {
   "cell_type": "code",
   "execution_count": 78,
   "id": "37a171be",
   "metadata": {},
   "outputs": [],
   "source": [
    "#To tabularize the categoical features, we need to create a new DataFrame that gives us the ability \n",
    "#to view the data by those patinets that are exhibiting symptom and by their PCOS diagnosis. This will require\n",
    "#to use the melt() function to change the structure of our dataframe.\n",
    "\n",
    "test_df = PCOS_woinf.melt(id_vars = \"PCOS (Y/N)\", value_vars = ['Weight gain(Y/N)', 'hair growth(Y/N)', 'Skin darkening (Y/N)', 'Hair loss(Y/N)',\n",
    "       'Acne (Y/N)', 'Reg.Exercise(Y/N)', 'Pregnant(Y/N)'], var_name = \"Symptom\",  value_name = \"Exhibits_Symptom\")"
   ]
  },
  {
   "cell_type": "code",
   "execution_count": 79,
   "id": "2958ddbc",
   "metadata": {},
   "outputs": [],
   "source": [
    "#Using the melted dataframe test_df to tabularize our data. \n",
    "\n",
    "symptom_data_table = pd.crosstab(test_df.Symptom, columns = [test_df[\"PCOS (Y/N)\"], test_df.Exhibits_Symptom]).apply(lambda row: row/row.sum(), axis = 1)"
   ]
  },
  {
   "cell_type": "code",
   "execution_count": 80,
   "id": "2a74302f",
   "metadata": {
    "scrolled": true
   },
   "outputs": [
    {
     "data": {
      "text/html": [
       "<style type=\"text/css\">\n",
       "#T_cd9df_row0_col2, #T_cd9df_row1_col2, #T_cd9df_row2_col3, #T_cd9df_row3_col3, #T_cd9df_row4_col1, #T_cd9df_row5_col2, #T_cd9df_row6_col1 {\n",
       "  color: white;\n",
       "  font-weight: bold;\n",
       "  background-color: coral;\n",
       "}\n",
       "</style>\n",
       "<table id=\"T_cd9df\">\n",
       "  <thead>\n",
       "    <tr>\n",
       "      <th class=\"index_name level0\" >PCOS (Y/N)</th>\n",
       "      <th id=\"T_cd9df_level0_col0\" class=\"col_heading level0 col0\" colspan=\"2\">0.000000</th>\n",
       "      <th id=\"T_cd9df_level0_col2\" class=\"col_heading level0 col2\" colspan=\"2\">1.000000</th>\n",
       "    </tr>\n",
       "    <tr>\n",
       "      <th class=\"index_name level1\" >Exhibits_Symptom</th>\n",
       "      <th id=\"T_cd9df_level1_col0\" class=\"col_heading level1 col0\" >False</th>\n",
       "      <th id=\"T_cd9df_level1_col1\" class=\"col_heading level1 col1\" >True</th>\n",
       "      <th id=\"T_cd9df_level1_col2\" class=\"col_heading level1 col2\" >False</th>\n",
       "      <th id=\"T_cd9df_level1_col3\" class=\"col_heading level1 col3\" >True</th>\n",
       "    </tr>\n",
       "    <tr>\n",
       "      <th class=\"index_name level0\" >Symptom</th>\n",
       "      <th class=\"blank col0\" >&nbsp;</th>\n",
       "      <th class=\"blank col1\" >&nbsp;</th>\n",
       "      <th class=\"blank col2\" >&nbsp;</th>\n",
       "      <th class=\"blank col3\" >&nbsp;</th>\n",
       "    </tr>\n",
       "  </thead>\n",
       "  <tbody>\n",
       "    <tr>\n",
       "      <th id=\"T_cd9df_level0_row0\" class=\"row_heading level0 row0\" >Acne (Y/N)</th>\n",
       "      <td id=\"T_cd9df_row0_col0\" class=\"data row0 col0\" >0.410351</td>\n",
       "      <td id=\"T_cd9df_row0_col1\" class=\"data row0 col1\" >0.262477</td>\n",
       "      <td id=\"T_cd9df_row0_col2\" class=\"data row0 col2\" >0.099815</td>\n",
       "      <td id=\"T_cd9df_row0_col3\" class=\"data row0 col3\" >0.227357</td>\n",
       "    </tr>\n",
       "    <tr>\n",
       "      <th id=\"T_cd9df_level0_row1\" class=\"row_heading level0 row1\" >Hair loss(Y/N)</th>\n",
       "      <td id=\"T_cd9df_row1_col0\" class=\"data row1 col0\" >0.408503</td>\n",
       "      <td id=\"T_cd9df_row1_col1\" class=\"data row1 col1\" >0.264325</td>\n",
       "      <td id=\"T_cd9df_row1_col2\" class=\"data row1 col2\" >0.138632</td>\n",
       "      <td id=\"T_cd9df_row1_col3\" class=\"data row1 col3\" >0.188540</td>\n",
       "    </tr>\n",
       "    <tr>\n",
       "      <th id=\"T_cd9df_level0_row2\" class=\"row_heading level0 row2\" >Pregnant(Y/N)</th>\n",
       "      <td id=\"T_cd9df_row2_col0\" class=\"data row2 col0\" >0.410351</td>\n",
       "      <td id=\"T_cd9df_row2_col1\" class=\"data row2 col1\" >0.262477</td>\n",
       "      <td id=\"T_cd9df_row2_col2\" class=\"data row2 col2\" >0.208872</td>\n",
       "      <td id=\"T_cd9df_row2_col3\" class=\"data row2 col3\" >0.118299</td>\n",
       "    </tr>\n",
       "    <tr>\n",
       "      <th id=\"T_cd9df_level0_row3\" class=\"row_heading level0 row3\" >Reg.Exercise(Y/N)</th>\n",
       "      <td id=\"T_cd9df_row3_col0\" class=\"data row3 col0\" >0.519409</td>\n",
       "      <td id=\"T_cd9df_row3_col1\" class=\"data row3 col1\" >0.153420</td>\n",
       "      <td id=\"T_cd9df_row3_col2\" class=\"data row3 col2\" >0.232902</td>\n",
       "      <td id=\"T_cd9df_row3_col3\" class=\"data row3 col3\" >0.094270</td>\n",
       "    </tr>\n",
       "    <tr>\n",
       "      <th id=\"T_cd9df_level0_row4\" class=\"row_heading level0 row4\" >Skin darkening (Y/N)</th>\n",
       "      <td id=\"T_cd9df_row4_col0\" class=\"data row4 col0\" >0.569316</td>\n",
       "      <td id=\"T_cd9df_row4_col1\" class=\"data row4 col1\" >0.103512</td>\n",
       "      <td id=\"T_cd9df_row4_col2\" class=\"data row4 col2\" >0.123845</td>\n",
       "      <td id=\"T_cd9df_row4_col3\" class=\"data row4 col3\" >0.203327</td>\n",
       "    </tr>\n",
       "    <tr>\n",
       "      <th id=\"T_cd9df_level0_row5\" class=\"row_heading level0 row5\" >Weight gain(Y/N)</th>\n",
       "      <td id=\"T_cd9df_row5_col0\" class=\"data row5 col0\" >0.519409</td>\n",
       "      <td id=\"T_cd9df_row5_col1\" class=\"data row5 col1\" >0.153420</td>\n",
       "      <td id=\"T_cd9df_row5_col2\" class=\"data row5 col2\" >0.103512</td>\n",
       "      <td id=\"T_cd9df_row5_col3\" class=\"data row5 col3\" >0.223660</td>\n",
       "    </tr>\n",
       "    <tr>\n",
       "      <th id=\"T_cd9df_level0_row6\" class=\"row_heading level0 row6\" >hair growth(Y/N)</th>\n",
       "      <td id=\"T_cd9df_row6_col0\" class=\"data row6 col0\" >0.585952</td>\n",
       "      <td id=\"T_cd9df_row6_col1\" class=\"data row6 col1\" >0.086876</td>\n",
       "      <td id=\"T_cd9df_row6_col2\" class=\"data row6 col2\" >0.140481</td>\n",
       "      <td id=\"T_cd9df_row6_col3\" class=\"data row6 col3\" >0.186691</td>\n",
       "    </tr>\n",
       "  </tbody>\n",
       "</table>\n"
      ],
      "text/plain": [
       "<pandas.io.formats.style.Styler at 0x233a3432070>"
      ]
     },
     "execution_count": 80,
     "metadata": {},
     "output_type": "execute_result"
    }
   ],
   "source": [
    "#Formatting the data so it's easier to read. In the table below, the minimum values are highlighted in dark blue.\n",
    "\n",
    "symptom_data_table.loc[:].style.highlight_min(axis=1, props='color:white; font-weight:bold; background-color:coral;')"
   ]
  },
  {
   "cell_type": "code",
   "execution_count": 81,
   "id": "6c94623f",
   "metadata": {},
   "outputs": [
    {
     "data": {
      "text/html": [
       "<style type=\"text/css\">\n",
       "#T_db395_row0_col0, #T_db395_row1_col0, #T_db395_row2_col0, #T_db395_row3_col0, #T_db395_row4_col0, #T_db395_row5_col0, #T_db395_row6_col0 {\n",
       "  color: white;\n",
       "  font-weight: bold;\n",
       "  background-color: coral;\n",
       "}\n",
       "</style>\n",
       "<table id=\"T_db395\">\n",
       "  <thead>\n",
       "    <tr>\n",
       "      <th class=\"index_name level0\" >PCOS (Y/N)</th>\n",
       "      <th id=\"T_db395_level0_col0\" class=\"col_heading level0 col0\" colspan=\"2\">0.000000</th>\n",
       "      <th id=\"T_db395_level0_col2\" class=\"col_heading level0 col2\" colspan=\"2\">1.000000</th>\n",
       "    </tr>\n",
       "    <tr>\n",
       "      <th class=\"index_name level1\" >Exhibits_Symptom</th>\n",
       "      <th id=\"T_db395_level1_col0\" class=\"col_heading level1 col0\" >False</th>\n",
       "      <th id=\"T_db395_level1_col1\" class=\"col_heading level1 col1\" >True</th>\n",
       "      <th id=\"T_db395_level1_col2\" class=\"col_heading level1 col2\" >False</th>\n",
       "      <th id=\"T_db395_level1_col3\" class=\"col_heading level1 col3\" >True</th>\n",
       "    </tr>\n",
       "    <tr>\n",
       "      <th class=\"index_name level0\" >Symptom</th>\n",
       "      <th class=\"blank col0\" >&nbsp;</th>\n",
       "      <th class=\"blank col1\" >&nbsp;</th>\n",
       "      <th class=\"blank col2\" >&nbsp;</th>\n",
       "      <th class=\"blank col3\" >&nbsp;</th>\n",
       "    </tr>\n",
       "  </thead>\n",
       "  <tbody>\n",
       "    <tr>\n",
       "      <th id=\"T_db395_level0_row0\" class=\"row_heading level0 row0\" >Acne (Y/N)</th>\n",
       "      <td id=\"T_db395_row0_col0\" class=\"data row0 col0\" >0.410351</td>\n",
       "      <td id=\"T_db395_row0_col1\" class=\"data row0 col1\" >0.262477</td>\n",
       "      <td id=\"T_db395_row0_col2\" class=\"data row0 col2\" >0.099815</td>\n",
       "      <td id=\"T_db395_row0_col3\" class=\"data row0 col3\" >0.227357</td>\n",
       "    </tr>\n",
       "    <tr>\n",
       "      <th id=\"T_db395_level0_row1\" class=\"row_heading level0 row1\" >Hair loss(Y/N)</th>\n",
       "      <td id=\"T_db395_row1_col0\" class=\"data row1 col0\" >0.408503</td>\n",
       "      <td id=\"T_db395_row1_col1\" class=\"data row1 col1\" >0.264325</td>\n",
       "      <td id=\"T_db395_row1_col2\" class=\"data row1 col2\" >0.138632</td>\n",
       "      <td id=\"T_db395_row1_col3\" class=\"data row1 col3\" >0.188540</td>\n",
       "    </tr>\n",
       "    <tr>\n",
       "      <th id=\"T_db395_level0_row2\" class=\"row_heading level0 row2\" >Pregnant(Y/N)</th>\n",
       "      <td id=\"T_db395_row2_col0\" class=\"data row2 col0\" >0.410351</td>\n",
       "      <td id=\"T_db395_row2_col1\" class=\"data row2 col1\" >0.262477</td>\n",
       "      <td id=\"T_db395_row2_col2\" class=\"data row2 col2\" >0.208872</td>\n",
       "      <td id=\"T_db395_row2_col3\" class=\"data row2 col3\" >0.118299</td>\n",
       "    </tr>\n",
       "    <tr>\n",
       "      <th id=\"T_db395_level0_row3\" class=\"row_heading level0 row3\" >Reg.Exercise(Y/N)</th>\n",
       "      <td id=\"T_db395_row3_col0\" class=\"data row3 col0\" >0.519409</td>\n",
       "      <td id=\"T_db395_row3_col1\" class=\"data row3 col1\" >0.153420</td>\n",
       "      <td id=\"T_db395_row3_col2\" class=\"data row3 col2\" >0.232902</td>\n",
       "      <td id=\"T_db395_row3_col3\" class=\"data row3 col3\" >0.094270</td>\n",
       "    </tr>\n",
       "    <tr>\n",
       "      <th id=\"T_db395_level0_row4\" class=\"row_heading level0 row4\" >Skin darkening (Y/N)</th>\n",
       "      <td id=\"T_db395_row4_col0\" class=\"data row4 col0\" >0.569316</td>\n",
       "      <td id=\"T_db395_row4_col1\" class=\"data row4 col1\" >0.103512</td>\n",
       "      <td id=\"T_db395_row4_col2\" class=\"data row4 col2\" >0.123845</td>\n",
       "      <td id=\"T_db395_row4_col3\" class=\"data row4 col3\" >0.203327</td>\n",
       "    </tr>\n",
       "    <tr>\n",
       "      <th id=\"T_db395_level0_row5\" class=\"row_heading level0 row5\" >Weight gain(Y/N)</th>\n",
       "      <td id=\"T_db395_row5_col0\" class=\"data row5 col0\" >0.519409</td>\n",
       "      <td id=\"T_db395_row5_col1\" class=\"data row5 col1\" >0.153420</td>\n",
       "      <td id=\"T_db395_row5_col2\" class=\"data row5 col2\" >0.103512</td>\n",
       "      <td id=\"T_db395_row5_col3\" class=\"data row5 col3\" >0.223660</td>\n",
       "    </tr>\n",
       "    <tr>\n",
       "      <th id=\"T_db395_level0_row6\" class=\"row_heading level0 row6\" >hair growth(Y/N)</th>\n",
       "      <td id=\"T_db395_row6_col0\" class=\"data row6 col0\" >0.585952</td>\n",
       "      <td id=\"T_db395_row6_col1\" class=\"data row6 col1\" >0.086876</td>\n",
       "      <td id=\"T_db395_row6_col2\" class=\"data row6 col2\" >0.140481</td>\n",
       "      <td id=\"T_db395_row6_col3\" class=\"data row6 col3\" >0.186691</td>\n",
       "    </tr>\n",
       "  </tbody>\n",
       "</table>\n"
      ],
      "text/plain": [
       "<pandas.io.formats.style.Styler at 0x233a3478eb0>"
      ]
     },
     "execution_count": 81,
     "metadata": {},
     "output_type": "execute_result"
    }
   ],
   "source": [
    "#Formatting the data so it's easier to read. In the table below, the maximum values are highlighted in dark blue.\n",
    "\n",
    "symptom_data_table.loc[:].style.highlight_max(axis=1, props='color:white; font-weight:bold; background-color:coral;')"
   ]
  },
  {
   "cell_type": "markdown",
   "id": "10b77565",
   "metadata": {},
   "source": [
    "Observations about Symptoms:\n",
    "\n",
    "- Most patients that are not diagnosed with PCOS do not exhibit any symptoms. \n",
    "- Pateints that ARE diagnosed with PCOS, have the lowest percentages of exhibiting symptoms of both Acne and Hair Loss. \n",
    "- Pateints that ARE diagnosed with PCOS, make up the smallest percentage of patients that were pregant in our sample. "
   ]
  },
  {
   "cell_type": "markdown",
   "id": "36bde8ba",
   "metadata": {},
   "source": [
    "## Conclusion"
   ]
  },
  {
   "cell_type": "markdown",
   "id": "d808f0c2",
   "metadata": {},
   "source": [
    "To conclude our Exploratory Data Analysis, let's revisit our research questions:"
   ]
  },
  {
   "cell_type": "markdown",
   "id": "7667f8b2",
   "metadata": {},
   "source": [
    " #### 1. Are there any features that are correlated with PCOS? \n",
    " \n",
    "  - The original data set had 45 features, after data cleaning and pre-processing, we had 43 features to analyze.\n",
    "  - We went from 43 features to 27 features by creating a Correlation Matrix to see which features were correlated with each other and dropped any features that had a value of 0.7 or higher: `Weight (Kg)`, `Weight (lbs)`, `Follicle (L)`, `FSH/LH`, `Hip(inch)`, and `Height (cm)`. \n",
    "  - After the Correlation Matrix, we created a new DataFrame `PCOS_woinf_ANOVA` to analyze only the 27 kept features using One-Way ANOVA.\n",
    "  - Once we conducted the One-Way ANOVA, we saw that only 8 out of the 27 features showed statistical evidence that they differ from PCOS indicating that those features might be correlated with a PCOS diagnosis:\n",
    "        - `Foll_No_R`\n",
    "        - `Cycle_Length`\n",
    "        - `Anti_Mull_Horm`\n",
    "        - `Waist_in`\n",
    "        - `Age`\n",
    "        - `Prolactin`\n",
    "        - `Follicle_Stim_Horm`\n",
    "        - `Waist_Hip_Ratio`\n",
    "\n",
    "- After we identified these 8 features, we plotted histograms to validate and visualize the difference between non-PCOS and PCOS patients. \n",
    "- Based on our analysis, these 8 features show an indication that they are correlated with PCOS. \n",
    "- Since PCOS characteristics do vary, this might assist providers in providing a starting point for conducting their exams for a PCOS diagnosis."
   ]
  },
  {
   "cell_type": "markdown",
   "id": "f76b5aba",
   "metadata": {},
   "source": [
    "#### 2. What are the most frequent symptoms PCOS pateints exihibit?\n",
    "\n",
    "- Weight Gain, Acne and Skin Darkening are the most frequent symptoms PCOS pateints exhibit."
   ]
  },
  {
   "cell_type": "markdown",
   "id": "fb07d1cc",
   "metadata": {},
   "source": [
    "#### 3. Do non-PCOS patients exhibit similar symptoms to those diagnosed with PCOS?\n",
    "\n",
    "- Acne and Hair Loss are the most frequent symptoms in our sample in non-PCOS pateints. However, most of the non-PCOS pateints have fairly low percentages of experiencing any symptoms compared to PCOS pateints. "
   ]
  },
  {
   "cell_type": "markdown",
   "id": "83167805",
   "metadata": {},
   "source": [
    "#### Additional EDA"
   ]
  },
  {
   "cell_type": "markdown",
   "id": "a1a3a5c0",
   "metadata": {},
   "source": [
    " - For additional analysis, I created a DataFrame `PCOS_outiers_removed` to remove outliers.\n",
    " - Since we cannot safely assume that all of our data is normal, I chose to leave the outliers in as it's already a small data set.\n",
    " - Code and DataFrame defined below if you would like to take a look at the various plots and data using the DataFrame with outliers removed."
   ]
  },
  {
   "cell_type": "code",
   "execution_count": 82,
   "id": "331bfd12",
   "metadata": {},
   "outputs": [
    {
     "data": {
      "text/plain": [
       "(427, 46)"
      ]
     },
     "execution_count": 82,
     "metadata": {},
     "output_type": "execute_result"
    }
   ],
   "source": [
    "constraints = PCOS_woinf.select_dtypes(include = [np.number]).apply(lambda x: np.abs(stats.zscore(x)) < 3, result_type = 'expand').all(axis = 1)\n",
    "PCOS_outliers_removed = PCOS_woinf.drop(PCOS_woinf.index[~constraints], inplace = False)\n",
    "PCOS_outliers_removed.shape"
   ]
  },
  {
   "cell_type": "code",
   "execution_count": 83,
   "id": "836a2ac7",
   "metadata": {
    "scrolled": true
   },
   "outputs": [
    {
     "data": {
      "text/html": [
       "<div>\n",
       "<style scoped>\n",
       "    .dataframe tbody tr th:only-of-type {\n",
       "        vertical-align: middle;\n",
       "    }\n",
       "\n",
       "    .dataframe tbody tr th {\n",
       "        vertical-align: top;\n",
       "    }\n",
       "\n",
       "    .dataframe thead th {\n",
       "        text-align: right;\n",
       "    }\n",
       "</style>\n",
       "<table border=\"1\" class=\"dataframe\">\n",
       "  <thead>\n",
       "    <tr style=\"text-align: right;\">\n",
       "      <th>Pregnant(Y/N)</th>\n",
       "      <th>False</th>\n",
       "      <th>True</th>\n",
       "    </tr>\n",
       "    <tr>\n",
       "      <th>PCOS (Y/N)</th>\n",
       "      <th></th>\n",
       "      <th></th>\n",
       "    </tr>\n",
       "  </thead>\n",
       "  <tbody>\n",
       "    <tr>\n",
       "      <th>0.0</th>\n",
       "      <td>0.61</td>\n",
       "      <td>0.39</td>\n",
       "    </tr>\n",
       "    <tr>\n",
       "      <th>1.0</th>\n",
       "      <td>0.64</td>\n",
       "      <td>0.36</td>\n",
       "    </tr>\n",
       "    <tr>\n",
       "      <th>Total</th>\n",
       "      <td>0.62</td>\n",
       "      <td>0.38</td>\n",
       "    </tr>\n",
       "  </tbody>\n",
       "</table>\n",
       "</div>"
      ],
      "text/plain": [
       "Pregnant(Y/N)  False  True\n",
       "PCOS (Y/N)                \n",
       "0.0            0.61   0.39\n",
       "1.0            0.64   0.36\n",
       "Total          0.62   0.38"
      ]
     },
     "execution_count": 83,
     "metadata": {},
     "output_type": "execute_result"
    }
   ],
   "source": [
    "#Using the crosstab function to create a simple table of PCOS diagnosis and if that patient is pregnant or not. \n",
    "\n",
    "pregnancy = pd.crosstab(index = PCOS_woinf[\"PCOS (Y/N)\"], columns = PCOS_woinf['Pregnant(Y/N)'], margins = True, margins_name = \"Total\", normalize = \"index\").round(2)\n",
    "pregnancy"
   ]
  },
  {
   "cell_type": "code",
   "execution_count": 84,
   "id": "8484f62c",
   "metadata": {
    "scrolled": false
   },
   "outputs": [
    {
     "data": {
      "text/plain": [
       "<AxesSubplot:xlabel='PCOS (Y/N)'>"
      ]
     },
     "execution_count": 84,
     "metadata": {},
     "output_type": "execute_result"
    },
    {
     "data": {
      "image/png": "[encoded data removed]",
      "text/plain": [
       "<Figure size 432x288 with 1 Axes>"
      ]
     },
     "metadata": {},
     "output_type": "display_data"
    }
   ],
   "source": [
    "pregnancy.plot.bar(stacked = False)"
   ]
  }
 ],
 "metadata": {
  "kernelspec": {
   "display_name": "Python 3 (ipykernel)",
   "language": "python",
   "name": "python3"
  },
  "language_info": {
   "codemirror_mode": {
    "name": "ipython",
    "version": 3
   },
   "file_extension": ".py",
   "mimetype": "text/x-python",
   "name": "python",
   "nbconvert_exporter": "python",
   "pygments_lexer": "ipython3",
   "version": "3.9.12"
  }
 },
 "nbformat": 4,
 "nbformat_minor": 5
}
