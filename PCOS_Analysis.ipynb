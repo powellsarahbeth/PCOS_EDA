{
 "cells": [
  {
   "cell_type": "markdown",
   "id": "5cc3e307",
   "metadata": {},
   "source": [
    "# Exploratory Data Analysis on Polycystic Ovary Syndrome (PCOS)"
   ]
  },
  {
   "cell_type": "markdown",
   "id": "96865ca6",
   "metadata": {},
   "source": [
    "## Introduction"
   ]
  },
  {
   "cell_type": "markdown",
   "id": "b78d4381",
   "metadata": {},
   "source": [
    "Polycystic ovary syndrome, or PCOS, is one of the most common causes of female infertility, afffecting as many as 5 million US women who are of childbearing age. Women who have PCOS produce more male hormones than normal which may impact their overall heath, even past their childbearing years. Symptoms can be different for every woman, which makes it very difficult to diagnose. This analysis explores various PCOS symptoms or variables that increase the likelihood of a PCOS diagnosis or infertility.\n"
   ]
  },
  {
   "cell_type": "markdown",
   "id": "3d0a1b06",
   "metadata": {},
   "source": [
    "## About the Data"
   ]
  },
  {
   "cell_type": "markdown",
   "id": "2f0bc2ec",
   "metadata": {},
   "source": [
    "This data set includes all physical and clinical parameters from a group of patients collected from ten different hospitals across Kerala, India. The original data set and notebook can be found on [Kaggle] (https://www.kaggle.com/datasets/prasoonkottarathil/polycystic-ovary-syndrome-pcos?select=PCOS_infertility.csv). The data set contains to Comma Separated Value (CSV) files: \n",
    " - `PCOS_Data_without_infertility`: Contains 45 columns (representing different parameters) and 541 rows (representing different patients identified by a Patient File Number)\n",
    " - `PCOS_infertility`: Contains 6 columns (representing different parameters) and 541 rows (representing different patients idenfitied by a Patient File Number)\n",
    " \n",
    " Because this data set contains specific domain knowledge to understand the features and what they mean, a Data Dictionary was created to provide information about each feature.  "
   ]
  },
  {
   "cell_type": "code",
   "execution_count": 3,
   "id": "29d36ab3",
   "metadata": {},
   "outputs": [
    {
     "data": {
      "text/html": [
       "<div>\n",
       "<style scoped>\n",
       "    .dataframe tbody tr th:only-of-type {\n",
       "        vertical-align: middle;\n",
       "    }\n",
       "\n",
       "    .dataframe tbody tr th {\n",
       "        vertical-align: top;\n",
       "    }\n",
       "\n",
       "    .dataframe thead th {\n",
       "        text-align: right;\n",
       "    }\n",
       "</style>\n",
       "<table border=\"1\" class=\"dataframe\">\n",
       "  <thead>\n",
       "    <tr style=\"text-align: right;\">\n",
       "      <th></th>\n",
       "      <th>Variable</th>\n",
       "      <th>Data Type</th>\n",
       "      <th>Description</th>\n",
       "      <th>Context</th>\n",
       "      <th>Reference</th>\n",
       "      <th>Relevancy to Analysis</th>\n",
       "    </tr>\n",
       "  </thead>\n",
       "  <tbody>\n",
       "    <tr>\n",
       "      <th>0</th>\n",
       "      <td>Sl. No</td>\n",
       "      <td>Integer</td>\n",
       "      <td>Row Index</td>\n",
       "      <td>Included with original data set.</td>\n",
       "      <td>NaN</td>\n",
       "      <td>Low</td>\n",
       "    </tr>\n",
       "    <tr>\n",
       "      <th>1</th>\n",
       "      <td>Patient File No.</td>\n",
       "      <td>Integer</td>\n",
       "      <td>Unique patient file identifier</td>\n",
       "      <td>Total of 1082 Patient File Numbers</td>\n",
       "      <td>NaN</td>\n",
       "      <td>High</td>\n",
       "    </tr>\n",
       "    <tr>\n",
       "      <th>2</th>\n",
       "      <td>PCOS (Y/N)</td>\n",
       "      <td>Boolean</td>\n",
       "      <td>True represents if the patient was diagnosed w...</td>\n",
       "      <td>If the patient has not been diagnosed with PCO...</td>\n",
       "      <td>NaN</td>\n",
       "      <td>High</td>\n",
       "    </tr>\n",
       "    <tr>\n",
       "      <th>3</th>\n",
       "      <td>Age (yrs)</td>\n",
       "      <td>Integer</td>\n",
       "      <td>Patient age</td>\n",
       "      <td>Research suggests that 35 and older women have...</td>\n",
       "      <td>NaN</td>\n",
       "      <td>Medium</td>\n",
       "    </tr>\n",
       "    <tr>\n",
       "      <th>4</th>\n",
       "      <td>Weight (Kg)</td>\n",
       "      <td>Integer</td>\n",
       "      <td>Patient weight in kilograms</td>\n",
       "      <td>NaN</td>\n",
       "      <td>NaN</td>\n",
       "      <td>Medium</td>\n",
       "    </tr>\n",
       "    <tr>\n",
       "      <th>5</th>\n",
       "      <td>Height(Cm)</td>\n",
       "      <td>Integer</td>\n",
       "      <td>Patient height in centimeters</td>\n",
       "      <td>NaN</td>\n",
       "      <td>NaN</td>\n",
       "      <td>Medium</td>\n",
       "    </tr>\n",
       "    <tr>\n",
       "      <th>6</th>\n",
       "      <td>BMI</td>\n",
       "      <td>Integer</td>\n",
       "      <td>Body Mass Index of patient</td>\n",
       "      <td>Calculated by Weight (Kg) / (Height (M) *2). A...</td>\n",
       "      <td>NaN</td>\n",
       "      <td>High</td>\n",
       "    </tr>\n",
       "    <tr>\n",
       "      <th>7</th>\n",
       "      <td>Blood Group</td>\n",
       "      <td>Integer</td>\n",
       "      <td>Blood types represented as integers</td>\n",
       "      <td>A+  = 11, A- = 12, B+ = 13, O+ = 15, O- = 16, ...</td>\n",
       "      <td>NaN</td>\n",
       "      <td>Medium</td>\n",
       "    </tr>\n",
       "    <tr>\n",
       "      <th>8</th>\n",
       "      <td>Pulse rate(bpm)</td>\n",
       "      <td>Integer</td>\n",
       "      <td>Heart beats per minute</td>\n",
       "      <td>For adults (ages 18+), the expected resting he...</td>\n",
       "      <td>Clevland Clinic</td>\n",
       "      <td>Low</td>\n",
       "    </tr>\n",
       "    <tr>\n",
       "      <th>9</th>\n",
       "      <td>RR (breaths/min)</td>\n",
       "      <td>Integer</td>\n",
       "      <td>Respiration rate measured in breaths per minute.</td>\n",
       "      <td>For adults (ages 18+), the expected respirator...</td>\n",
       "      <td>Cleveland Clinic</td>\n",
       "      <td>Low</td>\n",
       "    </tr>\n",
       "    <tr>\n",
       "      <th>10</th>\n",
       "      <td>Hb(g/dl)</td>\n",
       "      <td>Integer</td>\n",
       "      <td>Hemoglobin measured in grams per deciliter.</td>\n",
       "      <td>Normal ranges for Males are 13.2 to 16.6 g/dl;...</td>\n",
       "      <td>Mayo Clinic</td>\n",
       "      <td>Low</td>\n",
       "    </tr>\n",
       "    <tr>\n",
       "      <th>11</th>\n",
       "      <td>Cycle(R/I)</td>\n",
       "      <td>Boolean</td>\n",
       "      <td>Patient Cycle classified as Regular or Irregular</td>\n",
       "      <td>In this dataset, it is not well defined what t...</td>\n",
       "      <td>Mayo Clinic</td>\n",
       "      <td>Low</td>\n",
       "    </tr>\n",
       "    <tr>\n",
       "      <th>12</th>\n",
       "      <td>Cycle length(days)</td>\n",
       "      <td>Integer</td>\n",
       "      <td>Cycle length in days</td>\n",
       "      <td>Regular cycle lengths range from 21 to 35 days</td>\n",
       "      <td>Mayo Clinic</td>\n",
       "      <td>High</td>\n",
       "    </tr>\n",
       "    <tr>\n",
       "      <th>13</th>\n",
       "      <td>Pregnant(Y/N)</td>\n",
       "      <td>Boolean</td>\n",
       "      <td>True indicates the patient is pregnant. False ...</td>\n",
       "      <td>Women who have PCOS can get pregnant.</td>\n",
       "      <td>US Dept of Health and Human Services</td>\n",
       "      <td>High</td>\n",
       "    </tr>\n",
       "    <tr>\n",
       "      <th>14</th>\n",
       "      <td>No. of abortions</td>\n",
       "      <td>Integer</td>\n",
       "      <td>Count of abortions</td>\n",
       "      <td>Some research suggests that patients with PCOS...</td>\n",
       "      <td>National Library of Medicine</td>\n",
       "      <td>Medium</td>\n",
       "    </tr>\n",
       "    <tr>\n",
       "      <th>15</th>\n",
       "      <td>I   beta-HCG(mIU/mL)</td>\n",
       "      <td>Integer</td>\n",
       "      <td>Human Chorionic Gonadotropin measured in milli...</td>\n",
       "      <td>HCG is a hormone produced during pregnancy. No...</td>\n",
       "      <td>Mount Sinai</td>\n",
       "      <td>Medium</td>\n",
       "    </tr>\n",
       "    <tr>\n",
       "      <th>16</th>\n",
       "      <td>II    beta-HCG(mIU/mL)</td>\n",
       "      <td>Integer</td>\n",
       "      <td>Human Chorionic Gonadotropin measured in milli...</td>\n",
       "      <td>Non-pregnant women: less than 5 mIU/ml. Health...</td>\n",
       "      <td>Mount Sinai</td>\n",
       "      <td>Medium</td>\n",
       "    </tr>\n",
       "    <tr>\n",
       "      <th>17</th>\n",
       "      <td>FSH(mIU/mL)</td>\n",
       "      <td>Integer</td>\n",
       "      <td>Follicle-stimulating Hormone measured in milli...</td>\n",
       "      <td>In women, FSH helps control the menstrual cycl...</td>\n",
       "      <td>Mount Sinai</td>\n",
       "      <td>Medium</td>\n",
       "    </tr>\n",
       "    <tr>\n",
       "      <th>18</th>\n",
       "      <td>LH(mIU/mL)</td>\n",
       "      <td>Integer</td>\n",
       "      <td>Luteinizing Hormone measured in milli-internat...</td>\n",
       "      <td>LH will increase mid-cycle in women which caus...</td>\n",
       "      <td>Mount Sinai</td>\n",
       "      <td>Medium</td>\n",
       "    </tr>\n",
       "    <tr>\n",
       "      <th>19</th>\n",
       "      <td>FSH/LH</td>\n",
       "      <td>Integer</td>\n",
       "      <td>Follicle-stimulating Hormone divided by Lutein...</td>\n",
       "      <td>This particular ratio is used to be a predicto...</td>\n",
       "      <td>Sage Journals</td>\n",
       "      <td>Medium</td>\n",
       "    </tr>\n",
       "    <tr>\n",
       "      <th>20</th>\n",
       "      <td>Hip(inch)</td>\n",
       "      <td>Integer</td>\n",
       "      <td>Hips measured in inches.</td>\n",
       "      <td>NaN</td>\n",
       "      <td>NaN</td>\n",
       "      <td>Medium</td>\n",
       "    </tr>\n",
       "    <tr>\n",
       "      <th>21</th>\n",
       "      <td>Waist(inch)</td>\n",
       "      <td>Integer</td>\n",
       "      <td>Measured in inches.</td>\n",
       "      <td>NaN</td>\n",
       "      <td>NaN</td>\n",
       "      <td>Low</td>\n",
       "    </tr>\n",
       "    <tr>\n",
       "      <th>22</th>\n",
       "      <td>Waist:Hip Ratio</td>\n",
       "      <td>Integer</td>\n",
       "      <td>Waist measurement divided by hip measurement.</td>\n",
       "      <td>NaN</td>\n",
       "      <td>NaN</td>\n",
       "      <td>Low</td>\n",
       "    </tr>\n",
       "    <tr>\n",
       "      <th>23</th>\n",
       "      <td>TSH (mIU/L)</td>\n",
       "      <td>Integer</td>\n",
       "      <td>Thyroid Stimulating Hormone measured in milli-...</td>\n",
       "      <td>Thyroid disease can be a cause of infertility....</td>\n",
       "      <td>UCLA Health</td>\n",
       "      <td>Low</td>\n",
       "    </tr>\n",
       "    <tr>\n",
       "      <th>24</th>\n",
       "      <td>AMH(ng/mL)</td>\n",
       "      <td>Integer</td>\n",
       "      <td>Anti-Mullerian Hormone measured in Nanograms p...</td>\n",
       "      <td>AMH tells you the number of remaining eggs you...</td>\n",
       "      <td>Cleveland Clinic</td>\n",
       "      <td>Medium</td>\n",
       "    </tr>\n",
       "    <tr>\n",
       "      <th>25</th>\n",
       "      <td>PRL(ng/mL)</td>\n",
       "      <td>Integer</td>\n",
       "      <td>Prolactin levels measured in Nanograms per mil...</td>\n",
       "      <td>Prolactin is a hormore release by the pituitar...</td>\n",
       "      <td>UCSF Health</td>\n",
       "      <td>Medium</td>\n",
       "    </tr>\n",
       "    <tr>\n",
       "      <th>26</th>\n",
       "      <td>Vit D3 (ng/mL)</td>\n",
       "      <td>Integer</td>\n",
       "      <td>Vitamin D3 measured in Nanograms per milliliter.</td>\n",
       "      <td>Vitamin D screening is done for people who are...</td>\n",
       "      <td>Mount Sinai</td>\n",
       "      <td>Medium</td>\n",
       "    </tr>\n",
       "    <tr>\n",
       "      <th>27</th>\n",
       "      <td>PRG(ng/mL)</td>\n",
       "      <td>Integer</td>\n",
       "      <td>Progesterone levels measured in Nanograms per ...</td>\n",
       "      <td>Progesterone is a hormone produced after ovula...</td>\n",
       "      <td>UCSF</td>\n",
       "      <td>Medium</td>\n",
       "    </tr>\n",
       "    <tr>\n",
       "      <th>28</th>\n",
       "      <td>RBS(mg/dl)</td>\n",
       "      <td>Integer</td>\n",
       "      <td>Random blood sugar test measured in milligrams...</td>\n",
       "      <td>Blood sugar level less than 140 mg/dL is norma...</td>\n",
       "      <td>Mayo Clinic</td>\n",
       "      <td>High</td>\n",
       "    </tr>\n",
       "    <tr>\n",
       "      <th>29</th>\n",
       "      <td>Weight gain(Y/N)</td>\n",
       "      <td>Boolean</td>\n",
       "      <td>True indicates gained weight. False indicates ...</td>\n",
       "      <td>Possible PCOS Symptom</td>\n",
       "      <td>Cleveland Clinic</td>\n",
       "      <td>Medium</td>\n",
       "    </tr>\n",
       "    <tr>\n",
       "      <th>30</th>\n",
       "      <td>hair growth(Y/N)</td>\n",
       "      <td>Boolean</td>\n",
       "      <td>True indicates hair growth. False indicates no...</td>\n",
       "      <td>Possible PCOS Symptom</td>\n",
       "      <td>Mayo Clinic</td>\n",
       "      <td>Medium</td>\n",
       "    </tr>\n",
       "    <tr>\n",
       "      <th>31</th>\n",
       "      <td>Skin darkening (Y/N)</td>\n",
       "      <td>Boolean</td>\n",
       "      <td>True indicates skin darkening. False indicates...</td>\n",
       "      <td>Possible PCOS Symptom</td>\n",
       "      <td>Harvard Health</td>\n",
       "      <td>Medium</td>\n",
       "    </tr>\n",
       "    <tr>\n",
       "      <th>32</th>\n",
       "      <td>Hair loss(Y/N)</td>\n",
       "      <td>Boolean</td>\n",
       "      <td>True indicates hair loss. False indicates no h...</td>\n",
       "      <td>Possible PCOS Symptom</td>\n",
       "      <td>Harvard Health</td>\n",
       "      <td>Medium</td>\n",
       "    </tr>\n",
       "    <tr>\n",
       "      <th>33</th>\n",
       "      <td>Acne (Y/N)</td>\n",
       "      <td>Boolean</td>\n",
       "      <td>True indicates acne. False indicates no acne.</td>\n",
       "      <td>Possible PCOS Symptom</td>\n",
       "      <td>Harvard Health</td>\n",
       "      <td>Medium</td>\n",
       "    </tr>\n",
       "    <tr>\n",
       "      <th>34</th>\n",
       "      <td>Reg.Exercise(Y/N)</td>\n",
       "      <td>Boolean</td>\n",
       "      <td>True indicates patient exercises for more than...</td>\n",
       "      <td>Exercise may help reduce PCOS symptoms.</td>\n",
       "      <td>PubMed.gov</td>\n",
       "      <td>Medium</td>\n",
       "    </tr>\n",
       "    <tr>\n",
       "      <th>35</th>\n",
       "      <td>BP _Systolic (mmHg)</td>\n",
       "      <td>Integer</td>\n",
       "      <td>Pressure exerted when blood is ejected into ar...</td>\n",
       "      <td>Should be below 120 mm/Hg</td>\n",
       "      <td>Mayo Clinic</td>\n",
       "      <td>Medium</td>\n",
       "    </tr>\n",
       "    <tr>\n",
       "      <th>36</th>\n",
       "      <td>BP _Diastolic (mmHg)</td>\n",
       "      <td>Integer</td>\n",
       "      <td>Pressure blood exerts within arteries between ...</td>\n",
       "      <td>Should be below 80 mm/Hg</td>\n",
       "      <td>Mayo Clinic</td>\n",
       "      <td>Medium</td>\n",
       "    </tr>\n",
       "    <tr>\n",
       "      <th>37</th>\n",
       "      <td>Follicle No. (L)</td>\n",
       "      <td>Integer</td>\n",
       "      <td>Number of follicles found in the left ovary.</td>\n",
       "      <td>Follicles are small fluid filled sacs in the o...</td>\n",
       "      <td>Advanced Fertility Center of Chicago Antral Fo...</td>\n",
       "      <td>Low</td>\n",
       "    </tr>\n",
       "    <tr>\n",
       "      <th>38</th>\n",
       "      <td>Follicle No. (R)</td>\n",
       "      <td>Integer</td>\n",
       "      <td>Number of follicles found in the right ovary.</td>\n",
       "      <td>Follicles are small fluid filled sacs in the o...</td>\n",
       "      <td>Advanced Fertility Center of Chicago Antral Fo...</td>\n",
       "      <td>Low</td>\n",
       "    </tr>\n",
       "    <tr>\n",
       "      <th>39</th>\n",
       "      <td>Avg. F size (L) (mm)</td>\n",
       "      <td>Integer</td>\n",
       "      <td>Mean follicle size in the left ovary measured ...</td>\n",
       "      <td>Follicles that are between 16 - 23 mm are cons...</td>\n",
       "      <td>National Library of Medicine</td>\n",
       "      <td>Low</td>\n",
       "    </tr>\n",
       "    <tr>\n",
       "      <th>40</th>\n",
       "      <td>Avg. F size (R) (mm)</td>\n",
       "      <td>Integer</td>\n",
       "      <td>Mean follicle size in the right ovary measured...</td>\n",
       "      <td>Follicles that are between 16 - 23 mm are cons...</td>\n",
       "      <td>National Library of Medicine</td>\n",
       "      <td>Low</td>\n",
       "    </tr>\n",
       "    <tr>\n",
       "      <th>41</th>\n",
       "      <td>Endometrium (mm)</td>\n",
       "      <td>Integer</td>\n",
       "      <td>The lining of the uterus measured in millimete...</td>\n",
       "      <td>In one study, median Endometrial thickness (ET...</td>\n",
       "      <td>National Library of Medicine</td>\n",
       "      <td>Low</td>\n",
       "    </tr>\n",
       "    <tr>\n",
       "      <th>42</th>\n",
       "      <td>Infertility</td>\n",
       "      <td>Boolean</td>\n",
       "      <td>True indicates patient has been diagnosed with...</td>\n",
       "      <td>Unexplained infertility is when fertility test...</td>\n",
       "      <td>Cleveland Clinic Unexplained Infertility</td>\n",
       "      <td>High</td>\n",
       "    </tr>\n",
       "    <tr>\n",
       "      <th>43</th>\n",
       "      <td>Blood Pressure (str)</td>\n",
       "      <td>String</td>\n",
       "      <td>BP_Systolic (mmHg) / BP_Diastolic (mmHg)</td>\n",
       "      <td>BP_Systolic and BP_Diastolic are provided as s...</td>\n",
       "      <td>Mayo Clinic Blood Pressure</td>\n",
       "      <td>Low</td>\n",
       "    </tr>\n",
       "    <tr>\n",
       "      <th>44</th>\n",
       "      <td>Height (m)</td>\n",
       "      <td>Integer</td>\n",
       "      <td>Height converted to meters for BMI calculation...</td>\n",
       "      <td>NaN</td>\n",
       "      <td>NaN</td>\n",
       "      <td>NaN</td>\n",
       "    </tr>\n",
       "  </tbody>\n",
       "</table>\n",
       "</div>"
      ],
      "text/plain": [
       "                  Variable Data Type   \\\n",
       "0                   Sl. No    Integer   \n",
       "1         Patient File No.    Integer   \n",
       "2               PCOS (Y/N)   Boolean    \n",
       "3                Age (yrs)    Integer   \n",
       "4              Weight (Kg)    Integer   \n",
       "5               Height(Cm)    Integer   \n",
       "6                      BMI    Integer   \n",
       "7              Blood Group    Integer   \n",
       "8         Pulse rate(bpm)     Integer   \n",
       "9         RR (breaths/min)   Integer    \n",
       "10                Hb(g/dl)    Integer   \n",
       "11              Cycle(R/I)   Boolean    \n",
       "12      Cycle length(days)    Integer   \n",
       "13           Pregnant(Y/N)   Boolean    \n",
       "14        No. of abortions    Integer   \n",
       "15    I   beta-HCG(mIU/mL)    Integer   \n",
       "16  II    beta-HCG(mIU/mL)    Integer   \n",
       "17             FSH(mIU/mL)    Integer   \n",
       "18              LH(mIU/mL)    Integer   \n",
       "19                 FSH/LH     Integer   \n",
       "20               Hip(inch)    Integer   \n",
       "21             Waist(inch)    Integer   \n",
       "22         Waist:Hip Ratio    Integer   \n",
       "23             TSH (mIU/L)    Integer   \n",
       "24              AMH(ng/mL)    Integer   \n",
       "25              PRL(ng/mL)    Integer   \n",
       "26          Vit D3 (ng/mL)    Integer   \n",
       "27              PRG(ng/mL)    Integer   \n",
       "28              RBS(mg/dl)    Integer   \n",
       "29        Weight gain(Y/N)   Boolean    \n",
       "30        hair growth(Y/N)   Boolean    \n",
       "31    Skin darkening (Y/N)   Boolean    \n",
       "32          Hair loss(Y/N)   Boolean    \n",
       "33             Acne (Y/N)    Boolean    \n",
       "34       Reg.Exercise(Y/N)   Boolean    \n",
       "35     BP _Systolic (mmHg)    Integer   \n",
       "36    BP _Diastolic (mmHg)    Integer   \n",
       "37        Follicle No. (L)    Integer   \n",
       "38        Follicle No. (R)    Integer   \n",
       "39    Avg. F size (L) (mm)    Integer   \n",
       "40    Avg. F size (R) (mm)    Integer   \n",
       "41        Endometrium (mm)    Integer   \n",
       "42             Infertility   Boolean    \n",
       "43    Blood Pressure (str)     String   \n",
       "44              Height (m)    Integer   \n",
       "\n",
       "                                          Description  \\\n",
       "0                                           Row Index   \n",
       "1                      Unique patient file identifier   \n",
       "2   True represents if the patient was diagnosed w...   \n",
       "3                                         Patient age   \n",
       "4                        Patient weight in kilograms    \n",
       "5                       Patient height in centimeters   \n",
       "6                         Body Mass Index of patient    \n",
       "7                Blood types represented as integers    \n",
       "8                              Heart beats per minute   \n",
       "9   Respiration rate measured in breaths per minute.    \n",
       "10       Hemoglobin measured in grams per deciliter.    \n",
       "11   Patient Cycle classified as Regular or Irregular   \n",
       "12                               Cycle length in days   \n",
       "13  True indicates the patient is pregnant. False ...   \n",
       "14                                 Count of abortions   \n",
       "15  Human Chorionic Gonadotropin measured in milli...   \n",
       "16  Human Chorionic Gonadotropin measured in milli...   \n",
       "17  Follicle-stimulating Hormone measured in milli...   \n",
       "18  Luteinizing Hormone measured in milli-internat...   \n",
       "19  Follicle-stimulating Hormone divided by Lutein...   \n",
       "20                          Hips measured in inches.    \n",
       "21                               Measured in inches.    \n",
       "22      Waist measurement divided by hip measurement.   \n",
       "23  Thyroid Stimulating Hormone measured in milli-...   \n",
       "24  Anti-Mullerian Hormone measured in Nanograms p...   \n",
       "25  Prolactin levels measured in Nanograms per mil...   \n",
       "26   Vitamin D3 measured in Nanograms per milliliter.   \n",
       "27  Progesterone levels measured in Nanograms per ...   \n",
       "28  Random blood sugar test measured in milligrams...   \n",
       "29  True indicates gained weight. False indicates ...   \n",
       "30  True indicates hair growth. False indicates no...   \n",
       "31  True indicates skin darkening. False indicates...   \n",
       "32  True indicates hair loss. False indicates no h...   \n",
       "33      True indicates acne. False indicates no acne.   \n",
       "34  True indicates patient exercises for more than...   \n",
       "35  Pressure exerted when blood is ejected into ar...   \n",
       "36  Pressure blood exerts within arteries between ...   \n",
       "37       Number of follicles found in the left ovary.   \n",
       "38      Number of follicles found in the right ovary.   \n",
       "39  Mean follicle size in the left ovary measured ...   \n",
       "40  Mean follicle size in the right ovary measured...   \n",
       "41  The lining of the uterus measured in millimete...   \n",
       "42  True indicates patient has been diagnosed with...   \n",
       "43           BP_Systolic (mmHg) / BP_Diastolic (mmHg)   \n",
       "44  Height converted to meters for BMI calculation...   \n",
       "\n",
       "                                              Context  \\\n",
       "0                   Included with original data set.    \n",
       "1                  Total of 1082 Patient File Numbers   \n",
       "2   If the patient has not been diagnosed with PCO...   \n",
       "3   Research suggests that 35 and older women have...   \n",
       "4                                                 NaN   \n",
       "5                                                 NaN   \n",
       "6   Calculated by Weight (Kg) / (Height (M) *2). A...   \n",
       "7   A+  = 11, A- = 12, B+ = 13, O+ = 15, O- = 16, ...   \n",
       "8   For adults (ages 18+), the expected resting he...   \n",
       "9   For adults (ages 18+), the expected respirator...   \n",
       "10  Normal ranges for Males are 13.2 to 16.6 g/dl;...   \n",
       "11  In this dataset, it is not well defined what t...   \n",
       "12    Regular cycle lengths range from 21 to 35 days    \n",
       "13             Women who have PCOS can get pregnant.    \n",
       "14  Some research suggests that patients with PCOS...   \n",
       "15  HCG is a hormone produced during pregnancy. No...   \n",
       "16  Non-pregnant women: less than 5 mIU/ml. Health...   \n",
       "17  In women, FSH helps control the menstrual cycl...   \n",
       "18  LH will increase mid-cycle in women which caus...   \n",
       "19  This particular ratio is used to be a predicto...   \n",
       "20                                                NaN   \n",
       "21                                                NaN   \n",
       "22                                                NaN   \n",
       "23  Thyroid disease can be a cause of infertility....   \n",
       "24  AMH tells you the number of remaining eggs you...   \n",
       "25  Prolactin is a hormore release by the pituitar...   \n",
       "26  Vitamin D screening is done for people who are...   \n",
       "27  Progesterone is a hormone produced after ovula...   \n",
       "28  Blood sugar level less than 140 mg/dL is norma...   \n",
       "29                             Possible PCOS Symptom    \n",
       "30                             Possible PCOS Symptom    \n",
       "31                             Possible PCOS Symptom    \n",
       "32                             Possible PCOS Symptom    \n",
       "33                             Possible PCOS Symptom    \n",
       "34           Exercise may help reduce PCOS symptoms.    \n",
       "35                          Should be below 120 mm/Hg   \n",
       "36                           Should be below 80 mm/Hg   \n",
       "37  Follicles are small fluid filled sacs in the o...   \n",
       "38  Follicles are small fluid filled sacs in the o...   \n",
       "39  Follicles that are between 16 - 23 mm are cons...   \n",
       "40  Follicles that are between 16 - 23 mm are cons...   \n",
       "41  In one study, median Endometrial thickness (ET...   \n",
       "42  Unexplained infertility is when fertility test...   \n",
       "43  BP_Systolic and BP_Diastolic are provided as s...   \n",
       "44                                                NaN   \n",
       "\n",
       "                                            Reference Relevancy to Analysis  \n",
       "0                                                 NaN                  Low   \n",
       "1                                                 NaN                  High  \n",
       "2                                                 NaN                  High  \n",
       "3                                                 NaN                Medium  \n",
       "4                                                 NaN                Medium  \n",
       "5                                                 NaN                Medium  \n",
       "6                                                 NaN                  High  \n",
       "7                                                 NaN                Medium  \n",
       "8                                     Clevland Clinic                  Low   \n",
       "9                                    Cleveland Clinic                  Low   \n",
       "10                                        Mayo Clinic                  Low   \n",
       "11                                        Mayo Clinic                  Low   \n",
       "12                                        Mayo Clinic                  High  \n",
       "13               US Dept of Health and Human Services                  High  \n",
       "14                       National Library of Medicine                Medium  \n",
       "15                                        Mount Sinai                Medium  \n",
       "16                                        Mount Sinai                Medium  \n",
       "17                                        Mount Sinai                Medium  \n",
       "18                                        Mount Sinai                Medium  \n",
       "19                                      Sage Journals                Medium  \n",
       "20                                                NaN                Medium  \n",
       "21                                                NaN                  Low   \n",
       "22                                                NaN                  Low   \n",
       "23                                        UCLA Health                  Low   \n",
       "24                                   Cleveland Clinic                Medium  \n",
       "25                                        UCSF Health                Medium  \n",
       "26                                        Mount Sinai                Medium  \n",
       "27                                               UCSF                Medium  \n",
       "28                                        Mayo Clinic                  High  \n",
       "29                                   Cleveland Clinic                Medium  \n",
       "30                                        Mayo Clinic                Medium  \n",
       "31                                     Harvard Health                Medium  \n",
       "32                                     Harvard Health                Medium  \n",
       "33                                     Harvard Health                Medium  \n",
       "34                                         PubMed.gov                Medium  \n",
       "35                                        Mayo Clinic                Medium  \n",
       "36                                        Mayo Clinic                Medium  \n",
       "37  Advanced Fertility Center of Chicago Antral Fo...                  Low   \n",
       "38  Advanced Fertility Center of Chicago Antral Fo...                  Low   \n",
       "39                       National Library of Medicine                  Low   \n",
       "40                       National Library of Medicine                  Low   \n",
       "41                       National Library of Medicine                  Low   \n",
       "42           Cleveland Clinic Unexplained Infertility                  High  \n",
       "43                         Mayo Clinic Blood Pressure                  Low   \n",
       "44                                                NaN                   NaN  "
      ]
     },
     "execution_count": 3,
     "metadata": {},
     "output_type": "execute_result"
    }
   ],
   "source": [
    "import pandas as pd \n",
    "\n",
    "PCOS_Data_Dict = pd.read_csv(\"C:\\\\Users\\\\sarah\\\\OneDrive\\\\Documents\\\\NYCDS_Bootcamp\\\\Project 1\\\\PCOS_Data_Dictionary.csv\")\n",
    "\n",
    "PCOS_Data_Dict"
   ]
  },
  {
   "cell_type": "markdown",
   "id": "ce87ddde",
   "metadata": {},
   "source": [
    "## Questions of Interest"
   ]
  },
  {
   "cell_type": "markdown",
   "id": "e3cf1eaa",
   "metadata": {},
   "source": [
    "PCOS patients experience a wide variety of symptoms, and each woman experiences a range of symptoms throughout each individual cycle. Because of this, I would like to center my analysis on three main questions:\n",
    "\n",
    "1. Are there any symptoms or traits that show a pattern in PCOS patients? \n",
    "2. What are the most frequent symptoms that PCOS patients exibit?\n",
    "3. How likely is a non-PCOS patient have PCOS based on her current traits or symptoms?"
   ]
  },
  {
   "cell_type": "markdown",
   "id": "1d5544c6",
   "metadata": {},
   "source": [
    "## Data Inspection"
   ]
  },
  {
   "cell_type": "markdown",
   "id": "19b3503f",
   "metadata": {},
   "source": [
    "Before exploring the questions of interest in the data, we will inspect it to get a sense of it's general construct. In the data inspection, we will complete the following tasks:\n",
    "\n",
    "- Load the data.\n",
    "- Describe the data (shape, structure and descriptive statistics). \n",
    "- Inspect the data including missing values or `NaN` values. \n",
    "- Make intial observations about the data for subsequent steps such as data cleaning and pre-processing."
   ]
  },
  {
   "cell_type": "markdown",
   "id": "e04fc76a",
   "metadata": {},
   "source": [
    "Before we begin the inspection, we first import the necessary libraries for data analysis:\n",
    " - Numpy as np: Used for linear algebra or matrix math. \n",
    " - Pandas as pd: Used for data analysis in a tabular structure. \n",
    " - Matplotlib.pyplot as plt: Used for plotting data. \n",
    " - Seaborn as sns: Subpackage of Matplotlib used for statistical data visualization. "
   ]
  },
  {
   "cell_type": "code",
   "execution_count": 4,
   "id": "72bfad75",
   "metadata": {
    "scrolled": true
   },
   "outputs": [],
   "source": [
    "import numpy as np \n",
    "import pandas as pd  \n",
    "import matplotlib.pyplot as plt \n",
    "import seaborn as sns\n",
    "from scipy import stats\n",
    "import researchpy as rp"
   ]
  },
  {
   "cell_type": "markdown",
   "id": "f9294b00",
   "metadata": {},
   "source": [
    "Load the data. "
   ]
  },
  {
   "cell_type": "code",
   "execution_count": 5,
   "id": "209a028f",
   "metadata": {},
   "outputs": [],
   "source": [
    "PCOS_inf = pd.read_csv(\"C:\\\\Users\\\\sarah\\\\OneDrive\\\\Documents\\\\NYCDS_Bootcamp\\\\Project 1\\\\PCOS_infertility.csv\")\n",
    "\n",
    "PCOS_woinf = pd.read_csv(\"C:\\\\Users\\\\sarah\\\\OneDrive\\\\Documents\\\\NYCDS_Bootcamp\\\\Project 1\\\\PCOS_data_without_infertility.csv\")"
   ]
  },
  {
   "cell_type": "markdown",
   "id": "bed25608",
   "metadata": {},
   "source": [
    "Observations:\n",
    "\n",
    " - `PCOS_inf` has 541 rows and 6 columns. Additional exploration to find location of `NaN` values.\n",
    " - `PCOS_woinf` has 999 rows and 45 columns. Additional exploration to find location of `NaN` values."
   ]
  },
  {
   "cell_type": "code",
   "execution_count": 6,
   "id": "89cb0e66",
   "metadata": {},
   "outputs": [
    {
     "data": {
      "text/html": [
       "<div>\n",
       "<style scoped>\n",
       "    .dataframe tbody tr th:only-of-type {\n",
       "        vertical-align: middle;\n",
       "    }\n",
       "\n",
       "    .dataframe tbody tr th {\n",
       "        vertical-align: top;\n",
       "    }\n",
       "\n",
       "    .dataframe thead th {\n",
       "        text-align: right;\n",
       "    }\n",
       "</style>\n",
       "<table border=\"1\" class=\"dataframe\">\n",
       "  <thead>\n",
       "    <tr style=\"text-align: right;\">\n",
       "      <th></th>\n",
       "      <th>Sl. No</th>\n",
       "      <th>Patient File No.</th>\n",
       "      <th>PCOS (Y/N)</th>\n",
       "      <th>I   beta-HCG(mIU/mL)</th>\n",
       "      <th>II    beta-HCG(mIU/mL)</th>\n",
       "      <th>AMH(ng/mL)</th>\n",
       "    </tr>\n",
       "  </thead>\n",
       "  <tbody>\n",
       "    <tr>\n",
       "      <th>count</th>\n",
       "      <td>541.000000</td>\n",
       "      <td>541.000000</td>\n",
       "      <td>541.000000</td>\n",
       "      <td>541.000000</td>\n",
       "      <td>541.000000</td>\n",
       "      <td>541</td>\n",
       "    </tr>\n",
       "    <tr>\n",
       "      <th>unique</th>\n",
       "      <td>NaN</td>\n",
       "      <td>NaN</td>\n",
       "      <td>NaN</td>\n",
       "      <td>NaN</td>\n",
       "      <td>NaN</td>\n",
       "      <td>301</td>\n",
       "    </tr>\n",
       "    <tr>\n",
       "      <th>top</th>\n",
       "      <td>NaN</td>\n",
       "      <td>NaN</td>\n",
       "      <td>NaN</td>\n",
       "      <td>NaN</td>\n",
       "      <td>NaN</td>\n",
       "      <td>1</td>\n",
       "    </tr>\n",
       "    <tr>\n",
       "      <th>freq</th>\n",
       "      <td>NaN</td>\n",
       "      <td>NaN</td>\n",
       "      <td>NaN</td>\n",
       "      <td>NaN</td>\n",
       "      <td>NaN</td>\n",
       "      <td>9</td>\n",
       "    </tr>\n",
       "    <tr>\n",
       "      <th>mean</th>\n",
       "      <td>271.000000</td>\n",
       "      <td>10271.000000</td>\n",
       "      <td>0.327172</td>\n",
       "      <td>664.549235</td>\n",
       "      <td>238.229518</td>\n",
       "      <td>NaN</td>\n",
       "    </tr>\n",
       "    <tr>\n",
       "      <th>std</th>\n",
       "      <td>156.317519</td>\n",
       "      <td>156.317519</td>\n",
       "      <td>0.469615</td>\n",
       "      <td>3348.920576</td>\n",
       "      <td>1603.826221</td>\n",
       "      <td>NaN</td>\n",
       "    </tr>\n",
       "    <tr>\n",
       "      <th>min</th>\n",
       "      <td>1.000000</td>\n",
       "      <td>10001.000000</td>\n",
       "      <td>0.000000</td>\n",
       "      <td>1.300000</td>\n",
       "      <td>0.110417</td>\n",
       "      <td>NaN</td>\n",
       "    </tr>\n",
       "    <tr>\n",
       "      <th>25%</th>\n",
       "      <td>136.000000</td>\n",
       "      <td>10136.000000</td>\n",
       "      <td>0.000000</td>\n",
       "      <td>1.990000</td>\n",
       "      <td>1.990000</td>\n",
       "      <td>NaN</td>\n",
       "    </tr>\n",
       "    <tr>\n",
       "      <th>50%</th>\n",
       "      <td>271.000000</td>\n",
       "      <td>10271.000000</td>\n",
       "      <td>0.000000</td>\n",
       "      <td>20.000000</td>\n",
       "      <td>1.990000</td>\n",
       "      <td>NaN</td>\n",
       "    </tr>\n",
       "    <tr>\n",
       "      <th>75%</th>\n",
       "      <td>406.000000</td>\n",
       "      <td>10406.000000</td>\n",
       "      <td>1.000000</td>\n",
       "      <td>297.210000</td>\n",
       "      <td>97.630000</td>\n",
       "      <td>NaN</td>\n",
       "    </tr>\n",
       "    <tr>\n",
       "      <th>max</th>\n",
       "      <td>541.000000</td>\n",
       "      <td>10541.000000</td>\n",
       "      <td>1.000000</td>\n",
       "      <td>32460.970000</td>\n",
       "      <td>25000.000000</td>\n",
       "      <td>NaN</td>\n",
       "    </tr>\n",
       "  </tbody>\n",
       "</table>\n",
       "</div>"
      ],
      "text/plain": [
       "            Sl. No  Patient File No.  PCOS (Y/N)    I   beta-HCG(mIU/mL)  \\\n",
       "count   541.000000        541.000000  541.000000              541.000000   \n",
       "unique         NaN               NaN         NaN                     NaN   \n",
       "top            NaN               NaN         NaN                     NaN   \n",
       "freq           NaN               NaN         NaN                     NaN   \n",
       "mean    271.000000      10271.000000    0.327172              664.549235   \n",
       "std     156.317519        156.317519    0.469615             3348.920576   \n",
       "min       1.000000      10001.000000    0.000000                1.300000   \n",
       "25%     136.000000      10136.000000    0.000000                1.990000   \n",
       "50%     271.000000      10271.000000    0.000000               20.000000   \n",
       "75%     406.000000      10406.000000    1.000000              297.210000   \n",
       "max     541.000000      10541.000000    1.000000            32460.970000   \n",
       "\n",
       "        II    beta-HCG(mIU/mL) AMH(ng/mL)  \n",
       "count               541.000000        541  \n",
       "unique                     NaN        301  \n",
       "top                        NaN          1  \n",
       "freq                       NaN          9  \n",
       "mean                238.229518        NaN  \n",
       "std                1603.826221        NaN  \n",
       "min                   0.110417        NaN  \n",
       "25%                   1.990000        NaN  \n",
       "50%                   1.990000        NaN  \n",
       "75%                  97.630000        NaN  \n",
       "max               25000.000000        NaN  "
      ]
     },
     "execution_count": 6,
     "metadata": {},
     "output_type": "execute_result"
    }
   ],
   "source": [
    "PCOS_inf.describe(exclude = 'category')"
   ]
  },
  {
   "cell_type": "code",
   "execution_count": 7,
   "id": "fbe49831",
   "metadata": {},
   "outputs": [
    {
     "data": {
      "text/html": [
       "<div>\n",
       "<style scoped>\n",
       "    .dataframe tbody tr th:only-of-type {\n",
       "        vertical-align: middle;\n",
       "    }\n",
       "\n",
       "    .dataframe tbody tr th {\n",
       "        vertical-align: top;\n",
       "    }\n",
       "\n",
       "    .dataframe thead th {\n",
       "        text-align: right;\n",
       "    }\n",
       "</style>\n",
       "<table border=\"1\" class=\"dataframe\">\n",
       "  <thead>\n",
       "    <tr style=\"text-align: right;\">\n",
       "      <th></th>\n",
       "      <th>Sl. No</th>\n",
       "      <th>Patient File No.</th>\n",
       "      <th>PCOS (Y/N)</th>\n",
       "      <th>Age (yrs)</th>\n",
       "      <th>Weight (Kg)</th>\n",
       "      <th>Height(Cm)</th>\n",
       "      <th>BMI</th>\n",
       "      <th>Blood Group</th>\n",
       "      <th>Pulse rate(bpm)</th>\n",
       "      <th>RR (breaths/min)</th>\n",
       "      <th>...</th>\n",
       "      <th>Fast Food (Y/N)</th>\n",
       "      <th>Reg.Exercise(Y/N)</th>\n",
       "      <th>BP _Systolic (mmHg)</th>\n",
       "      <th>BP _Diastolic (mmHg)</th>\n",
       "      <th>Follicle No. (L)</th>\n",
       "      <th>Follicle No. (R)</th>\n",
       "      <th>Avg. F size (L) (mm)</th>\n",
       "      <th>Avg. F size (R) (mm)</th>\n",
       "      <th>Endometrium (mm)</th>\n",
       "      <th>Unnamed: 44</th>\n",
       "    </tr>\n",
       "  </thead>\n",
       "  <tbody>\n",
       "    <tr>\n",
       "      <th>count</th>\n",
       "      <td>541.000000</td>\n",
       "      <td>541.000000</td>\n",
       "      <td>541.000000</td>\n",
       "      <td>541.000000</td>\n",
       "      <td>541.000000</td>\n",
       "      <td>541.000000</td>\n",
       "      <td>541</td>\n",
       "      <td>541.000000</td>\n",
       "      <td>541.000000</td>\n",
       "      <td>541.000000</td>\n",
       "      <td>...</td>\n",
       "      <td>540.000000</td>\n",
       "      <td>541.000000</td>\n",
       "      <td>541.000000</td>\n",
       "      <td>541.000000</td>\n",
       "      <td>541.000000</td>\n",
       "      <td>541.000000</td>\n",
       "      <td>541.000000</td>\n",
       "      <td>541.000000</td>\n",
       "      <td>541.000000</td>\n",
       "      <td>2</td>\n",
       "    </tr>\n",
       "    <tr>\n",
       "      <th>unique</th>\n",
       "      <td>NaN</td>\n",
       "      <td>NaN</td>\n",
       "      <td>NaN</td>\n",
       "      <td>NaN</td>\n",
       "      <td>NaN</td>\n",
       "      <td>NaN</td>\n",
       "      <td>108</td>\n",
       "      <td>NaN</td>\n",
       "      <td>NaN</td>\n",
       "      <td>NaN</td>\n",
       "      <td>...</td>\n",
       "      <td>NaN</td>\n",
       "      <td>NaN</td>\n",
       "      <td>NaN</td>\n",
       "      <td>NaN</td>\n",
       "      <td>NaN</td>\n",
       "      <td>NaN</td>\n",
       "      <td>NaN</td>\n",
       "      <td>NaN</td>\n",
       "      <td>NaN</td>\n",
       "      <td>2</td>\n",
       "    </tr>\n",
       "    <tr>\n",
       "      <th>top</th>\n",
       "      <td>NaN</td>\n",
       "      <td>NaN</td>\n",
       "      <td>NaN</td>\n",
       "      <td>NaN</td>\n",
       "      <td>NaN</td>\n",
       "      <td>NaN</td>\n",
       "      <td>#NAME?</td>\n",
       "      <td>NaN</td>\n",
       "      <td>NaN</td>\n",
       "      <td>NaN</td>\n",
       "      <td>...</td>\n",
       "      <td>NaN</td>\n",
       "      <td>NaN</td>\n",
       "      <td>NaN</td>\n",
       "      <td>NaN</td>\n",
       "      <td>NaN</td>\n",
       "      <td>NaN</td>\n",
       "      <td>NaN</td>\n",
       "      <td>NaN</td>\n",
       "      <td>NaN</td>\n",
       "      <td>.</td>\n",
       "    </tr>\n",
       "    <tr>\n",
       "      <th>freq</th>\n",
       "      <td>NaN</td>\n",
       "      <td>NaN</td>\n",
       "      <td>NaN</td>\n",
       "      <td>NaN</td>\n",
       "      <td>NaN</td>\n",
       "      <td>NaN</td>\n",
       "      <td>299</td>\n",
       "      <td>NaN</td>\n",
       "      <td>NaN</td>\n",
       "      <td>NaN</td>\n",
       "      <td>...</td>\n",
       "      <td>NaN</td>\n",
       "      <td>NaN</td>\n",
       "      <td>NaN</td>\n",
       "      <td>NaN</td>\n",
       "      <td>NaN</td>\n",
       "      <td>NaN</td>\n",
       "      <td>NaN</td>\n",
       "      <td>NaN</td>\n",
       "      <td>NaN</td>\n",
       "      <td>1</td>\n",
       "    </tr>\n",
       "    <tr>\n",
       "      <th>mean</th>\n",
       "      <td>271.000000</td>\n",
       "      <td>271.000000</td>\n",
       "      <td>0.327172</td>\n",
       "      <td>31.430684</td>\n",
       "      <td>59.637153</td>\n",
       "      <td>156.484835</td>\n",
       "      <td>NaN</td>\n",
       "      <td>13.802218</td>\n",
       "      <td>73.247689</td>\n",
       "      <td>19.243993</td>\n",
       "      <td>...</td>\n",
       "      <td>0.514815</td>\n",
       "      <td>0.247689</td>\n",
       "      <td>114.661738</td>\n",
       "      <td>76.927911</td>\n",
       "      <td>6.129390</td>\n",
       "      <td>6.641405</td>\n",
       "      <td>15.018115</td>\n",
       "      <td>15.451701</td>\n",
       "      <td>8.475915</td>\n",
       "      <td>NaN</td>\n",
       "    </tr>\n",
       "    <tr>\n",
       "      <th>std</th>\n",
       "      <td>156.317519</td>\n",
       "      <td>156.317519</td>\n",
       "      <td>0.469615</td>\n",
       "      <td>5.411006</td>\n",
       "      <td>11.028287</td>\n",
       "      <td>6.033545</td>\n",
       "      <td>NaN</td>\n",
       "      <td>1.840812</td>\n",
       "      <td>4.430285</td>\n",
       "      <td>1.688629</td>\n",
       "      <td>...</td>\n",
       "      <td>0.500244</td>\n",
       "      <td>0.432070</td>\n",
       "      <td>7.384556</td>\n",
       "      <td>5.574112</td>\n",
       "      <td>4.229294</td>\n",
       "      <td>4.436889</td>\n",
       "      <td>3.566839</td>\n",
       "      <td>3.318848</td>\n",
       "      <td>2.165381</td>\n",
       "      <td>NaN</td>\n",
       "    </tr>\n",
       "    <tr>\n",
       "      <th>min</th>\n",
       "      <td>1.000000</td>\n",
       "      <td>1.000000</td>\n",
       "      <td>0.000000</td>\n",
       "      <td>20.000000</td>\n",
       "      <td>31.000000</td>\n",
       "      <td>137.000000</td>\n",
       "      <td>NaN</td>\n",
       "      <td>11.000000</td>\n",
       "      <td>13.000000</td>\n",
       "      <td>16.000000</td>\n",
       "      <td>...</td>\n",
       "      <td>0.000000</td>\n",
       "      <td>0.000000</td>\n",
       "      <td>12.000000</td>\n",
       "      <td>8.000000</td>\n",
       "      <td>0.000000</td>\n",
       "      <td>0.000000</td>\n",
       "      <td>0.000000</td>\n",
       "      <td>0.000000</td>\n",
       "      <td>0.000000</td>\n",
       "      <td>NaN</td>\n",
       "    </tr>\n",
       "    <tr>\n",
       "      <th>25%</th>\n",
       "      <td>136.000000</td>\n",
       "      <td>136.000000</td>\n",
       "      <td>0.000000</td>\n",
       "      <td>28.000000</td>\n",
       "      <td>52.000000</td>\n",
       "      <td>152.000000</td>\n",
       "      <td>NaN</td>\n",
       "      <td>13.000000</td>\n",
       "      <td>72.000000</td>\n",
       "      <td>18.000000</td>\n",
       "      <td>...</td>\n",
       "      <td>0.000000</td>\n",
       "      <td>0.000000</td>\n",
       "      <td>110.000000</td>\n",
       "      <td>70.000000</td>\n",
       "      <td>3.000000</td>\n",
       "      <td>3.000000</td>\n",
       "      <td>13.000000</td>\n",
       "      <td>13.000000</td>\n",
       "      <td>7.000000</td>\n",
       "      <td>NaN</td>\n",
       "    </tr>\n",
       "    <tr>\n",
       "      <th>50%</th>\n",
       "      <td>271.000000</td>\n",
       "      <td>271.000000</td>\n",
       "      <td>0.000000</td>\n",
       "      <td>31.000000</td>\n",
       "      <td>59.000000</td>\n",
       "      <td>156.000000</td>\n",
       "      <td>NaN</td>\n",
       "      <td>14.000000</td>\n",
       "      <td>72.000000</td>\n",
       "      <td>18.000000</td>\n",
       "      <td>...</td>\n",
       "      <td>1.000000</td>\n",
       "      <td>0.000000</td>\n",
       "      <td>110.000000</td>\n",
       "      <td>80.000000</td>\n",
       "      <td>5.000000</td>\n",
       "      <td>6.000000</td>\n",
       "      <td>15.000000</td>\n",
       "      <td>16.000000</td>\n",
       "      <td>8.500000</td>\n",
       "      <td>NaN</td>\n",
       "    </tr>\n",
       "    <tr>\n",
       "      <th>75%</th>\n",
       "      <td>406.000000</td>\n",
       "      <td>406.000000</td>\n",
       "      <td>1.000000</td>\n",
       "      <td>35.000000</td>\n",
       "      <td>65.000000</td>\n",
       "      <td>160.000000</td>\n",
       "      <td>NaN</td>\n",
       "      <td>15.000000</td>\n",
       "      <td>74.000000</td>\n",
       "      <td>20.000000</td>\n",
       "      <td>...</td>\n",
       "      <td>1.000000</td>\n",
       "      <td>0.000000</td>\n",
       "      <td>120.000000</td>\n",
       "      <td>80.000000</td>\n",
       "      <td>9.000000</td>\n",
       "      <td>10.000000</td>\n",
       "      <td>18.000000</td>\n",
       "      <td>18.000000</td>\n",
       "      <td>9.800000</td>\n",
       "      <td>NaN</td>\n",
       "    </tr>\n",
       "    <tr>\n",
       "      <th>max</th>\n",
       "      <td>541.000000</td>\n",
       "      <td>541.000000</td>\n",
       "      <td>1.000000</td>\n",
       "      <td>48.000000</td>\n",
       "      <td>108.000000</td>\n",
       "      <td>180.000000</td>\n",
       "      <td>NaN</td>\n",
       "      <td>18.000000</td>\n",
       "      <td>82.000000</td>\n",
       "      <td>28.000000</td>\n",
       "      <td>...</td>\n",
       "      <td>1.000000</td>\n",
       "      <td>1.000000</td>\n",
       "      <td>140.000000</td>\n",
       "      <td>100.000000</td>\n",
       "      <td>22.000000</td>\n",
       "      <td>20.000000</td>\n",
       "      <td>24.000000</td>\n",
       "      <td>24.000000</td>\n",
       "      <td>18.000000</td>\n",
       "      <td>NaN</td>\n",
       "    </tr>\n",
       "  </tbody>\n",
       "</table>\n",
       "<p>11 rows × 45 columns</p>\n",
       "</div>"
      ],
      "text/plain": [
       "            Sl. No  Patient File No.  PCOS (Y/N)   Age (yrs)  Weight (Kg)  \\\n",
       "count   541.000000        541.000000  541.000000  541.000000   541.000000   \n",
       "unique         NaN               NaN         NaN         NaN          NaN   \n",
       "top            NaN               NaN         NaN         NaN          NaN   \n",
       "freq           NaN               NaN         NaN         NaN          NaN   \n",
       "mean    271.000000        271.000000    0.327172   31.430684    59.637153   \n",
       "std     156.317519        156.317519    0.469615    5.411006    11.028287   \n",
       "min       1.000000          1.000000    0.000000   20.000000    31.000000   \n",
       "25%     136.000000        136.000000    0.000000   28.000000    52.000000   \n",
       "50%     271.000000        271.000000    0.000000   31.000000    59.000000   \n",
       "75%     406.000000        406.000000    1.000000   35.000000    65.000000   \n",
       "max     541.000000        541.000000    1.000000   48.000000   108.000000   \n",
       "\n",
       "        Height(Cm)      BMI  Blood Group  Pulse rate(bpm)   RR (breaths/min)  \\\n",
       "count    541.000000     541   541.000000        541.000000        541.000000   \n",
       "unique          NaN     108          NaN               NaN               NaN   \n",
       "top             NaN  #NAME?          NaN               NaN               NaN   \n",
       "freq            NaN     299          NaN               NaN               NaN   \n",
       "mean     156.484835     NaN    13.802218         73.247689         19.243993   \n",
       "std        6.033545     NaN     1.840812          4.430285          1.688629   \n",
       "min      137.000000     NaN    11.000000         13.000000         16.000000   \n",
       "25%      152.000000     NaN    13.000000         72.000000         18.000000   \n",
       "50%      156.000000     NaN    14.000000         72.000000         18.000000   \n",
       "75%      160.000000     NaN    15.000000         74.000000         20.000000   \n",
       "max      180.000000     NaN    18.000000         82.000000         28.000000   \n",
       "\n",
       "        ...  Fast Food (Y/N)  Reg.Exercise(Y/N)  BP _Systolic (mmHg)  \\\n",
       "count   ...       540.000000         541.000000           541.000000   \n",
       "unique  ...              NaN                NaN                  NaN   \n",
       "top     ...              NaN                NaN                  NaN   \n",
       "freq    ...              NaN                NaN                  NaN   \n",
       "mean    ...         0.514815           0.247689           114.661738   \n",
       "std     ...         0.500244           0.432070             7.384556   \n",
       "min     ...         0.000000           0.000000            12.000000   \n",
       "25%     ...         0.000000           0.000000           110.000000   \n",
       "50%     ...         1.000000           0.000000           110.000000   \n",
       "75%     ...         1.000000           0.000000           120.000000   \n",
       "max     ...         1.000000           1.000000           140.000000   \n",
       "\n",
       "        BP _Diastolic (mmHg)  Follicle No. (L)  Follicle No. (R)  \\\n",
       "count             541.000000        541.000000        541.000000   \n",
       "unique                   NaN               NaN               NaN   \n",
       "top                      NaN               NaN               NaN   \n",
       "freq                     NaN               NaN               NaN   \n",
       "mean               76.927911          6.129390          6.641405   \n",
       "std                 5.574112          4.229294          4.436889   \n",
       "min                 8.000000          0.000000          0.000000   \n",
       "25%                70.000000          3.000000          3.000000   \n",
       "50%                80.000000          5.000000          6.000000   \n",
       "75%                80.000000          9.000000         10.000000   \n",
       "max               100.000000         22.000000         20.000000   \n",
       "\n",
       "        Avg. F size (L) (mm) Avg. F size (R) (mm)  Endometrium (mm)  \\\n",
       "count             541.000000           541.000000        541.000000   \n",
       "unique                   NaN                  NaN               NaN   \n",
       "top                      NaN                  NaN               NaN   \n",
       "freq                     NaN                  NaN               NaN   \n",
       "mean               15.018115            15.451701          8.475915   \n",
       "std                 3.566839             3.318848          2.165381   \n",
       "min                 0.000000             0.000000          0.000000   \n",
       "25%                13.000000            13.000000          7.000000   \n",
       "50%                15.000000            16.000000          8.500000   \n",
       "75%                18.000000            18.000000          9.800000   \n",
       "max                24.000000            24.000000         18.000000   \n",
       "\n",
       "        Unnamed: 44  \n",
       "count             2  \n",
       "unique            2  \n",
       "top               .  \n",
       "freq              1  \n",
       "mean            NaN  \n",
       "std             NaN  \n",
       "min             NaN  \n",
       "25%             NaN  \n",
       "50%             NaN  \n",
       "75%             NaN  \n",
       "max             NaN  \n",
       "\n",
       "[11 rows x 45 columns]"
      ]
     },
     "execution_count": 7,
     "metadata": {},
     "output_type": "execute_result"
    }
   ],
   "source": [
    "PCOS_woinf.describe(exclude = 'category')"
   ]
  },
  {
   "cell_type": "markdown",
   "id": "9686c275",
   "metadata": {},
   "source": [
    "First data frame `PCOS_woinf` without infertility has 999 rows and 42 columns, but with 541 records. The other records will need to be explored and possibly removed."
   ]
  },
  {
   "cell_type": "code",
   "execution_count": 8,
   "id": "e667a219",
   "metadata": {
    "scrolled": false
   },
   "outputs": [
    {
     "data": {
      "text/plain": [
       "(999, 45)"
      ]
     },
     "execution_count": 8,
     "metadata": {},
     "output_type": "execute_result"
    }
   ],
   "source": [
    "PCOS_woinf.shape"
   ]
  },
  {
   "cell_type": "markdown",
   "id": "766da45d",
   "metadata": {},
   "source": [
    "Second data frame `PCOS_inf` with only infertility records has 541 records and 6 columns."
   ]
  },
  {
   "cell_type": "code",
   "execution_count": 9,
   "id": "59202adf",
   "metadata": {},
   "outputs": [
    {
     "data": {
      "text/plain": [
       "(541, 6)"
      ]
     },
     "execution_count": 9,
     "metadata": {},
     "output_type": "execute_result"
    }
   ],
   "source": [
    "PCOS_inf.shape"
   ]
  },
  {
   "cell_type": "markdown",
   "id": "2bddf605",
   "metadata": {},
   "source": [
    "Observations:\n",
    " - The `PCOS_woinf` has the `BMI` column with the `#NAME?` error. We will have to compute the `BMI` to replace the `#NAME?` error. \n",
    " - The `PCOS_woinf` has 44 `Unnamed:` columsn with `NaN` values. We will need to drop the `NaN` values and the `Unnamed:` columns in the DataFrame. "
   ]
  },
  {
   "cell_type": "code",
   "execution_count": 10,
   "id": "5dd74954",
   "metadata": {
    "scrolled": true
   },
   "outputs": [
    {
     "data": {
      "text/html": [
       "<div>\n",
       "<style scoped>\n",
       "    .dataframe tbody tr th:only-of-type {\n",
       "        vertical-align: middle;\n",
       "    }\n",
       "\n",
       "    .dataframe tbody tr th {\n",
       "        vertical-align: top;\n",
       "    }\n",
       "\n",
       "    .dataframe thead th {\n",
       "        text-align: right;\n",
       "    }\n",
       "</style>\n",
       "<table border=\"1\" class=\"dataframe\">\n",
       "  <thead>\n",
       "    <tr style=\"text-align: right;\">\n",
       "      <th></th>\n",
       "      <th>Sl. No</th>\n",
       "      <th>Patient File No.</th>\n",
       "      <th>PCOS (Y/N)</th>\n",
       "      <th>Age (yrs)</th>\n",
       "      <th>Weight (Kg)</th>\n",
       "      <th>Height(Cm)</th>\n",
       "      <th>BMI</th>\n",
       "      <th>Blood Group</th>\n",
       "      <th>Pulse rate(bpm)</th>\n",
       "      <th>RR (breaths/min)</th>\n",
       "      <th>...</th>\n",
       "      <th>Fast Food (Y/N)</th>\n",
       "      <th>Reg.Exercise(Y/N)</th>\n",
       "      <th>BP _Systolic (mmHg)</th>\n",
       "      <th>BP _Diastolic (mmHg)</th>\n",
       "      <th>Follicle No. (L)</th>\n",
       "      <th>Follicle No. (R)</th>\n",
       "      <th>Avg. F size (L) (mm)</th>\n",
       "      <th>Avg. F size (R) (mm)</th>\n",
       "      <th>Endometrium (mm)</th>\n",
       "      <th>Unnamed: 44</th>\n",
       "    </tr>\n",
       "  </thead>\n",
       "  <tbody>\n",
       "    <tr>\n",
       "      <th>0</th>\n",
       "      <td>1.0</td>\n",
       "      <td>1.0</td>\n",
       "      <td>0.0</td>\n",
       "      <td>28.0</td>\n",
       "      <td>44.6</td>\n",
       "      <td>152.0</td>\n",
       "      <td>19.3</td>\n",
       "      <td>15.0</td>\n",
       "      <td>78.0</td>\n",
       "      <td>22.0</td>\n",
       "      <td>...</td>\n",
       "      <td>1.0</td>\n",
       "      <td>0.0</td>\n",
       "      <td>110.0</td>\n",
       "      <td>80.0</td>\n",
       "      <td>3.0</td>\n",
       "      <td>3.0</td>\n",
       "      <td>18.0</td>\n",
       "      <td>18.0</td>\n",
       "      <td>8.5</td>\n",
       "      <td>NaN</td>\n",
       "    </tr>\n",
       "    <tr>\n",
       "      <th>1</th>\n",
       "      <td>2.0</td>\n",
       "      <td>2.0</td>\n",
       "      <td>0.0</td>\n",
       "      <td>36.0</td>\n",
       "      <td>65.0</td>\n",
       "      <td>161.5</td>\n",
       "      <td>#NAME?</td>\n",
       "      <td>15.0</td>\n",
       "      <td>74.0</td>\n",
       "      <td>20.0</td>\n",
       "      <td>...</td>\n",
       "      <td>0.0</td>\n",
       "      <td>0.0</td>\n",
       "      <td>120.0</td>\n",
       "      <td>70.0</td>\n",
       "      <td>3.0</td>\n",
       "      <td>5.0</td>\n",
       "      <td>15.0</td>\n",
       "      <td>14.0</td>\n",
       "      <td>3.7</td>\n",
       "      <td>NaN</td>\n",
       "    </tr>\n",
       "    <tr>\n",
       "      <th>2</th>\n",
       "      <td>3.0</td>\n",
       "      <td>3.0</td>\n",
       "      <td>1.0</td>\n",
       "      <td>33.0</td>\n",
       "      <td>68.8</td>\n",
       "      <td>165.0</td>\n",
       "      <td>#NAME?</td>\n",
       "      <td>11.0</td>\n",
       "      <td>72.0</td>\n",
       "      <td>18.0</td>\n",
       "      <td>...</td>\n",
       "      <td>1.0</td>\n",
       "      <td>0.0</td>\n",
       "      <td>120.0</td>\n",
       "      <td>80.0</td>\n",
       "      <td>13.0</td>\n",
       "      <td>15.0</td>\n",
       "      <td>18.0</td>\n",
       "      <td>20.0</td>\n",
       "      <td>10.0</td>\n",
       "      <td>NaN</td>\n",
       "    </tr>\n",
       "    <tr>\n",
       "      <th>3</th>\n",
       "      <td>4.0</td>\n",
       "      <td>4.0</td>\n",
       "      <td>0.0</td>\n",
       "      <td>37.0</td>\n",
       "      <td>65.0</td>\n",
       "      <td>148.0</td>\n",
       "      <td>#NAME?</td>\n",
       "      <td>13.0</td>\n",
       "      <td>72.0</td>\n",
       "      <td>20.0</td>\n",
       "      <td>...</td>\n",
       "      <td>0.0</td>\n",
       "      <td>0.0</td>\n",
       "      <td>120.0</td>\n",
       "      <td>70.0</td>\n",
       "      <td>2.0</td>\n",
       "      <td>2.0</td>\n",
       "      <td>15.0</td>\n",
       "      <td>14.0</td>\n",
       "      <td>7.5</td>\n",
       "      <td>NaN</td>\n",
       "    </tr>\n",
       "    <tr>\n",
       "      <th>4</th>\n",
       "      <td>5.0</td>\n",
       "      <td>5.0</td>\n",
       "      <td>0.0</td>\n",
       "      <td>25.0</td>\n",
       "      <td>52.0</td>\n",
       "      <td>161.0</td>\n",
       "      <td>#NAME?</td>\n",
       "      <td>11.0</td>\n",
       "      <td>72.0</td>\n",
       "      <td>18.0</td>\n",
       "      <td>...</td>\n",
       "      <td>0.0</td>\n",
       "      <td>0.0</td>\n",
       "      <td>120.0</td>\n",
       "      <td>80.0</td>\n",
       "      <td>3.0</td>\n",
       "      <td>4.0</td>\n",
       "      <td>16.0</td>\n",
       "      <td>14.0</td>\n",
       "      <td>7.0</td>\n",
       "      <td>NaN</td>\n",
       "    </tr>\n",
       "  </tbody>\n",
       "</table>\n",
       "<p>5 rows × 45 columns</p>\n",
       "</div>"
      ],
      "text/plain": [
       "   Sl. No  Patient File No.  PCOS (Y/N)   Age (yrs)  Weight (Kg)  Height(Cm)   \\\n",
       "0     1.0               1.0         0.0        28.0         44.6        152.0   \n",
       "1     2.0               2.0         0.0        36.0         65.0        161.5   \n",
       "2     3.0               3.0         1.0        33.0         68.8        165.0   \n",
       "3     4.0               4.0         0.0        37.0         65.0        148.0   \n",
       "4     5.0               5.0         0.0        25.0         52.0        161.0   \n",
       "\n",
       "      BMI  Blood Group  Pulse rate(bpm)   RR (breaths/min)  ...  \\\n",
       "0    19.3         15.0              78.0              22.0  ...   \n",
       "1  #NAME?         15.0              74.0              20.0  ...   \n",
       "2  #NAME?         11.0              72.0              18.0  ...   \n",
       "3  #NAME?         13.0              72.0              20.0  ...   \n",
       "4  #NAME?         11.0              72.0              18.0  ...   \n",
       "\n",
       "   Fast Food (Y/N)  Reg.Exercise(Y/N)  BP _Systolic (mmHg)  \\\n",
       "0              1.0                0.0                110.0   \n",
       "1              0.0                0.0                120.0   \n",
       "2              1.0                0.0                120.0   \n",
       "3              0.0                0.0                120.0   \n",
       "4              0.0                0.0                120.0   \n",
       "\n",
       "   BP _Diastolic (mmHg)  Follicle No. (L)  Follicle No. (R)  \\\n",
       "0                  80.0               3.0               3.0   \n",
       "1                  70.0               3.0               5.0   \n",
       "2                  80.0              13.0              15.0   \n",
       "3                  70.0               2.0               2.0   \n",
       "4                  80.0               3.0               4.0   \n",
       "\n",
       "   Avg. F size (L) (mm) Avg. F size (R) (mm)  Endometrium (mm)  Unnamed: 44  \n",
       "0                  18.0                 18.0               8.5          NaN  \n",
       "1                  15.0                 14.0               3.7          NaN  \n",
       "2                  18.0                 20.0              10.0          NaN  \n",
       "3                  15.0                 14.0               7.5          NaN  \n",
       "4                  16.0                 14.0               7.0          NaN  \n",
       "\n",
       "[5 rows x 45 columns]"
      ]
     },
     "execution_count": 10,
     "metadata": {},
     "output_type": "execute_result"
    }
   ],
   "source": [
    "PCOS_woinf.head()"
   ]
  },
  {
   "cell_type": "markdown",
   "id": "0c3885f5",
   "metadata": {},
   "source": [
    "Observations:\n",
    "\n",
    "- The `PCOS_woinf` has multiple records with `NaN` due to what looks like a formatting issue in the Comma Seperated Value (CSV) file that was imported as a DataFrame. We will need to drop the `NaN` values from these rows. "
   ]
  },
  {
   "cell_type": "code",
   "execution_count": 11,
   "id": "6934dab8",
   "metadata": {},
   "outputs": [
    {
     "data": {
      "text/html": [
       "<div>\n",
       "<style scoped>\n",
       "    .dataframe tbody tr th:only-of-type {\n",
       "        vertical-align: middle;\n",
       "    }\n",
       "\n",
       "    .dataframe tbody tr th {\n",
       "        vertical-align: top;\n",
       "    }\n",
       "\n",
       "    .dataframe thead th {\n",
       "        text-align: right;\n",
       "    }\n",
       "</style>\n",
       "<table border=\"1\" class=\"dataframe\">\n",
       "  <thead>\n",
       "    <tr style=\"text-align: right;\">\n",
       "      <th></th>\n",
       "      <th>Sl. No</th>\n",
       "      <th>Patient File No.</th>\n",
       "      <th>PCOS (Y/N)</th>\n",
       "      <th>Age (yrs)</th>\n",
       "      <th>Weight (Kg)</th>\n",
       "      <th>Height(Cm)</th>\n",
       "      <th>BMI</th>\n",
       "      <th>Blood Group</th>\n",
       "      <th>Pulse rate(bpm)</th>\n",
       "      <th>RR (breaths/min)</th>\n",
       "      <th>...</th>\n",
       "      <th>Fast Food (Y/N)</th>\n",
       "      <th>Reg.Exercise(Y/N)</th>\n",
       "      <th>BP _Systolic (mmHg)</th>\n",
       "      <th>BP _Diastolic (mmHg)</th>\n",
       "      <th>Follicle No. (L)</th>\n",
       "      <th>Follicle No. (R)</th>\n",
       "      <th>Avg. F size (L) (mm)</th>\n",
       "      <th>Avg. F size (R) (mm)</th>\n",
       "      <th>Endometrium (mm)</th>\n",
       "      <th>Unnamed: 44</th>\n",
       "    </tr>\n",
       "  </thead>\n",
       "  <tbody>\n",
       "    <tr>\n",
       "      <th>994</th>\n",
       "      <td>NaN</td>\n",
       "      <td>NaN</td>\n",
       "      <td>NaN</td>\n",
       "      <td>NaN</td>\n",
       "      <td>NaN</td>\n",
       "      <td>NaN</td>\n",
       "      <td>NaN</td>\n",
       "      <td>NaN</td>\n",
       "      <td>NaN</td>\n",
       "      <td>NaN</td>\n",
       "      <td>...</td>\n",
       "      <td>NaN</td>\n",
       "      <td>NaN</td>\n",
       "      <td>NaN</td>\n",
       "      <td>NaN</td>\n",
       "      <td>NaN</td>\n",
       "      <td>NaN</td>\n",
       "      <td>NaN</td>\n",
       "      <td>NaN</td>\n",
       "      <td>NaN</td>\n",
       "      <td>NaN</td>\n",
       "    </tr>\n",
       "    <tr>\n",
       "      <th>995</th>\n",
       "      <td>NaN</td>\n",
       "      <td>NaN</td>\n",
       "      <td>NaN</td>\n",
       "      <td>NaN</td>\n",
       "      <td>NaN</td>\n",
       "      <td>NaN</td>\n",
       "      <td>NaN</td>\n",
       "      <td>NaN</td>\n",
       "      <td>NaN</td>\n",
       "      <td>NaN</td>\n",
       "      <td>...</td>\n",
       "      <td>NaN</td>\n",
       "      <td>NaN</td>\n",
       "      <td>NaN</td>\n",
       "      <td>NaN</td>\n",
       "      <td>NaN</td>\n",
       "      <td>NaN</td>\n",
       "      <td>NaN</td>\n",
       "      <td>NaN</td>\n",
       "      <td>NaN</td>\n",
       "      <td>NaN</td>\n",
       "    </tr>\n",
       "    <tr>\n",
       "      <th>996</th>\n",
       "      <td>NaN</td>\n",
       "      <td>NaN</td>\n",
       "      <td>NaN</td>\n",
       "      <td>NaN</td>\n",
       "      <td>NaN</td>\n",
       "      <td>NaN</td>\n",
       "      <td>NaN</td>\n",
       "      <td>NaN</td>\n",
       "      <td>NaN</td>\n",
       "      <td>NaN</td>\n",
       "      <td>...</td>\n",
       "      <td>NaN</td>\n",
       "      <td>NaN</td>\n",
       "      <td>NaN</td>\n",
       "      <td>NaN</td>\n",
       "      <td>NaN</td>\n",
       "      <td>NaN</td>\n",
       "      <td>NaN</td>\n",
       "      <td>NaN</td>\n",
       "      <td>NaN</td>\n",
       "      <td>NaN</td>\n",
       "    </tr>\n",
       "    <tr>\n",
       "      <th>997</th>\n",
       "      <td>NaN</td>\n",
       "      <td>NaN</td>\n",
       "      <td>NaN</td>\n",
       "      <td>NaN</td>\n",
       "      <td>NaN</td>\n",
       "      <td>NaN</td>\n",
       "      <td>NaN</td>\n",
       "      <td>NaN</td>\n",
       "      <td>NaN</td>\n",
       "      <td>NaN</td>\n",
       "      <td>...</td>\n",
       "      <td>NaN</td>\n",
       "      <td>NaN</td>\n",
       "      <td>NaN</td>\n",
       "      <td>NaN</td>\n",
       "      <td>NaN</td>\n",
       "      <td>NaN</td>\n",
       "      <td>NaN</td>\n",
       "      <td>NaN</td>\n",
       "      <td>NaN</td>\n",
       "      <td>NaN</td>\n",
       "    </tr>\n",
       "    <tr>\n",
       "      <th>998</th>\n",
       "      <td>NaN</td>\n",
       "      <td>NaN</td>\n",
       "      <td>NaN</td>\n",
       "      <td>NaN</td>\n",
       "      <td>NaN</td>\n",
       "      <td>NaN</td>\n",
       "      <td>NaN</td>\n",
       "      <td>NaN</td>\n",
       "      <td>NaN</td>\n",
       "      <td>NaN</td>\n",
       "      <td>...</td>\n",
       "      <td>NaN</td>\n",
       "      <td>NaN</td>\n",
       "      <td>NaN</td>\n",
       "      <td>NaN</td>\n",
       "      <td>NaN</td>\n",
       "      <td>NaN</td>\n",
       "      <td>NaN</td>\n",
       "      <td>NaN</td>\n",
       "      <td>NaN</td>\n",
       "      <td>NaN</td>\n",
       "    </tr>\n",
       "  </tbody>\n",
       "</table>\n",
       "<p>5 rows × 45 columns</p>\n",
       "</div>"
      ],
      "text/plain": [
       "     Sl. No  Patient File No.  PCOS (Y/N)   Age (yrs)  Weight (Kg)  \\\n",
       "994     NaN               NaN         NaN         NaN          NaN   \n",
       "995     NaN               NaN         NaN         NaN          NaN   \n",
       "996     NaN               NaN         NaN         NaN          NaN   \n",
       "997     NaN               NaN         NaN         NaN          NaN   \n",
       "998     NaN               NaN         NaN         NaN          NaN   \n",
       "\n",
       "     Height(Cm)   BMI  Blood Group  Pulse rate(bpm)   RR (breaths/min)  ...  \\\n",
       "994          NaN  NaN          NaN               NaN               NaN  ...   \n",
       "995          NaN  NaN          NaN               NaN               NaN  ...   \n",
       "996          NaN  NaN          NaN               NaN               NaN  ...   \n",
       "997          NaN  NaN          NaN               NaN               NaN  ...   \n",
       "998          NaN  NaN          NaN               NaN               NaN  ...   \n",
       "\n",
       "     Fast Food (Y/N)  Reg.Exercise(Y/N)  BP _Systolic (mmHg)  \\\n",
       "994              NaN                NaN                  NaN   \n",
       "995              NaN                NaN                  NaN   \n",
       "996              NaN                NaN                  NaN   \n",
       "997              NaN                NaN                  NaN   \n",
       "998              NaN                NaN                  NaN   \n",
       "\n",
       "     BP _Diastolic (mmHg)  Follicle No. (L)  Follicle No. (R)  \\\n",
       "994                   NaN               NaN               NaN   \n",
       "995                   NaN               NaN               NaN   \n",
       "996                   NaN               NaN               NaN   \n",
       "997                   NaN               NaN               NaN   \n",
       "998                   NaN               NaN               NaN   \n",
       "\n",
       "     Avg. F size (L) (mm) Avg. F size (R) (mm)  Endometrium (mm)  Unnamed: 44  \n",
       "994                   NaN                  NaN               NaN          NaN  \n",
       "995                   NaN                  NaN               NaN          NaN  \n",
       "996                   NaN                  NaN               NaN          NaN  \n",
       "997                   NaN                  NaN               NaN          NaN  \n",
       "998                   NaN                  NaN               NaN          NaN  \n",
       "\n",
       "[5 rows x 45 columns]"
      ]
     },
     "execution_count": 11,
     "metadata": {},
     "output_type": "execute_result"
    }
   ],
   "source": [
    "PCOS_woinf.tail()"
   ]
  },
  {
   "cell_type": "markdown",
   "id": "2f0b6741",
   "metadata": {},
   "source": [
    "Observations:\n",
    "\n",
    "- `PCOS_woinf` has 541 entries or rows. \n",
    "- All columns are of `float64` type except for `BMI`, `FSH/LH`, `Waist:Hip Ratio`, and `AMH(ng/mL)` which are of `object` type."
   ]
  },
  {
   "cell_type": "code",
   "execution_count": 12,
   "id": "50f3d10a",
   "metadata": {
    "scrolled": true
   },
   "outputs": [
    {
     "name": "stdout",
     "output_type": "stream",
     "text": [
      "<class 'pandas.core.frame.DataFrame'>\n",
      "RangeIndex: 999 entries, 0 to 998\n",
      "Data columns (total 45 columns):\n",
      " #   Column                  Non-Null Count  Dtype  \n",
      "---  ------                  --------------  -----  \n",
      " 0   Sl. No                  541 non-null    float64\n",
      " 1   Patient File No.        541 non-null    float64\n",
      " 2   PCOS (Y/N)              541 non-null    float64\n",
      " 3    Age (yrs)              541 non-null    float64\n",
      " 4   Weight (Kg)             541 non-null    float64\n",
      " 5   Height(Cm)              541 non-null    float64\n",
      " 6   BMI                     541 non-null    object \n",
      " 7   Blood Group             541 non-null    float64\n",
      " 8   Pulse rate(bpm)         541 non-null    float64\n",
      " 9   RR (breaths/min)        541 non-null    float64\n",
      " 10  Hb(g/dl)                541 non-null    float64\n",
      " 11  Cycle(R/I)              541 non-null    float64\n",
      " 12  Cycle length(days)      541 non-null    float64\n",
      " 13  Marraige Status (Yrs)   540 non-null    float64\n",
      " 14  Pregnant(Y/N)           541 non-null    float64\n",
      " 15  No. of aborptions       541 non-null    float64\n",
      " 16    I   beta-HCG(mIU/mL)  541 non-null    float64\n",
      " 17  II    beta-HCG(mIU/mL)  541 non-null    object \n",
      " 18  FSH(mIU/mL)             541 non-null    float64\n",
      " 19  LH(mIU/mL)              541 non-null    float64\n",
      " 20  FSH/LH                  541 non-null    object \n",
      " 21  Hip(inch)               541 non-null    float64\n",
      " 22  Waist(inch)             541 non-null    float64\n",
      " 23  Waist:Hip Ratio         541 non-null    object \n",
      " 24  TSH (mIU/L)             541 non-null    float64\n",
      " 25  AMH(ng/mL)              541 non-null    object \n",
      " 26  PRL(ng/mL)              541 non-null    float64\n",
      " 27  Vit D3 (ng/mL)          541 non-null    float64\n",
      " 28  PRG(ng/mL)              541 non-null    float64\n",
      " 29  RBS(mg/dl)              541 non-null    float64\n",
      " 30  Weight gain(Y/N)        541 non-null    float64\n",
      " 31  hair growth(Y/N)        541 non-null    float64\n",
      " 32  Skin darkening (Y/N)    541 non-null    float64\n",
      " 33  Hair loss(Y/N)          541 non-null    float64\n",
      " 34  Acne (Y/N)              541 non-null    float64\n",
      " 35  Fast Food (Y/N)         540 non-null    float64\n",
      " 36  Reg.Exercise(Y/N)       541 non-null    float64\n",
      " 37  BP _Systolic (mmHg)     541 non-null    float64\n",
      " 38  BP _Diastolic (mmHg)    541 non-null    float64\n",
      " 39  Follicle No. (L)        541 non-null    float64\n",
      " 40  Follicle No. (R)        541 non-null    float64\n",
      " 41  Avg. F size (L) (mm)    541 non-null    float64\n",
      " 42  Avg. F size (R) (mm)    541 non-null    float64\n",
      " 43  Endometrium (mm)        541 non-null    float64\n",
      " 44  Unnamed: 44             2 non-null      object \n",
      "dtypes: float64(39), object(6)\n",
      "memory usage: 351.3+ KB\n"
     ]
    }
   ],
   "source": [
    "PCOS_woinf.info()"
   ]
  },
  {
   "cell_type": "markdown",
   "id": "d65ad281",
   "metadata": {},
   "source": [
    "Observations:\n",
    "\n",
    " - `PCOS_inf` has 541 entries or rows with a total of 6 columns as we found from the `shape()` function above. \n",
    " - `PCOS_inf` has all `int` and `float` types, except for column `AMH(ng/mL)`. "
   ]
  },
  {
   "cell_type": "code",
   "execution_count": 13,
   "id": "9e893921",
   "metadata": {},
   "outputs": [
    {
     "name": "stdout",
     "output_type": "stream",
     "text": [
      "<class 'pandas.core.frame.DataFrame'>\n",
      "RangeIndex: 541 entries, 0 to 540\n",
      "Data columns (total 6 columns):\n",
      " #   Column                  Non-Null Count  Dtype  \n",
      "---  ------                  --------------  -----  \n",
      " 0   Sl. No                  541 non-null    int64  \n",
      " 1   Patient File No.        541 non-null    int64  \n",
      " 2   PCOS (Y/N)              541 non-null    int64  \n",
      " 3     I   beta-HCG(mIU/mL)  541 non-null    float64\n",
      " 4   II    beta-HCG(mIU/mL)  541 non-null    float64\n",
      " 5   AMH(ng/mL)              541 non-null    object \n",
      "dtypes: float64(2), int64(3), object(1)\n",
      "memory usage: 25.5+ KB\n"
     ]
    }
   ],
   "source": [
    "PCOS_inf.info()"
   ]
  },
  {
   "cell_type": "markdown",
   "id": "e0eaba68",
   "metadata": {},
   "source": [
    "### Important Note About the Data\n",
    "- Upon initial inspection, I identified that each record in each CSV file had a unique Patient File Number which would indicate files for unique patients. \n",
    "- Also, I recognized that the file names `PCOS_woinf` and `PCOS_inf` would indicate patients were not diagnosed with \"Unexplained Infertility\" and patients that were diagnosed with \"Unexplained Infertility\".\n",
    "- However, upon further inspection, the data in both files, are the same with different Pateint File Numbers. \n",
    "- Because of these observations, I will exclude the `PCOS_inf` for the main Explanatory Data Analasis. \n",
    "- To explore the questions of interest regarding fertility, I will use random generated values with the same distributions as those values of patients that are not pregnant according to the `Pregnant (Y/N)` feature. This will allow exploratory analysis regarding patients that are classfied with infertility versus without infertility. THis can be found in the 'Additional EDA' Section at the end of this notebook. \n",
    "- Because of these observations, I will only use the `PCOS_woinf` in the main analysis."
   ]
  },
  {
   "cell_type": "markdown",
   "id": "3aca58f3",
   "metadata": {},
   "source": [
    "## Data Preparation"
   ]
  },
  {
   "cell_type": "markdown",
   "id": "a04b2b2e",
   "metadata": {},
   "source": [
    "#### Data Cleaning Steps Taken:\n",
    "\n",
    " - Find and remove `NaN` values.\n",
    " - Drop `Unnamed:` columns. \n",
    " - Find and remove duplicates.\n",
    " - Remove white space in column names.\n",
    " - Calculate correct values for `BMI`, `FSH/LH`, and `Waist:Hip Ratio` columns."
   ]
  },
  {
   "cell_type": "markdown",
   "id": "4eec1137",
   "metadata": {},
   "source": [
    "Find all `NaN` values in `PCOS_woinf`."
   ]
  },
  {
   "cell_type": "code",
   "execution_count": 14,
   "id": "7c780c85",
   "metadata": {},
   "outputs": [],
   "source": [
    "num_nulls_in_PCOS_woinf = np.sum(PCOS_woinf.isnull(), axis=0)"
   ]
  },
  {
   "cell_type": "markdown",
   "id": "54d13da0",
   "metadata": {},
   "source": [
    "Remove the `NaN` values from rows and columns in `PCOS_woinf`."
   ]
  },
  {
   "cell_type": "code",
   "execution_count": 15,
   "id": "d6441fac",
   "metadata": {},
   "outputs": [],
   "source": [
    "PCOS_woinf = PCOS_woinf.dropna(axis = 0, how = 'all').dropna(axis = 1, how = 'any')"
   ]
  },
  {
   "cell_type": "markdown",
   "id": "ba049fa0",
   "metadata": {},
   "source": [
    "Check to see if `NaN` values were removed from `PCOS_woinf`. "
   ]
  },
  {
   "cell_type": "code",
   "execution_count": 16,
   "id": "942f2c2e",
   "metadata": {},
   "outputs": [
    {
     "data": {
      "text/plain": [
       "Sl. No                    458\n",
       "Patient File No.          458\n",
       "PCOS (Y/N)                458\n",
       " Age (yrs)                458\n",
       "Weight (Kg)               458\n",
       "Height(Cm)                458\n",
       "BMI                       458\n",
       "Blood Group               458\n",
       "Pulse rate(bpm)           458\n",
       "RR (breaths/min)          458\n",
       "Hb(g/dl)                  458\n",
       "Cycle(R/I)                458\n",
       "Cycle length(days)        458\n",
       "Marraige Status (Yrs)     459\n",
       "Pregnant(Y/N)             458\n",
       "No. of aborptions         458\n",
       "  I   beta-HCG(mIU/mL)    458\n",
       "II    beta-HCG(mIU/mL)    458\n",
       "FSH(mIU/mL)               458\n",
       "LH(mIU/mL)                458\n",
       "FSH/LH                    458\n",
       "Hip(inch)                 458\n",
       "Waist(inch)               458\n",
       "Waist:Hip Ratio           458\n",
       "TSH (mIU/L)               458\n",
       "AMH(ng/mL)                458\n",
       "PRL(ng/mL)                458\n",
       "Vit D3 (ng/mL)            458\n",
       "PRG(ng/mL)                458\n",
       "RBS(mg/dl)                458\n",
       "Weight gain(Y/N)          458\n",
       "hair growth(Y/N)          458\n",
       "Skin darkening (Y/N)      458\n",
       "Hair loss(Y/N)            458\n",
       "Acne (Y/N)                458\n",
       "Fast Food (Y/N)           459\n",
       "Reg.Exercise(Y/N)         458\n",
       "BP _Systolic (mmHg)       458\n",
       "BP _Diastolic (mmHg)      458\n",
       "Follicle No. (L)          458\n",
       "Follicle No. (R)          458\n",
       "Avg. F size (L) (mm)      458\n",
       "Avg. F size (R) (mm)      458\n",
       "Endometrium (mm)          458\n",
       "Unnamed: 44               997\n",
       "dtype: int64"
      ]
     },
     "execution_count": 16,
     "metadata": {},
     "output_type": "execute_result"
    }
   ],
   "source": [
    "num_nulls_in_PCOS_woinf"
   ]
  },
  {
   "cell_type": "markdown",
   "id": "0f0e7025",
   "metadata": {},
   "source": [
    "Remove `Unnamed:` columns from `PCOS_woinf`. "
   ]
  },
  {
   "cell_type": "code",
   "execution_count": 17,
   "id": "68630bd5",
   "metadata": {},
   "outputs": [],
   "source": [
    "PCOS_woinf = PCOS_woinf.loc[:, ~PCOS_woinf.columns.str.contains('^Unnamed')]"
   ]
  },
  {
   "cell_type": "markdown",
   "id": "1fecb102",
   "metadata": {},
   "source": [
    "Find duplicates in `PCOS_woinf`."
   ]
  },
  {
   "cell_type": "code",
   "execution_count": 18,
   "id": "c18a383e",
   "metadata": {},
   "outputs": [
    {
     "data": {
      "text/plain": [
       "0"
      ]
     },
     "execution_count": 18,
     "metadata": {},
     "output_type": "execute_result"
    }
   ],
   "source": [
    "PCOS_woinf.duplicated().sum()"
   ]
  },
  {
   "cell_type": "markdown",
   "id": "229a9a27",
   "metadata": {},
   "source": [
    "Replace `BMI` with the [correct calculation](https://www.nhlbi.nih.gov/health/educational/lose_wt/BMI/bmicalc.htm). "
   ]
  },
  {
   "cell_type": "code",
   "execution_count": 19,
   "id": "f4862aba",
   "metadata": {},
   "outputs": [],
   "source": [
    "PCOS_woinf['Height (m)'] = PCOS_woinf['Height(Cm) '] / 100\n",
    "\n",
    "PCOS_woinf['BMI'] = PCOS_woinf['Weight (Kg)'] / (PCOS_woinf['Height (m)'] ** 2)"
   ]
  },
  {
   "cell_type": "markdown",
   "id": "0618cf0a",
   "metadata": {},
   "source": [
    "Replace `FSH/LH` with the correct calculation."
   ]
  },
  {
   "cell_type": "code",
   "execution_count": 20,
   "id": "80fd20f9",
   "metadata": {},
   "outputs": [],
   "source": [
    "PCOS_woinf['FSH/LH'] = PCOS_woinf['FSH(mIU/mL)'] / PCOS_woinf['LH(mIU/mL)']"
   ]
  },
  {
   "cell_type": "markdown",
   "id": "1494fa56",
   "metadata": {},
   "source": [
    "Replace `Waist:Hip Ratio` with the correct calculation. "
   ]
  },
  {
   "cell_type": "code",
   "execution_count": 21,
   "id": "508c816f",
   "metadata": {},
   "outputs": [],
   "source": [
    "PCOS_woinf['Waist:Hip Ratio'] = PCOS_woinf['Waist(inch)'] / PCOS_woinf['Hip(inch)']"
   ]
  },
  {
   "cell_type": "markdown",
   "id": "7fe328b0",
   "metadata": {},
   "source": [
    "Add a column `Weight (lbs)` converting weight in kg to weight in lbs for readability."
   ]
  },
  {
   "cell_type": "code",
   "execution_count": 22,
   "id": "b8b92588",
   "metadata": {},
   "outputs": [],
   "source": [
    "PCOS_woinf['Weight (lbs)'] = PCOS_woinf['Weight (Kg)'] * 2.205"
   ]
  },
  {
   "cell_type": "markdown",
   "id": "66c0cb26",
   "metadata": {},
   "source": [
    "Create a column `Blood Type (str)` that is represented by the string value vs. the numerical representation defined. "
   ]
  },
  {
   "cell_type": "code",
   "execution_count": 23,
   "id": "414c80e2",
   "metadata": {},
   "outputs": [],
   "source": [
    "PCOS_woinf['Blood Type (str)'] = PCOS_woinf['Blood Group'].replace([11, 12, 13, 14, 15, 16, 17, 18], ['A+', 'A-', 'B+', 'B-', 'O+', 'O-', 'AB+', 'AB-'] )"
   ]
  },
  {
   "cell_type": "markdown",
   "id": "a0da488a",
   "metadata": {},
   "source": [
    "Convert blood pressure to the correct format systolic over diastolic. [Reference Link](https://www.heart.org/en/health-topics/high-blood-pressure/understanding-blood-pressure-readings)."
   ]
  },
  {
   "cell_type": "code",
   "execution_count": 24,
   "id": "e99e9359",
   "metadata": {},
   "outputs": [
    {
     "data": {
      "text/plain": [
       "0      110.0/80.0\n",
       "1      120.0/70.0\n",
       "2      120.0/80.0\n",
       "3      120.0/70.0\n",
       "4      120.0/80.0\n",
       "          ...    \n",
       "536    110.0/70.0\n",
       "537    110.0/70.0\n",
       "538    110.0/80.0\n",
       "539    110.0/70.0\n",
       "540    120.0/70.0\n",
       "Name: Blood Pressure (str), Length: 541, dtype: object"
      ]
     },
     "execution_count": 24,
     "metadata": {},
     "output_type": "execute_result"
    }
   ],
   "source": [
    "PCOS_woinf['Blood Pressure (str)'] = PCOS_woinf['BP _Systolic (mmHg)'].astype(str) + '/' + PCOS_woinf['BP _Diastolic (mmHg)'].astype(str)\n",
    "PCOS_woinf['Blood Pressure (str)'] = PCOS_woinf['Blood Pressure (str)'].replace(['nan/nan'], np.nan)\n",
    "PCOS_woinf['Blood Pressure (str)']"
   ]
  },
  {
   "cell_type": "markdown",
   "id": "5dbf77f7",
   "metadata": {},
   "source": [
    "Correct spelling of column headers."
   ]
  },
  {
   "cell_type": "code",
   "execution_count": 25,
   "id": "d18da655",
   "metadata": {},
   "outputs": [],
   "source": [
    "PCOS_woinf.rename(columns = {'No. of aborptions': 'No. of Abortions'}, inplace = True)\n",
    "PCOS_woinf.rename(columns = {'Marraige Status (Yrs)': 'Marriage Status (Yrs)'}, inplace = True)"
   ]
  },
  {
   "cell_type": "markdown",
   "id": "8413d9e9",
   "metadata": {},
   "source": [
    " - Change non-string types to floats for numerical variables. \n",
    " - Received `ValueError: Unable to parse string \"1.99.\" at position 123.`\n",
    " - Used replace method to `replace` method into format that can be coerced with `to_numeric`."
   ]
  },
  {
   "cell_type": "code",
   "execution_count": 26,
   "id": "11d24d7b",
   "metadata": {},
   "outputs": [],
   "source": [
    "PCOS_woinf['II    beta-HCG(mIU/mL)'] = PCOS_woinf['II    beta-HCG(mIU/mL)'].replace(['1.99.'], '1.99')\n",
    "PCOS_woinf['II    beta-HCG(mIU/mL)'] = pd.to_numeric(PCOS_woinf['II    beta-HCG(mIU/mL)'])"
   ]
  },
  {
   "cell_type": "code",
   "execution_count": 27,
   "id": "e3740f62",
   "metadata": {},
   "outputs": [],
   "source": [
    "PCOS_woinf['Waist:Hip Ratio'] = pd.to_numeric(PCOS_woinf['Waist:Hip Ratio'])"
   ]
  },
  {
   "cell_type": "markdown",
   "id": "47656653",
   "metadata": {},
   "source": [
    "- For `PCOS_main['AMH(ng/mL)']` recieved `ValueError` at position 307 with the value 'a'. \n",
    "- Since this was the only string value in this numerical column, I chose to replace this string with the mean of the column to avoid dropping that record."
   ]
  },
  {
   "cell_type": "code",
   "execution_count": 28,
   "id": "0969c4d1",
   "metadata": {},
   "outputs": [],
   "source": [
    "PCOS_woinf['AMH(ng/mL)'] = pd.to_numeric(PCOS_woinf['AMH(ng/mL)'], errors = 'coerce').astype('float64')\n",
    "PCOS_woinf['AMH(ng/mL)'] = PCOS_woinf['AMH(ng/mL)'].fillna(PCOS_woinf['AMH(ng/mL)'].mean())"
   ]
  },
  {
   "cell_type": "markdown",
   "id": "7fb836cd",
   "metadata": {},
   "source": [
    "- Change the type of the categorical variable columns to `bool` from `float64`:\n",
    " - `PCOS (Y/N)`\n",
    " - `Pregnant (Y/N)`\n",
    " - `Weight gain (Y/N)`\n",
    " - `hair growth (Y/N)`\n",
    " - `Skin darkening (Y/N)`\n",
    " - `Hair loss (Y/N)`\n",
    " - `Acne (Y/N)`\n",
    " - `Fast Food (Y/N)`\n",
    " - `Reg.Exercise (Y/N)`"
   ]
  },
  {
   "cell_type": "code",
   "execution_count": 29,
   "id": "0e39ee02",
   "metadata": {},
   "outputs": [],
   "source": [
    "PCOS_woinf['PCOS (Y/N)'] = PCOS_woinf['PCOS (Y/N)'].astype('bool')\n",
    "PCOS_woinf['Pregnant(Y/N)'] = PCOS_woinf['Pregnant(Y/N)'].astype('bool')\n",
    "PCOS_woinf['Weight gain(Y/N)'] = PCOS_woinf['Weight gain(Y/N)'].astype('bool')\n",
    "PCOS_woinf['hair growth(Y/N)'] = PCOS_woinf['hair growth(Y/N)'].astype('bool')\n",
    "PCOS_woinf['Skin darkening (Y/N)'] = PCOS_woinf['Skin darkening (Y/N)'].astype('bool')\n",
    "PCOS_woinf['Hair loss(Y/N)'] = PCOS_woinf['Hair loss(Y/N)'].astype('bool')\n",
    "PCOS_woinf['Acne (Y/N)'] = PCOS_woinf['Acne (Y/N)'].astype('bool')\n",
    "PCOS_woinf['Reg.Exercise(Y/N)'] = PCOS_woinf['Reg.Exercise(Y/N)'].astype('bool')"
   ]
  },
  {
   "cell_type": "markdown",
   "id": "9d51f646",
   "metadata": {},
   "source": [
    "- Change the type of the discrete variable columns to `int` from `float64`:\n",
    "\n",
    "    - `Age`\n",
    "    - `Pulse rate`\n",
    "    - `RR`\n",
    "    - `No. of abortions`\n",
    "    - `BP Systolic`\n",
    "    - `BP Diastolic`\n",
    "    - `Follicle L`\n",
    "    - `Follicle R`"
   ]
  },
  {
   "cell_type": "code",
   "execution_count": 30,
   "id": "3bdd80df",
   "metadata": {},
   "outputs": [
    {
     "ename": "KeyError",
     "evalue": "'Age (yrs)'",
     "output_type": "error",
     "traceback": [
      "\u001b[1;31m---------------------------------------------------------------------------\u001b[0m",
      "\u001b[1;31mKeyError\u001b[0m                                  Traceback (most recent call last)",
      "File \u001b[1;32m~\\anaconda3\\lib\\site-packages\\pandas\\core\\indexes\\base.py:3621\u001b[0m, in \u001b[0;36mIndex.get_loc\u001b[1;34m(self, key, method, tolerance)\u001b[0m\n\u001b[0;32m   3620\u001b[0m \u001b[38;5;28;01mtry\u001b[39;00m:\n\u001b[1;32m-> 3621\u001b[0m     \u001b[38;5;28;01mreturn\u001b[39;00m \u001b[38;5;28;43mself\u001b[39;49m\u001b[38;5;241;43m.\u001b[39;49m\u001b[43m_engine\u001b[49m\u001b[38;5;241;43m.\u001b[39;49m\u001b[43mget_loc\u001b[49m\u001b[43m(\u001b[49m\u001b[43mcasted_key\u001b[49m\u001b[43m)\u001b[49m\n\u001b[0;32m   3622\u001b[0m \u001b[38;5;28;01mexcept\u001b[39;00m \u001b[38;5;167;01mKeyError\u001b[39;00m \u001b[38;5;28;01mas\u001b[39;00m err:\n",
      "File \u001b[1;32m~\\anaconda3\\lib\\site-packages\\pandas\\_libs\\index.pyx:136\u001b[0m, in \u001b[0;36mpandas._libs.index.IndexEngine.get_loc\u001b[1;34m()\u001b[0m\n",
      "File \u001b[1;32m~\\anaconda3\\lib\\site-packages\\pandas\\_libs\\index.pyx:163\u001b[0m, in \u001b[0;36mpandas._libs.index.IndexEngine.get_loc\u001b[1;34m()\u001b[0m\n",
      "File \u001b[1;32mpandas\\_libs\\hashtable_class_helper.pxi:5198\u001b[0m, in \u001b[0;36mpandas._libs.hashtable.PyObjectHashTable.get_item\u001b[1;34m()\u001b[0m\n",
      "File \u001b[1;32mpandas\\_libs\\hashtable_class_helper.pxi:5206\u001b[0m, in \u001b[0;36mpandas._libs.hashtable.PyObjectHashTable.get_item\u001b[1;34m()\u001b[0m\n",
      "\u001b[1;31mKeyError\u001b[0m: 'Age (yrs)'",
      "\nThe above exception was the direct cause of the following exception:\n",
      "\u001b[1;31mKeyError\u001b[0m                                  Traceback (most recent call last)",
      "Input \u001b[1;32mIn [30]\u001b[0m, in \u001b[0;36m<cell line: 2>\u001b[1;34m()\u001b[0m\n\u001b[0;32m      1\u001b[0m PCOS_woinf[\u001b[38;5;124m'\u001b[39m\u001b[38;5;124mPatient File No.\u001b[39m\u001b[38;5;124m'\u001b[39m] \u001b[38;5;241m=\u001b[39m pd\u001b[38;5;241m.\u001b[39mto_numeric(PCOS_woinf[\u001b[38;5;124m'\u001b[39m\u001b[38;5;124mPatient File No.\u001b[39m\u001b[38;5;124m'\u001b[39m], errors \u001b[38;5;241m=\u001b[39m \u001b[38;5;124m'\u001b[39m\u001b[38;5;124mcoerce\u001b[39m\u001b[38;5;124m'\u001b[39m)\u001b[38;5;241m.\u001b[39mastype(\u001b[38;5;124m'\u001b[39m\u001b[38;5;124mint64\u001b[39m\u001b[38;5;124m'\u001b[39m)\n\u001b[1;32m----> 2\u001b[0m PCOS_woinf[\u001b[38;5;124m'\u001b[39m\u001b[38;5;124mAge (yrs)\u001b[39m\u001b[38;5;124m'\u001b[39m] \u001b[38;5;241m=\u001b[39m pd\u001b[38;5;241m.\u001b[39mto_numeric(\u001b[43mPCOS_woinf\u001b[49m\u001b[43m[\u001b[49m\u001b[38;5;124;43m'\u001b[39;49m\u001b[38;5;124;43mAge (yrs)\u001b[39;49m\u001b[38;5;124;43m'\u001b[39;49m\u001b[43m]\u001b[49m, errors \u001b[38;5;241m=\u001b[39m \u001b[38;5;124m'\u001b[39m\u001b[38;5;124mcoerce\u001b[39m\u001b[38;5;124m'\u001b[39m)\u001b[38;5;241m.\u001b[39mastype(\u001b[38;5;124m'\u001b[39m\u001b[38;5;124mint64\u001b[39m\u001b[38;5;124m'\u001b[39m)\n\u001b[0;32m      3\u001b[0m PCOS_woinf[\u001b[38;5;124m'\u001b[39m\u001b[38;5;124mBlood Group\u001b[39m\u001b[38;5;124m'\u001b[39m] \u001b[38;5;241m=\u001b[39m pd\u001b[38;5;241m.\u001b[39mto_numeric(PCOS_woinf[\u001b[38;5;124m'\u001b[39m\u001b[38;5;124mBlood Group\u001b[39m\u001b[38;5;124m'\u001b[39m], errors \u001b[38;5;241m=\u001b[39m \u001b[38;5;124m'\u001b[39m\u001b[38;5;124mcoerce\u001b[39m\u001b[38;5;124m'\u001b[39m)\u001b[38;5;241m.\u001b[39mastype(\u001b[38;5;124m'\u001b[39m\u001b[38;5;124mint64\u001b[39m\u001b[38;5;124m'\u001b[39m)\n\u001b[0;32m      4\u001b[0m PCOS_woinf[\u001b[38;5;124m'\u001b[39m\u001b[38;5;124mPulse rate(bpm)\u001b[39m\u001b[38;5;124m'\u001b[39m] \u001b[38;5;241m=\u001b[39m pd\u001b[38;5;241m.\u001b[39mto_numeric(PCOS_woinf[\u001b[38;5;124m'\u001b[39m\u001b[38;5;124mPulse rate(bpm)\u001b[39m\u001b[38;5;124m'\u001b[39m], errors \u001b[38;5;241m=\u001b[39m \u001b[38;5;124m'\u001b[39m\u001b[38;5;124mcoerce\u001b[39m\u001b[38;5;124m'\u001b[39m)\u001b[38;5;241m.\u001b[39mastype(\u001b[38;5;124m'\u001b[39m\u001b[38;5;124mint64\u001b[39m\u001b[38;5;124m'\u001b[39m)\n",
      "File \u001b[1;32m~\\anaconda3\\lib\\site-packages\\pandas\\core\\frame.py:3505\u001b[0m, in \u001b[0;36mDataFrame.__getitem__\u001b[1;34m(self, key)\u001b[0m\n\u001b[0;32m   3503\u001b[0m \u001b[38;5;28;01mif\u001b[39;00m \u001b[38;5;28mself\u001b[39m\u001b[38;5;241m.\u001b[39mcolumns\u001b[38;5;241m.\u001b[39mnlevels \u001b[38;5;241m>\u001b[39m \u001b[38;5;241m1\u001b[39m:\n\u001b[0;32m   3504\u001b[0m     \u001b[38;5;28;01mreturn\u001b[39;00m \u001b[38;5;28mself\u001b[39m\u001b[38;5;241m.\u001b[39m_getitem_multilevel(key)\n\u001b[1;32m-> 3505\u001b[0m indexer \u001b[38;5;241m=\u001b[39m \u001b[38;5;28;43mself\u001b[39;49m\u001b[38;5;241;43m.\u001b[39;49m\u001b[43mcolumns\u001b[49m\u001b[38;5;241;43m.\u001b[39;49m\u001b[43mget_loc\u001b[49m\u001b[43m(\u001b[49m\u001b[43mkey\u001b[49m\u001b[43m)\u001b[49m\n\u001b[0;32m   3506\u001b[0m \u001b[38;5;28;01mif\u001b[39;00m is_integer(indexer):\n\u001b[0;32m   3507\u001b[0m     indexer \u001b[38;5;241m=\u001b[39m [indexer]\n",
      "File \u001b[1;32m~\\anaconda3\\lib\\site-packages\\pandas\\core\\indexes\\base.py:3623\u001b[0m, in \u001b[0;36mIndex.get_loc\u001b[1;34m(self, key, method, tolerance)\u001b[0m\n\u001b[0;32m   3621\u001b[0m     \u001b[38;5;28;01mreturn\u001b[39;00m \u001b[38;5;28mself\u001b[39m\u001b[38;5;241m.\u001b[39m_engine\u001b[38;5;241m.\u001b[39mget_loc(casted_key)\n\u001b[0;32m   3622\u001b[0m \u001b[38;5;28;01mexcept\u001b[39;00m \u001b[38;5;167;01mKeyError\u001b[39;00m \u001b[38;5;28;01mas\u001b[39;00m err:\n\u001b[1;32m-> 3623\u001b[0m     \u001b[38;5;28;01mraise\u001b[39;00m \u001b[38;5;167;01mKeyError\u001b[39;00m(key) \u001b[38;5;28;01mfrom\u001b[39;00m \u001b[38;5;21;01merr\u001b[39;00m\n\u001b[0;32m   3624\u001b[0m \u001b[38;5;28;01mexcept\u001b[39;00m \u001b[38;5;167;01mTypeError\u001b[39;00m:\n\u001b[0;32m   3625\u001b[0m     \u001b[38;5;66;03m# If we have a listlike key, _check_indexing_error will raise\u001b[39;00m\n\u001b[0;32m   3626\u001b[0m     \u001b[38;5;66;03m#  InvalidIndexError. Otherwise we fall through and re-raise\u001b[39;00m\n\u001b[0;32m   3627\u001b[0m     \u001b[38;5;66;03m#  the TypeError.\u001b[39;00m\n\u001b[0;32m   3628\u001b[0m     \u001b[38;5;28mself\u001b[39m\u001b[38;5;241m.\u001b[39m_check_indexing_error(key)\n",
      "\u001b[1;31mKeyError\u001b[0m: 'Age (yrs)'"
     ]
    }
   ],
   "source": [
    "PCOS_woinf['Patient File No.'] = pd.to_numeric(PCOS_woinf['Patient File No.'], errors = 'coerce').astype('int64')\n",
    "PCOS_woinf['Age (yrs)'] = pd.to_numeric(PCOS_woinf['Age (yrs)'], errors = 'coerce').astype('int64')\n",
    "PCOS_woinf['Blood Group'] = pd.to_numeric(PCOS_woinf['Blood Group'], errors = 'coerce').astype('int64')\n",
    "PCOS_woinf['Pulse rate(bpm)'] = pd.to_numeric(PCOS_woinf['Pulse rate(bpm)'], errors = 'coerce').astype('int64')\n",
    "PCOS_woinf['RR (breaths/min)'] = pd.to_numeric(PCOS_woinf['RR (breaths/min)'], errors = 'coerce').astype('int64')\n",
    "PCOS_woinf['Cycle length(days)'] = pd.to_numeric(PCOS_woinf['Cycle length(days)'], errors = 'coerce').astype('int64')\n",
    "PCOS_woinf['No. of Abortions'] = pd.to_numeric(PCOS_woinf['No. of Abortions'], errors = 'coerce').astype('int64')\n",
    "PCOS_woinf['BP _Systolic (mmHg)'] = pd.to_numeric(PCOS_woinf['BP _Systolic (mmHg)'], errors = 'coerce').astype('int64')\n",
    "PCOS_woinf['BP _Diastolic (mmHg)'] = pd.to_numeric(PCOS_woinf['BP _Diastolic (mmHg)'], errors = 'coerce').astype('int64')\n",
    "PCOS_woinf['Follicle No. (L)'] = pd.to_numeric(PCOS_woinf['Follicle No. (L)'], errors = 'coerce').astype('int64')\n",
    "PCOS_woinf['Avg. F size (R) (mm)'] = pd.to_numeric(PCOS_woinf['Avg. F size (R) (mm)'], errors = 'coerce').astype('int64')"
   ]
  },
  {
   "cell_type": "markdown",
   "id": "6520382b",
   "metadata": {},
   "source": [
    "- Drop `Sl. No` as this seems like a duplicate column and will not add value to our analysis.\n",
    "- Drop `Cycle(R/I)` column as this variable was not well-defined in the information about the original data set. "
   ]
  },
  {
   "cell_type": "code",
   "execution_count": 31,
   "id": "3f9d7538",
   "metadata": {},
   "outputs": [],
   "source": [
    "PCOS_woinf.drop(['Sl. No'], axis = 1, inplace = True)\n",
    "PCOS_woinf.drop(['Cycle(R/I)'], axis = 1, inplace = True)"
   ]
  },
  {
   "cell_type": "markdown",
   "id": "ca94068b",
   "metadata": {},
   "source": [
    "Double check `NaN` values are removed before moving on to analysis."
   ]
  },
  {
   "cell_type": "code",
   "execution_count": 32,
   "id": "641f1226",
   "metadata": {},
   "outputs": [
    {
     "data": {
      "text/plain": [
       "False"
      ]
     },
     "execution_count": 32,
     "metadata": {},
     "output_type": "execute_result"
    }
   ],
   "source": [
    "PCOS_woinf.isnull().values.any()"
   ]
  },
  {
   "cell_type": "markdown",
   "id": "683683d7",
   "metadata": {},
   "source": [
    "Check Dtypes in `PCOS_woinf` before moving on to analysis."
   ]
  },
  {
   "cell_type": "code",
   "execution_count": 33,
   "id": "5adbb5ef",
   "metadata": {
    "scrolled": true
   },
   "outputs": [
    {
     "name": "stdout",
     "output_type": "stream",
     "text": [
      "<class 'pandas.core.frame.DataFrame'>\n",
      "Int64Index: 541 entries, 0 to 540\n",
      "Data columns (total 44 columns):\n",
      " #   Column                  Non-Null Count  Dtype  \n",
      "---  ------                  --------------  -----  \n",
      " 0   Patient File No.        541 non-null    int64  \n",
      " 1   PCOS (Y/N)              541 non-null    bool   \n",
      " 2    Age (yrs)              541 non-null    float64\n",
      " 3   Weight (Kg)             541 non-null    float64\n",
      " 4   Height(Cm)              541 non-null    float64\n",
      " 5   BMI                     541 non-null    float64\n",
      " 6   Blood Group             541 non-null    float64\n",
      " 7   Pulse rate(bpm)         541 non-null    float64\n",
      " 8   RR (breaths/min)        541 non-null    float64\n",
      " 9   Hb(g/dl)                541 non-null    float64\n",
      " 10  Cycle length(days)      541 non-null    float64\n",
      " 11  Pregnant(Y/N)           541 non-null    bool   \n",
      " 12  No. of Abortions        541 non-null    float64\n",
      " 13    I   beta-HCG(mIU/mL)  541 non-null    float64\n",
      " 14  II    beta-HCG(mIU/mL)  541 non-null    float64\n",
      " 15  FSH(mIU/mL)             541 non-null    float64\n",
      " 16  LH(mIU/mL)              541 non-null    float64\n",
      " 17  FSH/LH                  541 non-null    float64\n",
      " 18  Hip(inch)               541 non-null    float64\n",
      " 19  Waist(inch)             541 non-null    float64\n",
      " 20  Waist:Hip Ratio         541 non-null    float64\n",
      " 21  TSH (mIU/L)             541 non-null    float64\n",
      " 22  AMH(ng/mL)              541 non-null    float64\n",
      " 23  PRL(ng/mL)              541 non-null    float64\n",
      " 24  Vit D3 (ng/mL)          541 non-null    float64\n",
      " 25  PRG(ng/mL)              541 non-null    float64\n",
      " 26  RBS(mg/dl)              541 non-null    float64\n",
      " 27  Weight gain(Y/N)        541 non-null    bool   \n",
      " 28  hair growth(Y/N)        541 non-null    bool   \n",
      " 29  Skin darkening (Y/N)    541 non-null    bool   \n",
      " 30  Hair loss(Y/N)          541 non-null    bool   \n",
      " 31  Acne (Y/N)              541 non-null    bool   \n",
      " 32  Reg.Exercise(Y/N)       541 non-null    bool   \n",
      " 33  BP _Systolic (mmHg)     541 non-null    float64\n",
      " 34  BP _Diastolic (mmHg)    541 non-null    float64\n",
      " 35  Follicle No. (L)        541 non-null    float64\n",
      " 36  Follicle No. (R)        541 non-null    float64\n",
      " 37  Avg. F size (L) (mm)    541 non-null    float64\n",
      " 38  Avg. F size (R) (mm)    541 non-null    float64\n",
      " 39  Endometrium (mm)        541 non-null    float64\n",
      " 40  Height (m)              541 non-null    float64\n",
      " 41  Weight (lbs)            541 non-null    float64\n",
      " 42  Blood Type (str)        541 non-null    object \n",
      " 43  Blood Pressure (str)    541 non-null    object \n",
      "dtypes: bool(8), float64(33), int64(1), object(2)\n",
      "memory usage: 160.6+ KB\n"
     ]
    }
   ],
   "source": [
    "PCOS_woinf.info()"
   ]
  },
  {
   "cell_type": "markdown",
   "id": "f4ad33f7",
   "metadata": {},
   "source": [
    "Get rid of extra space before and after column headers."
   ]
  },
  {
   "cell_type": "code",
   "execution_count": 34,
   "id": "828bc894",
   "metadata": {},
   "outputs": [
    {
     "data": {
      "text/plain": [
       "Index(['Patient File No.', 'PCOS (Y/N)', 'Age (yrs)', 'Weight (Kg)',\n",
       "       'Height(Cm)', 'BMI', 'Blood Group', 'Pulse rate(bpm)',\n",
       "       'RR (breaths/min)', 'Hb(g/dl)', 'Cycle length(days)', 'Pregnant(Y/N)',\n",
       "       'No. of Abortions', 'I   beta-HCG(mIU/mL)', 'II    beta-HCG(mIU/mL)',\n",
       "       'FSH(mIU/mL)', 'LH(mIU/mL)', 'FSH/LH', 'Hip(inch)', 'Waist(inch)',\n",
       "       'Waist:Hip Ratio', 'TSH (mIU/L)', 'AMH(ng/mL)', 'PRL(ng/mL)',\n",
       "       'Vit D3 (ng/mL)', 'PRG(ng/mL)', 'RBS(mg/dl)', 'Weight gain(Y/N)',\n",
       "       'hair growth(Y/N)', 'Skin darkening (Y/N)', 'Hair loss(Y/N)',\n",
       "       'Acne (Y/N)', 'Reg.Exercise(Y/N)', 'BP _Systolic (mmHg)',\n",
       "       'BP _Diastolic (mmHg)', 'Follicle No. (L)', 'Follicle No. (R)',\n",
       "       'Avg. F size (L) (mm)', 'Avg. F size (R) (mm)', 'Endometrium (mm)',\n",
       "       'Height (m)', 'Weight (lbs)', 'Blood Type (str)',\n",
       "       'Blood Pressure (str)'],\n",
       "      dtype='object')"
      ]
     },
     "execution_count": 34,
     "metadata": {},
     "output_type": "execute_result"
    }
   ],
   "source": [
    "PCOS_woinf.columns = [col.strip() for col in PCOS_woinf.columns]\n",
    "PCOS_woinf.columns"
   ]
  },
  {
   "cell_type": "code",
   "execution_count": 35,
   "id": "045828be",
   "metadata": {},
   "outputs": [
    {
     "data": {
      "text/plain": [
       "float64    33\n",
       "bool        8\n",
       "object      2\n",
       "int64       1\n",
       "dtype: int64"
      ]
     },
     "execution_count": 35,
     "metadata": {},
     "output_type": "execute_result"
    }
   ],
   "source": [
    "PCOS_woinf.dtypes.value_counts()"
   ]
  },
  {
   "cell_type": "markdown",
   "id": "ea2a95ae",
   "metadata": {},
   "source": [
    "## Exploratory Data Analysis"
   ]
  },
  {
   "cell_type": "markdown",
   "id": "c20fc76f",
   "metadata": {},
   "source": [
    "In this section, I will continue to explore the data to start to make inferences for further analysis keeping in mind our three questions:\n",
    "\n",
    " 1. Are there any features that are correlated with PCOS?\n",
    " 2. Do non-PCOS patients exhibit similar features to those diagnosed with PCOS?\n",
    " 3. What are the most frequent symptoms PCOS pateints exihibit?"
   ]
  },
  {
   "cell_type": "code",
   "execution_count": 36,
   "id": "cdddaff4",
   "metadata": {},
   "outputs": [],
   "source": [
    "#Set sylistic themes for Seaborn plots. \n",
    "sns.set(style = \"white\")\n",
    "light = sns.color_palette(\"light:#5A9\", as_cmap=True)"
   ]
  },
  {
   "cell_type": "markdown",
   "id": "a5b1147c",
   "metadata": {},
   "source": [
    "Plot a correlation matrix to see if any of the features are correlated with other features in the data set. The higher the number is to 1, the more likely that this is correlated with the other feature in the matrix."
   ]
  },
  {
   "cell_type": "code",
   "execution_count": 38,
   "id": "3ed6945c",
   "metadata": {},
   "outputs": [
    {
     "data": {
      "text/plain": [
       "<AxesSubplot:>"
      ]
     },
     "execution_count": 38,
     "metadata": {},
     "output_type": "execute_result"
    },
    {
     "data": {
      "image/png": "[encoded data removed]",
      "text/plain": [
       "<Figure size 864x864 with 2 Axes>"
      ]
     },
     "metadata": {},
     "output_type": "display_data"
    }
   ],
   "source": [
    "coorelation_matrix = PCOS_woinf.corr()\n",
    "plt.subplots(figsize = (12, 12))\n",
    "sns.heatmap(coorelation_matrix, cmap = light, square = True)"
   ]
  },
  {
   "cell_type": "markdown",
   "id": "49016b30",
   "metadata": {},
   "source": [
    "Because the matrix is so large, it is difficult to see what features are coorelated with other features. A sorted list is provided below to try to get a sense of those features that have a correlation value closest to one. \n",
    "\n",
    "Observations:\n",
    "\n",
    "- Follicles in the left and right overaries and symptoms such as skin darkening, hair growth and weight gain are shown. \n",
    "- We can validate these correlation values with what the research has told us so far. PCOS patients are more likely to have a number of follicles that likely will not mature and therefore will prevent the pateint from ovulating or having a 'regular' cycle. \n",
    "- Skin darkening, hair growth and weight gain are all symptoms that are most frequent in PCOS patients due to over production of male linked hormones. "
   ]
  },
  {
   "cell_type": "code",
   "execution_count": 39,
   "id": "066b7659",
   "metadata": {},
   "outputs": [
    {
     "data": {
      "text/plain": [
       "PCOS (Y/N)                1.000000\n",
       "Follicle No. (R)          0.648327\n",
       "Follicle No. (L)          0.603346\n",
       "Skin darkening (Y/N)      0.475733\n",
       "hair growth(Y/N)          0.464667\n",
       "Weight gain(Y/N)          0.441047\n",
       "Acne (Y/N)                0.286077\n",
       "AMH(ng/mL)                0.263745\n",
       "Weight (lbs)              0.211938\n",
       "Weight (Kg)               0.211938\n",
       "BMI                       0.200176\n",
       "Hair loss(Y/N)            0.172879\n",
       "Waist(inch)               0.164598\n",
       "Hip(inch)                 0.162297\n",
       "Avg. F size (L) (mm)      0.132992\n",
       "Endometrium (mm)          0.106648\n",
       "Avg. F size (R) (mm)      0.097690\n",
       "Pulse rate(bpm)           0.091821\n",
       "Hb(g/dl)                  0.087170\n",
       "Vit D3 (ng/mL)            0.085494\n",
       "Height (m)                0.068254\n",
       "Height(Cm)                0.068254\n",
       "Reg.Exercise(Y/N)         0.065337\n",
       "LH(mIU/mL)                0.063879\n",
       "Patient File No.          0.060998\n",
       "RBS(mg/dl)                0.048922\n",
       "BP _Diastolic (mmHg)      0.038032\n",
       "RR (breaths/min)          0.036928\n",
       "Blood Group               0.036433\n",
       "II    beta-HCG(mIU/mL)    0.012760\n",
       "Waist:Hip Ratio           0.012414\n",
       "BP _Systolic (mmHg)       0.007942\n",
       "PRL(ng/mL)                0.005143\n",
       "TSH (mIU/L)              -0.010140\n",
       "FSH/LH                   -0.018335\n",
       "Pregnant(Y/N)            -0.027565\n",
       "I   beta-HCG(mIU/mL)     -0.027617\n",
       "FSH(mIU/mL)              -0.030319\n",
       "PRG(ng/mL)               -0.043834\n",
       "No. of Abortions         -0.057158\n",
       "Age (yrs)                -0.168513\n",
       "Cycle length(days)       -0.178480\n",
       "Name: PCOS (Y/N), dtype: float64"
      ]
     },
     "execution_count": 39,
     "metadata": {},
     "output_type": "execute_result"
    }
   ],
   "source": [
    "coorelation_matrix[\"PCOS (Y/N)\"].sort_values(ascending = False)"
   ]
  },
  {
   "cell_type": "markdown",
   "id": "adcc72c5",
   "metadata": {},
   "source": [
    "To get a sense of the spread of the data, I will plot histograms of each numerical variable in `PCOS_woinf`. "
   ]
  },
  {
   "cell_type": "code",
   "execution_count": 50,
   "id": "eb204888",
   "metadata": {
    "scrolled": true
   },
   "outputs": [],
   "source": [
    "#cols = 5\n",
    "#rows = 5\n",
    "#num_cols = PCOS_woinf.select_dtypes(exclude = ['bool', 'int64', 'object']).columns \n",
    "\n",
    "#fig = plt.figure(figsize = (cols*5, rows*5))\n",
    "\n",
    "#for i, col in enumerate(num_cols):\n",
    "    \n",
    "#     ax = fig.add_subplot(rows, cols, i + 1)\n",
    "    \n",
    "#     sns.histplot(x = PCOS_woinf[col], ax = ax)\n",
    "    \n",
    "#     fig.tight_layout()\n",
    "#     plt.show()"
   ]
  },
  {
   "cell_type": "markdown",
   "id": "81ae9498",
   "metadata": {},
   "source": [
    "Going back to the first question, are there any features that are correlated with PCOS pateints? In order to analyze this, we need to compare categorical groups (PCOS or not, Pregnant or not) with hormones that are related to PCOS. In our data set, that is raised levels of `LH` and `PRL`. Let's start there. "
   ]
  },
  {
   "cell_type": "markdown",
   "id": "c4146f10",
   "metadata": {},
   "source": [
    "In order to conduct an Analysis of Variance (ANOVA), we need to follow the test assumptions:\n",
    "\n",
    "- Population distributions are normal. We can't be sure about this one, but for analysis purposes, let's assume this is true. \n",
    "- Independence. The hormone levels that we are testing are independent of PCOS.\n",
    "- Samples have equal variances. Let's test this out first. "
   ]
  },
  {
   "cell_type": "code",
   "execution_count": 55,
   "id": "2eb19422",
   "metadata": {},
   "outputs": [
    {
     "data": {
      "text/plain": [
       "<seaborn.axisgrid.FacetGrid at 0x1c3424df8e0>"
      ]
     },
     "execution_count": 55,
     "metadata": {},
     "output_type": "execute_result"
    },
    {
     "data": {
      "image/png": "[encoded data removed]",
      "text/plain": [
       "<Figure size 432x216 with 2 Axes>"
      ]
     },
     "metadata": {},
     "output_type": "display_data"
    }
   ],
   "source": [
    "g = sns.FacetGrid(PCOS_woinf, col=\"PCOS (Y/N)\")\n",
    "g.map(sns.histplot, \"LH(mIU/mL)\")"
   ]
  },
  {
   "cell_type": "code",
   "execution_count": 53,
   "id": "e658fe11",
   "metadata": {},
   "outputs": [
    {
     "data": {
      "text/plain": [
       "<seaborn.axisgrid.FacetGrid at 0x1c34159dbe0>"
      ]
     },
     "execution_count": 53,
     "metadata": {},
     "output_type": "execute_result"
    },
    {
     "data": {
      "image/png": "[encoded data removed]",
      "text/plain": [
       "<Figure size 432x216 with 2 Axes>"
      ]
     },
     "metadata": {},
     "output_type": "display_data"
    }
   ],
   "source": [
    "g = sns.FacetGrid(PCOS_woinf, col=\"PCOS (Y/N)\")\n",
    "g.map(sns.histplot, \"PRL(ng/mL)\")"
   ]
  },
  {
   "cell_type": "code",
   "execution_count": 46,
   "id": "d3e9995a",
   "metadata": {
    "scrolled": true
   },
   "outputs": [
    {
     "name": "stdout",
     "output_type": "stream",
     "text": [
      "\n",
      "\n"
     ]
    },
    {
     "data": {
      "text/html": [
       "<div>\n",
       "<style scoped>\n",
       "    .dataframe tbody tr th:only-of-type {\n",
       "        vertical-align: middle;\n",
       "    }\n",
       "\n",
       "    .dataframe tbody tr th {\n",
       "        vertical-align: top;\n",
       "    }\n",
       "\n",
       "    .dataframe thead th {\n",
       "        text-align: right;\n",
       "    }\n",
       "</style>\n",
       "<table border=\"1\" class=\"dataframe\">\n",
       "  <thead>\n",
       "    <tr style=\"text-align: right;\">\n",
       "      <th></th>\n",
       "      <th>N</th>\n",
       "      <th>Mean</th>\n",
       "      <th>SD</th>\n",
       "      <th>SE</th>\n",
       "      <th>95% Conf.</th>\n",
       "      <th>Interval</th>\n",
       "    </tr>\n",
       "    <tr>\n",
       "      <th>PCOS (Y/N)</th>\n",
       "      <th></th>\n",
       "      <th></th>\n",
       "      <th></th>\n",
       "      <th></th>\n",
       "      <th></th>\n",
       "      <th></th>\n",
       "    </tr>\n",
       "  </thead>\n",
       "  <tbody>\n",
       "    <tr>\n",
       "      <th>False</th>\n",
       "      <td>364</td>\n",
       "      <td>2.6127</td>\n",
       "      <td>2.1036</td>\n",
       "      <td>0.1103</td>\n",
       "      <td>2.3959</td>\n",
       "      <td>2.8295</td>\n",
       "    </tr>\n",
       "    <tr>\n",
       "      <th>True</th>\n",
       "      <td>177</td>\n",
       "      <td>14.4023</td>\n",
       "      <td>151.4786</td>\n",
       "      <td>11.3858</td>\n",
       "      <td>-8.0680</td>\n",
       "      <td>36.8727</td>\n",
       "    </tr>\n",
       "  </tbody>\n",
       "</table>\n",
       "</div>"
      ],
      "text/plain": [
       "              N     Mean        SD       SE  95% Conf.  Interval\n",
       "PCOS (Y/N)                                                      \n",
       "False       364   2.6127    2.1036   0.1103     2.3959    2.8295\n",
       "True        177  14.4023  151.4786  11.3858    -8.0680   36.8727"
      ]
     },
     "execution_count": 46,
     "metadata": {},
     "output_type": "execute_result"
    }
   ],
   "source": [
    "rp.summary_cont(PCOS_woinf[\"LH(mIU/mL)\"].groupby(PCOS_woinf[\"PCOS (Y/N)\"]))"
   ]
  },
  {
   "cell_type": "code",
   "execution_count": 47,
   "id": "92b5b147",
   "metadata": {},
   "outputs": [
    {
     "name": "stdout",
     "output_type": "stream",
     "text": [
      "\n",
      "\n"
     ]
    },
    {
     "data": {
      "text/html": [
       "<div>\n",
       "<style scoped>\n",
       "    .dataframe tbody tr th:only-of-type {\n",
       "        vertical-align: middle;\n",
       "    }\n",
       "\n",
       "    .dataframe tbody tr th {\n",
       "        vertical-align: top;\n",
       "    }\n",
       "\n",
       "    .dataframe thead th {\n",
       "        text-align: right;\n",
       "    }\n",
       "</style>\n",
       "<table border=\"1\" class=\"dataframe\">\n",
       "  <thead>\n",
       "    <tr style=\"text-align: right;\">\n",
       "      <th></th>\n",
       "      <th>N</th>\n",
       "      <th>Mean</th>\n",
       "      <th>SD</th>\n",
       "      <th>SE</th>\n",
       "      <th>95% Conf.</th>\n",
       "      <th>Interval</th>\n",
       "    </tr>\n",
       "    <tr>\n",
       "      <th>PCOS (Y/N)</th>\n",
       "      <th></th>\n",
       "      <th></th>\n",
       "      <th></th>\n",
       "      <th></th>\n",
       "      <th></th>\n",
       "      <th></th>\n",
       "    </tr>\n",
       "  </thead>\n",
       "  <tbody>\n",
       "    <tr>\n",
       "      <th>False</th>\n",
       "      <td>364</td>\n",
       "      <td>24.2679</td>\n",
       "      <td>15.4881</td>\n",
       "      <td>0.8118</td>\n",
       "      <td>22.6714</td>\n",
       "      <td>25.8643</td>\n",
       "    </tr>\n",
       "    <tr>\n",
       "      <th>True</th>\n",
       "      <td>177</td>\n",
       "      <td>24.4318</td>\n",
       "      <td>13.8868</td>\n",
       "      <td>1.0438</td>\n",
       "      <td>22.3718</td>\n",
       "      <td>26.4918</td>\n",
       "    </tr>\n",
       "  </tbody>\n",
       "</table>\n",
       "</div>"
      ],
      "text/plain": [
       "              N     Mean       SD      SE  95% Conf.  Interval\n",
       "PCOS (Y/N)                                                    \n",
       "False       364  24.2679  15.4881  0.8118    22.6714   25.8643\n",
       "True        177  24.4318  13.8868  1.0438    22.3718   26.4918"
      ]
     },
     "execution_count": 47,
     "metadata": {},
     "output_type": "execute_result"
    }
   ],
   "source": [
    "rp.summary_cont(PCOS_woinf[\"PRL(ng/mL)\"].groupby(PCOS_woinf[\"PCOS (Y/N)\"]))"
   ]
  },
  {
   "cell_type": "code",
   "execution_count": 48,
   "id": "5f3c18c0",
   "metadata": {},
   "outputs": [
    {
     "data": {
      "text/plain": [
       "F_onewayResult(statistic=0.014257537064027154, pvalue=0.9049990466252736)"
      ]
     },
     "execution_count": 48,
     "metadata": {},
     "output_type": "execute_result"
    }
   ],
   "source": [
    "stats.f_oneway(PCOS_woinf[\"PRL(ng/mL)\"][PCOS_woinf[\"PCOS (Y/N)\"] == True],\n",
    "               PCOS_woinf[\"PRL(ng/mL)\"][PCOS_woinf[\"PCOS (Y/N)\"] == False])"
   ]
  },
  {
   "cell_type": "code",
   "execution_count": 49,
   "id": "6251f8ea",
   "metadata": {},
   "outputs": [
    {
     "data": {
      "text/plain": [
       "F_onewayResult(statistic=2.208411036704273, pvalue=0.13784464591837375)"
      ]
     },
     "execution_count": 49,
     "metadata": {},
     "output_type": "execute_result"
    }
   ],
   "source": [
    "stats.f_oneway(PCOS_woinf[\"LH(mIU/mL)\"][PCOS_woinf[\"PCOS (Y/N)\"] == True],\n",
    "               PCOS_woinf[\"LH(mIU/mL)\"][PCOS_woinf[\"PCOS (Y/N)\"] == False])"
   ]
  },
  {
   "cell_type": "markdown",
   "id": "36bde8ba",
   "metadata": {},
   "source": [
    "## Explanatory Data Analysis"
   ]
  },
  {
   "cell_type": "markdown",
   "id": "d808f0c2",
   "metadata": {},
   "source": [
    "Summarize analysis. Describe outcomes of the analysis and next steps. How would you take this analysis further? How can this analysis be applied to different industries and business problems?"
   ]
  },
  {
   "cell_type": "code",
   "execution_count": null,
   "id": "c322a3f4",
   "metadata": {},
   "outputs": [],
   "source": []
  },
  {
   "cell_type": "markdown",
   "id": "83167805",
   "metadata": {},
   "source": [
    "### Additional EDA - The impact PCOS has on fertility."
   ]
  },
  {
   "cell_type": "code",
   "execution_count": 44,
   "id": "58e71387",
   "metadata": {},
   "outputs": [],
   "source": [
    "#create a function that will use the random uniform method to generate values for each column\n",
    "#next step would be to create a function that will use the goodness of fit method to use that best dist for each feature"
   ]
  },
  {
   "cell_type": "markdown",
   "id": "a1a3a5c0",
   "metadata": {},
   "source": [
    " - For additional analysis, I created a DataFrame `PCOS_outiers_removed` to remove outliers.\n",
    " - Since we cannot safely assume that all of our data is normal, I chose to leave the outliers in as it's already a small data set.\n",
    " - Code and DataFrame defined below if you would like to take a look at the various plots using the DataFrame with outliers removed."
   ]
  },
  {
   "cell_type": "code",
   "execution_count": 144,
   "id": "331bfd12",
   "metadata": {},
   "outputs": [],
   "source": [
    "constraints = PCOS_woinf.select_dtypes(include = [np.number]).apply(lambda x: np.abs(stats.zscore(x)) < 3, result_type = 'expand').all(axis = 1)\n",
    "PCOS_outliers_removed = PCOS_woinf.drop(PCOS_woinf.index[~constraints], inplace = False)\n",
    "PCOS_outliers_removed.shape"
   ]
  },
  {
   "cell_type": "markdown",
   "id": "7f3f4e04",
   "metadata": {},
   "source": [
    "Because Weight Gain is associated with a high Random Blood Sugar (RBS), I chose to compare the spread or distribution of those values side by side with PCOS and non-PCOS patients.\n",
    "\n",
    "Observations:\n",
    "\n",
    " - From the histrograms below, it looks like patients without PCOS have higher RBS levels vs. the PCOS patients.\n",
    " - This distribution of the non-PCOS patients look normally distributed and PCOS pateints look more uniform.\n",
    " - This is counter to our original hypothesis. "
   ]
  },
  {
   "cell_type": "code",
   "execution_count": 154,
   "id": "5128c720",
   "metadata": {
    "scrolled": true
   },
   "outputs": [
    {
     "data": {
      "text/plain": [
       "<seaborn.axisgrid.FacetGrid at 0x24ab8784fd0>"
      ]
     },
     "execution_count": 154,
     "metadata": {},
     "output_type": "execute_result"
    },
    {
     "data": {
      "image/png": "[encoded data removed]",
      "text/plain": [
       "<Figure size 432x216 with 2 Axes>"
      ]
     },
     "metadata": {},
     "output_type": "display_data"
    }
   ],
   "source": [
    "g = sns.FacetGrid(PCOS_outliers_removed, col=\"PCOS (Y/N)\")\n",
    "g.map(sns.histplot, \"RBS(mg/dl)\")"
   ]
  },
  {
   "cell_type": "markdown",
   "id": "2e13dedc",
   "metadata": {},
   "source": [
    "To see if there is any relationship between weight and Random Blood Sugar and PCOS pateints, I chose to do a scatter plot. From the scatter plot below, it does not there is any relationship between BMI and Random Blood Sugar values.  "
   ]
  },
  {
   "cell_type": "code",
   "execution_count": 153,
   "id": "6958b560",
   "metadata": {
    "scrolled": false
   },
   "outputs": [
    {
     "data": {
      "text/plain": [
       "<seaborn.axisgrid.FacetGrid at 0x24ab555ccd0>"
      ]
     },
     "execution_count": 153,
     "metadata": {},
     "output_type": "execute_result"
    },
    {
     "data": {
      "image/png": "[encoded data removed]",
      "text/plain": [
       "<Figure size 370.85x288 with 1 Axes>"
      ]
     },
     "metadata": {},
     "output_type": "display_data"
    }
   ],
   "source": [
    "sns.relplot(x = \"BMI\", y = \"RBS(mg/dl)\", hue = \"PCOS (Y/N)\", size = \"BMI\",\n",
    "           sizes = (400, 40), alpha = .5, palette = \"muted\", height = 4, data = PCOS_outliers_removed)"
   ]
  },
  {
   "cell_type": "code",
   "execution_count": 157,
   "id": "4b116dd1",
   "metadata": {
    "scrolled": false
   },
   "outputs": [
    {
     "data": {
      "text/plain": [
       "<AxesSubplot:xlabel='Weight (lbs)', ylabel='RBS(mg/dl)'>"
      ]
     },
     "execution_count": 157,
     "metadata": {},
     "output_type": "execute_result"
    },
    {
     "data": {
      "image/png": "[encoded data removed]",
      "text/plain": [
       "<Figure size 432x288 with 1 Axes>"
      ]
     },
     "metadata": {},
     "output_type": "display_data"
    }
   ],
   "source": [
    "sns.scatterplot(data = PCOS_outliers_removed, x = \"Weight (lbs)\", y = \"RBS(mg/dl)\", hue = \"PCOS (Y/N)\")"
   ]
  },
  {
   "cell_type": "code",
   "execution_count": 184,
   "id": "a01adf88",
   "metadata": {},
   "outputs": [
    {
     "data": {
      "text/plain": [
       "<AxesSubplot:xlabel='RBS(mg/dl)'>"
      ]
     },
     "execution_count": 184,
     "metadata": {},
     "output_type": "execute_result"
    },
    {
     "data": {
      "image/png": "[encoded data removed]",
      "text/plain": [
       "<Figure size 432x288 with 1 Axes>"
      ]
     },
     "metadata": {},
     "output_type": "display_data"
    }
   ],
   "source": [
    "sns.boxplot(data = PCOS_outliers_removed, x = \"RBS(mg/dl)\", hue = \"PCOS (Y/N)\")"
   ]
  },
  {
   "cell_type": "code",
   "execution_count": 188,
   "id": "224b96b0",
   "metadata": {},
   "outputs": [
    {
     "data": {
      "text/plain": [
       "<AxesSubplot:xlabel='PCOS (Y/N)', ylabel='RBS(mg/dl)'>"
      ]
     },
     "execution_count": 188,
     "metadata": {},
     "output_type": "execute_result"
    },
    {
     "data": {
      "image/png": "[encoded data removed]",
      "text/plain": [
       "<Figure size 432x288 with 1 Axes>"
      ]
     },
     "metadata": {},
     "output_type": "display_data"
    }
   ],
   "source": [
    "sns.violinplot(data = PCOS_outliers_removed, y = \"RBS(mg/dl)\", x = \"PCOS (Y/N)\")"
   ]
  },
  {
   "cell_type": "code",
   "execution_count": 169,
   "id": "f848b0f8",
   "metadata": {},
   "outputs": [
    {
     "data": {
      "text/plain": [
       "<seaborn.axisgrid.FacetGrid at 0x24aaf5d1430>"
      ]
     },
     "execution_count": 169,
     "metadata": {},
     "output_type": "execute_result"
    },
    {
     "data": {
      "image/png": "[encoded data removed]",
      "text/plain": [
       "<Figure size 434.05x360 with 1 Axes>"
      ]
     },
     "metadata": {},
     "output_type": "display_data"
    }
   ],
   "source": [
    "sns.lmplot(data = PCOS_outliers_removed, x = \"RBS(mg/dl)\", y = \"BMI\", hue = \"PCOS (Y/N)\")"
   ]
  },
  {
   "cell_type": "code",
   "execution_count": 170,
   "id": "0388b42f",
   "metadata": {
    "scrolled": true
   },
   "outputs": [
    {
     "data": {
      "text/plain": [
       "<seaborn.axisgrid.FacetGrid at 0x24aaf5edc70>"
      ]
     },
     "execution_count": 170,
     "metadata": {},
     "output_type": "execute_result"
    },
    {
     "data": {
      "image/png": "[encoded data removed]",
      "text/plain": [
       "<Figure size 434.05x360 with 1 Axes>"
      ]
     },
     "metadata": {},
     "output_type": "display_data"
    }
   ],
   "source": [
    "sns.lmplot(data = PCOS_outliers_removed, x = \"RBS(mg/dl)\", y = \"Weight (lbs)\", hue = \"PCOS (Y/N)\")"
   ]
  },
  {
   "cell_type": "markdown",
   "id": "189bb60a",
   "metadata": {},
   "source": [
    "### References"
   ]
  },
  {
   "cell_type": "markdown",
   "id": "787799d7",
   "metadata": {},
   "source": [
    " - https://www.cdc.gov/diabetes/basics/pcos.html#:~:text=What%20is%20PCOS%3F,US%20women%20of%20reproductive%20age.\n",
    " \n",
    " - https://www.mayoclinic.org/diseases-conditions/pcos/symptoms-causes/syc-20353439?p=1\n",
    " \n",
    " - https://medlineplus.gov/polycysticovarysyndrome.html "
   ]
  }
 ],
 "metadata": {
  "kernelspec": {
   "display_name": "Python 3 (ipykernel)",
   "language": "python",
   "name": "python3"
  },
  "language_info": {
   "codemirror_mode": {
    "name": "ipython",
    "version": 3
   },
   "file_extension": ".py",
   "mimetype": "text/x-python",
   "name": "python",
   "nbconvert_exporter": "python",
   "pygments_lexer": "ipython3",
   "version": "3.9.12"
  }
 },
 "nbformat": 4,
 "nbformat_minor": 5
}
