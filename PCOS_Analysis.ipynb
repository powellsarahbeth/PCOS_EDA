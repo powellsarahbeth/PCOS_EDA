{
 "cells": [
  {
   "cell_type": "markdown",
   "id": "5cc3e307",
   "metadata": {},
   "source": [
    "# Exploratory Data Analysis on Polycystic Ovary Syndrome (PCOS)"
   ]
  },
  {
   "cell_type": "markdown",
   "id": "96865ca6",
   "metadata": {},
   "source": [
    "## Introduction"
   ]
  },
  {
   "cell_type": "markdown",
   "id": "b78d4381",
   "metadata": {},
   "source": [
    "Polycystic ovary syndrome, or PCOS, is one of the most common causes of female infertility, afffecting as many as 5 million US women who are of childbearing age. Women who have PCOS produce more male hormones than normal which may impact their overall heath, even past their childbearing years. Symptoms can be different for every woman, which makes it very difficult to diagnose. This analysis explores various PCOS symptoms or variables that increase the likelihood of a PCOS diagnosis or infertility. In this analysis, I would to explore three specific questions:\n",
    "\n",
    " 1. Are there any features that are correlated with PCOS?\n",
    " 2. What are the most frequent symptoms PCOS pateints exihibit?\n",
    " 3. Do non-PCOS patients exhibit similar symptoms to those diagnosed with PCOS?\n"
   ]
  },
  {
   "cell_type": "markdown",
   "id": "3d0a1b06",
   "metadata": {},
   "source": [
    "## About the Data"
   ]
  },
  {
   "cell_type": "markdown",
   "id": "2f0bc2ec",
   "metadata": {},
   "source": [
    "This data set includes all physical and clinical parameters from a group of patients collected from ten different hospitals across Kerala, India. The original data set and notebook can be found on [Kaggle] (https://www.kaggle.com/datasets/prasoonkottarathil/polycystic-ovary-syndrome-pcos?select=PCOS_infertility.csv). The data set contains to Comma Separated Value (CSV) files: \n",
    " - `PCOS_Data_without_infertility`: Contains 45 columns (representing different parameters) and 541 rows (representing different patients identified by a Patient File Number)\n",
    " - `PCOS_infertility`: Contains 6 columns (representing different parameters) and 541 rows (representing different patients idenfitied by a Patient File Number)\n",
    " \n",
    " Because this data set contains specific domain knowledge to understand the features and what they mean, a Data Dictionary was created to provide information about each feature.  "
   ]
  },
  {
   "cell_type": "code",
   "execution_count": null,
   "id": "29d36ab3",
   "metadata": {},
   "outputs": [],
   "source": [
    "import pandas as pd \n",
    "pd.set_option('display.max_colwidth', 0)\n",
    "\n",
    "data_dict_filepath = \"C:\\\\Users\\\\sarah\\\\OneDrive\\\\Documents\\\\NYCDS_Bootcamp\\\\Project 1\\\\PCOS_Data_Dictionary.csv\"\n",
    "\n",
    "PCOS_Data_Dict = pd.read_csv(data_dict_filepath)\n",
    "\n",
    "PCOS_Data_Dict"
   ]
  },
  {
   "cell_type": "markdown",
   "id": "ce87ddde",
   "metadata": {},
   "source": [
    "## Questions of Interest"
   ]
  },
  {
   "cell_type": "markdown",
   "id": "e3cf1eaa",
   "metadata": {},
   "source": [
    "PCOS patients experience a wide variety of symptoms, and each woman experiences a range of symptoms throughout each individual cycle. Because of this, I would like to center my analysis on three main questions:\n",
    "\n",
    "1. Are there any symptoms or traits that are correlated with PCOS?\n",
    "2. What are the most frequent symptoms that PCOS patients exibit?\n",
    "3. How likely is a non-PCOS patient have PCOS based on her current traits or symptoms?"
   ]
  },
  {
   "cell_type": "markdown",
   "id": "1d5544c6",
   "metadata": {},
   "source": [
    "## Data Inspection"
   ]
  },
  {
   "cell_type": "markdown",
   "id": "19b3503f",
   "metadata": {},
   "source": [
    "Before exploring the questions of interest in the data, we will inspect it to get a sense of it's general construct. In the data inspection, we will complete the following tasks:\n",
    "\n",
    "- Load the data.\n",
    "- Describe the data (shape, structure and descriptive statistics). \n",
    "- Inspect the data including missing values or `NaN` values. \n",
    "- Make intial observations about the data for subsequent steps such as data cleaning and pre-processing."
   ]
  },
  {
   "cell_type": "markdown",
   "id": "e04fc76a",
   "metadata": {},
   "source": [
    "Before we begin the inspection, we first import the necessary libraries for data analysis:\n",
    " - Numpy as np: Used for linear algebra or matrix math. \n",
    " - Pandas as pd: Used for data analysis in a tabular structure. \n",
    " - Matplotlib.pyplot as plt: Used for plotting data. \n",
    " - Seaborn as sns: Subpackage of Matplotlib used for statistical data visualization. "
   ]
  },
  {
   "cell_type": "code",
   "execution_count": null,
   "id": "72bfad75",
   "metadata": {
    "scrolled": true
   },
   "outputs": [],
   "source": [
    "import numpy as np \n",
    "import pandas as pd  \n",
    "import matplotlib.pyplot as plt \n",
    "import seaborn as sns\n",
    "from scipy import stats\n",
    "import researchpy as rp\n",
    "import pingouin as pg"
   ]
  },
  {
   "cell_type": "markdown",
   "id": "f9294b00",
   "metadata": {},
   "source": [
    "Load the data. "
   ]
  },
  {
   "cell_type": "code",
   "execution_count": null,
   "id": "209a028f",
   "metadata": {},
   "outputs": [],
   "source": [
    "file_path_with_infertility = \"C:\\\\Users\\\\sarah\\\\OneDrive\\\\Documents\\\\NYCDS_Bootcamp\\\\Project 1\\\\PCOS_infertility.csv\"\n",
    "file_path_without_infertility = \"C:\\\\Users\\\\sarah\\\\OneDrive\\\\Documents\\\\NYCDS_Bootcamp\\\\Project 1\\\\PCOS_data_without_infertility.xlsx\"\n",
    "\n",
    "PCOS_inf = pd.read_csv(file_path_with_infertility)\n",
    "\n",
    "PCOS_woinf = pd.read_excel(file_path_without_infertility, sheet_name = \"Full_new\")"
   ]
  },
  {
   "cell_type": "markdown",
   "id": "bed25608",
   "metadata": {},
   "source": [
    "Observations:\n",
    "\n",
    " - `PCOS_inf` has 541 rows and 6 columns. Additional exploration to find location of `NaN` values.\n",
    " - `PCOS_woinf` has 999 rows and 45 columns. Additional exploration to find location of `NaN` values."
   ]
  },
  {
   "cell_type": "code",
   "execution_count": null,
   "id": "89cb0e66",
   "metadata": {},
   "outputs": [],
   "source": [
    "PCOS_inf.describe(exclude = 'category').T"
   ]
  },
  {
   "cell_type": "code",
   "execution_count": null,
   "id": "fbe49831",
   "metadata": {},
   "outputs": [],
   "source": [
    "PCOS_woinf.describe(exclude = 'category').T"
   ]
  },
  {
   "cell_type": "markdown",
   "id": "9686c275",
   "metadata": {},
   "source": [
    "First data frame `PCOS_woinf` without infertility has 999 rows and 42 columns, but with 541 records. The other records will need to be explored and possibly removed."
   ]
  },
  {
   "cell_type": "code",
   "execution_count": null,
   "id": "e667a219",
   "metadata": {
    "scrolled": false
   },
   "outputs": [],
   "source": [
    "PCOS_woinf.shape"
   ]
  },
  {
   "cell_type": "markdown",
   "id": "766da45d",
   "metadata": {},
   "source": [
    "Second data frame `PCOS_inf` with only infertility records has 541 records and 6 columns."
   ]
  },
  {
   "cell_type": "code",
   "execution_count": null,
   "id": "59202adf",
   "metadata": {},
   "outputs": [],
   "source": [
    "PCOS_inf.shape"
   ]
  },
  {
   "cell_type": "markdown",
   "id": "2bddf605",
   "metadata": {},
   "source": [
    "Observations:\n",
    " - The `PCOS_woinf` has the `BMI` column with the `#NAME?` error. We will have to compute the `BMI` to replace the `#NAME?` error. \n",
    " - The `PCOS_woinf` has 44 `Unnamed:` columsn with `NaN` values. We will need to drop the `NaN` values and the `Unnamed:` columns in the DataFrame. "
   ]
  },
  {
   "cell_type": "code",
   "execution_count": null,
   "id": "5dd74954",
   "metadata": {
    "scrolled": true
   },
   "outputs": [],
   "source": [
    "PCOS_woinf.head()"
   ]
  },
  {
   "cell_type": "markdown",
   "id": "0c3885f5",
   "metadata": {},
   "source": [
    "Observations:\n",
    "\n",
    "- The `PCOS_woinf` has multiple records with `NaN` due to what looks like a formatting issue in the Comma Seperated Value (CSV) file that was imported as a DataFrame. We will need to drop the `NaN` values from these rows. "
   ]
  },
  {
   "cell_type": "code",
   "execution_count": null,
   "id": "6934dab8",
   "metadata": {},
   "outputs": [],
   "source": [
    "PCOS_woinf.tail()"
   ]
  },
  {
   "cell_type": "markdown",
   "id": "2f0b6741",
   "metadata": {},
   "source": [
    "Observations:\n",
    "\n",
    "- `PCOS_woinf` has 541 entries or rows. \n",
    "- All columns are of `float64` type except for `BMI`, `FSH/LH`, `Waist:Hip Ratio`, and `AMH(ng/mL)` which are of `object` type."
   ]
  },
  {
   "cell_type": "code",
   "execution_count": null,
   "id": "50f3d10a",
   "metadata": {
    "scrolled": true
   },
   "outputs": [],
   "source": [
    "PCOS_woinf.info()"
   ]
  },
  {
   "cell_type": "markdown",
   "id": "d65ad281",
   "metadata": {},
   "source": [
    "Observations:\n",
    "\n",
    " - `PCOS_inf` has 541 entries or rows with a total of 6 columns as we found from the `shape()` function above. \n",
    " - `PCOS_inf` has all `int` and `float` types, except for column `AMH(ng/mL)`. "
   ]
  },
  {
   "cell_type": "code",
   "execution_count": null,
   "id": "9e893921",
   "metadata": {},
   "outputs": [],
   "source": [
    "PCOS_inf.info()"
   ]
  },
  {
   "cell_type": "markdown",
   "id": "e0eaba68",
   "metadata": {},
   "source": [
    "### Important Note About the Data\n",
    "- Upon initial inspection, I identified that each record in each CSV file had a unique Patient File Number which would indicate files for unique patients. \n",
    "- Also, I recognized that the file names `PCOS_woinf` and `PCOS_inf` would indicate patients were not diagnosed with \"Unexplained Infertility\" and patients that were diagnosed with \"Unexplained Infertility\".\n",
    "- However, upon further inspection, the data in both files, are the same with different Pateint File Numbers. \n",
    "- Because of these observations, I will exclude the `PCOS_inf` for the main Explanatory Data Analasis. \n",
    "- To explore the questions of interest regarding fertility, I will use random generated values with the same distributions as those values of patients that are not pregnant according to the `Pregnant (Y/N)` feature. This will allow exploratory analysis regarding patients that are classfied with infertility versus without infertility. THis can be found in the 'Additional EDA' Section at the end of this notebook. \n",
    "- Because of these observations, I will only use the `PCOS_woinf` in the main analysis."
   ]
  },
  {
   "cell_type": "markdown",
   "id": "3aca58f3",
   "metadata": {},
   "source": [
    "## Data Preparation"
   ]
  },
  {
   "cell_type": "markdown",
   "id": "a04b2b2e",
   "metadata": {},
   "source": [
    "#### Data Cleaning Steps Taken:\n",
    "\n",
    " - Find and remove `NaN` values.\n",
    " - Drop `Unnamed:` columns. \n",
    " - Find and remove duplicates.\n",
    " - Remove white space in column names.\n",
    " - Calculate correct values for `BMI`, `FSH/LH`, and `Waist:Hip Ratio` columns."
   ]
  },
  {
   "cell_type": "markdown",
   "id": "4eec1137",
   "metadata": {},
   "source": [
    "Find all `NaN` values in `PCOS_woinf`."
   ]
  },
  {
   "cell_type": "code",
   "execution_count": null,
   "id": "7c780c85",
   "metadata": {},
   "outputs": [],
   "source": [
    "num_nulls_in_PCOS_woinf = np.sum(PCOS_woinf.isnull(), axis=0)"
   ]
  },
  {
   "cell_type": "markdown",
   "id": "54d13da0",
   "metadata": {},
   "source": [
    "Remove the `NaN` values from rows and columns in `PCOS_woinf`."
   ]
  },
  {
   "cell_type": "code",
   "execution_count": null,
   "id": "d6441fac",
   "metadata": {},
   "outputs": [],
   "source": [
    "PCOS_woinf = PCOS_woinf.dropna(axis = 0, how = 'all').dropna(axis = 1, how = 'any')"
   ]
  },
  {
   "cell_type": "markdown",
   "id": "ba049fa0",
   "metadata": {},
   "source": [
    "Check to see if `NaN` values were removed from `PCOS_woinf`. "
   ]
  },
  {
   "cell_type": "code",
   "execution_count": null,
   "id": "942f2c2e",
   "metadata": {},
   "outputs": [],
   "source": [
    "num_nulls_in_PCOS_woinf"
   ]
  },
  {
   "cell_type": "markdown",
   "id": "0f0e7025",
   "metadata": {},
   "source": [
    "Remove `Unnamed:` columns from `PCOS_woinf`. "
   ]
  },
  {
   "cell_type": "code",
   "execution_count": null,
   "id": "68630bd5",
   "metadata": {},
   "outputs": [],
   "source": [
    "PCOS_woinf = PCOS_woinf.loc[:, ~PCOS_woinf.columns.str.contains('^Unnamed')]"
   ]
  },
  {
   "cell_type": "markdown",
   "id": "1fecb102",
   "metadata": {},
   "source": [
    "Find duplicates in `PCOS_woinf`."
   ]
  },
  {
   "cell_type": "code",
   "execution_count": null,
   "id": "c18a383e",
   "metadata": {},
   "outputs": [],
   "source": [
    "PCOS_woinf.duplicated().sum()"
   ]
  },
  {
   "cell_type": "markdown",
   "id": "229a9a27",
   "metadata": {},
   "source": [
    "Replace `BMI` with the [correct calculation](https://www.nhlbi.nih.gov/health/educational/lose_wt/BMI/bmicalc.htm). "
   ]
  },
  {
   "cell_type": "code",
   "execution_count": null,
   "id": "f4862aba",
   "metadata": {},
   "outputs": [],
   "source": [
    "PCOS_woinf['Height (m)'] = PCOS_woinf['Height(Cm) '] / 100\n",
    "\n",
    "PCOS_woinf['BMI'] = PCOS_woinf['Weight (Kg)'] / (PCOS_woinf['Height (m)'] ** 2)"
   ]
  },
  {
   "cell_type": "markdown",
   "id": "0618cf0a",
   "metadata": {},
   "source": [
    "Replace `FSH/LH` with the correct calculation."
   ]
  },
  {
   "cell_type": "code",
   "execution_count": null,
   "id": "80fd20f9",
   "metadata": {},
   "outputs": [],
   "source": [
    "PCOS_woinf['FSH/LH'] = PCOS_woinf['FSH(mIU/mL)'] / PCOS_woinf['LH(mIU/mL)']"
   ]
  },
  {
   "cell_type": "markdown",
   "id": "1494fa56",
   "metadata": {},
   "source": [
    "Replace `Waist:Hip Ratio` with the correct calculation. "
   ]
  },
  {
   "cell_type": "code",
   "execution_count": null,
   "id": "508c816f",
   "metadata": {},
   "outputs": [],
   "source": [
    "PCOS_woinf['Waist:Hip Ratio'] = PCOS_woinf['Waist(inch)'] / PCOS_woinf['Hip(inch)']"
   ]
  },
  {
   "cell_type": "markdown",
   "id": "7fe328b0",
   "metadata": {},
   "source": [
    "Add a column `Weight (lbs)` converting weight in kg to weight in lbs for readability."
   ]
  },
  {
   "cell_type": "code",
   "execution_count": null,
   "id": "b8b92588",
   "metadata": {},
   "outputs": [],
   "source": [
    "PCOS_woinf['Weight (lbs)'] = PCOS_woinf['Weight (Kg)'] * 2.205"
   ]
  },
  {
   "cell_type": "markdown",
   "id": "66c0cb26",
   "metadata": {},
   "source": [
    "Create a column `Blood Type (str)` that is represented by the string value vs. the numerical representation defined. "
   ]
  },
  {
   "cell_type": "code",
   "execution_count": null,
   "id": "414c80e2",
   "metadata": {},
   "outputs": [],
   "source": [
    "PCOS_woinf['Blood Type (str)'] = PCOS_woinf['Blood Group'].replace([11, 12, 13, 14, 15, 16, 17, 18], ['A+', 'A-', 'B+', 'B-', 'O+', 'O-', 'AB+', 'AB-'] )"
   ]
  },
  {
   "cell_type": "markdown",
   "id": "a0da488a",
   "metadata": {},
   "source": [
    "Convert blood pressure to the correct format systolic over diastolic. [Reference Link](https://www.heart.org/en/health-topics/high-blood-pressure/understanding-blood-pressure-readings)."
   ]
  },
  {
   "cell_type": "code",
   "execution_count": null,
   "id": "e99e9359",
   "metadata": {},
   "outputs": [],
   "source": [
    "PCOS_woinf['Blood Pressure (str)'] = PCOS_woinf['BP _Systolic (mmHg)'].astype(str) + '/' + PCOS_woinf['BP _Diastolic (mmHg)'].astype(str)\n",
    "PCOS_woinf['Blood Pressure (str)'] = PCOS_woinf['Blood Pressure (str)'].replace(['nan/nan'], np.nan)\n",
    "PCOS_woinf['Blood Pressure (str)']"
   ]
  },
  {
   "cell_type": "markdown",
   "id": "5dbf77f7",
   "metadata": {},
   "source": [
    "Correct spelling and rename column headers."
   ]
  },
  {
   "cell_type": "code",
   "execution_count": null,
   "id": "d18da655",
   "metadata": {},
   "outputs": [],
   "source": [
    "PCOS_woinf.rename(columns = {'No. of aborptions': 'No. of Abortions'}, inplace = True)\n",
    "PCOS_woinf.rename(columns = {'Marraige Status (Yrs)': 'Marriage Status (Yrs)'}, inplace = True)\n",
    "PCOS_woinf.rename(columns = {'Pimples(Y/N)': 'Acne (Y/N)'}, inplace = True)"
   ]
  },
  {
   "cell_type": "markdown",
   "id": "8413d9e9",
   "metadata": {},
   "source": [
    " - Change non-string types to floats for numerical variables. \n",
    " - Received `ValueError: Unable to parse string \"1.99.\" at position 123.`\n",
    " - Used replace method to `replace` method into format that can be coerced with `to_numeric`."
   ]
  },
  {
   "cell_type": "code",
   "execution_count": null,
   "id": "11d24d7b",
   "metadata": {},
   "outputs": [],
   "source": [
    "PCOS_woinf['II    beta-HCG(mIU/mL)'] = PCOS_woinf['II    beta-HCG(mIU/mL)'].replace(['1.99.'], '1.99')\n",
    "PCOS_woinf['II    beta-HCG(mIU/mL)'] = pd.to_numeric(PCOS_woinf['II    beta-HCG(mIU/mL)'])"
   ]
  },
  {
   "cell_type": "code",
   "execution_count": null,
   "id": "e3740f62",
   "metadata": {},
   "outputs": [],
   "source": [
    "PCOS_woinf['Waist:Hip Ratio'] = pd.to_numeric(PCOS_woinf['Waist:Hip Ratio'])"
   ]
  },
  {
   "cell_type": "markdown",
   "id": "47656653",
   "metadata": {},
   "source": [
    "- For `PCOS_main['AMH(ng/mL)']` recieved `ValueError` at position 307 with the value 'a'. \n",
    "- Since this was the only string value in this numerical column, I chose to replace this string with the mean of the column to avoid dropping that record."
   ]
  },
  {
   "cell_type": "code",
   "execution_count": null,
   "id": "0969c4d1",
   "metadata": {},
   "outputs": [],
   "source": [
    "PCOS_woinf['AMH(ng/mL)'] = pd.to_numeric(PCOS_woinf['AMH(ng/mL)'], errors = 'coerce').astype('float64')\n",
    "PCOS_woinf['AMH(ng/mL)'] = PCOS_woinf['AMH(ng/mL)'].fillna(PCOS_woinf['AMH(ng/mL)'].mean())"
   ]
  },
  {
   "cell_type": "markdown",
   "id": "7fb836cd",
   "metadata": {},
   "source": [
    "- Change the type of the categorical variable columns to `bool` from `float64`:\n",
    " - `PCOS (Y/N)`\n",
    " - `Pregnant (Y/N)`\n",
    " - `Weight gain (Y/N)`\n",
    " - `hair growth (Y/N)`\n",
    " - `Skin darkening (Y/N)`\n",
    " - `Hair loss (Y/N)`\n",
    " - `Acne (Y/N)`\n",
    " - `Fast Food (Y/N)`\n",
    " - `Reg.Exercise (Y/N)`"
   ]
  },
  {
   "cell_type": "code",
   "execution_count": null,
   "id": "0e39ee02",
   "metadata": {},
   "outputs": [],
   "source": [
    "#PCOS_woinf['PCOS (Y/N)'] = PCOS_woinf['PCOS (Y/N)'].astype('bool')\n",
    "PCOS_woinf['Pregnant(Y/N)'] = PCOS_woinf['Pregnant(Y/N)'].astype('bool')\n",
    "PCOS_woinf['Weight gain(Y/N)'] = PCOS_woinf['Weight gain(Y/N)'].astype('bool')\n",
    "PCOS_woinf['hair growth(Y/N)'] = PCOS_woinf['hair growth(Y/N)'].astype('bool')\n",
    "PCOS_woinf['Skin darkening (Y/N)'] = PCOS_woinf['Skin darkening (Y/N)'].astype('bool')\n",
    "PCOS_woinf['Hair loss(Y/N)'] = PCOS_woinf['Hair loss(Y/N)'].astype('bool')\n",
    "PCOS_woinf['Acne (Y/N)'] = PCOS_woinf['Acne (Y/N)'].astype('bool')\n",
    "PCOS_woinf['Reg.Exercise(Y/N)'] = PCOS_woinf['Reg.Exercise(Y/N)'].astype('bool')"
   ]
  },
  {
   "cell_type": "code",
   "execution_count": null,
   "id": "6225d625",
   "metadata": {},
   "outputs": [],
   "source": [
    "PCOS_woinf.columns"
   ]
  },
  {
   "cell_type": "markdown",
   "id": "6520382b",
   "metadata": {},
   "source": [
    "- Drop `Sl. No` as this seems like a duplicate column and will not add value to our analysis.\n",
    "- Drop `Cycle(R/I)` column as this variable was not well-defined in the information about the original data set. "
   ]
  },
  {
   "cell_type": "code",
   "execution_count": null,
   "id": "3f9d7538",
   "metadata": {},
   "outputs": [],
   "source": [
    "PCOS_woinf.drop(['Sl. No'], axis = 1, inplace = True)\n",
    "PCOS_woinf.drop(['Cycle(R/I)'], axis = 1, inplace = True)"
   ]
  },
  {
   "cell_type": "markdown",
   "id": "ca94068b",
   "metadata": {},
   "source": [
    "Double check `NaN` values are removed before moving on to analysis."
   ]
  },
  {
   "cell_type": "code",
   "execution_count": null,
   "id": "641f1226",
   "metadata": {},
   "outputs": [],
   "source": [
    "PCOS_woinf.isnull().values.any()"
   ]
  },
  {
   "cell_type": "markdown",
   "id": "683683d7",
   "metadata": {},
   "source": [
    "Check Dtypes in `PCOS_woinf` before moving on to analysis."
   ]
  },
  {
   "cell_type": "code",
   "execution_count": null,
   "id": "5adbb5ef",
   "metadata": {
    "scrolled": true
   },
   "outputs": [],
   "source": [
    "PCOS_woinf.info()"
   ]
  },
  {
   "cell_type": "markdown",
   "id": "f4ad33f7",
   "metadata": {},
   "source": [
    "Get rid of extra space before and after column headers."
   ]
  },
  {
   "cell_type": "code",
   "execution_count": null,
   "id": "828bc894",
   "metadata": {},
   "outputs": [],
   "source": [
    "PCOS_woinf.columns = [col.strip() for col in PCOS_woinf.columns]\n",
    "PCOS_woinf.columns"
   ]
  },
  {
   "cell_type": "code",
   "execution_count": null,
   "id": "045828be",
   "metadata": {},
   "outputs": [],
   "source": [
    "PCOS_woinf.dtypes.value_counts()"
   ]
  },
  {
   "cell_type": "markdown",
   "id": "ea2a95ae",
   "metadata": {},
   "source": [
    "## Exploratory Data Analysis"
   ]
  },
  {
   "cell_type": "markdown",
   "id": "c20fc76f",
   "metadata": {},
   "source": [
    "In this section, I will continue to explore the data to start to make inferences for further analysis keeping in mind our three questions:\n",
    "\n",
    " 1. Are there any features that are correlated with PCOS?\n",
    " 2. What are the most frequent symptoms PCOS pateints exihibit?\n",
    " 3. Do non-PCOS patients exhibit similar symptoms to those diagnosed with PCOS?"
   ]
  },
  {
   "cell_type": "code",
   "execution_count": null,
   "id": "c089c49a",
   "metadata": {},
   "outputs": [],
   "source": [
    "PCOS_woinf.groupby(\"PCOS (Y/N)\").mean(numeric_only=True)"
   ]
  },
  {
   "cell_type": "code",
   "execution_count": null,
   "id": "cdddaff4",
   "metadata": {},
   "outputs": [],
   "source": [
    "#Set sylistic themes for Seaborn plots.\n",
    "sns.set(style = \"white\")\n",
    "light = sns.color_palette(\"light:#5A9\", as_cmap=True)"
   ]
  },
  {
   "cell_type": "markdown",
   "id": "a5b1147c",
   "metadata": {},
   "source": [
    "Plot a correlation matrix to see if any of the features are correlated with other features in the data set. The higher the number is to 1, the more likely that this is correlated with the other feature in the matrix."
   ]
  },
  {
   "cell_type": "code",
   "execution_count": null,
   "id": "3ed6945c",
   "metadata": {},
   "outputs": [],
   "source": [
    "coorelation_matrix = PCOS_woinf.corr().round(2)\n",
    "mask = np.triu(np.ones_like(coorelation_matrix))\n",
    "plt.subplots(figsize = (12, 12))\n",
    "sns.heatmap(coorelation_matrix, vmax = 1, vmin = -1, cmap = \"vlag\", square = True, mask = mask).set(title = \"PCOS Correlation Matrix\")"
   ]
  },
  {
   "cell_type": "markdown",
   "id": "b80caebe",
   "metadata": {},
   "source": [
    "Because the matrix is so large, it is difficult to see what features are coorelated with other features. Just from the heat map above, we can make a couple of observations:\n",
    "\n",
    "- Follicles in the left and right overaries and symptoms such as skin darkening, hair growth and weight gain are highly correlated with PCOS. \n",
    "- We can validate these correlation values with what the research has told us so far. PCOS patients are more likely to have a number of follicles that likely will not mature and therefore will prevent the pateint from ovulating or having a 'regular' cycle. \n",
    "- Skin darkening, hair growth and weight gain are all symptoms that are most frequent in PCOS patients due to over production of male linked hormones. "
   ]
  },
  {
   "cell_type": "markdown",
   "id": "856b4f41",
   "metadata": {},
   "source": [
    "Next Steps:\n",
    "- Drop variables that have a value of 0.7 or more for further analysis in a two-way ANOVA.\n",
    "- Because `Weight (Kg)` and `Weight (lbs)` and `BMI` are corrrelated at .90, I will drop `Weight (Kg)` and `Weight (lbs)` from the two-way ANOVA to prevent duplicating highly correlated variables.\n",
    "- Dropping `Follicle (L)` since it's highly correlated at .80 with `Follicle (R)`.\n",
    "- Dropping `FSH/LH` as it's highly correlated with `FSH(mIU/mL)`. \n",
    "- Dropping `Hip(inch)` as it's highly correlated with `Waist(inch)`. \n",
    "- Dropping `Height (cm)` as it's highly correlated with `Height (m)`."
   ]
  },
  {
   "cell_type": "code",
   "execution_count": null,
   "id": "caa90bad",
   "metadata": {},
   "outputs": [],
   "source": [
    "coorelation_matrix_filtered = coorelation_matrix.unstack()\n",
    "coorelation_matrix_filtered = coorelation_matrix_filtered[abs(coorelation_matrix_filtered) >= 0.7]\n",
    "\n",
    "print(coorelation_matrix_filtered)"
   ]
  },
  {
   "cell_type": "markdown",
   "id": "3b105f51",
   "metadata": {},
   "source": [
    "Created a new DataFrame `PCOS_woinf_ANOVA` dropping all columns that were noted above due to correlation value of 0.7 or more and categorical (other than `PCOS (Y/N)`) for one-way ANOVA analysis."
   ]
  },
  {
   "cell_type": "code",
   "execution_count": null,
   "id": "c0dc5d60",
   "metadata": {},
   "outputs": [],
   "source": [
    "PCOS_woinf_ANOVA = PCOS_woinf[['PCOS (Y/N)', 'Age (yrs)', 'BMI', 'Pulse rate(bpm)',\n",
    "       'RR (breaths/min)', 'Hb(g/dl)', 'Cycle length(days)',\n",
    "       'No. of Abortions', 'I   beta-HCG(mIU/mL)', 'II    beta-HCG(mIU/mL)',\n",
    "       'FSH(mIU/mL)', 'LH(mIU/mL)', 'Waist(inch)',\n",
    "       'Waist:Hip Ratio', 'TSH (mIU/L)', 'AMH(ng/mL)', 'PRL(ng/mL)',\n",
    "       'Vit D3 (ng/mL)', 'PRG(ng/mL)', 'RBS(mg/dl)', 'BP _Systolic (mmHg)',\n",
    "       'BP _Diastolic (mmHg)', 'Follicle No. (R)',\n",
    "       'Avg. F size (L) (mm)', 'Avg. F size (R) (mm)', 'Endometrium (mm)', 'Height (m)']]"
   ]
  },
  {
   "cell_type": "code",
   "execution_count": null,
   "id": "f98b9c6c",
   "metadata": {},
   "outputs": [],
   "source": [
    "PCOS_woinf_ANOVA = PCOS_woinf_ANOVA.rename(columns = {'PCOS (Y/N)': \"PCOS\", 'Age (yrs)': \"Age\", 'Pulse rate(bpm)': \"Pulse_Rate\", 'RR (breaths/min)': \"Resp_Rate\", 'Hb(g/dl)': \"Hemoglobin\", 'Cycle length(days)' : \"Cycle_Length\", 'No. of Abortions': \"Num_Abortions\", 'I   beta-HCG(mIU/mL)': \"HCG_Read_1\", 'II    beta-HCG(mIU/mL)': \"HCG_Read_2\", 'FSH(mIU/mL)': \"Follicle_Stim_Horm\", 'LH(mIU/mL)': \"Luteninizing_Horm\", 'Waist(inch)': \"Waist_in\", 'Waist:Hip Ratio': \"Waist_Hip_Ratio\", 'TSH (mIU/L)': \"Thyroid_Horm\", 'AMH(ng/mL)': \"Anti_Mull_Horm\", 'PRL(ng/mL)': \"Prolactin\", 'Vit D3 (ng/mL)': \"Vit_D\", 'PRG(ng/mL)': \"Progesterone\", 'RBS(mg/dl)': \"Random_Blood_Sug\", 'BP _Systolic (mmHg)': \"Systolic\", 'BP _Diastolic (mmHg)': \"Diastolic\", 'Follicle No. (R)': \"Foll_No_R\", 'Avg. F size (L) (mm)': \"Avg_Foll_Size_L\", 'Avg. F size (R) (mm)': \"Avg_Foll_Size_R\", 'Endometrium (mm)': \"Endometrium\", 'Height (m)' :\"Height_m\"})"
   ]
  },
  {
   "cell_type": "code",
   "execution_count": null,
   "id": "cad956be",
   "metadata": {},
   "outputs": [],
   "source": [
    "PCOS_woinf_ANOVA.columns"
   ]
  },
  {
   "cell_type": "markdown",
   "id": "ae2009d7",
   "metadata": {},
   "source": [
    "### Hypothesis Testing\n",
    "\n",
    "My null hypothesis is that the mean of each variable is equal to the same mean of that variable to patients that have PCOS. I will set my significance level to 0.05 so that I can be 95% confident in my conclusion and accept 5% error that my conclusions are incorrect.\n",
    "\n",
    "- $H_0$: $\\mu_{PCOS_{β}}$ = $\\mu_{non-PCOS_{β}}$\n",
    "\n",
    "- $H_a$: $\\mu_{PCOS_{β}}$ $\\neq$ $\\mu_{non-PCOS_{β}}$\n",
    "\n",
    "_Where ${β}$ is equal to the each independent variable or feature in the dataset._\n",
    "\n",
    "Given that our hypothesis is true, if the probability of observing the average of that variable is extreme or as extreme as the one we observed is higher than the significance level, $\\alpha $ $= 0.05$, then we fail to reject (retain) the null hypothesis. \n",
    "\n",
    "- If the $p-value$ is greater than $\\alpha $, we would retain $H_0$, meaning we have sufficient statistical evidence to assume that the variable we are observing could be correlated with a PCOS diagnosis. \n",
    "- If the $p-value$ is lower than $\\alpha $, we would reject $H_0$ in favor of $H_a$, meaning that we have enough statistical evidence to assume that particular variable is NOT correlated with a PCOS diagnosis and is therefore significant."
   ]
  },
  {
   "cell_type": "code",
   "execution_count": null,
   "id": "692be26c",
   "metadata": {},
   "outputs": [],
   "source": [
    "pg.anova(dv = 'PCOS', between = ['Age'], data = PCOS_woinf_ANOVA).round(3)\n",
    "#0.007 < 0.05, reject H0 in favor of Ha. We have enough statistical \\\n",
    "#evidence to suggest that age is NOT correlated with a PCOS diagnosis."
   ]
  },
  {
   "cell_type": "code",
   "execution_count": null,
   "id": "b358d354",
   "metadata": {},
   "outputs": [],
   "source": [
    "pg.anova(dv = 'PCOS', between = ['BMI'], data = PCOS_woinf_ANOVA).round(3)\n",
    "#0.086 > 0.05, retain H0.We have enough statistical \\\n",
    "#evidence to suggest that BMI is correlated with a PCOS diagnosis."
   ]
  },
  {
   "cell_type": "code",
   "execution_count": null,
   "id": "2e8de3c2",
   "metadata": {},
   "outputs": [],
   "source": [
    "pg.anova(dv = 'PCOS', between = ['Pulse_Rate'], data = PCOS_woinf_ANOVA).round(3)\n",
    "#0.393 > 0.05, retain H0. We have enough statistical \\\n",
    "#evidence to suggest that Pulse Rate is correlated with a PCOS diagnosis."
   ]
  },
  {
   "cell_type": "code",
   "execution_count": null,
   "id": "fb4ba4c4",
   "metadata": {},
   "outputs": [],
   "source": [
    "pg.anova(dv = 'PCOS', between = ['Resp_Rate'], data = PCOS_woinf_ANOVA).round(3)\n",
    "#0.21 > 0.05, retain H0. We have enough statistical \\\n",
    "#evidence to suggest that Respirtory Rate is correlated with a PCOS diagnosis."
   ]
  },
  {
   "cell_type": "code",
   "execution_count": null,
   "id": "58ffcaf2",
   "metadata": {},
   "outputs": [],
   "source": [
    "pg.anova(dv = 'PCOS', between = ['Hemoglobin'], data = PCOS_woinf_ANOVA).round(3)\n",
    "#0.243 > 0.05, retain H0. We have enough statistical \\\n",
    "#evidence to suggest that Hemoglobin is correlated with a PCOS diagnosis."
   ]
  },
  {
   "cell_type": "code",
   "execution_count": null,
   "id": "304d5330",
   "metadata": {},
   "outputs": [],
   "source": [
    "pg.anova(dv = 'PCOS', between = ['Cycle_Length'], data = PCOS_woinf_ANOVA).round(3)\n",
    "#0.0 < 0.05, reject H0 in favor of Ha. We have enough statistical \\\n",
    "#evidence to assume that Cycle length is NOT correlated with a PCOS diagnosis."
   ]
  },
  {
   "cell_type": "code",
   "execution_count": null,
   "id": "28df81e5",
   "metadata": {},
   "outputs": [],
   "source": [
    "pg.anova(dv = 'PCOS', between = ['Num_Abortions'], data = PCOS_woinf_ANOVA).round(3)\n",
    "#0.544 > 0.05, retain H0. We have enough statistical \\\n",
    "#evidence to suggest that the number of abortions is correlated with a PCOS diagnosis. "
   ]
  },
  {
   "cell_type": "code",
   "execution_count": null,
   "id": "35637b8a",
   "metadata": {},
   "outputs": [],
   "source": [
    "pg.anova(dv = 'PCOS', between = ['HCG_Read_1'], data = PCOS_woinf_ANOVA).round(3)\n",
    "#0.059 > 0.05, retain H0. We have enough statistical \\\n",
    "#evidence to suggest that HCG is correlated with a PCOS diagnosis. "
   ]
  },
  {
   "cell_type": "code",
   "execution_count": null,
   "id": "a1a0b559",
   "metadata": {},
   "outputs": [],
   "source": [
    "pg.anova(dv = 'PCOS', between = ['HCG_Read_2'], data = PCOS_woinf_ANOVA).round(3)\n",
    "#0.238 > 0.05, retain H0. We have enough statistical \\\n",
    "#evidence to suggest that HCG is correlated with a PCOS diagnosis.\n",
    "#This second reading would be a confirmation of the first. "
   ]
  },
  {
   "cell_type": "code",
   "execution_count": null,
   "id": "377fa091",
   "metadata": {},
   "outputs": [],
   "source": [
    "pg.anova(dv = 'PCOS', between = ['Follicle_Stim_Horm'], data = PCOS_woinf_ANOVA).round(3)\n",
    "#0.022 < 0.05, reject H0 in favor of Ha. We have enough statistical \\\n",
    "#evidence to assume that the Follicle Stimulating Hormone is NOT correlated with a PCOS diagnosis."
   ]
  },
  {
   "cell_type": "code",
   "execution_count": null,
   "id": "afbe5de0",
   "metadata": {},
   "outputs": [],
   "source": [
    "pg.anova(dv = 'PCOS', between = ['Luteninizing_Horm'], data = PCOS_woinf_ANOVA).round(3)\n",
    "#0.133 > 0.05, retain H0. We have enough statistical \\\n",
    "#evidence to suggest that the Luteninzing Hormone is correlated with a PCOS diagnosis. "
   ]
  },
  {
   "cell_type": "code",
   "execution_count": null,
   "id": "8a48c951",
   "metadata": {},
   "outputs": [],
   "source": [
    "pg.anova(dv = 'PCOS', between = ['Waist_in'], data = PCOS_woinf_ANOVA).round(3)\n",
    "#0.003 < 0.05, reject H0 in favor of Ha. We have enough statistical \\\n",
    "#evidence to assume that Waist measurement is NOT correlated with a PCOS diagnosis."
   ]
  },
  {
   "cell_type": "code",
   "execution_count": null,
   "id": "e715ad6b",
   "metadata": {},
   "outputs": [],
   "source": [
    "pg.anova(dv = 'PCOS', between = ['Waist_Hip_Ratio'], data = PCOS_woinf_ANOVA).round(3)\n",
    "#0.029 < 0.05, reject H0 in favor of Ha. We have enough statistical \\\n",
    "#evidence to assume that Waist:Hip Ratio is NOT correlated with a PCOS diagnosis."
   ]
  },
  {
   "cell_type": "code",
   "execution_count": null,
   "id": "502c9f5d",
   "metadata": {},
   "outputs": [],
   "source": [
    "pg.anova(dv = 'PCOS', between = ['Thyroid_Horm'], data = PCOS_woinf_ANOVA).round(3)\n",
    "#0.23 > 0.05, retain H0. The Luteninzing Hormone is correlated with a PCOS diagnosis. "
   ]
  },
  {
   "cell_type": "code",
   "execution_count": null,
   "id": "37f39fcb",
   "metadata": {},
   "outputs": [],
   "source": [
    "pg.anova(dv = 'PCOS', between = ['Anti_Mull_Horm'], data = PCOS_woinf_ANOVA).round(3)\n",
    "#0.0 < 0.05, reject H0 in favor of Ha. We have enough statistical \\\n",
    "#evidence to assume that Anti-Mullarian Hormone is NOT correlated with a PCOS diagnosis. "
   ]
  },
  {
   "cell_type": "code",
   "execution_count": null,
   "id": "3759e228",
   "metadata": {},
   "outputs": [],
   "source": [
    "pg.anova(dv = 'PCOS', between = ['Prolactin'], data = PCOS_woinf_ANOVA).round(3)\n",
    "#0.011 < 0.05, reject H0 in favor of Ha. We have enough statistical \\\n",
    "#evidence to assume that Prolactin is NOT correlated with a PCOS diagnosis."
   ]
  },
  {
   "cell_type": "code",
   "execution_count": null,
   "id": "d3626973",
   "metadata": {},
   "outputs": [],
   "source": [
    "pg.anova(dv = 'PCOS', between = ['Vit_D'], data = PCOS_woinf_ANOVA).round(3)\n",
    "#0.1 > 0.05, retain H0. We have enough statistical \\\n",
    "#evidence to suggest that Vitamin D is correlated with a PCOS diagnosis."
   ]
  },
  {
   "cell_type": "code",
   "execution_count": null,
   "id": "49a884e2",
   "metadata": {},
   "outputs": [],
   "source": [
    "pg.anova(dv = 'PCOS', between = ['Random_Blood_Sug'], data = PCOS_woinf_ANOVA).round(3)\n",
    "#0.483 > 0.05, retain H0. We have enough statistical \\\n",
    "#evidence to suggest that Random Blood Sugar is correlated with a PCOS diagnosis. "
   ]
  },
  {
   "cell_type": "code",
   "execution_count": null,
   "id": "515a99ac",
   "metadata": {},
   "outputs": [],
   "source": [
    "pg.anova(dv = 'PCOS', between = ['Progesterone'], data = PCOS_woinf_ANOVA).round(3)\n",
    "#0.466 > 0.05, retain H0. We have enough statistical \\\n",
    "#evidence to suggest that Progesterone is correlated with a PCOS diagnosis."
   ]
  },
  {
   "cell_type": "code",
   "execution_count": null,
   "id": "68491e21",
   "metadata": {},
   "outputs": [],
   "source": [
    "pg.anova(dv = 'PCOS', between = ['Systolic'], data = PCOS_woinf_ANOVA).round(3)\n",
    "#0.886 > 0.05, retain H0. We have enough statistical \\\n",
    "#evidence to suggest that Systolic blood pressure is correlated with a PCOS diagnosis."
   ]
  },
  {
   "cell_type": "code",
   "execution_count": null,
   "id": "386767b3",
   "metadata": {},
   "outputs": [],
   "source": [
    "pg.anova(dv = 'PCOS', between = ['Diastolic'], data = PCOS_woinf_ANOVA).round(3)\n",
    "#0.754 > 0.05, retain H0. We have enough statistical \\\n",
    "#evidence to suggest that Diastolic blood pressure is correlated with a PCOS diagnosis."
   ]
  },
  {
   "cell_type": "code",
   "execution_count": null,
   "id": "11838477",
   "metadata": {},
   "outputs": [],
   "source": [
    "pg.anova(dv = 'PCOS', between = ['Foll_No_R'], data = PCOS_woinf_ANOVA).round(3)\n",
    "#0.0 < 0.05, reject H0 in favor of Ha. We have enough statistical \\\n",
    "#evidence to assume that Follicle Count in the right ovary is NOT correlated with a PCOS diagnosis."
   ]
  },
  {
   "cell_type": "code",
   "execution_count": null,
   "id": "02795986",
   "metadata": {},
   "outputs": [],
   "source": [
    "pg.anova(dv = 'PCOS', between = ['Avg_Foll_Size_L'], data = PCOS_woinf_ANOVA).round(3)\n",
    "#0.17 > 0.05, retain H0. We have enough statistical \\\n",
    "#evidence to suggest that Avg Follicle Size in the left ovary does impact PCOS diagnosis."
   ]
  },
  {
   "cell_type": "code",
   "execution_count": null,
   "id": "2ce65134",
   "metadata": {},
   "outputs": [],
   "source": [
    "pg.anova(dv = 'PCOS', between = ['Avg_Foll_Size_R'], data = PCOS_woinf_ANOVA).round(3)\n",
    "#0.611 > 0.05, retain H0. We have enough statistical \\\n",
    "#evidence to suggest that Avg Follicle Size in the right ovary is correlated with a PCOS diagnosis."
   ]
  },
  {
   "cell_type": "code",
   "execution_count": null,
   "id": "d29f3b61",
   "metadata": {},
   "outputs": [],
   "source": [
    "pg.anova(dv = 'PCOS', between = ['Endometrium'], data = PCOS_woinf_ANOVA).round(3)\n",
    "#0.435 > 0.05, retain H0. We have enough statistical \\\n",
    "#evidence to suggest that Endometrium lining measurement is correlated with a PCOS diagnosis. "
   ]
  },
  {
   "cell_type": "code",
   "execution_count": null,
   "id": "f839c1b5",
   "metadata": {},
   "outputs": [],
   "source": [
    "pg.anova(dv = 'PCOS', between = ['Height_m'], data = PCOS_woinf_ANOVA).round(3)\n",
    "#0.6 > 0.05, retain H0. We have enough statistical \\\n",
    "#evidence to suggest that Height is correlated with a PCOS diagnosis."
   ]
  },
  {
   "cell_type": "markdown",
   "id": "e959301f",
   "metadata": {},
   "source": [
    "Now that I've done my ANOVA tests to see which features correlate with PCOS, I will plot the p-values of those features in a bar graph for visualization purposes and to summarize. \n",
    "\n",
    "I'll create a new dataframe with these features and respective P-Values for graphing purposes."
   ]
  },
  {
   "cell_type": "code",
   "execution_count": null,
   "id": "c1f435cb",
   "metadata": {},
   "outputs": [],
   "source": [
    "#Create a dictionary containing all Features and corresponding P-Values that are correlated with PCOS.\n",
    "corr_pvals = { 'Features': ['BMI', 'Pulse_Rate', 'Resp_Rate', 'Hemoglobin', 'Num_Abortions', \n",
    "                          'HCG_Read_1', 'HCG_Read_2', 'Luteninizing_Horm','Thyroid_Horm', 'Vit_D','Progesterone', \n",
    "                          'Random_Blood_Sug', 'Systolic', 'Diastolic', 'Avg_Foll_Size_L', 'Avg_Foll_Size_R', \n",
    "                          'Endometrium', 'Height_m'],\n",
    "            'P-Values': [0.086, 0.393, 0.21, 0.243, 0.544, 0.059,\n",
    "                        0.238, 0.133, 0.23, 0.1, 0.466, 0.483, 0.886, 0.754, 0.17, 0.611, 0.435, 0.6]}"
   ]
  },
  {
   "cell_type": "code",
   "execution_count": null,
   "id": "412fad75",
   "metadata": {},
   "outputs": [],
   "source": [
    "#Create the data frame from the dictionary above and sort by highest to lowest P-value recieved from each ANOVA. \n",
    "corr_pvals_df = pd.DataFrame.from_dict(corr_pvals)\n",
    "corr_pvals_df = corr_pvals_df.sort_values(by = 'P-Values', ascending = False)"
   ]
  },
  {
   "cell_type": "code",
   "execution_count": null,
   "id": "d1199911",
   "metadata": {},
   "outputs": [],
   "source": [
    "#Create the bar plot of P-values.\n",
    "sns.barplot(x = \"P-Values\", y = \"Features\", data = corr_pvals_df, orient = \"h\", palette = \"light:b_r\").set(title = 'P-Values of PCOS Correlated Features')"
   ]
  },
  {
   "cell_type": "markdown",
   "id": "7b87b543",
   "metadata": {},
   "source": [
    "Now that we've taken a look at the numerical features that are correlated with PCOS, let's take a look at the symptoms in our data set which are categorical features."
   ]
  },
  {
   "cell_type": "code",
   "execution_count": null,
   "id": "746c0ec7",
   "metadata": {
    "scrolled": true
   },
   "outputs": [],
   "source": [
    "#Using the crosstab function to create a simple table of PCOS diagnosis and if that patient is pregnant or not. \n",
    "\n",
    "pregnancy = pd.crosstab(index = PCOS_woinf[\"PCOS (Y/N)\"], columns = PCOS_woinf['Pregnant(Y/N)'], margins = True, margins_name = \"Total\", normalize = \"index\").round(2)\n",
    "pregnancy"
   ]
  },
  {
   "cell_type": "code",
   "execution_count": null,
   "id": "3ab1bccf",
   "metadata": {},
   "outputs": [],
   "source": [
    "pregnancy.plot.bar(stacked = False)"
   ]
  },
  {
   "cell_type": "code",
   "execution_count": null,
   "id": "3b4c462f",
   "metadata": {},
   "outputs": [],
   "source": [
    "#To tabularize the categoical features, we need to create a new DataFrame that gives us the ability \n",
    "#to view the data by those patinets that are exhibiting symptom and by their PCOS diagnosis. This will require\n",
    "#to use the melt() function to change the structure of our dataframe.\n",
    "\n",
    "test_df = PCOS_woinf.melt(id_vars = \"PCOS (Y/N)\", value_vars = ['Weight gain(Y/N)', 'hair growth(Y/N)', 'Skin darkening (Y/N)', 'Hair loss(Y/N)',\n",
    "       'Acne (Y/N)', 'Reg.Exercise(Y/N)', 'Pregnant(Y/N)'], var_name = \"Symptom\",  value_name = \"Exhibits_Symptom\")"
   ]
  },
  {
   "cell_type": "code",
   "execution_count": null,
   "id": "5b1e624d",
   "metadata": {},
   "outputs": [],
   "source": [
    "#Using the melted dataframe test_df to tabularize our data. \n",
    "\n",
    "symptom_data_table = pd.crosstab(test_df.Symptom, columns = [test_df[\"PCOS (Y/N)\"], test_df.Exhibits_Symptom]).apply(lambda row: row/row.sum(), axis = 1)"
   ]
  },
  {
   "cell_type": "code",
   "execution_count": null,
   "id": "c39d9bb6",
   "metadata": {},
   "outputs": [],
   "source": [
    "#Formatting the data so it's easier to read. In the table below, the minimum values are highlighted in dark blue.\n",
    "\n",
    "symptom_data_table.loc[:].style.highlight_min(axis=1, props='color:white; font-weight:bold; background-color:darkblue;')"
   ]
  },
  {
   "cell_type": "code",
   "execution_count": null,
   "id": "d64d5dee",
   "metadata": {},
   "outputs": [],
   "source": [
    "#Formatting the data so it's easier to read. In the table below, the maximum values are highlighted in dark blue.\n",
    "\n",
    "symptom_data_table.loc[:].style.highlight_max(axis=1, props='color:white; font-weight:bold; background-color:darkblue;')"
   ]
  },
  {
   "cell_type": "markdown",
   "id": "4d494225",
   "metadata": {},
   "source": [
    "Observations about Symptoms:\n",
    "\n",
    "- Most patients that are not diagnosed with PCOS do not exhibit any symptoms. \n",
    "- Pateints that ARE diagnosed with PCOS, have the lowest percentages of exhibiting symptoms of both Acne and Hair Loss. \n",
    "- Pateints that ARE diagnosed with PCOS, make up the smallest percentage of patients that were pregant in our sample. "
   ]
  },
  {
   "cell_type": "markdown",
   "id": "36bde8ba",
   "metadata": {},
   "source": [
    "## Conclusion"
   ]
  },
  {
   "cell_type": "markdown",
   "id": "d808f0c2",
   "metadata": {},
   "source": [
    "Summarize analysis. Describe outcomes of the analysis and next steps. How would you take this analysis further? How can this analysis be applied to different industries and business problems?"
   ]
  },
  {
   "cell_type": "code",
   "execution_count": null,
   "id": "c322a3f4",
   "metadata": {},
   "outputs": [],
   "source": []
  },
  {
   "cell_type": "markdown",
   "id": "83167805",
   "metadata": {},
   "source": [
    "#### Additional EDA"
   ]
  },
  {
   "cell_type": "markdown",
   "id": "a1a3a5c0",
   "metadata": {},
   "source": [
    " - For additional analysis, I created a DataFrame `PCOS_outiers_removed` to remove outliers.\n",
    " - Since we cannot safely assume that all of our data is normal, I chose to leave the outliers in as it's already a small data set.\n",
    " - Code and DataFrame defined below if you would like to take a look at the various plots and data using the DataFrame with outliers removed."
   ]
  },
  {
   "cell_type": "code",
   "execution_count": null,
   "id": "331bfd12",
   "metadata": {},
   "outputs": [],
   "source": [
    "constraints = PCOS_woinf.select_dtypes(include = [np.number]).apply(lambda x: np.abs(stats.zscore(x)) < 3, result_type = 'expand').all(axis = 1)\n",
    "PCOS_outliers_removed = PCOS_woinf.drop(PCOS_woinf.index[~constraints], inplace = False)\n",
    "PCOS_outliers_removed.shape"
   ]
  },
  {
   "cell_type": "markdown",
   "id": "7f3f4e04",
   "metadata": {},
   "source": [
    "Because Weight Gain is associated with a high Random Blood Sugar (RBS), I chose to compare the spread or distribution of those values side by side with PCOS and non-PCOS patients.\n",
    "\n",
    "Observations:\n",
    "\n",
    " - From the histrograms below, it looks like patients without PCOS have higher RBS levels vs. the PCOS patients.\n",
    " - This distribution of the non-PCOS patients look normally distributed and PCOS pateints look more uniform.\n",
    " - This is counter to our original hypothesis. "
   ]
  },
  {
   "cell_type": "code",
   "execution_count": null,
   "id": "5128c720",
   "metadata": {
    "scrolled": true
   },
   "outputs": [],
   "source": [
    "g = sns.FacetGrid(PCOS_woinf, col=\"PCOS (Y/N)\")\n",
    "g.map(sns.histplot, \"RBS(mg/dl)\")"
   ]
  },
  {
   "cell_type": "markdown",
   "id": "2e13dedc",
   "metadata": {},
   "source": [
    "To see if there is any relationship between weight and Random Blood Sugar and PCOS pateints, I chose to do a scatter plot. From the scatter plot below, it does not there is any relationship between BMI and Random Blood Sugar values.  "
   ]
  },
  {
   "cell_type": "code",
   "execution_count": null,
   "id": "6958b560",
   "metadata": {
    "scrolled": false
   },
   "outputs": [],
   "source": [
    "sns.relplot(x = \"BMI\", y = \"RBS(mg/dl)\", hue = \"PCOS (Y/N)\", size = \"BMI\",\n",
    "           sizes = (400, 40), alpha = .5, palette = \"muted\", height = 4, data = PCOS_woinf)"
   ]
  },
  {
   "cell_type": "code",
   "execution_count": null,
   "id": "4b116dd1",
   "metadata": {
    "scrolled": false
   },
   "outputs": [],
   "source": [
    "sns.scatterplot(data = PCOS_woinf, x = \"Weight (lbs)\", y = \"RBS(mg/dl)\", hue = \"PCOS (Y/N)\")"
   ]
  },
  {
   "cell_type": "code",
   "execution_count": null,
   "id": "a01adf88",
   "metadata": {},
   "outputs": [],
   "source": [
    "sns.boxplot(data = PCOS_woinf, x = \"RBS(mg/dl)\", hue = \"PCOS (Y/N)\")"
   ]
  },
  {
   "cell_type": "code",
   "execution_count": null,
   "id": "224b96b0",
   "metadata": {},
   "outputs": [],
   "source": [
    "sns.violinplot(data = PCOS_woinf, y = \"RBS(mg/dl)\", x = \"PCOS (Y/N)\")"
   ]
  },
  {
   "cell_type": "code",
   "execution_count": null,
   "id": "f848b0f8",
   "metadata": {},
   "outputs": [],
   "source": [
    "sns.lmplot(data = PCOS_woinf, x = \"RBS(mg/dl)\", y = \"BMI\", hue = \"PCOS (Y/N)\")"
   ]
  },
  {
   "cell_type": "code",
   "execution_count": null,
   "id": "26d17c43",
   "metadata": {
    "scrolled": true
   },
   "outputs": [],
   "source": [
    "g = sns.FacetGrid(PCOS_woinf, col=\"PCOS (Y/N)\")\n",
    "g.map(sns.histplot, \"PRL(ng/mL)\")"
   ]
  }
 ],
 "metadata": {
  "kernelspec": {
   "display_name": "Python 3 (ipykernel)",
   "language": "python",
   "name": "python3"
  },
  "language_info": {
   "codemirror_mode": {
    "name": "ipython",
    "version": 3
   },
   "file_extension": ".py",
   "mimetype": "text/x-python",
   "name": "python",
   "nbconvert_exporter": "python",
   "pygments_lexer": "ipython3",
   "version": "3.9.12"
  }
 },
 "nbformat": 4,
 "nbformat_minor": 5
}
